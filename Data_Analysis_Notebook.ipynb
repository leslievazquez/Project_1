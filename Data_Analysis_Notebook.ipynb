{
 "cells": [
  {
   "cell_type": "markdown",
   "metadata": {},
   "source": [
    "# Analysis of Global Countries' Covid-19 Pandemic Responses\n",
    "\n",
    "##### Overview: \n",
    "Coronavirus disease (COVID-19) is an infectious disease caused by a newly discovered coronavirus. Most people infected with the COVID-19 virus will experience mild to moderate respiratory illness and recover without requiring special treatment.\n",
    "\n",
    "##### Goals: \n",
    "1. Determine if countries with earlier mandates handled Coronavirus better than countries who waited longer to impose mandates.\n",
    "2. Determine mortality rate v age and see who is most susceptible to contracting Coronavirus\n",
    "3. Determine if comorbidity leads to higher mortality rates\n",
    "\n",
    "##### Sources:\n",
    "- https://ourworldindata.org/covid-cases?country=USA~CHN~JPN \n",
    "- https://ourworldindata.org/policy-responses-covid#face-coverings \n",
    "\n",
    "##### Tools: \n",
    "- Jupyter Notebook\n",
    "- Pandas \n",
    "- Matplotlib \n",
    "- SciPy \n",
    "- Seaborn\n",
    "\n",
    "##### Hypothesis: Countries with stricter mandates would be more successful in limiting both the spread and lethality of Covid-19."
   ]
  },
  {
   "cell_type": "code",
   "execution_count": 1,
   "metadata": {},
   "outputs": [],
   "source": [
    "# Import Dependencies\n",
    "import os \n",
    "import pandas as pd\n",
    "import numpy as np\n",
    "import matplotlib.pyplot as plt\n",
    "%matplotlib inline\n",
    "import matplotlib.dates as mdates\n",
    "from matplotlib.dates import DateFormatter\n",
    "from numpy.polynomial.polynomial import polyfit\n",
    "from scipy.stats import linregress\n",
    "import scipy.stats as st\n",
    "import seaborn as sns\n",
    "\n",
    "import warnings\n",
    "warnings.simplefilter(action='ignore', category=FutureWarning)"
   ]
  },
  {
   "cell_type": "code",
   "execution_count": 2,
   "metadata": {},
   "outputs": [],
   "source": [
    "# Read CSV files \n",
    "data = pd.read_csv(\"oxford_clean.csv\")\n",
    "# data.head()"
   ]
  },
  {
   "cell_type": "code",
   "execution_count": 3,
   "metadata": {},
   "outputs": [
    {
     "data": {
      "text/html": [
       "<div>\n",
       "<style scoped>\n",
       "    .dataframe tbody tr th:only-of-type {\n",
       "        vertical-align: middle;\n",
       "    }\n",
       "\n",
       "    .dataframe tbody tr th {\n",
       "        vertical-align: top;\n",
       "    }\n",
       "\n",
       "    .dataframe thead th {\n",
       "        text-align: right;\n",
       "    }\n",
       "</style>\n",
       "<table border=\"1\" class=\"dataframe\">\n",
       "  <thead>\n",
       "    <tr style=\"text-align: right;\">\n",
       "      <th></th>\n",
       "      <th>Country_name</th>\n",
       "      <th>Date</th>\n",
       "      <th>School_closing</th>\n",
       "      <th>Workplace_closing</th>\n",
       "      <th>Stay_home</th>\n",
       "      <th>Income_support</th>\n",
       "      <th>Facial_coverings</th>\n",
       "    </tr>\n",
       "  </thead>\n",
       "  <tbody>\n",
       "    <tr>\n",
       "      <th>0</th>\n",
       "      <td>Brazil</td>\n",
       "      <td>2020-01-01</td>\n",
       "      <td>0.0</td>\n",
       "      <td>0.0</td>\n",
       "      <td>0.0</td>\n",
       "      <td>0.0</td>\n",
       "      <td>0.0</td>\n",
       "    </tr>\n",
       "    <tr>\n",
       "      <th>1</th>\n",
       "      <td>Brazil</td>\n",
       "      <td>2020-01-02</td>\n",
       "      <td>0.0</td>\n",
       "      <td>0.0</td>\n",
       "      <td>0.0</td>\n",
       "      <td>0.0</td>\n",
       "      <td>0.0</td>\n",
       "    </tr>\n",
       "    <tr>\n",
       "      <th>2</th>\n",
       "      <td>Brazil</td>\n",
       "      <td>2020-01-03</td>\n",
       "      <td>0.0</td>\n",
       "      <td>0.0</td>\n",
       "      <td>0.0</td>\n",
       "      <td>0.0</td>\n",
       "      <td>0.0</td>\n",
       "    </tr>\n",
       "    <tr>\n",
       "      <th>3</th>\n",
       "      <td>Brazil</td>\n",
       "      <td>2020-01-04</td>\n",
       "      <td>0.0</td>\n",
       "      <td>0.0</td>\n",
       "      <td>0.0</td>\n",
       "      <td>0.0</td>\n",
       "      <td>0.0</td>\n",
       "    </tr>\n",
       "    <tr>\n",
       "      <th>4</th>\n",
       "      <td>Brazil</td>\n",
       "      <td>2020-01-05</td>\n",
       "      <td>0.0</td>\n",
       "      <td>0.0</td>\n",
       "      <td>0.0</td>\n",
       "      <td>0.0</td>\n",
       "      <td>0.0</td>\n",
       "    </tr>\n",
       "  </tbody>\n",
       "</table>\n",
       "</div>"
      ],
      "text/plain": [
       "  Country_name       Date  School_closing  Workplace_closing  Stay_home  \\\n",
       "0       Brazil 2020-01-01             0.0                0.0        0.0   \n",
       "1       Brazil 2020-01-02             0.0                0.0        0.0   \n",
       "2       Brazil 2020-01-03             0.0                0.0        0.0   \n",
       "3       Brazil 2020-01-04             0.0                0.0        0.0   \n",
       "4       Brazil 2020-01-05             0.0                0.0        0.0   \n",
       "\n",
       "   Income_support  Facial_coverings  \n",
       "0             0.0               0.0  \n",
       "1             0.0               0.0  \n",
       "2             0.0               0.0  \n",
       "3             0.0               0.0  \n",
       "4             0.0               0.0  "
      ]
     },
     "execution_count": 3,
     "metadata": {},
     "output_type": "execute_result"
    }
   ],
   "source": [
    "# Select only mandates columns\n",
    "mandates = pd.DataFrame(data, columns = [\"CountryName\", \"Date\", \"C1_School_closing\", \"C2_Workplace_closing\", \\\n",
    "                                         \"C6_Stay_home_requirements\", \"E1_Income_support\", \"H6_Facial_coverings\"]) \n",
    "\n",
    "# Rename columns\n",
    "mandates.columns = [\"Country_name\", \"Date\", \"School_closing\", \"Workplace_closing\", \"Stay_home\", \"Income_support\", \"Facial_coverings\"]\n",
    "\n",
    "# Format 'Date' from YYYYMMDD to DD/MM/YYYY\n",
    "mandates['Date'] = pd.to_datetime(mandates['Date'], format='%Y%m%d')\n",
    "\n",
    "mandates.dropna()\n",
    "mandates.head()"
   ]
  },
  {
   "cell_type": "markdown",
   "metadata": {},
   "source": [
    "### School Mandates"
   ]
  },
  {
   "cell_type": "code",
   "execution_count": 4,
   "metadata": {},
   "outputs": [
    {
     "data": {
      "image/png": "[encoded data removed]",
      "text/plain": [
       "<Figure size 432x288 with 1 Axes>"
      ]
     },
     "metadata": {
      "needs_background": "light"
     },
     "output_type": "display_data"
    }
   ],
   "source": [
    "# Create bar plot displaying level of mandate for School Closing Mandates for 8 countries of\n",
    "# interest for all dates reporting (Jan-Oct, 2020) in mandates CSV file\n",
    "mandates['School_Mandates'] = ''\n",
    "\n",
    "# Set multiple conditions and assign reviewer category with .loc\n",
    "mandates.loc[(mandates['School_closing'] == 0), 'School_Mandates'] = 'No measures'\n",
    "mandates.loc[(mandates['School_closing'] == 1), 'School_Mandates'] = 'Recommend'\n",
    "mandates.loc[(mandates['School_closing'] == 2), 'School_Mandates'] = 'Require closing (only some levels)'\n",
    "mandates.loc[(mandates['School_closing'] == 3), 'School_Mandates'] = 'Require closing ALL levels'\n",
    "\n",
    "plt.bar(mandates['Country_name'],mandates['School_Mandates'], color = 'y')\n",
    "plt.xticks(rotation='vertical')\n",
    "plt.title('School Closing Mandates')\n",
    "plt.xlabel('Countries')\n",
    "plt.savefig('output_mandates/School_Closing_Mandates.png')\n",
    "plt.show()"
   ]
  },
  {
   "cell_type": "markdown",
   "metadata": {},
   "source": [
    "### Workplace Mandates"
   ]
  },
  {
   "cell_type": "code",
   "execution_count": 5,
   "metadata": {},
   "outputs": [
    {
     "data": {
      "image/png": "[encoded data removed]",
      "text/plain": [
       "<Figure size 432x288 with 1 Axes>"
      ]
     },
     "metadata": {
      "needs_background": "light"
     },
     "output_type": "display_data"
    }
   ],
   "source": [
    "# Create bar plot displaying level of mandate for Workplace Closing Mandates for 8 countries of\n",
    "# interest for all dates reporting (Jan-Oct, 2020) in mandates CSV file\n",
    "mandates['Work_Mandates'] = ''\n",
    "\n",
    "# Set multiple conditions and assign reviewer category with .loc\n",
    "mandates.loc[(mandates['Workplace_closing'] == 0), 'Work_Mandates'] = 'No measures'\n",
    "mandates.loc[(mandates['Workplace_closing'] == 1), 'Work_Mandates'] = 'Recommend'\n",
    "mandates.loc[(mandates['Workplace_closing'] == 2), 'Work_Mandates'] = 'Require closing (only some levels)'\n",
    "mandates.loc[(mandates['Workplace_closing'] == 3), 'Work_Mandates'] = 'Require closing ALL levels'\n",
    "\n",
    "plt.bar(mandates['Country_name'],mandates['Work_Mandates'], color = 'y')\n",
    "plt.xticks(rotation='vertical')\n",
    "plt.title('Workplace Mandates')\n",
    "plt.xlabel('Countries')\n",
    "plt.savefig('output_mandates/Workplace_Mandates.png')\n",
    "plt.show()"
   ]
  },
  {
   "cell_type": "markdown",
   "metadata": {},
   "source": [
    "### Stay Home Mandates"
   ]
  },
  {
   "cell_type": "code",
   "execution_count": 6,
   "metadata": {},
   "outputs": [
    {
     "data": {
      "image/png": "[encoded data removed]",
      "text/plain": [
       "<Figure size 432x288 with 1 Axes>"
      ]
     },
     "metadata": {
      "needs_background": "light"
     },
     "output_type": "display_data"
    }
   ],
   "source": [
    "# Create bar plot displaying level of mandate for Stay at Home Requirements for 8 countries of\n",
    "# interest for all dates reporting (Jan-Oct, 2020) in mandates CSV file\n",
    "mandates['Stay_Home_Mandates'] = '' \n",
    "\n",
    "# Set multiple conditions and assign reviewer category with .loc\n",
    "mandates.loc[(mandates['Stay_home'] == 0), 'Stay_Home_Mandates'] = 'No measures'\n",
    "mandates.loc[(mandates['Stay_home'] == 1), 'Stay_Home_Mandates'] = 'Recommend'\n",
    "mandates.loc[(mandates['Stay_home'] == 2), 'Stay_Home_Mandates'] = 'Require closing (only some levels)'\n",
    "mandates.loc[(mandates['Stay_home'] == 3), 'Stay_Home_Mandates'] = 'Require closing ALL levels'\n",
    "\n",
    "plt.bar(mandates['Country_name'],mandates['Stay_Home_Mandates'], color = 'r')\n",
    "plt.xticks(rotation='vertical')\n",
    "plt.title('Stay at Home Mandates')\n",
    "plt.xlabel('Countries')\n",
    "plt.savefig('output_mandates/Stay_Home_Mandates.png')\n",
    "plt.show()"
   ]
  },
  {
   "cell_type": "markdown",
   "metadata": {},
   "source": [
    "### Income Support Mandates"
   ]
  },
  {
   "cell_type": "code",
   "execution_count": 7,
   "metadata": {},
   "outputs": [
    {
     "data": {
      "image/png": "[encoded data removed]",
      "text/plain": [
       "<Figure size 432x288 with 1 Axes>"
      ]
     },
     "metadata": {
      "needs_background": "light"
     },
     "output_type": "display_data"
    }
   ],
   "source": [
    "# Create bar plot displaying level of mandate for Income Support for 8 countries of\n",
    "# interest for all dates reporting (Jan-Oct, 2020) in mandates CSV file\n",
    "mandates['Income_Support_Mandates'] = '' \n",
    "\n",
    "# Set multiple conditions and assign reviewer category with .loc\n",
    "mandates.loc[(mandates['Income_support'] == 0), 'Income_Support_Mandates'] = 'No measures'\n",
    "mandates.loc[(mandates['Income_support'] == 1), 'Income_Support_Mandates'] = 'Gov replace less 50% salary lost'\n",
    "mandates.loc[(mandates['Income_support'] == 2), 'Income_Support_Mandates'] = 'Gov replace 50% or more salary lost'\n",
    "\n",
    "plt.bar(mandates['Country_name'],mandates['Income_support'], color = 'g')\n",
    "plt.xticks(rotation='vertical')\n",
    "plt.title('Income Support Mandates')\n",
    "plt.xlabel('Countries')\n",
    "plt.savefig('output_mandates/Income_Support_Mandates.png')\n",
    "plt.show()"
   ]
  },
  {
   "cell_type": "markdown",
   "metadata": {},
   "source": [
    "### Facial Coverings Mandates"
   ]
  },
  {
   "cell_type": "code",
   "execution_count": 8,
   "metadata": {},
   "outputs": [
    {
     "data": {
      "image/png": "[encoded data removed]",
      "text/plain": [
       "<Figure size 432x288 with 1 Axes>"
      ]
     },
     "metadata": {
      "needs_background": "light"
     },
     "output_type": "display_data"
    }
   ],
   "source": [
    "# Create bar plot displaying level of mandate for Facial Coverings for 8 countries of\n",
    "# interest for all dates reporting (Jan-Oct, 2020) in mandates CSV file\n",
    "mandates['School_Mandates'] = '' \n",
    "\n",
    "# Set multiple conditions and assign reviewer category with .loc\n",
    "mandates.loc[(mandates['Facial_coverings'] == 0), 'Mask_Mandate'] = 'No measures'\n",
    "mandates.loc[(mandates['Facial_coverings'] == 1), 'Mask_Mandate'] = 'Recommend'\n",
    "mandates.loc[(mandates['Facial_coverings'] == 2), 'Mask_Mandate'] = 'Required in some specified areas'\n",
    "mandates.loc[(mandates['Facial_coverings'] == 3), 'Mask_Mandate'] = 'Required all public areas'\n",
    "mandates.loc[(mandates['Facial_coverings'] == 4), 'Mask_Mandate'] = 'Required all the time'\n",
    "\n",
    "plt.bar(mandates['Country_name'],mandates['Mask_Mandate'], color = 'b')\n",
    "plt.xticks(rotation='vertical')\n",
    "plt.title('Facial Coverings Mandates')\n",
    "plt.xlabel('Countries')\n",
    "plt.savefig('output_mandates/Facial_Coverings_Mandates.png')\n",
    "plt.show()"
   ]
  },
  {
   "cell_type": "code",
   "execution_count": 9,
   "metadata": {},
   "outputs": [
    {
     "data": {
      "text/html": [
       "<div>\n",
       "<style scoped>\n",
       "    .dataframe tbody tr th:only-of-type {\n",
       "        vertical-align: middle;\n",
       "    }\n",
       "\n",
       "    .dataframe tbody tr th {\n",
       "        vertical-align: top;\n",
       "    }\n",
       "\n",
       "    .dataframe thead th {\n",
       "        text-align: right;\n",
       "    }\n",
       "</style>\n",
       "<table border=\"1\" class=\"dataframe\">\n",
       "  <thead>\n",
       "    <tr style=\"text-align: right;\">\n",
       "      <th></th>\n",
       "      <th>count</th>\n",
       "      <th>mean</th>\n",
       "      <th>std</th>\n",
       "      <th>min</th>\n",
       "      <th>25%</th>\n",
       "      <th>50%</th>\n",
       "      <th>75%</th>\n",
       "      <th>max</th>\n",
       "    </tr>\n",
       "  </thead>\n",
       "  <tbody>\n",
       "    <tr>\n",
       "      <th>School_closing</th>\n",
       "      <td>2410.0</td>\n",
       "      <td>1.697095</td>\n",
       "      <td>1.305365</td>\n",
       "      <td>0.0</td>\n",
       "      <td>0.0</td>\n",
       "      <td>2.0</td>\n",
       "      <td>3.0</td>\n",
       "      <td>3.0</td>\n",
       "    </tr>\n",
       "    <tr>\n",
       "      <th>Workplace_closing</th>\n",
       "      <td>2410.0</td>\n",
       "      <td>1.480083</td>\n",
       "      <td>1.184784</td>\n",
       "      <td>0.0</td>\n",
       "      <td>0.0</td>\n",
       "      <td>2.0</td>\n",
       "      <td>3.0</td>\n",
       "      <td>3.0</td>\n",
       "    </tr>\n",
       "    <tr>\n",
       "      <th>Stay_home</th>\n",
       "      <td>2410.0</td>\n",
       "      <td>0.966805</td>\n",
       "      <td>1.034351</td>\n",
       "      <td>0.0</td>\n",
       "      <td>0.0</td>\n",
       "      <td>1.0</td>\n",
       "      <td>2.0</td>\n",
       "      <td>3.0</td>\n",
       "    </tr>\n",
       "    <tr>\n",
       "      <th>Income_support</th>\n",
       "      <td>2410.0</td>\n",
       "      <td>1.091701</td>\n",
       "      <td>0.803876</td>\n",
       "      <td>0.0</td>\n",
       "      <td>0.0</td>\n",
       "      <td>1.0</td>\n",
       "      <td>2.0</td>\n",
       "      <td>2.0</td>\n",
       "    </tr>\n",
       "    <tr>\n",
       "      <th>Facial_coverings</th>\n",
       "      <td>2410.0</td>\n",
       "      <td>1.462241</td>\n",
       "      <td>1.609832</td>\n",
       "      <td>0.0</td>\n",
       "      <td>0.0</td>\n",
       "      <td>1.0</td>\n",
       "      <td>3.0</td>\n",
       "      <td>4.0</td>\n",
       "    </tr>\n",
       "  </tbody>\n",
       "</table>\n",
       "</div>"
      ],
      "text/plain": [
       "                    count      mean       std  min  25%  50%  75%  max\n",
       "School_closing     2410.0  1.697095  1.305365  0.0  0.0  2.0  3.0  3.0\n",
       "Workplace_closing  2410.0  1.480083  1.184784  0.0  0.0  2.0  3.0  3.0\n",
       "Stay_home          2410.0  0.966805  1.034351  0.0  0.0  1.0  2.0  3.0\n",
       "Income_support     2410.0  1.091701  0.803876  0.0  0.0  1.0  2.0  2.0\n",
       "Facial_coverings   2410.0  1.462241  1.609832  0.0  0.0  1.0  3.0  4.0"
      ]
     },
     "execution_count": 9,
     "metadata": {},
     "output_type": "execute_result"
    }
   ],
   "source": [
    "# Transpose the .describe so I can run mean on 50% column to find what countries issued relaxed mandates and \n",
    "# which had strict mandates\n",
    "\n",
    "# Change the value of columns from float to integer\n",
    "info = mandates.astype({'School_closing': 'int', 'Workplace_closing': 'int', 'Stay_home': 'int', \\\n",
    "                            'Income_support': 'int', 'Facial_coverings': 'int'}) \n",
    "info.dropna()\n",
    "info.describe().T"
   ]
  },
  {
   "cell_type": "code",
   "execution_count": 10,
   "metadata": {},
   "outputs": [
    {
     "data": {
      "text/plain": [
       "1.4"
      ]
     },
     "execution_count": 10,
     "metadata": {},
     "output_type": "execute_result"
    }
   ],
   "source": [
    "# Everything below 1.4 is relaxed mandate country. everything above is strict country\n",
    "info_mean = info.describe().T['50%'].mean()\n",
    "info_mean"
   ]
  },
  {
   "cell_type": "code",
   "execution_count": 11,
   "metadata": {},
   "outputs": [
    {
     "data": {
      "text/html": [
       "<div>\n",
       "<style scoped>\n",
       "    .dataframe tbody tr th:only-of-type {\n",
       "        vertical-align: middle;\n",
       "    }\n",
       "\n",
       "    .dataframe tbody tr th {\n",
       "        vertical-align: top;\n",
       "    }\n",
       "\n",
       "    .dataframe thead th {\n",
       "        text-align: right;\n",
       "    }\n",
       "</style>\n",
       "<table border=\"1\" class=\"dataframe\">\n",
       "  <thead>\n",
       "    <tr style=\"text-align: right;\">\n",
       "      <th></th>\n",
       "      <th>Country</th>\n",
       "      <th>Average Mandate</th>\n",
       "    </tr>\n",
       "  </thead>\n",
       "  <tbody>\n",
       "    <tr>\n",
       "      <th>0</th>\n",
       "      <td>China</td>\n",
       "      <td>1.995380</td>\n",
       "    </tr>\n",
       "    <tr>\n",
       "      <th>1</th>\n",
       "      <td>Brazil</td>\n",
       "      <td>1.860927</td>\n",
       "    </tr>\n",
       "    <tr>\n",
       "      <th>2</th>\n",
       "      <td>United States</td>\n",
       "      <td>1.820805</td>\n",
       "    </tr>\n",
       "    <tr>\n",
       "      <th>3</th>\n",
       "      <td>Italy</td>\n",
       "      <td>1.645946</td>\n",
       "    </tr>\n",
       "    <tr>\n",
       "      <th>4</th>\n",
       "      <td>United Kingdom</td>\n",
       "      <td>1.298693</td>\n",
       "    </tr>\n",
       "    <tr>\n",
       "      <th>5</th>\n",
       "      <td>Japan</td>\n",
       "      <td>0.792834</td>\n",
       "    </tr>\n",
       "    <tr>\n",
       "      <th>6</th>\n",
       "      <td>New Zealand</td>\n",
       "      <td>0.769024</td>\n",
       "    </tr>\n",
       "    <tr>\n",
       "      <th>7</th>\n",
       "      <td>Sweden</td>\n",
       "      <td>0.540864</td>\n",
       "    </tr>\n",
       "  </tbody>\n",
       "</table>\n",
       "</div>"
      ],
      "text/plain": [
       "          Country  Average Mandate\n",
       "0           China         1.995380\n",
       "1          Brazil         1.860927\n",
       "2   United States         1.820805\n",
       "3           Italy         1.645946\n",
       "4  United Kingdom         1.298693\n",
       "5           Japan         0.792834\n",
       "6     New Zealand         0.769024\n",
       "7          Sweden         0.540864"
      ]
     },
     "execution_count": 11,
     "metadata": {},
     "output_type": "execute_result"
    }
   ],
   "source": [
    "# Brazil country by itself with total mean labeled as brazil total and insight summary df for looking to see if there is any further insights to explore\n",
    "brazil = info.loc[info['Country_name']=='Brazil']\n",
    "brazil_mean = brazil.mean()\n",
    "brazil_sum = brazil_mean.sum()\n",
    "brazil_total = (brazil_sum/5)\n",
    "\n",
    "# China country by itself with total mean labeled as china total and insight summary df for looking to see if there is any further insights to explore\n",
    "china = info.loc[info['Country_name']=='China']\n",
    "china_mean = china.mean()\n",
    "china_sum = china_mean.sum()\n",
    "china_total = (china_sum/5)\n",
    "\n",
    "# UK country by itself with total mean labeled as uk total and insight summary df for looking to see if there is any further insights to explore\n",
    "uk = info.loc[info['Country_name']=='United Kingdom']\n",
    "uk_mean = uk.mean()\n",
    "uk_sum = uk_mean.sum()\n",
    "uk_total = (uk_sum/5)\n",
    "\n",
    "# Italy country by itself with total mean labeled as italy total and insight summary df for looking to see if there is any further insights to explore\n",
    "italy = info.loc[info['Country_name']=='Italy']\n",
    "italy_mean = italy.mean()\n",
    "italy_sum = italy_mean.sum()\n",
    "italy_total = (italy_sum/5)\n",
    "\n",
    "# Japan country by itself with total mean labeled as japan total and insight summary df for looking to see if there is any further insights to explore\n",
    "japan = info.loc[info['Country_name']=='Japan']\n",
    "japan_mean = japan.mean()\n",
    "japan_sum = japan_mean.sum()\n",
    "japan_total = (japan_sum/5)\n",
    "\n",
    "# New Zealand country by itself with total mean labeled as New Zealand total and insight summary df for looking to see if there is any further insights to explore\n",
    "nz = info.loc[info['Country_name']=='New Zealand']\n",
    "nz_mean = nz.mean()\n",
    "nz_sum = nz_mean.sum()\n",
    "nz_total = (nz_sum/5)\n",
    "\n",
    "# Sweden country by itself with total mean labeled as sweden total and insight summary df for looking to see if there is any further insights to explore\n",
    "meatball = info.loc[info['Country_name']=='Sweden']\n",
    "meatball_mean = meatball.mean()\n",
    "meatball_sum = meatball_mean.sum()\n",
    "meatball_total = (meatball_sum/5)\n",
    "\n",
    "# United States country by itself with total mean labeled as united states total and insight summary df for looking to see if there is any further insights to explore\n",
    "us = info.loc[info['Country_name']=='United States']\n",
    "us_mean = us.mean()\n",
    "us_sum = us_mean.sum()\n",
    "us_total = (us_sum/5)\n",
    "\n",
    "#summary df with country and average mandate\n",
    "total = {'Country':['China','Brazil','United States','Italy','United Kingdom'\n",
    "                   ,'Japan','New Zealand','Sweden'],\n",
    "         'Average Mandate':[china_total, brazil_total, us_total, italy_total,\n",
    "                           uk_total,japan_total, nz_total, meatball_total]}\n",
    "\n",
    "sum_df = pd.DataFrame(total)\n",
    "\n",
    "\n",
    "#summary df with country and average mandate\n",
    "total = {'Country':['China','Brazil','United States','Italy','United Kingdom'\n",
    "                   ,'Japan','New Zealand','Sweden'],\n",
    "         'Average Mandate':[china_total, brazil_total, us_total, italy_total,\n",
    "                           uk_total,japan_total, nz_total, meatball_total]}\n",
    "\n",
    "\n",
    "sum_df = pd.DataFrame(total)\n",
    "\n",
    "sum_df"
   ]
  },
  {
   "cell_type": "code",
   "execution_count": 12,
   "metadata": {},
   "outputs": [
    {
     "data": {
      "text/html": [
       "<div>\n",
       "<style scoped>\n",
       "    .dataframe tbody tr th:only-of-type {\n",
       "        vertical-align: middle;\n",
       "    }\n",
       "\n",
       "    .dataframe tbody tr th {\n",
       "        vertical-align: top;\n",
       "    }\n",
       "\n",
       "    .dataframe thead th {\n",
       "        text-align: right;\n",
       "    }\n",
       "</style>\n",
       "<table border=\"1\" class=\"dataframe\">\n",
       "  <thead>\n",
       "    <tr style=\"text-align: right;\">\n",
       "      <th></th>\n",
       "      <th>Country</th>\n",
       "      <th>Average Mandate</th>\n",
       "    </tr>\n",
       "  </thead>\n",
       "  <tbody>\n",
       "    <tr>\n",
       "      <th>0</th>\n",
       "      <td>China</td>\n",
       "      <td>1.995380</td>\n",
       "    </tr>\n",
       "    <tr>\n",
       "      <th>1</th>\n",
       "      <td>Brazil</td>\n",
       "      <td>1.860927</td>\n",
       "    </tr>\n",
       "    <tr>\n",
       "      <th>2</th>\n",
       "      <td>United States</td>\n",
       "      <td>1.820805</td>\n",
       "    </tr>\n",
       "    <tr>\n",
       "      <th>3</th>\n",
       "      <td>Italy</td>\n",
       "      <td>1.645946</td>\n",
       "    </tr>\n",
       "  </tbody>\n",
       "</table>\n",
       "</div>"
      ],
      "text/plain": [
       "         Country  Average Mandate\n",
       "0          China         1.995380\n",
       "1         Brazil         1.860927\n",
       "2  United States         1.820805\n",
       "3          Italy         1.645946"
      ]
     },
     "execution_count": 12,
     "metadata": {},
     "output_type": "execute_result"
    }
   ],
   "source": [
    "#1.4 was the mean of the 50% column above on .describe(), making the df below the Strict countries\n",
    "strict_df = sum_df.loc[sum_df['Average Mandate']>=1.4]\n",
    "strict_df"
   ]
  },
  {
   "cell_type": "code",
   "execution_count": 13,
   "metadata": {},
   "outputs": [
    {
     "data": {
      "text/html": [
       "<div>\n",
       "<style scoped>\n",
       "    .dataframe tbody tr th:only-of-type {\n",
       "        vertical-align: middle;\n",
       "    }\n",
       "\n",
       "    .dataframe tbody tr th {\n",
       "        vertical-align: top;\n",
       "    }\n",
       "\n",
       "    .dataframe thead th {\n",
       "        text-align: right;\n",
       "    }\n",
       "</style>\n",
       "<table border=\"1\" class=\"dataframe\">\n",
       "  <thead>\n",
       "    <tr style=\"text-align: right;\">\n",
       "      <th></th>\n",
       "      <th>Country</th>\n",
       "      <th>Average Mandate</th>\n",
       "    </tr>\n",
       "  </thead>\n",
       "  <tbody>\n",
       "    <tr>\n",
       "      <th>4</th>\n",
       "      <td>United Kingdom</td>\n",
       "      <td>1.298693</td>\n",
       "    </tr>\n",
       "    <tr>\n",
       "      <th>5</th>\n",
       "      <td>Japan</td>\n",
       "      <td>0.792834</td>\n",
       "    </tr>\n",
       "    <tr>\n",
       "      <th>6</th>\n",
       "      <td>New Zealand</td>\n",
       "      <td>0.769024</td>\n",
       "    </tr>\n",
       "    <tr>\n",
       "      <th>7</th>\n",
       "      <td>Sweden</td>\n",
       "      <td>0.540864</td>\n",
       "    </tr>\n",
       "  </tbody>\n",
       "</table>\n",
       "</div>"
      ],
      "text/plain": [
       "          Country  Average Mandate\n",
       "4  United Kingdom         1.298693\n",
       "5           Japan         0.792834\n",
       "6     New Zealand         0.769024\n",
       "7          Sweden         0.540864"
      ]
     },
     "execution_count": 13,
     "metadata": {},
     "output_type": "execute_result"
    }
   ],
   "source": [
    "##1.4 was the mean of the 50% column above on .describe(), making the df below the relax countries\n",
    "lax_df = sum_df.loc[sum_df['Average Mandate']<=1.4]\n",
    "lax_df"
   ]
  },
  {
   "cell_type": "code",
   "execution_count": 14,
   "metadata": {},
   "outputs": [
    {
     "data": {
      "text/html": [
       "<div>\n",
       "<style scoped>\n",
       "    .dataframe tbody tr th:only-of-type {\n",
       "        vertical-align: middle;\n",
       "    }\n",
       "\n",
       "    .dataframe tbody tr th {\n",
       "        vertical-align: top;\n",
       "    }\n",
       "\n",
       "    .dataframe thead th {\n",
       "        text-align: right;\n",
       "    }\n",
       "</style>\n",
       "<table border=\"1\" class=\"dataframe\">\n",
       "  <thead>\n",
       "    <tr style=\"text-align: right;\">\n",
       "      <th></th>\n",
       "      <th>Country</th>\n",
       "      <th>Confirmed Cases</th>\n",
       "    </tr>\n",
       "  </thead>\n",
       "  <tbody>\n",
       "    <tr>\n",
       "      <th>0</th>\n",
       "      <td>China</td>\n",
       "      <td>91241.0</td>\n",
       "    </tr>\n",
       "    <tr>\n",
       "      <th>1</th>\n",
       "      <td>Brazil</td>\n",
       "      <td>5439641.0</td>\n",
       "    </tr>\n",
       "    <tr>\n",
       "      <th>2</th>\n",
       "      <td>United States</td>\n",
       "      <td>8576725.0</td>\n",
       "    </tr>\n",
       "    <tr>\n",
       "      <th>3</th>\n",
       "      <td>Italy</td>\n",
       "      <td>449648.0</td>\n",
       "    </tr>\n",
       "    <tr>\n",
       "      <th>4</th>\n",
       "      <td>United Kingdom</td>\n",
       "      <td>1034914.0</td>\n",
       "    </tr>\n",
       "    <tr>\n",
       "      <th>5</th>\n",
       "      <td>Japan</td>\n",
       "      <td>101813.0</td>\n",
       "    </tr>\n",
       "    <tr>\n",
       "      <th>6</th>\n",
       "      <td>New Zealand</td>\n",
       "      <td>1603.0</td>\n",
       "    </tr>\n",
       "    <tr>\n",
       "      <th>7</th>\n",
       "      <td>Sweden</td>\n",
       "      <td>115927.0</td>\n",
       "    </tr>\n",
       "  </tbody>\n",
       "</table>\n",
       "</div>"
      ],
      "text/plain": [
       "          Country  Confirmed Cases\n",
       "0           China          91241.0\n",
       "1          Brazil        5439641.0\n",
       "2   United States        8576725.0\n",
       "3           Italy         449648.0\n",
       "4  United Kingdom        1034914.0\n",
       "5           Japan         101813.0\n",
       "6     New Zealand           1603.0\n",
       "7          Sweden         115927.0"
      ]
     },
     "execution_count": 14,
     "metadata": {},
     "output_type": "execute_result"
    }
   ],
   "source": [
    "#brazil max number of cases\n",
    "brazil= data.loc[data['CountryName']=='Brazil']\n",
    "brazil_max = brazil['ConfirmedCases'].max()\n",
    "brazil_max\n",
    "\n",
    "#china max number of cases\n",
    "china= data.loc[data['CountryName']=='China']\n",
    "china_max = china['ConfirmedCases'].max()\n",
    "china_max\n",
    "\n",
    "#us max number of cases\n",
    "us= data.loc[data['CountryName']=='United States']\n",
    "us_max = us['ConfirmedCases'].max()\n",
    "us_max\n",
    "\n",
    "#italy max number of cases\n",
    "italy= data.loc[data['CountryName']=='Italy']\n",
    "italy_max = italy['ConfirmedCases'].max()\n",
    "italy_max\n",
    "\n",
    "#uk max number of cases\n",
    "uk= data.loc[data['CountryName']=='United Kingdom']\n",
    "uk_max = uk['ConfirmedCases'].max()\n",
    "uk_max\n",
    "\n",
    "#japan max number of cases\n",
    "japan= data.loc[data['CountryName']=='Japan']\n",
    "japan_max = japan['ConfirmedCases'].max()\n",
    "japan_max\n",
    "\n",
    "#new zealand max number of cases\n",
    "nz= data.loc[data['CountryName']=='New Zealand']\n",
    "nz_max = nz['ConfirmedCases'].max()\n",
    "nz_max\n",
    "\n",
    "#sweden max number of cases\n",
    "meatball= data.loc[data['CountryName']=='Sweden']\n",
    "meatball_max = meatball['ConfirmedCases'].max()\n",
    "meatball_max\n",
    "\n",
    "#summary df of country and total cases\n",
    "totals = {'Country':['China','Brazil','United States','Italy','United Kingdom'\n",
    "                   ,'Japan','New Zealand','Sweden'],\n",
    "         'Confirmed Cases':[china_max, brazil_max, us_max, italy_max,\n",
    "                           uk_max,japan_max, nz_max, meatball_max]}\n",
    "\n",
    "\n",
    "totals_df = pd.DataFrame(totals)\n",
    "\n",
    "totals_df"
   ]
  },
  {
   "cell_type": "code",
   "execution_count": 15,
   "metadata": {},
   "outputs": [
    {
     "data": {
      "text/html": [
       "<div>\n",
       "<style scoped>\n",
       "    .dataframe tbody tr th:only-of-type {\n",
       "        vertical-align: middle;\n",
       "    }\n",
       "\n",
       "    .dataframe tbody tr th {\n",
       "        vertical-align: top;\n",
       "    }\n",
       "\n",
       "    .dataframe thead th {\n",
       "        text-align: right;\n",
       "    }\n",
       "</style>\n",
       "<table border=\"1\" class=\"dataframe\">\n",
       "  <thead>\n",
       "    <tr style=\"text-align: right;\">\n",
       "      <th></th>\n",
       "      <th>Country</th>\n",
       "      <th>Confirmed Cases</th>\n",
       "    </tr>\n",
       "  </thead>\n",
       "  <tbody>\n",
       "    <tr>\n",
       "      <th>0</th>\n",
       "      <td>China</td>\n",
       "      <td>91241.0</td>\n",
       "    </tr>\n",
       "    <tr>\n",
       "      <th>1</th>\n",
       "      <td>Brazil</td>\n",
       "      <td>5439641.0</td>\n",
       "    </tr>\n",
       "    <tr>\n",
       "      <th>2</th>\n",
       "      <td>United States</td>\n",
       "      <td>8576725.0</td>\n",
       "    </tr>\n",
       "    <tr>\n",
       "      <th>3</th>\n",
       "      <td>Italy</td>\n",
       "      <td>449648.0</td>\n",
       "    </tr>\n",
       "  </tbody>\n",
       "</table>\n",
       "</div>"
      ],
      "text/plain": [
       "         Country  Confirmed Cases\n",
       "0          China          91241.0\n",
       "1         Brazil        5439641.0\n",
       "2  United States        8576725.0\n",
       "3          Italy         449648.0"
      ]
     },
     "execution_count": 15,
     "metadata": {},
     "output_type": "execute_result"
    }
   ],
   "source": [
    "#summary df with strict mandate country total confirmed cases\n",
    "strict_max = totals_df.loc[totals_df['Country'].isin(['China','Brazil','United States','Italy'])]\n",
    "strict_max"
   ]
  },
  {
   "cell_type": "code",
   "execution_count": 16,
   "metadata": {},
   "outputs": [
    {
     "data": {
      "text/html": [
       "<div>\n",
       "<style scoped>\n",
       "    .dataframe tbody tr th:only-of-type {\n",
       "        vertical-align: middle;\n",
       "    }\n",
       "\n",
       "    .dataframe tbody tr th {\n",
       "        vertical-align: top;\n",
       "    }\n",
       "\n",
       "    .dataframe thead th {\n",
       "        text-align: right;\n",
       "    }\n",
       "</style>\n",
       "<table border=\"1\" class=\"dataframe\">\n",
       "  <thead>\n",
       "    <tr style=\"text-align: right;\">\n",
       "      <th></th>\n",
       "      <th>Country</th>\n",
       "      <th>Confirmed Cases</th>\n",
       "    </tr>\n",
       "  </thead>\n",
       "  <tbody>\n",
       "    <tr>\n",
       "      <th>4</th>\n",
       "      <td>United Kingdom</td>\n",
       "      <td>1034914.0</td>\n",
       "    </tr>\n",
       "    <tr>\n",
       "      <th>5</th>\n",
       "      <td>Japan</td>\n",
       "      <td>101813.0</td>\n",
       "    </tr>\n",
       "    <tr>\n",
       "      <th>6</th>\n",
       "      <td>New Zealand</td>\n",
       "      <td>1603.0</td>\n",
       "    </tr>\n",
       "    <tr>\n",
       "      <th>7</th>\n",
       "      <td>Sweden</td>\n",
       "      <td>115927.0</td>\n",
       "    </tr>\n",
       "  </tbody>\n",
       "</table>\n",
       "</div>"
      ],
      "text/plain": [
       "          Country  Confirmed Cases\n",
       "4  United Kingdom        1034914.0\n",
       "5           Japan         101813.0\n",
       "6     New Zealand           1603.0\n",
       "7          Sweden         115927.0"
      ]
     },
     "execution_count": 16,
     "metadata": {},
     "output_type": "execute_result"
    }
   ],
   "source": [
    "#summary df with relaxed mandate country total confirmed cases\n",
    "lax_max = totals_df.loc[totals_df['Country'].isin(['United Kingdom','Japan','New Zealand','Sweden'])]\n",
    "lax_max"
   ]
  },
  {
   "cell_type": "code",
   "execution_count": 17,
   "metadata": {},
   "outputs": [],
   "source": [
    "#brazil max number of deaths\n",
    "brazil= data.loc[data['CountryName']=='Brazil']\n",
    "brazil_d = brazil['ConfirmedDeaths'].max()\n",
    "\n",
    "#china max number of deaths\n",
    "china= data.loc[data['CountryName']=='China']\n",
    "china_d = china['ConfirmedDeaths'].max()\n",
    "\n",
    "#US max number of deaths\n",
    "us= data.loc[data['CountryName']=='United States']\n",
    "us_d = us['ConfirmedDeaths'].max()\n",
    "\n",
    "#italy max number of deaths\n",
    "italy= data.loc[data['CountryName']=='Italy']\n",
    "italy_d = italy['ConfirmedDeaths'].max()\n",
    "\n",
    "#uk max number of deaths\n",
    "uk= data.loc[data['CountryName']=='United Kingdom']\n",
    "uk_d = uk['ConfirmedDeaths'].max()\n",
    "\n",
    "\n",
    "#japan max number of deaths\n",
    "japan= data.loc[data['CountryName']=='Japan']\n",
    "japan_d = japan['ConfirmedDeaths'].max()\n",
    "\n",
    "#new zealnd max number of deaths\n",
    "nz= data.loc[data['CountryName']=='New Zealand']\n",
    "nz_d = nz['ConfirmedDeaths'].max()\n",
    "\n",
    "#sweden max number of deaths\n",
    "meatball= data.loc[data['CountryName']=='Sweden']\n",
    "meatball_d = meatball['ConfirmedDeaths'].max()\n",
    "\n",
    "\n",
    "#summary df of country and total deaths\n",
    "total_d = {'Country':['China','Brazil','United States','Italy','United Kingdom'\n",
    "                   ,'Japan','New Zealand','Sweden'],\n",
    "         'Confirmed Deaths':[china_d, brazil_d, us_d, italy_d,\n",
    "                           uk_d,japan_d, nz_d, meatball_d]}\n",
    "\n",
    "\n",
    "death_df = pd.DataFrame(total_d)"
   ]
  },
  {
   "cell_type": "code",
   "execution_count": 18,
   "metadata": {},
   "outputs": [
    {
     "data": {
      "text/html": [
       "<div>\n",
       "<style scoped>\n",
       "    .dataframe tbody tr th:only-of-type {\n",
       "        vertical-align: middle;\n",
       "    }\n",
       "\n",
       "    .dataframe tbody tr th {\n",
       "        vertical-align: top;\n",
       "    }\n",
       "\n",
       "    .dataframe thead th {\n",
       "        text-align: right;\n",
       "    }\n",
       "</style>\n",
       "<table border=\"1\" class=\"dataframe\">\n",
       "  <thead>\n",
       "    <tr style=\"text-align: right;\">\n",
       "      <th></th>\n",
       "      <th>Country</th>\n",
       "      <th>Confirmed Deaths</th>\n",
       "    </tr>\n",
       "  </thead>\n",
       "  <tbody>\n",
       "    <tr>\n",
       "      <th>0</th>\n",
       "      <td>China</td>\n",
       "      <td>4739.0</td>\n",
       "    </tr>\n",
       "    <tr>\n",
       "      <th>1</th>\n",
       "      <td>Brazil</td>\n",
       "      <td>157946.0</td>\n",
       "    </tr>\n",
       "    <tr>\n",
       "      <th>2</th>\n",
       "      <td>United States</td>\n",
       "      <td>224899.0</td>\n",
       "    </tr>\n",
       "    <tr>\n",
       "      <th>3</th>\n",
       "      <td>Italy</td>\n",
       "      <td>36832.0</td>\n",
       "    </tr>\n",
       "  </tbody>\n",
       "</table>\n",
       "</div>"
      ],
      "text/plain": [
       "         Country  Confirmed Deaths\n",
       "0          China            4739.0\n",
       "1         Brazil          157946.0\n",
       "2  United States          224899.0\n",
       "3          Italy           36832.0"
      ]
     },
     "execution_count": 18,
     "metadata": {},
     "output_type": "execute_result"
    }
   ],
   "source": [
    "#summary df with strict mandate country total confirmed deaths\n",
    "strict_d = death_df.loc[death_df['Country'].isin(['China','Brazil','United States','Italy'])]\n",
    "strict_d"
   ]
  },
  {
   "cell_type": "code",
   "execution_count": 19,
   "metadata": {},
   "outputs": [
    {
     "data": {
      "text/html": [
       "<div>\n",
       "<style scoped>\n",
       "    .dataframe tbody tr th:only-of-type {\n",
       "        vertical-align: middle;\n",
       "    }\n",
       "\n",
       "    .dataframe tbody tr th {\n",
       "        vertical-align: top;\n",
       "    }\n",
       "\n",
       "    .dataframe thead th {\n",
       "        text-align: right;\n",
       "    }\n",
       "</style>\n",
       "<table border=\"1\" class=\"dataframe\">\n",
       "  <thead>\n",
       "    <tr style=\"text-align: right;\">\n",
       "      <th></th>\n",
       "      <th>Country</th>\n",
       "      <th>Confirmed Deaths</th>\n",
       "    </tr>\n",
       "  </thead>\n",
       "  <tbody>\n",
       "    <tr>\n",
       "      <th>4</th>\n",
       "      <td>United Kingdom</td>\n",
       "      <td>46717.0</td>\n",
       "    </tr>\n",
       "    <tr>\n",
       "      <th>5</th>\n",
       "      <td>Japan</td>\n",
       "      <td>1774.0</td>\n",
       "    </tr>\n",
       "    <tr>\n",
       "      <th>6</th>\n",
       "      <td>New Zealand</td>\n",
       "      <td>25.0</td>\n",
       "    </tr>\n",
       "    <tr>\n",
       "      <th>7</th>\n",
       "      <td>Sweden</td>\n",
       "      <td>5936.0</td>\n",
       "    </tr>\n",
       "  </tbody>\n",
       "</table>\n",
       "</div>"
      ],
      "text/plain": [
       "          Country  Confirmed Deaths\n",
       "4  United Kingdom           46717.0\n",
       "5           Japan            1774.0\n",
       "6     New Zealand              25.0\n",
       "7          Sweden            5936.0"
      ]
     },
     "execution_count": 19,
     "metadata": {},
     "output_type": "execute_result"
    }
   ],
   "source": [
    "#summary df with relaxed mandate country total confirmed deaths\n",
    "lax_d = death_df.loc[death_df['Country'].isin(['United Kingdom','Japan','New Zealand','Sweden'])]\n",
    "lax_d"
   ]
  },
  {
   "cell_type": "code",
   "execution_count": 20,
   "metadata": {},
   "outputs": [
    {
     "data": {
      "image/png": "[encoded data removed]",
      "text/plain": [
       "<Figure size 432x288 with 1 Axes>"
      ]
     },
     "metadata": {
      "needs_background": "light"
     },
     "output_type": "display_data"
    },
    {
     "data": {
      "text/plain": [
       "(0.005969848828868585, 0.9940301511711314)"
      ]
     },
     "execution_count": 20,
     "metadata": {},
     "output_type": "execute_result"
    }
   ],
   "source": [
    "x_values = strict_df['Average Mandate']\n",
    "y_values = strict_max['Confirmed Cases']\n",
    "(slope, intercept, rvalue, pvalue, stdeer) = linregress(x_values,y_values)\n",
    "regress_values = x_values*slope+intercept\n",
    "line_eq = 'y=' +str(round(slope,2))+'x + ' +str(round(intercept,2))\n",
    "plt.scatter(x_values, y_values)\n",
    "plt.plot(x_values,regress_values,'r-')\n",
    "plt.annotate(line_eq,(15,10),fontsize = 25, color='red')\n",
    "plt.title('Average Mandate: Strict Countries v Confirmed Cases')\n",
    "plt.xlabel('Average Mandate: Strict Countries')\n",
    "plt.ylabel('Confirmed Cases')\n",
    "plt.show()\n",
    "\n",
    "#pearsonr for strict mandates v strict cases\n",
    "correlation = st.pearsonr(strict_df['Average Mandate'], strict_max['Confirmed Cases'])\n",
    "correlation"
   ]
  },
  {
   "cell_type": "code",
   "execution_count": 21,
   "metadata": {},
   "outputs": [
    {
     "data": {
      "image/png": "[encoded data removed]",
      "text/plain": [
       "<Figure size 432x288 with 1 Axes>"
      ]
     },
     "metadata": {
      "needs_background": "light"
     },
     "output_type": "display_data"
    },
    {
     "data": {
      "text/plain": [
       "(-0.07862970050620083, 0.9213702994937991)"
      ]
     },
     "execution_count": 21,
     "metadata": {},
     "output_type": "execute_result"
    }
   ],
   "source": [
    "#linear regression strict mandates v strict deaths\n",
    "x_values = strict_df['Average Mandate']\n",
    "y_values = strict_d['Confirmed Deaths']\n",
    "(slope, intercept, rvalue, pvalue, stdeer) = linregress(x_values,y_values)\n",
    "regress_values = x_values*slope+intercept\n",
    "line_eq = 'y=' +str(round(slope,2))+'x + ' +str(round(intercept,2))\n",
    "plt.scatter(x_values, y_values)\n",
    "plt.plot(x_values,regress_values,'r-')\n",
    "plt.annotate(line_eq,(15,10),fontsize = 25, color='red')\n",
    "plt.title('Average Mandate: Strict Countries v Confirmed Deaths')\n",
    "plt.xlabel('Average Mandate: Strict Countries')\n",
    "plt.ylabel('Confirmed Deaths')\n",
    "plt.show()\n",
    "\n",
    "#pearsonr for strict mandates v strict deaths\n",
    "correlation = st.pearsonr(strict_df['Average Mandate'], strict_d['Confirmed Deaths'])\n",
    "correlation"
   ]
  },
  {
   "cell_type": "code",
   "execution_count": 22,
   "metadata": {},
   "outputs": [
    {
     "data": {
      "image/png": "[encoded data removed]",
      "text/plain": [
       "<Figure size 432x288 with 1 Axes>"
      ]
     },
     "metadata": {
      "needs_background": "light"
     },
     "output_type": "display_data"
    },
    {
     "data": {
      "text/plain": [
       "(0.9100025559884284, 0.08999744401157161)"
      ]
     },
     "execution_count": 22,
     "metadata": {},
     "output_type": "execute_result"
    }
   ],
   "source": [
    "#linear regression relaxed mandates v relaxed cases\n",
    "x_values = lax_df['Average Mandate']\n",
    "y_values = lax_max['Confirmed Cases']\n",
    "(slope, intercept, rvalue, pvalue, stdeer) = linregress(x_values,y_values)\n",
    "regress_values = x_values*slope+intercept\n",
    "line_eq = 'y=' +str(round(slope,2))+'x + ' +str(round(intercept,2))\n",
    "plt.scatter(x_values, y_values)\n",
    "plt.plot(x_values,regress_values,'r-')\n",
    "plt.annotate(line_eq,(15,10),fontsize = 25, color='red')\n",
    "plt.title('Average Mandate: Lax Countries v Confirmed Cases')\n",
    "plt.xlabel('Average Mandate: Lax Countries')\n",
    "plt.ylabel('Confirmed Cases')\n",
    "plt.show()\n",
    "\n",
    "#pearsonr for relaxed mandates v relaxed cases\n",
    "correlation = st.pearsonr(lax_df['Average Mandate'], lax_max['Confirmed Cases'])\n",
    "correlation"
   ]
  },
  {
   "cell_type": "code",
   "execution_count": 23,
   "metadata": {},
   "outputs": [
    {
     "data": {
      "image/png": "[encoded data removed]",
      "text/plain": [
       "<Figure size 432x288 with 1 Axes>"
      ]
     },
     "metadata": {
      "needs_background": "light"
     },
     "output_type": "display_data"
    },
    {
     "data": {
      "text/plain": [
       "(0.8920745759776134, 0.10792542402238658)"
      ]
     },
     "execution_count": 23,
     "metadata": {},
     "output_type": "execute_result"
    }
   ],
   "source": [
    "#linear regression relaxed mandates v relaxed deaths\n",
    "x_values = lax_df['Average Mandate']\n",
    "y_values = lax_d['Confirmed Deaths']\n",
    "(slope, intercept, rvalue, pvalue, stdeer) = linregress(x_values,y_values)\n",
    "regress_values = x_values*slope+intercept\n",
    "line_eq = 'y=' +str(round(slope,2))+'x + ' +str(round(intercept,2))\n",
    "plt.scatter(x_values, y_values)\n",
    "plt.plot(x_values,regress_values,'r-')\n",
    "plt.annotate(line_eq,(15,10),fontsize = 25, color='red')\n",
    "plt.title('Average Mandate: Lax Countries v Confirmed Deaths')\n",
    "plt.xlabel('Average Mandate: Lax Countries')\n",
    "plt.ylabel('Confirmed Deaths')\n",
    "plt.show()\n",
    "\n",
    "#pearsonr for relaxed mandates v relaxed deaths\n",
    "correlation = st.pearsonr(lax_df['Average Mandate'], lax_d['Confirmed Deaths'])\n",
    "correlation"
   ]
  },
  {
   "cell_type": "code",
   "execution_count": 24,
   "metadata": {},
   "outputs": [
    {
     "data": {
      "text/html": [
       "<div>\n",
       "<style scoped>\n",
       "    .dataframe tbody tr th:only-of-type {\n",
       "        vertical-align: middle;\n",
       "    }\n",
       "\n",
       "    .dataframe tbody tr th {\n",
       "        vertical-align: top;\n",
       "    }\n",
       "\n",
       "    .dataframe thead th {\n",
       "        text-align: right;\n",
       "    }\n",
       "</style>\n",
       "<table border=\"1\" class=\"dataframe\">\n",
       "  <thead>\n",
       "    <tr style=\"text-align: right;\">\n",
       "      <th></th>\n",
       "      <th>Country</th>\n",
       "      <th>Average Mandate</th>\n",
       "      <th>Relax vs Strict</th>\n",
       "    </tr>\n",
       "  </thead>\n",
       "  <tbody>\n",
       "    <tr>\n",
       "      <th>0</th>\n",
       "      <td>China</td>\n",
       "      <td>1.995380</td>\n",
       "      <td>Strict</td>\n",
       "    </tr>\n",
       "    <tr>\n",
       "      <th>1</th>\n",
       "      <td>Brazil</td>\n",
       "      <td>1.860927</td>\n",
       "      <td>Strict</td>\n",
       "    </tr>\n",
       "    <tr>\n",
       "      <th>2</th>\n",
       "      <td>United States</td>\n",
       "      <td>1.820805</td>\n",
       "      <td>Strict</td>\n",
       "    </tr>\n",
       "    <tr>\n",
       "      <th>3</th>\n",
       "      <td>Italy</td>\n",
       "      <td>1.645946</td>\n",
       "      <td>Strict</td>\n",
       "    </tr>\n",
       "    <tr>\n",
       "      <th>4</th>\n",
       "      <td>United Kingdom</td>\n",
       "      <td>1.298693</td>\n",
       "      <td>Relax</td>\n",
       "    </tr>\n",
       "    <tr>\n",
       "      <th>5</th>\n",
       "      <td>Japan</td>\n",
       "      <td>0.792834</td>\n",
       "      <td>Relax</td>\n",
       "    </tr>\n",
       "    <tr>\n",
       "      <th>6</th>\n",
       "      <td>New Zealand</td>\n",
       "      <td>0.769024</td>\n",
       "      <td>Relax</td>\n",
       "    </tr>\n",
       "    <tr>\n",
       "      <th>7</th>\n",
       "      <td>Sweden</td>\n",
       "      <td>0.540864</td>\n",
       "      <td>Relax</td>\n",
       "    </tr>\n",
       "  </tbody>\n",
       "</table>\n",
       "</div>"
      ],
      "text/plain": [
       "          Country  Average Mandate Relax vs Strict\n",
       "0           China         1.995380          Strict\n",
       "1          Brazil         1.860927          Strict\n",
       "2   United States         1.820805          Strict\n",
       "3           Italy         1.645946          Strict\n",
       "4  United Kingdom         1.298693           Relax\n",
       "5           Japan         0.792834           Relax\n",
       "6     New Zealand         0.769024           Relax\n",
       "7          Sweden         0.540864           Relax"
      ]
     },
     "execution_count": 24,
     "metadata": {},
     "output_type": "execute_result"
    }
   ],
   "source": [
    "# 1.4 was the mean of the 50% column above on .describe(), making the df below the Strict countries\n",
    "# 1.4 was the mean of the 50% column above on .describe(), making the df below the relax countries\n",
    "sum_df['Relax vs Strict'] = '' \n",
    "\n",
    "# Set multiple conditions and assign reviewer category with .loc\n",
    "sum_df.loc[(sum_df['Average Mandate']>=1.4), 'Relax vs Strict'] = 'Strict'\n",
    "sum_df.loc[(sum_df['Average Mandate']<=1.4), 'Relax vs Strict'] = 'Relax'\n",
    "sum_df"
   ]
  },
  {
   "cell_type": "markdown",
   "metadata": {},
   "source": [
    "### Countries' Total Cases over Time"
   ]
  },
  {
   "cell_type": "code",
   "execution_count": 25,
   "metadata": {},
   "outputs": [],
   "source": [
    "# Read in CSV File\n",
    "cases_df = pd.read_csv(\"oxford_clean.csv\")\n",
    "\n",
    "# Convert Date object to datetime format\n",
    "cases_df['Date'] = pd.to_datetime(cases_df['Date'], format='%Y%m%d')"
   ]
  },
  {
   "cell_type": "code",
   "execution_count": 26,
   "metadata": {},
   "outputs": [
    {
     "data": {
      "image/png": "[encoded data removed]",
      "text/plain": [
       "<Figure size 432x288 with 1 Axes>"
      ]
     },
     "metadata": {
      "needs_background": "light"
     },
     "output_type": "display_data"
    },
    {
     "data": {
      "image/png": "[encoded data removed]",
      "text/plain": [
       "<Figure size 432x288 with 1 Axes>"
      ]
     },
     "metadata": {
      "needs_background": "light"
     },
     "output_type": "display_data"
    }
   ],
   "source": [
    "# Locate the Confirmed Cases data for Countries w/ Strict Mandates\n",
    "fig, ax = plt.subplots()\n",
    "brazil = cases_df.loc[cases_df['CountryName']=='Brazil']\n",
    "ax.plot(brazil['Date'],brazil['ConfirmedCases'], label = 'Brazil')\n",
    "china = cases_df.loc[cases_df['CountryName']=='China']\n",
    "ax.plot(china['Date'],china['ConfirmedCases'],label='China')\n",
    "italy = cases_df.loc[cases_df['CountryName']=='Italy']\n",
    "ax.plot(italy['Date'],italy['ConfirmedCases'],label='Italy')\n",
    "us = cases_df.loc[cases_df['CountryName']=='United States']\n",
    "ax.plot(us['Date'],us['ConfirmedCases'],label='US')\n",
    "\n",
    "# Plot the Confirmed Cases for \"Strict\" Countries \n",
    "plt.xticks(rotation='vertical')\n",
    "plt.title('Confirmed Cases Over Time for Strict Countries')\n",
    "plt.xlabel('Date')\n",
    "plt.ylabel('Total Cases')\n",
    "plt.legend()\n",
    "plt.savefig('Figures/cases_time_strict.png')\n",
    "plt.show()\n",
    "\n",
    "# Run the same functions for \"Relaxed\" Mandates\n",
    "fig, ax = plt.subplots()\n",
    "uk = cases_df.loc[cases_df['CountryName']=='United Kingdom']\n",
    "ax.plot(uk['Date'],uk['ConfirmedCases'],label='United Kingdom')\n",
    "japan = cases_df.loc[cases_df['CountryName']=='Japan']\n",
    "ax.plot(japan['Date'],japan['ConfirmedCases'],label='Japan')\n",
    "nz = cases_df.loc[cases_df['CountryName']=='New Zealand']\n",
    "ax.plot(nz['Date'],nz['ConfirmedCases'],label='New Zealand')\n",
    "sweden = cases_df.loc[cases_df['CountryName']=='Sweden']\n",
    "ax.plot(sweden['Date'],sweden['ConfirmedCases'],label='Sweden')\n",
    "plt.xticks(rotation='vertical')\n",
    "plt.title('Total Cases Over Time for Relaxed Countries')\n",
    "plt.xlabel('Date')\n",
    "plt.ylabel('Total Cases')\n",
    "plt.legend()\n",
    "plt.savefig('Figures/cases_time_relax.png')\n",
    "plt.show()"
   ]
  },
  {
   "cell_type": "markdown",
   "metadata": {},
   "source": [
    "### Countries' Total Deaths over Time¶"
   ]
  },
  {
   "cell_type": "code",
   "execution_count": 27,
   "metadata": {},
   "outputs": [
    {
     "data": {
      "image/png": "[encoded data removed]",
      "text/plain": [
       "<Figure size 432x288 with 1 Axes>"
      ]
     },
     "metadata": {
      "needs_background": "light"
     },
     "output_type": "display_data"
    },
    {
     "data": {
      "image/png": "[encoded data removed]",
      "text/plain": [
       "<Figure size 432x288 with 1 Axes>"
      ]
     },
     "metadata": {
      "needs_background": "light"
     },
     "output_type": "display_data"
    }
   ],
   "source": [
    "# Locate the Confirmed Deaths for the \"Strict Countries\"\n",
    "fig, ax = plt.subplots()\n",
    "brazil = cases_df.loc[cases_df['CountryName']=='Brazil']\n",
    "ax.plot(brazil['Date'],brazil['ConfirmedDeaths'], label = 'Brazil')\n",
    "china = cases_df.loc[cases_df['CountryName']=='China']\n",
    "ax.plot(china['Date'],china['ConfirmedDeaths'],label='China')\n",
    "italy = cases_df.loc[cases_df['CountryName']=='Italy']\n",
    "ax.plot(italy['Date'],italy['ConfirmedDeaths'],label='Italy')\n",
    "us = cases_df.loc[cases_df['CountryName']=='United States']\n",
    "ax.plot(us['Date'],us['ConfirmedDeaths'],label='US')\n",
    "\n",
    "# Plot the Confirmed Deaths for \"Strict\" Countries\n",
    "plt.xticks(rotation='vertical')\n",
    "plt.title('Total Deaths Over Time for Strict Countries')\n",
    "plt.xlabel('Date')\n",
    "plt.ylabel('Total Cases')\n",
    "plt.legend()\n",
    "plt.savefig('Figures/deaths_time_strict.png')\n",
    "plt.show()\n",
    "\n",
    "# Run the same functions for \"Relaxed\" Countries\n",
    "fig, ax = plt.subplots()\n",
    "uk = cases_df.loc[cases_df['CountryName']=='United Kingdom']\n",
    "ax.plot(uk['Date'],uk['ConfirmedDeaths'],label='United Kingdom')\n",
    "japan = cases_df.loc[cases_df['CountryName']=='Japan']\n",
    "ax.plot(japan['Date'],japan['ConfirmedDeaths'],label='Japan')\n",
    "nz = cases_df.loc[cases_df['CountryName']=='New Zealand']\n",
    "ax.plot(nz['Date'],nz['ConfirmedDeaths'],label='New Zealand')\n",
    "sweden = cases_df.loc[cases_df['CountryName']=='Sweden']\n",
    "ax.plot(sweden['Date'],sweden['ConfirmedDeaths'],label='Sweden')\n",
    "plt.xticks(rotation='vertical')\n",
    "plt.title('Total Deaths Over Time for Relaxed Countries')\n",
    "plt.xlabel('Date')\n",
    "plt.ylabel('Total Cases')\n",
    "plt.legend()\n",
    "plt.savefig('Figures/deaths_time_relax.png')\n",
    "plt.show()"
   ]
  },
  {
   "cell_type": "markdown",
   "metadata": {},
   "source": [
    "### Determining Countries' Cases and Deaths by Per Capita"
   ]
  },
  {
   "cell_type": "code",
   "execution_count": 32,
   "metadata": {
    "scrolled": false
   },
   "outputs": [
    {
     "name": "stderr",
     "output_type": "stream",
     "text": [
      "<ipython-input-32-b50fac8c1d2f>:19: SettingWithCopyWarning: \n",
      "A value is trying to be set on a copy of a slice from a DataFrame.\n",
      "Try using .loc[row_indexer,col_indexer] = value instead\n",
      "\n",
      "See the caveats in the documentation: https://pandas.pydata.org/pandas-docs/stable/user_guide/indexing.html#returning-a-view-versus-a-copy\n",
      "  last_df[\"total_pop\"] = pops\n"
     ]
    },
    {
     "data": {
      "text/html": [
       "<div>\n",
       "<style scoped>\n",
       "    .dataframe tbody tr th:only-of-type {\n",
       "        vertical-align: middle;\n",
       "    }\n",
       "\n",
       "    .dataframe tbody tr th {\n",
       "        vertical-align: top;\n",
       "    }\n",
       "\n",
       "    .dataframe thead th {\n",
       "        text-align: right;\n",
       "    }\n",
       "</style>\n",
       "<table border=\"1\" class=\"dataframe\">\n",
       "  <thead>\n",
       "    <tr style=\"text-align: right;\">\n",
       "      <th></th>\n",
       "      <th>Date</th>\n",
       "      <th>C1_School_closing</th>\n",
       "      <th>C2_Workplace_closing</th>\n",
       "      <th>C6_Stay_home_requirements</th>\n",
       "      <th>E1_Income_support</th>\n",
       "      <th>E3_Fiscal_measures</th>\n",
       "      <th>H6_Facial_coverings</th>\n",
       "      <th>ConfirmedCases</th>\n",
       "      <th>ConfirmedDeaths</th>\n",
       "      <th>total_pop</th>\n",
       "    </tr>\n",
       "    <tr>\n",
       "      <th>CountryName</th>\n",
       "      <th></th>\n",
       "      <th></th>\n",
       "      <th></th>\n",
       "      <th></th>\n",
       "      <th></th>\n",
       "      <th></th>\n",
       "      <th></th>\n",
       "      <th></th>\n",
       "      <th></th>\n",
       "      <th></th>\n",
       "    </tr>\n",
       "  </thead>\n",
       "  <tbody>\n",
       "    <tr>\n",
       "      <th>Brazil</th>\n",
       "      <td>2020-10-22</td>\n",
       "      <td>3.0</td>\n",
       "      <td>2.0</td>\n",
       "      <td>2.0</td>\n",
       "      <td>1.0</td>\n",
       "      <td>0.000000e+00</td>\n",
       "      <td>4.0</td>\n",
       "      <td>5298772.0</td>\n",
       "      <td>155403.0</td>\n",
       "      <td>212559417</td>\n",
       "    </tr>\n",
       "    <tr>\n",
       "      <th>China</th>\n",
       "      <td>2020-10-22</td>\n",
       "      <td>1.0</td>\n",
       "      <td>2.0</td>\n",
       "      <td>3.0</td>\n",
       "      <td>1.0</td>\n",
       "      <td>0.000000e+00</td>\n",
       "      <td>2.0</td>\n",
       "      <td>91044.0</td>\n",
       "      <td>4739.0</td>\n",
       "      <td>1408526449</td>\n",
       "    </tr>\n",
       "    <tr>\n",
       "      <th>United Kingdom</th>\n",
       "      <td>2020-10-22</td>\n",
       "      <td>3.0</td>\n",
       "      <td>2.0</td>\n",
       "      <td>1.0</td>\n",
       "      <td>2.0</td>\n",
       "      <td>5.305826e+09</td>\n",
       "      <td>3.0</td>\n",
       "      <td>789229.0</td>\n",
       "      <td>44158.0</td>\n",
       "      <td>60005743</td>\n",
       "    </tr>\n",
       "    <tr>\n",
       "      <th>Italy</th>\n",
       "      <td>2020-10-22</td>\n",
       "      <td>1.0</td>\n",
       "      <td>2.0</td>\n",
       "      <td>0.0</td>\n",
       "      <td>1.0</td>\n",
       "      <td>0.000000e+00</td>\n",
       "      <td>3.0</td>\n",
       "      <td>449648.0</td>\n",
       "      <td>36832.0</td>\n",
       "      <td>125938348</td>\n",
       "    </tr>\n",
       "    <tr>\n",
       "      <th>Japan</th>\n",
       "      <td>2020-10-22</td>\n",
       "      <td>1.0</td>\n",
       "      <td>1.0</td>\n",
       "      <td>1.0</td>\n",
       "      <td>1.0</td>\n",
       "      <td>0.000000e+00</td>\n",
       "      <td>1.0</td>\n",
       "      <td>94524.0</td>\n",
       "      <td>1685.0</td>\n",
       "      <td>4822233</td>\n",
       "    </tr>\n",
       "    <tr>\n",
       "      <th>New Zealand</th>\n",
       "      <td>2020-10-22</td>\n",
       "      <td>0.0</td>\n",
       "      <td>0.0</td>\n",
       "      <td>0.0</td>\n",
       "      <td>2.0</td>\n",
       "      <td>0.000000e+00</td>\n",
       "      <td>1.0</td>\n",
       "      <td>1558.0</td>\n",
       "      <td>25.0</td>\n",
       "      <td>10151866</td>\n",
       "    </tr>\n",
       "    <tr>\n",
       "      <th>Sweden</th>\n",
       "      <td>2020-10-22</td>\n",
       "      <td>0.0</td>\n",
       "      <td>1.0</td>\n",
       "      <td>0.0</td>\n",
       "      <td>2.0</td>\n",
       "      <td>0.000000e+00</td>\n",
       "      <td>0.0</td>\n",
       "      <td>109326.0</td>\n",
       "      <td>5917.0</td>\n",
       "      <td>66575226</td>\n",
       "    </tr>\n",
       "    <tr>\n",
       "      <th>United States</th>\n",
       "      <td>2020-10-22</td>\n",
       "      <td>3.0</td>\n",
       "      <td>2.0</td>\n",
       "      <td>2.0</td>\n",
       "      <td>2.0</td>\n",
       "      <td>0.000000e+00</td>\n",
       "      <td>4.0</td>\n",
       "      <td>8336282.0</td>\n",
       "      <td>222201.0</td>\n",
       "      <td>330380000</td>\n",
       "    </tr>\n",
       "  </tbody>\n",
       "</table>\n",
       "</div>"
      ],
      "text/plain": [
       "                     Date  C1_School_closing  C2_Workplace_closing  \\\n",
       "CountryName                                                          \n",
       "Brazil         2020-10-22                3.0                   2.0   \n",
       "China          2020-10-22                1.0                   2.0   \n",
       "United Kingdom 2020-10-22                3.0                   2.0   \n",
       "Italy          2020-10-22                1.0                   2.0   \n",
       "Japan          2020-10-22                1.0                   1.0   \n",
       "New Zealand    2020-10-22                0.0                   0.0   \n",
       "Sweden         2020-10-22                0.0                   1.0   \n",
       "United States  2020-10-22                3.0                   2.0   \n",
       "\n",
       "                C6_Stay_home_requirements  E1_Income_support  \\\n",
       "CountryName                                                    \n",
       "Brazil                                2.0                1.0   \n",
       "China                                 3.0                1.0   \n",
       "United Kingdom                        1.0                2.0   \n",
       "Italy                                 0.0                1.0   \n",
       "Japan                                 1.0                1.0   \n",
       "New Zealand                           0.0                2.0   \n",
       "Sweden                                0.0                2.0   \n",
       "United States                         2.0                2.0   \n",
       "\n",
       "                E3_Fiscal_measures  H6_Facial_coverings  ConfirmedCases  \\\n",
       "CountryName                                                               \n",
       "Brazil                0.000000e+00                  4.0       5298772.0   \n",
       "China                 0.000000e+00                  2.0         91044.0   \n",
       "United Kingdom        5.305826e+09                  3.0        789229.0   \n",
       "Italy                 0.000000e+00                  3.0        449648.0   \n",
       "Japan                 0.000000e+00                  1.0         94524.0   \n",
       "New Zealand           0.000000e+00                  1.0          1558.0   \n",
       "Sweden                0.000000e+00                  0.0        109326.0   \n",
       "United States         0.000000e+00                  4.0       8336282.0   \n",
       "\n",
       "                ConfirmedDeaths   total_pop  \n",
       "CountryName                                  \n",
       "Brazil                 155403.0   212559417  \n",
       "China                    4739.0  1408526449  \n",
       "United Kingdom          44158.0    60005743  \n",
       "Italy                   36832.0   125938348  \n",
       "Japan                    1685.0     4822233  \n",
       "New Zealand                25.0    10151866  \n",
       "Sweden                   5917.0    66575226  \n",
       "United States          222201.0   330380000  "
      ]
     },
     "execution_count": 32,
     "metadata": {},
     "output_type": "execute_result"
    }
   ],
   "source": [
    "#The values below are from \"worldometers.info\"\n",
    "# Total populations as of Jan 1, 2020.\n",
    "braz_pop = 212559417\n",
    "china_pop = 1408526449\n",
    "ital_pop = 60005743\n",
    "jp_pop = 125938348\n",
    "nz_pop = 4822233\n",
    "swe_pop = 10151866\n",
    "uk_pop = 66575226\n",
    "us_pop = 330380000\n",
    "\n",
    "# Create a list containing the total populations of each conutry\n",
    "pops = (212559417, 1408526449, 60005743, 125938348, 4822233, 10151866, 66575226, 330380000)\n",
    "\n",
    "# Locate the most recent date data is available for all countries\n",
    "last_df = cases_df.loc[cases_df['Date']=='2020-10-22']\n",
    "\n",
    "# Add a column to the new DF containing total populations for analysis purposes\n",
    "last_df[\"total_pop\"] = pops\n",
    "\n",
    "last_df = last_df.set_index('CountryName')\n",
    "last_df"
   ]
  },
  {
   "cell_type": "code",
   "execution_count": 33,
   "metadata": {},
   "outputs": [
    {
     "data": {
      "text/html": [
       "<style  type=\"text/css\" >\n",
       "</style><table id=\"T_5b1c4c25_2129_11eb_add3_d8c4970340e8\" ><thead>    <tr>        <th class=\"blank level0\" ></th>        <th class=\"col_heading level0 col0\" >Percent_Infected</th>        <th class=\"col_heading level0 col1\" >Percent_Deceased</th>    </tr>    <tr>        <th class=\"index_name level0\" >CountryName</th>        <th class=\"blank\" ></th>        <th class=\"blank\" ></th>    </tr></thead><tbody>\n",
       "                <tr>\n",
       "                        <th id=\"T_5b1c4c25_2129_11eb_add3_d8c4970340e8level0_row0\" class=\"row_heading level0 row0\" >Brazil</th>\n",
       "                        <td id=\"T_5b1c4c25_2129_11eb_add3_d8c4970340e8row0_col0\" class=\"data row0 col0\" >2.492843%</td>\n",
       "                        <td id=\"T_5b1c4c25_2129_11eb_add3_d8c4970340e8row0_col1\" class=\"data row0 col1\" >0.073110%</td>\n",
       "            </tr>\n",
       "            <tr>\n",
       "                        <th id=\"T_5b1c4c25_2129_11eb_add3_d8c4970340e8level0_row1\" class=\"row_heading level0 row1\" >China</th>\n",
       "                        <td id=\"T_5b1c4c25_2129_11eb_add3_d8c4970340e8row1_col0\" class=\"data row1 col0\" >0.006464%</td>\n",
       "                        <td id=\"T_5b1c4c25_2129_11eb_add3_d8c4970340e8row1_col1\" class=\"data row1 col1\" >0.000336%</td>\n",
       "            </tr>\n",
       "            <tr>\n",
       "                        <th id=\"T_5b1c4c25_2129_11eb_add3_d8c4970340e8level0_row2\" class=\"row_heading level0 row2\" >United Kingdom</th>\n",
       "                        <td id=\"T_5b1c4c25_2129_11eb_add3_d8c4970340e8row2_col0\" class=\"data row2 col0\" >1.315256%</td>\n",
       "                        <td id=\"T_5b1c4c25_2129_11eb_add3_d8c4970340e8row2_col1\" class=\"data row2 col1\" >0.073590%</td>\n",
       "            </tr>\n",
       "            <tr>\n",
       "                        <th id=\"T_5b1c4c25_2129_11eb_add3_d8c4970340e8level0_row3\" class=\"row_heading level0 row3\" >Italy</th>\n",
       "                        <td id=\"T_5b1c4c25_2129_11eb_add3_d8c4970340e8row3_col0\" class=\"data row3 col0\" >0.357038%</td>\n",
       "                        <td id=\"T_5b1c4c25_2129_11eb_add3_d8c4970340e8row3_col1\" class=\"data row3 col1\" >0.029246%</td>\n",
       "            </tr>\n",
       "            <tr>\n",
       "                        <th id=\"T_5b1c4c25_2129_11eb_add3_d8c4970340e8level0_row4\" class=\"row_heading level0 row4\" >Japan</th>\n",
       "                        <td id=\"T_5b1c4c25_2129_11eb_add3_d8c4970340e8row4_col0\" class=\"data row4 col0\" >1.960171%</td>\n",
       "                        <td id=\"T_5b1c4c25_2129_11eb_add3_d8c4970340e8row4_col1\" class=\"data row4 col1\" >0.034942%</td>\n",
       "            </tr>\n",
       "            <tr>\n",
       "                        <th id=\"T_5b1c4c25_2129_11eb_add3_d8c4970340e8level0_row5\" class=\"row_heading level0 row5\" >New Zealand</th>\n",
       "                        <td id=\"T_5b1c4c25_2129_11eb_add3_d8c4970340e8row5_col0\" class=\"data row5 col0\" >0.015347%</td>\n",
       "                        <td id=\"T_5b1c4c25_2129_11eb_add3_d8c4970340e8row5_col1\" class=\"data row5 col1\" >0.000246%</td>\n",
       "            </tr>\n",
       "            <tr>\n",
       "                        <th id=\"T_5b1c4c25_2129_11eb_add3_d8c4970340e8level0_row6\" class=\"row_heading level0 row6\" >Sweden</th>\n",
       "                        <td id=\"T_5b1c4c25_2129_11eb_add3_d8c4970340e8row6_col0\" class=\"data row6 col0\" >0.164214%</td>\n",
       "                        <td id=\"T_5b1c4c25_2129_11eb_add3_d8c4970340e8row6_col1\" class=\"data row6 col1\" >0.008888%</td>\n",
       "            </tr>\n",
       "            <tr>\n",
       "                        <th id=\"T_5b1c4c25_2129_11eb_add3_d8c4970340e8level0_row7\" class=\"row_heading level0 row7\" >United States</th>\n",
       "                        <td id=\"T_5b1c4c25_2129_11eb_add3_d8c4970340e8row7_col0\" class=\"data row7 col0\" >2.523241%</td>\n",
       "                        <td id=\"T_5b1c4c25_2129_11eb_add3_d8c4970340e8row7_col1\" class=\"data row7 col1\" >0.067256%</td>\n",
       "            </tr>\n",
       "    </tbody></table>"
      ],
      "text/plain": [
       "<pandas.io.formats.style.Styler at 0x247f9140df0>"
      ]
     },
     "execution_count": 33,
     "metadata": {},
     "output_type": "execute_result"
    }
   ],
   "source": [
    "# Calculate the Percentage of Each Country Infected and Deceased\n",
    "perc_cases = (last_df[\"ConfirmedCases\"]/last_df[\"total_pop\"])\n",
    "perc_deaths = (last_df[\"ConfirmedDeaths\"]/last_df[\"total_pop\"])\n",
    "\n",
    "# Create a DataFrame to hold these values\n",
    "perc_summ = pd.DataFrame({'Percent_Infected':perc_cases, 'Percent_Deceased':perc_deaths})\n",
    "perc_summ.style.format({\"Percent_Infected\":\"{:.6%}\", \"Percent_Deceased\":\"{:.6%}\"})"
   ]
  },
  {
   "cell_type": "code",
   "execution_count": 34,
   "metadata": {},
   "outputs": [
    {
     "data": {
      "image/png": "[encoded data removed]",
      "text/plain": [
       "<Figure size 432x288 with 1 Axes>"
      ]
     },
     "metadata": {
      "needs_background": "light"
     },
     "output_type": "display_data"
    }
   ],
   "source": [
    "# Rate of Infection across All Countries\n",
    "plt.bar(perc_summ['Percent_Infected'].index,perc_summ['Percent_Infected']*100,\\\n",
    "        color=['black', 'red', 'green', 'blue', 'cyan','peru','purple','orange'])\n",
    "plt.xticks(rotation='vertical')\n",
    "plt.title('Rate of Infection across All Countries as of 10/22/20')\n",
    "plt.xlabel('Countries')\n",
    "plt.ylabel('% of Population Infected')\n",
    "plt.savefig('Figures/cases_perc.png')"
   ]
  },
  {
   "cell_type": "code",
   "execution_count": 35,
   "metadata": {},
   "outputs": [
    {
     "data": {
      "image/png": "[encoded data removed]",
      "text/plain": [
       "<Figure size 432x288 with 1 Axes>"
      ]
     },
     "metadata": {
      "needs_background": "light"
     },
     "output_type": "display_data"
    }
   ],
   "source": [
    "# Rate of Mortality across All Countries\n",
    "plt.bar(perc_summ['Percent_Infected'].index,perc_summ['Percent_Deceased']*100,\\\n",
    "        color=['black', 'red', 'green', 'blue', 'cyan','peru','purple','orange'])\n",
    "plt.xticks(rotation='vertical')\n",
    "plt.title('Rate of Mortality across All Countries as of 10/22/20')\n",
    "plt.xlabel('Countries')\n",
    "plt.ylabel('% of Population Deceased')\n",
    "plt.savefig('Figures/deaths_perc.png')"
   ]
  },
  {
   "cell_type": "markdown",
   "metadata": {},
   "source": [
    "### Statistical Analysis\n",
    "\n",
    "###### Testing our Hypothesis for Infection Rate (2-Sample T-Test)"
   ]
  },
  {
   "cell_type": "code",
   "execution_count": 36,
   "metadata": {},
   "outputs": [
    {
     "name": "stdout",
     "output_type": "stream",
     "text": [
      "Strict Percent_Infected    1.344896\n",
      "dtype: float64\n",
      "Relaxed Percent_Infected    0.863747\n",
      "dtype: float64\n",
      "The resulting p-value was 0.58177003\n"
     ]
    }
   ],
   "source": [
    "# Determine the mean infection rate for strict countries\n",
    "strict_inf = perc_summ.iloc[[0,1,3,7],0:1]\n",
    "strict_mean = strict_inf.mean()\n",
    "print(f'Strict {strict_mean*100}')\n",
    "\n",
    "# Determine the mean infection rate for relaxed countries\n",
    "relax_inf = perc_summ.iloc[[2,4,5,6],0:1]\n",
    "relax_mean = relax_inf.mean()\n",
    "print(f'Relaxed {relax_mean*100}')\n",
    "\n",
    "#Calculate Independent T-test (p-value = 0.05)\n",
    "# Code for T-test runs but is not printed for formatting purposes.\n",
    "st.ttest_ind(strict_inf, relax_inf, equal_var=False)\n",
    "print('The resulting p-value was 0.58177003')"
   ]
  },
  {
   "cell_type": "markdown",
   "metadata": {},
   "source": [
    "##### Testing our Hypothesis for Mortality Rate (2-Sample T-Test)"
   ]
  },
  {
   "cell_type": "code",
   "execution_count": 37,
   "metadata": {},
   "outputs": [
    {
     "name": "stdout",
     "output_type": "stream",
     "text": [
      "Strict Percent_Deceased    0.042487\n",
      "dtype: float64\n",
      "Relaxed Percent_Deceased    0.029416\n",
      "dtype: float64\n",
      "The resulting p-value was 0.60168065\n"
     ]
    }
   ],
   "source": [
    "# Determine the mean mortality rate for strict countries\n",
    "strict_dth = perc_summ.iloc[[0,1,3,7],-1:]\n",
    "strict_mean = strict_dth.mean()\n",
    "print(f'Strict {strict_mean*100}')\n",
    "\n",
    "# Determine the mean infection rate for relaxed countries\n",
    "relax_dth = perc_summ.iloc[[2,4,5,6],-1:]\n",
    "relax_mean = relax_dth.mean()\n",
    "print(f'Relaxed {relax_mean*100}')\n",
    "\n",
    "# Calculate Independent T-test (p-value = 0.05)\n",
    "# Code for T-test runs but is not printed for formatting purposes.\n",
    "st.ttest_ind(strict_dth, relax_dth, equal_var=False)\n",
    "print('The resulting p-value was 0.60168065')"
   ]
  },
  {
   "cell_type": "code",
   "execution_count": null,
   "metadata": {},
   "outputs": [],
   "source": []
  }
 ],
 "metadata": {
  "kernelspec": {
   "display_name": "Python 3",
   "language": "python",
   "name": "python3"
  },
  "language_info": {
   "codemirror_mode": {
    "name": "ipython",
    "version": 3
   },
   "file_extension": ".py",
   "mimetype": "text/x-python",
   "name": "python",
   "nbconvert_exporter": "python",
   "pygments_lexer": "ipython3",
   "version": "3.8.5"
  }
 },
 "nbformat": 4,
 "nbformat_minor": 4
}
