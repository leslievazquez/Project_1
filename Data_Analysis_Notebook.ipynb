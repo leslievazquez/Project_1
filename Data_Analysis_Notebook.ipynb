{
 "cells": [
  {
   "cell_type": "markdown",
   "metadata": {},
   "source": [
    "# Analysis of Global Countries' Covid-19 Pandemic Responses\n",
    "\n",
    "##### Overview: \n",
    "Coronavirus disease (COVID-19) is an infectious disease caused by a newly discovered coronavirus. Most people infected with the COVID-19 virus will experience mild to moderate respiratory illness and recover without requiring special treatment.\n",
    "\n",
    "##### Goals: \n",
    "1. Determine if countries with earlier mandates handled Coronavirus better than countries who waited longer to impose mandates.\n",
    "2. Determine mortality rate v age and see who is most susceptible to contracting Coronavirus\n",
    "3. Determine if comorbidity leads to higher mortality rates\n",
    "\n",
    "##### Sources:\n",
    "- https://ourworldindata.org/covid-cases?country=USA~CHN~JPN \n",
    "- https://ourworldindata.org/policy-responses-covid#face-coverings \n",
    "\n",
    "##### Tools: \n",
    "- Jupyter Notebook\n",
    "- Pandas \n",
    "- Matplotlib \n",
    "- SciPy \n",
    "- Seaborn\n",
    "\n",
    "##### Hypothesis: Countries with stricter mandates would be more successful in limiting both the spread and lethality of Covid-19."
   ]
  },
  {
   "cell_type": "code",
   "execution_count": 1,
   "metadata": {},
   "outputs": [],
   "source": [
    "# Import Dependencies\n",
    "import os \n",
    "import pandas as pd\n",
    "import numpy as np\n",
    "import matplotlib.pyplot as plt\n",
    "%matplotlib inline\n",
    "import matplotlib.dates as mdates\n",
    "from matplotlib.dates import DateFormatter\n",
    "from numpy.polynomial.polynomial import polyfit\n",
    "from scipy.stats import linregress\n",
    "import scipy.stats as st\n",
    "import seaborn as sns\n",
    "\n",
    "import warnings\n",
    "warnings.simplefilter(action='ignore', category=FutureWarning)"
   ]
  },
  {
   "cell_type": "code",
   "execution_count": 2,
   "metadata": {
    "scrolled": true
   },
   "outputs": [
    {
     "data": {
      "text/html": [
       "<div>\n",
       "<style scoped>\n",
       "    .dataframe tbody tr th:only-of-type {\n",
       "        vertical-align: middle;\n",
       "    }\n",
       "\n",
       "    .dataframe tbody tr th {\n",
       "        vertical-align: top;\n",
       "    }\n",
       "\n",
       "    .dataframe thead th {\n",
       "        text-align: right;\n",
       "    }\n",
       "</style>\n",
       "<table border=\"1\" class=\"dataframe\">\n",
       "  <thead>\n",
       "    <tr style=\"text-align: right;\">\n",
       "      <th></th>\n",
       "      <th>Country_name</th>\n",
       "      <th>Date</th>\n",
       "      <th>School_closing</th>\n",
       "      <th>Workplace_closing</th>\n",
       "      <th>Stay_home</th>\n",
       "      <th>Income_support</th>\n",
       "      <th>Facial_coverings</th>\n",
       "      <th>Confirmed_cases</th>\n",
       "      <th>Confirmed_deaths</th>\n",
       "    </tr>\n",
       "  </thead>\n",
       "  <tbody>\n",
       "    <tr>\n",
       "      <th>0</th>\n",
       "      <td>Brazil</td>\n",
       "      <td>2020-01-01</td>\n",
       "      <td>0.0</td>\n",
       "      <td>0.0</td>\n",
       "      <td>0.0</td>\n",
       "      <td>0.0</td>\n",
       "      <td>0.0</td>\n",
       "      <td>0.0</td>\n",
       "      <td>0.0</td>\n",
       "    </tr>\n",
       "    <tr>\n",
       "      <th>1</th>\n",
       "      <td>Brazil</td>\n",
       "      <td>2020-01-02</td>\n",
       "      <td>0.0</td>\n",
       "      <td>0.0</td>\n",
       "      <td>0.0</td>\n",
       "      <td>0.0</td>\n",
       "      <td>0.0</td>\n",
       "      <td>0.0</td>\n",
       "      <td>0.0</td>\n",
       "    </tr>\n",
       "    <tr>\n",
       "      <th>2</th>\n",
       "      <td>Brazil</td>\n",
       "      <td>2020-01-03</td>\n",
       "      <td>0.0</td>\n",
       "      <td>0.0</td>\n",
       "      <td>0.0</td>\n",
       "      <td>0.0</td>\n",
       "      <td>0.0</td>\n",
       "      <td>0.0</td>\n",
       "      <td>0.0</td>\n",
       "    </tr>\n",
       "    <tr>\n",
       "      <th>3</th>\n",
       "      <td>Brazil</td>\n",
       "      <td>2020-01-04</td>\n",
       "      <td>0.0</td>\n",
       "      <td>0.0</td>\n",
       "      <td>0.0</td>\n",
       "      <td>0.0</td>\n",
       "      <td>0.0</td>\n",
       "      <td>0.0</td>\n",
       "      <td>0.0</td>\n",
       "    </tr>\n",
       "    <tr>\n",
       "      <th>4</th>\n",
       "      <td>Brazil</td>\n",
       "      <td>2020-01-05</td>\n",
       "      <td>0.0</td>\n",
       "      <td>0.0</td>\n",
       "      <td>0.0</td>\n",
       "      <td>0.0</td>\n",
       "      <td>0.0</td>\n",
       "      <td>0.0</td>\n",
       "      <td>0.0</td>\n",
       "    </tr>\n",
       "  </tbody>\n",
       "</table>\n",
       "</div>"
      ],
      "text/plain": [
       "  Country_name       Date  School_closing  Workplace_closing  Stay_home  \\\n",
       "0       Brazil 2020-01-01             0.0                0.0        0.0   \n",
       "1       Brazil 2020-01-02             0.0                0.0        0.0   \n",
       "2       Brazil 2020-01-03             0.0                0.0        0.0   \n",
       "3       Brazil 2020-01-04             0.0                0.0        0.0   \n",
       "4       Brazil 2020-01-05             0.0                0.0        0.0   \n",
       "\n",
       "   Income_support  Facial_coverings  Confirmed_cases  Confirmed_deaths  \n",
       "0             0.0               0.0              0.0               0.0  \n",
       "1             0.0               0.0              0.0               0.0  \n",
       "2             0.0               0.0              0.0               0.0  \n",
       "3             0.0               0.0              0.0               0.0  \n",
       "4             0.0               0.0              0.0               0.0  "
      ]
     },
     "execution_count": 2,
     "metadata": {},
     "output_type": "execute_result"
    }
   ],
   "source": [
    "# Read CSV files \n",
    "data = pd.read_csv(\"output_data/oxford_clean.csv\")\n",
    "\n",
    "# Format 'Date' from YYYYMMDD to DD/MM/YYYY\n",
    "data['Date'] = pd.to_datetime(data['Date'], format='%Y%m%d')\n",
    "\n",
    "# Select columns of interest\n",
    "data = pd.DataFrame(data, columns = [\"CountryName\", \"Date\", \"C1_School_closing\", \"C2_Workplace_closing\", \"C6_Stay_home_requirements\", \\\n",
    "                                         \"E1_Income_support\", \"H6_Facial_coverings\", \"ConfirmedCases\", 'ConfirmedDeaths']) \n",
    "\n",
    "# Rename columns\n",
    "data.columns = [\"Country_name\", \"Date\", \"School_closing\", \"Workplace_closing\", \"Stay_home\", \"Income_support\", \\\n",
    "                    \"Facial_coverings\", \"Confirmed_cases\", \"Confirmed_deaths\"]\n",
    "data.dropna()\n",
    "data.head()"
   ]
  },
  {
   "cell_type": "markdown",
   "metadata": {},
   "source": [
    "### School Mandates"
   ]
  },
  {
   "cell_type": "code",
   "execution_count": 3,
   "metadata": {},
   "outputs": [
    {
     "data": {
      "image/png": "[encoded data removed]",
      "text/plain": [
       "<Figure size 432x288 with 1 Axes>"
      ]
     },
     "metadata": {
      "needs_background": "light"
     },
     "output_type": "display_data"
    }
   ],
   "source": [
    "# Create bar plot displaying level of mandate for School Closing Mandates for 8 countries of\n",
    "# interest for all dates reporting (Jan-Oct, 2020) in mandates CSV file\n",
    "mandates = pd.DataFrame(data, columns= [\"Country_name\", \"School_closing\", \"Workplace_closing\", \\\n",
    "                                        \"Stay_home\", \"Income_support\",\"Facial_coverings\"])\n",
    "\n",
    "mandates['School_Mandates'] = ''\n",
    "\n",
    "# Set multiple conditions and assign reviewer category with .loc\n",
    "mandates.loc[(mandates['School_closing'] == 0), 'School_Mandates'] = 'No measures'\n",
    "mandates.loc[(mandates['School_closing'] == 1), 'School_Mandates'] = 'Recommended'\n",
    "mandates.loc[(mandates['School_closing'] == 2), 'School_Mandates'] = 'Require closing (only some levels)'\n",
    "mandates.loc[(mandates['School_closing'] == 3), 'School_Mandates'] = 'Require closing ALL levels'\n",
    "\n",
    "plt.bar(mandates['Country_name'], mandates['School_Mandates'], color = 'y')\n",
    "plt.xticks(rotation='vertical')\n",
    "plt.title('School Closing Mandates from Jan-Oct, 2020')\n",
    "plt.xlabel('Countries')\n",
    "plt.savefig('Figures/School_Closing_Mandates.png')\n",
    "plt.show()"
   ]
  },
  {
   "cell_type": "markdown",
   "metadata": {},
   "source": [
    "### Workplace Mandates"
   ]
  },
  {
   "cell_type": "code",
   "execution_count": 4,
   "metadata": {},
   "outputs": [
    {
     "data": {
      "image/png": "[encoded data removed]",
      "text/plain": [
       "<Figure size 432x288 with 1 Axes>"
      ]
     },
     "metadata": {
      "needs_background": "light"
     },
     "output_type": "display_data"
    }
   ],
   "source": [
    "# Create bar plot displaying level of mandate for Workplace Closing Mandates for 8 countries of\n",
    "# interest for all dates reporting (Jan-Oct, 2020) in mandates CSV file\n",
    "mandates['Work_Mandates'] = ''\n",
    "\n",
    "# Set multiple conditions and assign reviewer category with .loc\n",
    "mandates.loc[(mandates['Workplace_closing'] == 0), 'Work_Mandates'] = 'No measures'\n",
    "mandates.loc[(mandates['Workplace_closing'] == 1), 'Work_Mandates'] = 'Recommended'\n",
    "mandates.loc[(mandates['Workplace_closing'] == 2), 'Work_Mandates'] = 'Require closing (only some levels)'\n",
    "mandates.loc[(mandates['Workplace_closing'] == 3), 'Work_Mandates'] = 'Require closing ALL levels'\n",
    "\n",
    "plt.bar(mandates['Country_name'], mandates['Work_Mandates'], color = 'y')\n",
    "plt.xticks(rotation='vertical')\n",
    "plt.title('Workplace Mandates from Jan-Oct, 2020')\n",
    "plt.xlabel('Countries')\n",
    "plt.savefig('Figures/Workplace_Mandates.png')\n",
    "plt.show()"
   ]
  },
  {
   "cell_type": "markdown",
   "metadata": {},
   "source": [
    "### Stay Home Mandates"
   ]
  },
  {
   "cell_type": "code",
   "execution_count": 5,
   "metadata": {},
   "outputs": [
    {
     "data": {
      "image/png": "[encoded data removed]",
      "text/plain": [
       "<Figure size 432x288 with 1 Axes>"
      ]
     },
     "metadata": {
      "needs_background": "light"
     },
     "output_type": "display_data"
    }
   ],
   "source": [
    "# Create bar plot displaying level of mandate for Stay at Home Requirements for 8 countries of\n",
    "# interest for all dates reporting (Jan-Oct, 2020) in mandates CSV file\n",
    "mandates['Stay_Home_Mandates'] = '' \n",
    "\n",
    "# Set multiple conditions and assign reviewer category with .loc\n",
    "mandates.loc[(mandates['Stay_home'] == 0), 'Stay_Home_Mandates'] = 'No measures'\n",
    "mandates.loc[(mandates['Stay_home'] == 1), 'Stay_Home_Mandates'] = 'Recommended'\n",
    "mandates.loc[(mandates['Stay_home'] == 2), 'Stay_Home_Mandates'] = 'Require closing (only some levels)'\n",
    "mandates.loc[(mandates['Stay_home'] == 3), 'Stay_Home_Mandates'] = 'Require closing ALL levels'\n",
    "\n",
    "plt.bar(mandates['Country_name'], mandates['Stay_Home_Mandates'], color = 'r')\n",
    "plt.xticks(rotation='vertical')\n",
    "plt.title('Stay at Home Mandates from Jan-Oct, 2020')\n",
    "plt.xlabel('Countries')\n",
    "plt.savefig('Figures/Stay_Home_Mandates.png')\n",
    "plt.show()"
   ]
  },
  {
   "cell_type": "markdown",
   "metadata": {},
   "source": [
    "### Income Support Mandates"
   ]
  },
  {
   "cell_type": "code",
   "execution_count": 6,
   "metadata": {},
   "outputs": [
    {
     "data": {
      "image/png": "[encoded data removed]",
      "text/plain": [
       "<Figure size 432x288 with 1 Axes>"
      ]
     },
     "metadata": {
      "needs_background": "light"
     },
     "output_type": "display_data"
    }
   ],
   "source": [
    "# Create bar plot displaying level of mandate for Income Support for 8 countries of\n",
    "# interest for all dates reporting (Jan-Oct, 2020) in mandates CSV file\n",
    "mandates['Income_Support_Mandates'] = '' \n",
    "\n",
    "# Set multiple conditions and assign reviewer category with .loc\n",
    "mandates.loc[(mandates['Income_support'] == 0.0), 'Income_Support_Mandates'] = 'No measures'\n",
    "mandates.loc[(mandates['Income_support'] == 1.0), 'Income_Support_Mandates'] = 'Gov replaced less 50% salary lost'\n",
    "mandates.loc[(mandates['Income_support'] == 2.0), 'Income_Support_Mandates'] = 'Gov replaced 50% or more salary lost'\n",
    "\n",
    "plt.bar(mandates['Country_name'], mandates['Income_Support_Mandates'], color = 'g')\n",
    "plt.xticks(rotation='vertical')\n",
    "plt.title('Income Support Mandates from Jan-Oct, 2020')\n",
    "plt.xlabel('Countries')\n",
    "plt.savefig('Figures/Income_Support_Mandates.png')\n",
    "plt.show()"
   ]
  },
  {
   "cell_type": "markdown",
   "metadata": {},
   "source": [
    "### Facial Coverings Mandates"
   ]
  },
  {
   "cell_type": "code",
   "execution_count": 7,
   "metadata": {},
   "outputs": [
    {
     "data": {
      "image/png": "[encoded data removed]",
      "text/plain": [
       "<Figure size 432x288 with 1 Axes>"
      ]
     },
     "metadata": {
      "needs_background": "light"
     },
     "output_type": "display_data"
    }
   ],
   "source": [
    "# Create bar plot displaying level of mandate for Facial Coverings for 8 countries of\n",
    "# interest for all dates reporting (Jan-Oct, 2020) in mandates CSV file\n",
    "mandates['School_Mandates'] = '' \n",
    "\n",
    "# Set multiple conditions and assign reviewer category with .loc\n",
    "mandates.loc[(mandates['Facial_coverings'] == 0), 'Mask_Mandate'] = 'No measures'\n",
    "mandates.loc[(mandates['Facial_coverings'] == 1), 'Mask_Mandate'] = 'Recommend'\n",
    "mandates.loc[(mandates['Facial_coverings'] == 2), 'Mask_Mandate'] = 'Required in some specified areas'\n",
    "mandates.loc[(mandates['Facial_coverings'] == 3), 'Mask_Mandate'] = 'Required all public areas'\n",
    "mandates.loc[(mandates['Facial_coverings'] == 4), 'Mask_Mandate'] = 'Required all the time'\n",
    "\n",
    "plt.bar(mandates['Country_name'], mandates['Mask_Mandate'], color = 'b')\n",
    "plt.xticks(rotation='vertical')\n",
    "plt.title('Facial Coverings Mandates from Jan-Oct, 2020')\n",
    "plt.xlabel('Countries')\n",
    "plt.savefig('Figures/Facial_Coverings_Mandates.png')\n",
    "plt.show()"
   ]
  },
  {
   "cell_type": "markdown",
   "metadata": {},
   "source": [
    "### Analysis of Countries with Relax vs Strict Mandates"
   ]
  },
  {
   "cell_type": "code",
   "execution_count": 8,
   "metadata": {},
   "outputs": [
    {
     "data": {
      "text/plain": [
       "1.4"
      ]
     },
     "execution_count": 8,
     "metadata": {},
     "output_type": "execute_result"
    }
   ],
   "source": [
    "# Transpose the .describe to run mean on 50% column to find what countries issued relaxed mandates and \n",
    "# which had strict mandates\n",
    "\n",
    "# Narrow DataFrame to mandates only\n",
    "info = pd.DataFrame(data, columns= [\"Country_name\", \"Date\", \"School_closing\", \"Workplace_closing\", \\\n",
    "                                    \"Stay_home\", \"Income_support\",\"Facial_coverings\"])\n",
    "\n",
    "info.describe().T\n",
    "\n",
    "# Everything below 1.4 is relaxed mandate country. everything above is strict country\n",
    "info_mean = info.describe().T['50%'].mean()\n",
    "info_mean"
   ]
  },
  {
   "cell_type": "code",
   "execution_count": 9,
   "metadata": {},
   "outputs": [
    {
     "data": {
      "text/html": [
       "<div>\n",
       "<style scoped>\n",
       "    .dataframe tbody tr th:only-of-type {\n",
       "        vertical-align: middle;\n",
       "    }\n",
       "\n",
       "    .dataframe tbody tr th {\n",
       "        vertical-align: top;\n",
       "    }\n",
       "\n",
       "    .dataframe thead th {\n",
       "        text-align: right;\n",
       "    }\n",
       "</style>\n",
       "<table border=\"1\" class=\"dataframe\">\n",
       "  <thead>\n",
       "    <tr style=\"text-align: right;\">\n",
       "      <th></th>\n",
       "      <th>Country_name</th>\n",
       "      <th>Date</th>\n",
       "      <th>School_closing</th>\n",
       "      <th>Workplace_closing</th>\n",
       "      <th>Stay_home</th>\n",
       "      <th>Income_support</th>\n",
       "      <th>Facial_coverings</th>\n",
       "    </tr>\n",
       "  </thead>\n",
       "  <tbody>\n",
       "    <tr>\n",
       "      <th>0</th>\n",
       "      <td>Brazil</td>\n",
       "      <td>2020-01-01</td>\n",
       "      <td>0</td>\n",
       "      <td>0</td>\n",
       "      <td>0</td>\n",
       "      <td>0</td>\n",
       "      <td>0</td>\n",
       "    </tr>\n",
       "    <tr>\n",
       "      <th>1</th>\n",
       "      <td>Brazil</td>\n",
       "      <td>2020-01-02</td>\n",
       "      <td>0</td>\n",
       "      <td>0</td>\n",
       "      <td>0</td>\n",
       "      <td>0</td>\n",
       "      <td>0</td>\n",
       "    </tr>\n",
       "    <tr>\n",
       "      <th>2</th>\n",
       "      <td>Brazil</td>\n",
       "      <td>2020-01-03</td>\n",
       "      <td>0</td>\n",
       "      <td>0</td>\n",
       "      <td>0</td>\n",
       "      <td>0</td>\n",
       "      <td>0</td>\n",
       "    </tr>\n",
       "    <tr>\n",
       "      <th>3</th>\n",
       "      <td>Brazil</td>\n",
       "      <td>2020-01-04</td>\n",
       "      <td>0</td>\n",
       "      <td>0</td>\n",
       "      <td>0</td>\n",
       "      <td>0</td>\n",
       "      <td>0</td>\n",
       "    </tr>\n",
       "    <tr>\n",
       "      <th>4</th>\n",
       "      <td>Brazil</td>\n",
       "      <td>2020-01-05</td>\n",
       "      <td>0</td>\n",
       "      <td>0</td>\n",
       "      <td>0</td>\n",
       "      <td>0</td>\n",
       "      <td>0</td>\n",
       "    </tr>\n",
       "    <tr>\n",
       "      <th>...</th>\n",
       "      <td>...</td>\n",
       "      <td>...</td>\n",
       "      <td>...</td>\n",
       "      <td>...</td>\n",
       "      <td>...</td>\n",
       "      <td>...</td>\n",
       "      <td>...</td>\n",
       "    </tr>\n",
       "    <tr>\n",
       "      <th>2405</th>\n",
       "      <td>United States</td>\n",
       "      <td>2020-10-21</td>\n",
       "      <td>3</td>\n",
       "      <td>2</td>\n",
       "      <td>2</td>\n",
       "      <td>2</td>\n",
       "      <td>4</td>\n",
       "    </tr>\n",
       "    <tr>\n",
       "      <th>2406</th>\n",
       "      <td>United States</td>\n",
       "      <td>2020-10-22</td>\n",
       "      <td>3</td>\n",
       "      <td>2</td>\n",
       "      <td>2</td>\n",
       "      <td>2</td>\n",
       "      <td>4</td>\n",
       "    </tr>\n",
       "    <tr>\n",
       "      <th>2407</th>\n",
       "      <td>United States</td>\n",
       "      <td>2020-10-23</td>\n",
       "      <td>3</td>\n",
       "      <td>2</td>\n",
       "      <td>2</td>\n",
       "      <td>2</td>\n",
       "      <td>4</td>\n",
       "    </tr>\n",
       "    <tr>\n",
       "      <th>2408</th>\n",
       "      <td>United States</td>\n",
       "      <td>2020-10-24</td>\n",
       "      <td>3</td>\n",
       "      <td>2</td>\n",
       "      <td>2</td>\n",
       "      <td>2</td>\n",
       "      <td>4</td>\n",
       "    </tr>\n",
       "    <tr>\n",
       "      <th>2409</th>\n",
       "      <td>United States</td>\n",
       "      <td>2020-10-25</td>\n",
       "      <td>3</td>\n",
       "      <td>2</td>\n",
       "      <td>2</td>\n",
       "      <td>2</td>\n",
       "      <td>4</td>\n",
       "    </tr>\n",
       "  </tbody>\n",
       "</table>\n",
       "<p>2410 rows × 7 columns</p>\n",
       "</div>"
      ],
      "text/plain": [
       "       Country_name       Date  School_closing  Workplace_closing  Stay_home  \\\n",
       "0            Brazil 2020-01-01               0                  0          0   \n",
       "1            Brazil 2020-01-02               0                  0          0   \n",
       "2            Brazil 2020-01-03               0                  0          0   \n",
       "3            Brazil 2020-01-04               0                  0          0   \n",
       "4            Brazil 2020-01-05               0                  0          0   \n",
       "...             ...        ...             ...                ...        ...   \n",
       "2405  United States 2020-10-21               3                  2          2   \n",
       "2406  United States 2020-10-22               3                  2          2   \n",
       "2407  United States 2020-10-23               3                  2          2   \n",
       "2408  United States 2020-10-24               3                  2          2   \n",
       "2409  United States 2020-10-25               3                  2          2   \n",
       "\n",
       "      Income_support  Facial_coverings  \n",
       "0                  0                 0  \n",
       "1                  0                 0  \n",
       "2                  0                 0  \n",
       "3                  0                 0  \n",
       "4                  0                 0  \n",
       "...              ...               ...  \n",
       "2405               2                 4  \n",
       "2406               2                 4  \n",
       "2407               2                 4  \n",
       "2408               2                 4  \n",
       "2409               2                 4  \n",
       "\n",
       "[2410 rows x 7 columns]"
      ]
     },
     "execution_count": 9,
     "metadata": {},
     "output_type": "execute_result"
    }
   ],
   "source": [
    "# Change the value of columns from float to integer\n",
    "info = info.astype({'School_closing': 'int', 'Workplace_closing': 'int', 'Stay_home': 'int',\\\n",
    "                    'Income_support': 'int', 'Facial_coverings': 'int'}) \n",
    "info"
   ]
  },
  {
   "cell_type": "code",
   "execution_count": 10,
   "metadata": {},
   "outputs": [],
   "source": [
    "# Brazil country by itself with total mean \n",
    "brazil = info.loc[info['Country_name']=='Brazil']\n",
    "brazil_mean = brazil.mean()\n",
    "brazil_sum = brazil_mean.sum()\n",
    "brazil_total = (brazil_sum/5)\n",
    "\n",
    "# China country by itself with total mean\n",
    "china = info.loc[info['Country_name']=='China']\n",
    "china_mean = china.mean()\n",
    "china_sum = china_mean.sum()\n",
    "china_total = (china_sum/5)\n",
    "\n",
    "# UK country by itself with total mean  \n",
    "uk = info.loc[info['Country_name']=='United Kingdom']\n",
    "uk_mean = uk.mean()\n",
    "uk_sum = uk_mean.sum()\n",
    "uk_total = (uk_sum/5)\n",
    "\n",
    "# Italy country by itself with total mean \n",
    "italy = info.loc[info['Country_name']=='Italy']\n",
    "italy_mean = italy.mean()\n",
    "italy_sum = italy_mean.sum()\n",
    "italy_total = (italy_sum/5)\n",
    "\n",
    "#Japan country by itself with total mean \n",
    "japan = info.loc[info['Country_name']=='Japan']\n",
    "japan_mean = japan.mean()\n",
    "japan_sum = japan_mean.sum()\n",
    "japan_total = (japan_sum/5)\n",
    "\n",
    "# New Zealand country by itself with total mean \n",
    "nz = info.loc[info['Country_name']=='New Zealand']\n",
    "nz_mean = nz.mean()\n",
    "nz_sum = nz_mean.sum()\n",
    "nz_total = (nz_sum/5)\n",
    "\n",
    "# Sweden country by itself with total mean\n",
    "meatball = info.loc[info['Country_name']=='Sweden']\n",
    "meatball_mean = meatball.mean()\n",
    "meatball_sum = meatball_mean.sum()\n",
    "meatball_total = (meatball_sum/5)\n",
    "\n",
    "# United States country by itself with total mean labeled as united states total \n",
    "us = info.loc[info['Country_name']=='United States']\n",
    "us_mean = us.mean()\n",
    "us_sum = us_mean.sum()\n",
    "us_total = (us_sum/5)"
   ]
  },
  {
   "cell_type": "code",
   "execution_count": 11,
   "metadata": {},
   "outputs": [
    {
     "data": {
      "text/html": [
       "<div>\n",
       "<style scoped>\n",
       "    .dataframe tbody tr th:only-of-type {\n",
       "        vertical-align: middle;\n",
       "    }\n",
       "\n",
       "    .dataframe tbody tr th {\n",
       "        vertical-align: top;\n",
       "    }\n",
       "\n",
       "    .dataframe thead th {\n",
       "        text-align: right;\n",
       "    }\n",
       "</style>\n",
       "<table border=\"1\" class=\"dataframe\">\n",
       "  <thead>\n",
       "    <tr style=\"text-align: right;\">\n",
       "      <th></th>\n",
       "      <th>Country</th>\n",
       "      <th>Average Mandate</th>\n",
       "    </tr>\n",
       "  </thead>\n",
       "  <tbody>\n",
       "    <tr>\n",
       "      <th>0</th>\n",
       "      <td>China</td>\n",
       "      <td>2.00</td>\n",
       "    </tr>\n",
       "    <tr>\n",
       "      <th>1</th>\n",
       "      <td>Brazil</td>\n",
       "      <td>1.86</td>\n",
       "    </tr>\n",
       "    <tr>\n",
       "      <th>2</th>\n",
       "      <td>United States</td>\n",
       "      <td>1.82</td>\n",
       "    </tr>\n",
       "    <tr>\n",
       "      <th>3</th>\n",
       "      <td>Italy</td>\n",
       "      <td>1.65</td>\n",
       "    </tr>\n",
       "    <tr>\n",
       "      <th>4</th>\n",
       "      <td>United Kingdom</td>\n",
       "      <td>1.30</td>\n",
       "    </tr>\n",
       "    <tr>\n",
       "      <th>5</th>\n",
       "      <td>Japan</td>\n",
       "      <td>0.79</td>\n",
       "    </tr>\n",
       "    <tr>\n",
       "      <th>6</th>\n",
       "      <td>New Zealand</td>\n",
       "      <td>0.77</td>\n",
       "    </tr>\n",
       "    <tr>\n",
       "      <th>7</th>\n",
       "      <td>Sweden</td>\n",
       "      <td>0.54</td>\n",
       "    </tr>\n",
       "  </tbody>\n",
       "</table>\n",
       "</div>"
      ],
      "text/plain": [
       "          Country  Average Mandate\n",
       "0           China             2.00\n",
       "1          Brazil             1.86\n",
       "2   United States             1.82\n",
       "3           Italy             1.65\n",
       "4  United Kingdom             1.30\n",
       "5           Japan             0.79\n",
       "6     New Zealand             0.77\n",
       "7          Sweden             0.54"
      ]
     },
     "execution_count": 11,
     "metadata": {},
     "output_type": "execute_result"
    }
   ],
   "source": [
    "# Summary df with country and average mandate\n",
    "total = {'Country':['China','Brazil','United States','Italy','United Kingdom', \\\n",
    "                    'Japan','New Zealand','Sweden'],\n",
    "         'Average Mandate':[china_total, brazil_total, us_total, italy_total, \\\n",
    "                            uk_total, japan_total, nz_total, meatball_total]}\n",
    "\n",
    "sum_df = pd.DataFrame(total).round(2)\n",
    "sum_df"
   ]
  },
  {
   "cell_type": "code",
   "execution_count": 12,
   "metadata": {},
   "outputs": [
    {
     "data": {
      "text/html": [
       "<div>\n",
       "<style scoped>\n",
       "    .dataframe tbody tr th:only-of-type {\n",
       "        vertical-align: middle;\n",
       "    }\n",
       "\n",
       "    .dataframe tbody tr th {\n",
       "        vertical-align: top;\n",
       "    }\n",
       "\n",
       "    .dataframe thead th {\n",
       "        text-align: right;\n",
       "    }\n",
       "</style>\n",
       "<table border=\"1\" class=\"dataframe\">\n",
       "  <thead>\n",
       "    <tr style=\"text-align: right;\">\n",
       "      <th></th>\n",
       "      <th>Country</th>\n",
       "      <th>Average Mandate</th>\n",
       "    </tr>\n",
       "  </thead>\n",
       "  <tbody>\n",
       "    <tr>\n",
       "      <th>0</th>\n",
       "      <td>China</td>\n",
       "      <td>2.00</td>\n",
       "    </tr>\n",
       "    <tr>\n",
       "      <th>1</th>\n",
       "      <td>Brazil</td>\n",
       "      <td>1.86</td>\n",
       "    </tr>\n",
       "    <tr>\n",
       "      <th>2</th>\n",
       "      <td>United States</td>\n",
       "      <td>1.82</td>\n",
       "    </tr>\n",
       "    <tr>\n",
       "      <th>3</th>\n",
       "      <td>Italy</td>\n",
       "      <td>1.65</td>\n",
       "    </tr>\n",
       "  </tbody>\n",
       "</table>\n",
       "</div>"
      ],
      "text/plain": [
       "         Country  Average Mandate\n",
       "0          China             2.00\n",
       "1         Brazil             1.86\n",
       "2  United States             1.82\n",
       "3          Italy             1.65"
      ]
     },
     "execution_count": 12,
     "metadata": {},
     "output_type": "execute_result"
    }
   ],
   "source": [
    "#1.4 was the mean of the 50% column above on .describe(), making the df below the Strict countries\n",
    "strict_df = sum_df.loc[sum_df['Average Mandate']>=1.4]\n",
    "strict_df"
   ]
  },
  {
   "cell_type": "code",
   "execution_count": 13,
   "metadata": {},
   "outputs": [
    {
     "data": {
      "text/html": [
       "<div>\n",
       "<style scoped>\n",
       "    .dataframe tbody tr th:only-of-type {\n",
       "        vertical-align: middle;\n",
       "    }\n",
       "\n",
       "    .dataframe tbody tr th {\n",
       "        vertical-align: top;\n",
       "    }\n",
       "\n",
       "    .dataframe thead th {\n",
       "        text-align: right;\n",
       "    }\n",
       "</style>\n",
       "<table border=\"1\" class=\"dataframe\">\n",
       "  <thead>\n",
       "    <tr style=\"text-align: right;\">\n",
       "      <th></th>\n",
       "      <th>Country</th>\n",
       "      <th>Average Mandate</th>\n",
       "    </tr>\n",
       "  </thead>\n",
       "  <tbody>\n",
       "    <tr>\n",
       "      <th>4</th>\n",
       "      <td>United Kingdom</td>\n",
       "      <td>1.30</td>\n",
       "    </tr>\n",
       "    <tr>\n",
       "      <th>5</th>\n",
       "      <td>Japan</td>\n",
       "      <td>0.79</td>\n",
       "    </tr>\n",
       "    <tr>\n",
       "      <th>6</th>\n",
       "      <td>New Zealand</td>\n",
       "      <td>0.77</td>\n",
       "    </tr>\n",
       "    <tr>\n",
       "      <th>7</th>\n",
       "      <td>Sweden</td>\n",
       "      <td>0.54</td>\n",
       "    </tr>\n",
       "  </tbody>\n",
       "</table>\n",
       "</div>"
      ],
      "text/plain": [
       "          Country  Average Mandate\n",
       "4  United Kingdom             1.30\n",
       "5           Japan             0.79\n",
       "6     New Zealand             0.77\n",
       "7          Sweden             0.54"
      ]
     },
     "execution_count": 13,
     "metadata": {},
     "output_type": "execute_result"
    }
   ],
   "source": [
    "##1.4 was the mean of the 50% column above on .describe(), making the df below the relax countries\n",
    "lax_df = sum_df.loc[sum_df['Average Mandate']<=1.4]\n",
    "lax_df"
   ]
  },
  {
   "cell_type": "markdown",
   "metadata": {},
   "source": [
    "#### Analysis below was updated to reflect Total Population "
   ]
  },
  {
   "cell_type": "code",
   "execution_count": 14,
   "metadata": {},
   "outputs": [
    {
     "data": {
      "text/html": [
       "<style  type=\"text/css\" >\n",
       "</style><table id=\"T_33c41a3e_21c8_11eb_84b1_d8c4970340e8\" ><thead>    <tr>        <th class=\"blank level0\" ></th>        <th class=\"col_heading level0 col0\" >Country_name</th>        <th class=\"col_heading level0 col1\" >Date</th>        <th class=\"col_heading level0 col2\" >Confirmed_cases</th>        <th class=\"col_heading level0 col3\" >Confirmed_deaths</th>        <th class=\"col_heading level0 col4\" >Total Population</th>        <th class=\"col_heading level0 col5\" >Percent Infected</th>        <th class=\"col_heading level0 col6\" >Percent Deceased</th>    </tr></thead><tbody>\n",
       "                <tr>\n",
       "                        <th id=\"T_33c41a3e_21c8_11eb_84b1_d8c4970340e8level0_row0\" class=\"row_heading level0 row0\" >295</th>\n",
       "                        <td id=\"T_33c41a3e_21c8_11eb_84b1_d8c4970340e8row0_col0\" class=\"data row0 col0\" >Brazil</td>\n",
       "                        <td id=\"T_33c41a3e_21c8_11eb_84b1_d8c4970340e8row0_col1\" class=\"data row0 col1\" >2020-10-22 00:00:00</td>\n",
       "                        <td id=\"T_33c41a3e_21c8_11eb_84b1_d8c4970340e8row0_col2\" class=\"data row0 col2\" >5298772</td>\n",
       "                        <td id=\"T_33c41a3e_21c8_11eb_84b1_d8c4970340e8row0_col3\" class=\"data row0 col3\" >155403</td>\n",
       "                        <td id=\"T_33c41a3e_21c8_11eb_84b1_d8c4970340e8row0_col4\" class=\"data row0 col4\" >212559417</td>\n",
       "                        <td id=\"T_33c41a3e_21c8_11eb_84b1_d8c4970340e8row0_col5\" class=\"data row0 col5\" >2.49%</td>\n",
       "                        <td id=\"T_33c41a3e_21c8_11eb_84b1_d8c4970340e8row0_col6\" class=\"data row0 col6\" >0.07%</td>\n",
       "            </tr>\n",
       "            <tr>\n",
       "                        <th id=\"T_33c41a3e_21c8_11eb_84b1_d8c4970340e8level0_row1\" class=\"row_heading level0 row1\" >597</th>\n",
       "                        <td id=\"T_33c41a3e_21c8_11eb_84b1_d8c4970340e8row1_col0\" class=\"data row1 col0\" >China</td>\n",
       "                        <td id=\"T_33c41a3e_21c8_11eb_84b1_d8c4970340e8row1_col1\" class=\"data row1 col1\" >2020-10-22 00:00:00</td>\n",
       "                        <td id=\"T_33c41a3e_21c8_11eb_84b1_d8c4970340e8row1_col2\" class=\"data row1 col2\" >91044</td>\n",
       "                        <td id=\"T_33c41a3e_21c8_11eb_84b1_d8c4970340e8row1_col3\" class=\"data row1 col3\" >4739</td>\n",
       "                        <td id=\"T_33c41a3e_21c8_11eb_84b1_d8c4970340e8row1_col4\" class=\"data row1 col4\" >1408526449</td>\n",
       "                        <td id=\"T_33c41a3e_21c8_11eb_84b1_d8c4970340e8row1_col5\" class=\"data row1 col5\" >0.01%</td>\n",
       "                        <td id=\"T_33c41a3e_21c8_11eb_84b1_d8c4970340e8row1_col6\" class=\"data row1 col6\" >0.00%</td>\n",
       "            </tr>\n",
       "            <tr>\n",
       "                        <th id=\"T_33c41a3e_21c8_11eb_84b1_d8c4970340e8level0_row2\" class=\"row_heading level0 row2\" >899</th>\n",
       "                        <td id=\"T_33c41a3e_21c8_11eb_84b1_d8c4970340e8row2_col0\" class=\"data row2 col0\" >United Kingdom</td>\n",
       "                        <td id=\"T_33c41a3e_21c8_11eb_84b1_d8c4970340e8row2_col1\" class=\"data row2 col1\" >2020-10-22 00:00:00</td>\n",
       "                        <td id=\"T_33c41a3e_21c8_11eb_84b1_d8c4970340e8row2_col2\" class=\"data row2 col2\" >789229</td>\n",
       "                        <td id=\"T_33c41a3e_21c8_11eb_84b1_d8c4970340e8row2_col3\" class=\"data row2 col3\" >44158</td>\n",
       "                        <td id=\"T_33c41a3e_21c8_11eb_84b1_d8c4970340e8row2_col4\" class=\"data row2 col4\" >60005743</td>\n",
       "                        <td id=\"T_33c41a3e_21c8_11eb_84b1_d8c4970340e8row2_col5\" class=\"data row2 col5\" >1.32%</td>\n",
       "                        <td id=\"T_33c41a3e_21c8_11eb_84b1_d8c4970340e8row2_col6\" class=\"data row2 col6\" >0.07%</td>\n",
       "            </tr>\n",
       "            <tr>\n",
       "                        <th id=\"T_33c41a3e_21c8_11eb_84b1_d8c4970340e8level0_row3\" class=\"row_heading level0 row3\" >1206</th>\n",
       "                        <td id=\"T_33c41a3e_21c8_11eb_84b1_d8c4970340e8row3_col0\" class=\"data row3 col0\" >Italy</td>\n",
       "                        <td id=\"T_33c41a3e_21c8_11eb_84b1_d8c4970340e8row3_col1\" class=\"data row3 col1\" >2020-10-22 00:00:00</td>\n",
       "                        <td id=\"T_33c41a3e_21c8_11eb_84b1_d8c4970340e8row3_col2\" class=\"data row3 col2\" >449648</td>\n",
       "                        <td id=\"T_33c41a3e_21c8_11eb_84b1_d8c4970340e8row3_col3\" class=\"data row3 col3\" >36832</td>\n",
       "                        <td id=\"T_33c41a3e_21c8_11eb_84b1_d8c4970340e8row3_col4\" class=\"data row3 col4\" >125938348</td>\n",
       "                        <td id=\"T_33c41a3e_21c8_11eb_84b1_d8c4970340e8row3_col5\" class=\"data row3 col5\" >0.36%</td>\n",
       "                        <td id=\"T_33c41a3e_21c8_11eb_84b1_d8c4970340e8row3_col6\" class=\"data row3 col6\" >0.03%</td>\n",
       "            </tr>\n",
       "            <tr>\n",
       "                        <th id=\"T_33c41a3e_21c8_11eb_84b1_d8c4970340e8level0_row4\" class=\"row_heading level0 row4\" >1502</th>\n",
       "                        <td id=\"T_33c41a3e_21c8_11eb_84b1_d8c4970340e8row4_col0\" class=\"data row4 col0\" >Japan</td>\n",
       "                        <td id=\"T_33c41a3e_21c8_11eb_84b1_d8c4970340e8row4_col1\" class=\"data row4 col1\" >2020-10-22 00:00:00</td>\n",
       "                        <td id=\"T_33c41a3e_21c8_11eb_84b1_d8c4970340e8row4_col2\" class=\"data row4 col2\" >94524</td>\n",
       "                        <td id=\"T_33c41a3e_21c8_11eb_84b1_d8c4970340e8row4_col3\" class=\"data row4 col3\" >1685</td>\n",
       "                        <td id=\"T_33c41a3e_21c8_11eb_84b1_d8c4970340e8row4_col4\" class=\"data row4 col4\" >4822233</td>\n",
       "                        <td id=\"T_33c41a3e_21c8_11eb_84b1_d8c4970340e8row4_col5\" class=\"data row4 col5\" >1.96%</td>\n",
       "                        <td id=\"T_33c41a3e_21c8_11eb_84b1_d8c4970340e8row4_col6\" class=\"data row4 col6\" >0.03%</td>\n",
       "            </tr>\n",
       "            <tr>\n",
       "                        <th id=\"T_33c41a3e_21c8_11eb_84b1_d8c4970340e8level0_row5\" class=\"row_heading level0 row5\" >1800</th>\n",
       "                        <td id=\"T_33c41a3e_21c8_11eb_84b1_d8c4970340e8row5_col0\" class=\"data row5 col0\" >New Zealand</td>\n",
       "                        <td id=\"T_33c41a3e_21c8_11eb_84b1_d8c4970340e8row5_col1\" class=\"data row5 col1\" >2020-10-22 00:00:00</td>\n",
       "                        <td id=\"T_33c41a3e_21c8_11eb_84b1_d8c4970340e8row5_col2\" class=\"data row5 col2\" >1558</td>\n",
       "                        <td id=\"T_33c41a3e_21c8_11eb_84b1_d8c4970340e8row5_col3\" class=\"data row5 col3\" >25</td>\n",
       "                        <td id=\"T_33c41a3e_21c8_11eb_84b1_d8c4970340e8row5_col4\" class=\"data row5 col4\" >10151866</td>\n",
       "                        <td id=\"T_33c41a3e_21c8_11eb_84b1_d8c4970340e8row5_col5\" class=\"data row5 col5\" >0.02%</td>\n",
       "                        <td id=\"T_33c41a3e_21c8_11eb_84b1_d8c4970340e8row5_col6\" class=\"data row5 col6\" >0.00%</td>\n",
       "            </tr>\n",
       "            <tr>\n",
       "                        <th id=\"T_33c41a3e_21c8_11eb_84b1_d8c4970340e8level0_row6\" class=\"row_heading level0 row6\" >2106</th>\n",
       "                        <td id=\"T_33c41a3e_21c8_11eb_84b1_d8c4970340e8row6_col0\" class=\"data row6 col0\" >Sweden</td>\n",
       "                        <td id=\"T_33c41a3e_21c8_11eb_84b1_d8c4970340e8row6_col1\" class=\"data row6 col1\" >2020-10-22 00:00:00</td>\n",
       "                        <td id=\"T_33c41a3e_21c8_11eb_84b1_d8c4970340e8row6_col2\" class=\"data row6 col2\" >109326</td>\n",
       "                        <td id=\"T_33c41a3e_21c8_11eb_84b1_d8c4970340e8row6_col3\" class=\"data row6 col3\" >5917</td>\n",
       "                        <td id=\"T_33c41a3e_21c8_11eb_84b1_d8c4970340e8row6_col4\" class=\"data row6 col4\" >66575226</td>\n",
       "                        <td id=\"T_33c41a3e_21c8_11eb_84b1_d8c4970340e8row6_col5\" class=\"data row6 col5\" >0.16%</td>\n",
       "                        <td id=\"T_33c41a3e_21c8_11eb_84b1_d8c4970340e8row6_col6\" class=\"data row6 col6\" >0.01%</td>\n",
       "            </tr>\n",
       "            <tr>\n",
       "                        <th id=\"T_33c41a3e_21c8_11eb_84b1_d8c4970340e8level0_row7\" class=\"row_heading level0 row7\" >2406</th>\n",
       "                        <td id=\"T_33c41a3e_21c8_11eb_84b1_d8c4970340e8row7_col0\" class=\"data row7 col0\" >United States</td>\n",
       "                        <td id=\"T_33c41a3e_21c8_11eb_84b1_d8c4970340e8row7_col1\" class=\"data row7 col1\" >2020-10-22 00:00:00</td>\n",
       "                        <td id=\"T_33c41a3e_21c8_11eb_84b1_d8c4970340e8row7_col2\" class=\"data row7 col2\" >8336282</td>\n",
       "                        <td id=\"T_33c41a3e_21c8_11eb_84b1_d8c4970340e8row7_col3\" class=\"data row7 col3\" >222201</td>\n",
       "                        <td id=\"T_33c41a3e_21c8_11eb_84b1_d8c4970340e8row7_col4\" class=\"data row7 col4\" >330380000</td>\n",
       "                        <td id=\"T_33c41a3e_21c8_11eb_84b1_d8c4970340e8row7_col5\" class=\"data row7 col5\" >2.52%</td>\n",
       "                        <td id=\"T_33c41a3e_21c8_11eb_84b1_d8c4970340e8row7_col6\" class=\"data row7 col6\" >0.07%</td>\n",
       "            </tr>\n",
       "    </tbody></table>"
      ],
      "text/plain": [
       "<pandas.io.formats.style.Styler at 0x2d0e17e87f0>"
      ]
     },
     "execution_count": 14,
     "metadata": {},
     "output_type": "execute_result"
    }
   ],
   "source": [
    "#The values below are from \"worldometers.info\"\n",
    "# Total populations as of Jan 1, 2020.\n",
    "braz_pop = 212559417\n",
    "china_pop = 1408526449\n",
    "ital_pop = 60005743\n",
    "jp_pop = 125938348\n",
    "nz_pop = 4822233\n",
    "swe_pop = 10151866\n",
    "uk_pop = 66575226\n",
    "us_pop = 330380000\n",
    "\n",
    "# Create a list containing the total populations of each country\n",
    "pops = (braz_pop, china_pop, ital_pop, jp_pop, nz_pop, swe_pop, uk_pop, us_pop)\n",
    "\n",
    "# Locate the most recent date data is available for all countries\n",
    "recent_data = data.loc[data['Date']=='2020-10-22']\n",
    "recent_data= recent_data[['Country_name','Date','Confirmed_cases','Confirmed_deaths']]\n",
    "\n",
    "recent_data = recent_data.astype({'Confirmed_cases': 'int', 'Confirmed_deaths': 'int'}) \n",
    "\n",
    "#Add a column to e new DF containing total populations for analysis purposes\n",
    "recent_data['Total Population'] = pops\n",
    "\n",
    "# Calculate the Percentage of Each Country Infected and Deceased\n",
    "perc_cases = (recent_data['Confirmed_cases']/recent_data['Total Population'])\n",
    "perc_deaths = (recent_data['Confirmed_deaths']/recent_data['Total Population'])\n",
    "\n",
    "recent_data['Percent Infected'] = perc_cases\n",
    "recent_data['Percent Deceased'] = perc_deaths\n",
    "recent_data.style.format({\"Percent Infected\":\"{:,.2%}\", \"Percent Deceased\":\"{:,.2%}\"})"
   ]
  },
  {
   "cell_type": "code",
   "execution_count": 15,
   "metadata": {},
   "outputs": [
    {
     "data": {
      "text/html": [
       "<style  type=\"text/css\" >\n",
       "</style><table id=\"T_33c82965_21c8_11eb_978d_d8c4970340e8\" ><thead>    <tr>        <th class=\"blank level0\" ></th>        <th class=\"col_heading level0 col0\" >Country_name</th>        <th class=\"col_heading level0 col1\" >Date</th>        <th class=\"col_heading level0 col2\" >Confirmed_cases</th>        <th class=\"col_heading level0 col3\" >Confirmed_deaths</th>        <th class=\"col_heading level0 col4\" >Total Population</th>        <th class=\"col_heading level0 col5\" >Percent Infected</th>        <th class=\"col_heading level0 col6\" >Percent Deceased</th>    </tr></thead><tbody>\n",
       "                <tr>\n",
       "                        <th id=\"T_33c82965_21c8_11eb_978d_d8c4970340e8level0_row0\" class=\"row_heading level0 row0\" >295</th>\n",
       "                        <td id=\"T_33c82965_21c8_11eb_978d_d8c4970340e8row0_col0\" class=\"data row0 col0\" >Brazil</td>\n",
       "                        <td id=\"T_33c82965_21c8_11eb_978d_d8c4970340e8row0_col1\" class=\"data row0 col1\" >2020-10-22 00:00:00</td>\n",
       "                        <td id=\"T_33c82965_21c8_11eb_978d_d8c4970340e8row0_col2\" class=\"data row0 col2\" >5298772</td>\n",
       "                        <td id=\"T_33c82965_21c8_11eb_978d_d8c4970340e8row0_col3\" class=\"data row0 col3\" >155403</td>\n",
       "                        <td id=\"T_33c82965_21c8_11eb_978d_d8c4970340e8row0_col4\" class=\"data row0 col4\" >212559417</td>\n",
       "                        <td id=\"T_33c82965_21c8_11eb_978d_d8c4970340e8row0_col5\" class=\"data row0 col5\" >2.49%</td>\n",
       "                        <td id=\"T_33c82965_21c8_11eb_978d_d8c4970340e8row0_col6\" class=\"data row0 col6\" >0.07%</td>\n",
       "            </tr>\n",
       "            <tr>\n",
       "                        <th id=\"T_33c82965_21c8_11eb_978d_d8c4970340e8level0_row1\" class=\"row_heading level0 row1\" >597</th>\n",
       "                        <td id=\"T_33c82965_21c8_11eb_978d_d8c4970340e8row1_col0\" class=\"data row1 col0\" >China</td>\n",
       "                        <td id=\"T_33c82965_21c8_11eb_978d_d8c4970340e8row1_col1\" class=\"data row1 col1\" >2020-10-22 00:00:00</td>\n",
       "                        <td id=\"T_33c82965_21c8_11eb_978d_d8c4970340e8row1_col2\" class=\"data row1 col2\" >91044</td>\n",
       "                        <td id=\"T_33c82965_21c8_11eb_978d_d8c4970340e8row1_col3\" class=\"data row1 col3\" >4739</td>\n",
       "                        <td id=\"T_33c82965_21c8_11eb_978d_d8c4970340e8row1_col4\" class=\"data row1 col4\" >1408526449</td>\n",
       "                        <td id=\"T_33c82965_21c8_11eb_978d_d8c4970340e8row1_col5\" class=\"data row1 col5\" >0.01%</td>\n",
       "                        <td id=\"T_33c82965_21c8_11eb_978d_d8c4970340e8row1_col6\" class=\"data row1 col6\" >0.00%</td>\n",
       "            </tr>\n",
       "            <tr>\n",
       "                        <th id=\"T_33c82965_21c8_11eb_978d_d8c4970340e8level0_row2\" class=\"row_heading level0 row2\" >1206</th>\n",
       "                        <td id=\"T_33c82965_21c8_11eb_978d_d8c4970340e8row2_col0\" class=\"data row2 col0\" >Italy</td>\n",
       "                        <td id=\"T_33c82965_21c8_11eb_978d_d8c4970340e8row2_col1\" class=\"data row2 col1\" >2020-10-22 00:00:00</td>\n",
       "                        <td id=\"T_33c82965_21c8_11eb_978d_d8c4970340e8row2_col2\" class=\"data row2 col2\" >449648</td>\n",
       "                        <td id=\"T_33c82965_21c8_11eb_978d_d8c4970340e8row2_col3\" class=\"data row2 col3\" >36832</td>\n",
       "                        <td id=\"T_33c82965_21c8_11eb_978d_d8c4970340e8row2_col4\" class=\"data row2 col4\" >125938348</td>\n",
       "                        <td id=\"T_33c82965_21c8_11eb_978d_d8c4970340e8row2_col5\" class=\"data row2 col5\" >0.36%</td>\n",
       "                        <td id=\"T_33c82965_21c8_11eb_978d_d8c4970340e8row2_col6\" class=\"data row2 col6\" >0.03%</td>\n",
       "            </tr>\n",
       "            <tr>\n",
       "                        <th id=\"T_33c82965_21c8_11eb_978d_d8c4970340e8level0_row3\" class=\"row_heading level0 row3\" >2406</th>\n",
       "                        <td id=\"T_33c82965_21c8_11eb_978d_d8c4970340e8row3_col0\" class=\"data row3 col0\" >United States</td>\n",
       "                        <td id=\"T_33c82965_21c8_11eb_978d_d8c4970340e8row3_col1\" class=\"data row3 col1\" >2020-10-22 00:00:00</td>\n",
       "                        <td id=\"T_33c82965_21c8_11eb_978d_d8c4970340e8row3_col2\" class=\"data row3 col2\" >8336282</td>\n",
       "                        <td id=\"T_33c82965_21c8_11eb_978d_d8c4970340e8row3_col3\" class=\"data row3 col3\" >222201</td>\n",
       "                        <td id=\"T_33c82965_21c8_11eb_978d_d8c4970340e8row3_col4\" class=\"data row3 col4\" >330380000</td>\n",
       "                        <td id=\"T_33c82965_21c8_11eb_978d_d8c4970340e8row3_col5\" class=\"data row3 col5\" >2.52%</td>\n",
       "                        <td id=\"T_33c82965_21c8_11eb_978d_d8c4970340e8row3_col6\" class=\"data row3 col6\" >0.07%</td>\n",
       "            </tr>\n",
       "    </tbody></table>"
      ],
      "text/plain": [
       "<pandas.io.formats.style.Styler at 0x2d0e1d48af0>"
      ]
     },
     "execution_count": 15,
     "metadata": {},
     "output_type": "execute_result"
    }
   ],
   "source": [
    "# summary df with strict mandate country total confirmed cases\n",
    "strict_max = recent_data.loc[recent_data['Country_name'].isin(['China','Brazil','United States','Italy'])]\n",
    "strict_max.style.format({\"Percent Infected\":\"{:,.2%}\", \"Percent Deceased\":\"{:,.2%}\"})"
   ]
  },
  {
   "cell_type": "code",
   "execution_count": 16,
   "metadata": {},
   "outputs": [
    {
     "data": {
      "text/html": [
       "<style  type=\"text/css\" >\n",
       "</style><table id=\"T_33cc6c1a_21c8_11eb_a674_d8c4970340e8\" ><thead>    <tr>        <th class=\"blank level0\" ></th>        <th class=\"col_heading level0 col0\" >Country_name</th>        <th class=\"col_heading level0 col1\" >Date</th>        <th class=\"col_heading level0 col2\" >Confirmed_cases</th>        <th class=\"col_heading level0 col3\" >Confirmed_deaths</th>        <th class=\"col_heading level0 col4\" >Total Population</th>        <th class=\"col_heading level0 col5\" >Percent Infected</th>        <th class=\"col_heading level0 col6\" >Percent Deceased</th>    </tr></thead><tbody>\n",
       "                <tr>\n",
       "                        <th id=\"T_33cc6c1a_21c8_11eb_a674_d8c4970340e8level0_row0\" class=\"row_heading level0 row0\" >899</th>\n",
       "                        <td id=\"T_33cc6c1a_21c8_11eb_a674_d8c4970340e8row0_col0\" class=\"data row0 col0\" >United Kingdom</td>\n",
       "                        <td id=\"T_33cc6c1a_21c8_11eb_a674_d8c4970340e8row0_col1\" class=\"data row0 col1\" >2020-10-22 00:00:00</td>\n",
       "                        <td id=\"T_33cc6c1a_21c8_11eb_a674_d8c4970340e8row0_col2\" class=\"data row0 col2\" >789229</td>\n",
       "                        <td id=\"T_33cc6c1a_21c8_11eb_a674_d8c4970340e8row0_col3\" class=\"data row0 col3\" >44158</td>\n",
       "                        <td id=\"T_33cc6c1a_21c8_11eb_a674_d8c4970340e8row0_col4\" class=\"data row0 col4\" >60005743</td>\n",
       "                        <td id=\"T_33cc6c1a_21c8_11eb_a674_d8c4970340e8row0_col5\" class=\"data row0 col5\" >1.32%</td>\n",
       "                        <td id=\"T_33cc6c1a_21c8_11eb_a674_d8c4970340e8row0_col6\" class=\"data row0 col6\" >0.07%</td>\n",
       "            </tr>\n",
       "            <tr>\n",
       "                        <th id=\"T_33cc6c1a_21c8_11eb_a674_d8c4970340e8level0_row1\" class=\"row_heading level0 row1\" >1502</th>\n",
       "                        <td id=\"T_33cc6c1a_21c8_11eb_a674_d8c4970340e8row1_col0\" class=\"data row1 col0\" >Japan</td>\n",
       "                        <td id=\"T_33cc6c1a_21c8_11eb_a674_d8c4970340e8row1_col1\" class=\"data row1 col1\" >2020-10-22 00:00:00</td>\n",
       "                        <td id=\"T_33cc6c1a_21c8_11eb_a674_d8c4970340e8row1_col2\" class=\"data row1 col2\" >94524</td>\n",
       "                        <td id=\"T_33cc6c1a_21c8_11eb_a674_d8c4970340e8row1_col3\" class=\"data row1 col3\" >1685</td>\n",
       "                        <td id=\"T_33cc6c1a_21c8_11eb_a674_d8c4970340e8row1_col4\" class=\"data row1 col4\" >4822233</td>\n",
       "                        <td id=\"T_33cc6c1a_21c8_11eb_a674_d8c4970340e8row1_col5\" class=\"data row1 col5\" >1.96%</td>\n",
       "                        <td id=\"T_33cc6c1a_21c8_11eb_a674_d8c4970340e8row1_col6\" class=\"data row1 col6\" >0.03%</td>\n",
       "            </tr>\n",
       "            <tr>\n",
       "                        <th id=\"T_33cc6c1a_21c8_11eb_a674_d8c4970340e8level0_row2\" class=\"row_heading level0 row2\" >1800</th>\n",
       "                        <td id=\"T_33cc6c1a_21c8_11eb_a674_d8c4970340e8row2_col0\" class=\"data row2 col0\" >New Zealand</td>\n",
       "                        <td id=\"T_33cc6c1a_21c8_11eb_a674_d8c4970340e8row2_col1\" class=\"data row2 col1\" >2020-10-22 00:00:00</td>\n",
       "                        <td id=\"T_33cc6c1a_21c8_11eb_a674_d8c4970340e8row2_col2\" class=\"data row2 col2\" >1558</td>\n",
       "                        <td id=\"T_33cc6c1a_21c8_11eb_a674_d8c4970340e8row2_col3\" class=\"data row2 col3\" >25</td>\n",
       "                        <td id=\"T_33cc6c1a_21c8_11eb_a674_d8c4970340e8row2_col4\" class=\"data row2 col4\" >10151866</td>\n",
       "                        <td id=\"T_33cc6c1a_21c8_11eb_a674_d8c4970340e8row2_col5\" class=\"data row2 col5\" >0.02%</td>\n",
       "                        <td id=\"T_33cc6c1a_21c8_11eb_a674_d8c4970340e8row2_col6\" class=\"data row2 col6\" >0.00%</td>\n",
       "            </tr>\n",
       "            <tr>\n",
       "                        <th id=\"T_33cc6c1a_21c8_11eb_a674_d8c4970340e8level0_row3\" class=\"row_heading level0 row3\" >2106</th>\n",
       "                        <td id=\"T_33cc6c1a_21c8_11eb_a674_d8c4970340e8row3_col0\" class=\"data row3 col0\" >Sweden</td>\n",
       "                        <td id=\"T_33cc6c1a_21c8_11eb_a674_d8c4970340e8row3_col1\" class=\"data row3 col1\" >2020-10-22 00:00:00</td>\n",
       "                        <td id=\"T_33cc6c1a_21c8_11eb_a674_d8c4970340e8row3_col2\" class=\"data row3 col2\" >109326</td>\n",
       "                        <td id=\"T_33cc6c1a_21c8_11eb_a674_d8c4970340e8row3_col3\" class=\"data row3 col3\" >5917</td>\n",
       "                        <td id=\"T_33cc6c1a_21c8_11eb_a674_d8c4970340e8row3_col4\" class=\"data row3 col4\" >66575226</td>\n",
       "                        <td id=\"T_33cc6c1a_21c8_11eb_a674_d8c4970340e8row3_col5\" class=\"data row3 col5\" >0.16%</td>\n",
       "                        <td id=\"T_33cc6c1a_21c8_11eb_a674_d8c4970340e8row3_col6\" class=\"data row3 col6\" >0.01%</td>\n",
       "            </tr>\n",
       "    </tbody></table>"
      ],
      "text/plain": [
       "<pandas.io.formats.style.Styler at 0x2d0e1d48dc0>"
      ]
     },
     "execution_count": 16,
     "metadata": {},
     "output_type": "execute_result"
    }
   ],
   "source": [
    "# summary df with relaxed mandate country total confirmed cases\n",
    "lax_max = recent_data.loc[recent_data['Country_name'].isin(['United Kingdom','Japan','New Zealand','Sweden'])]\n",
    "lax_max.style.format({\"Percent Infected\":\"{:,.2%}\", \"Percent Deceased\":\"{:,.2%}\"})"
   ]
  },
  {
   "cell_type": "markdown",
   "metadata": {},
   "source": [
    "### Linear Regression for Countries with Strict Mandates"
   ]
  },
  {
   "cell_type": "code",
   "execution_count": 17,
   "metadata": {},
   "outputs": [
    {
     "name": "stdout",
     "output_type": "stream",
     "text": [
      "The r-squared is: -0.08088818718865534\n",
      "Linear Equation: y=-0.01x + 0.03\n",
      "Correlation: (-0.08088818718865526, 0.9191118128113447)\n"
     ]
    },
    {
     "data": {
      "image/png": "[encoded data removed]",
      "text/plain": [
       "<Figure size 432x288 with 1 Axes>"
      ]
     },
     "metadata": {
      "needs_background": "light"
     },
     "output_type": "display_data"
    }
   ],
   "source": [
    "#linear regression strict mandates v strict cases\n",
    "x_values = strict_df['Average Mandate']\n",
    "y_values = strict_max['Percent Infected']\n",
    "(slope, intercept, rvalue, pvalue, stdeer) = linregress(x_values,y_values)\n",
    "print(f\"The r-squared is: {rvalue}\")\n",
    "regress_values = x_values*slope+intercept\n",
    "line_eq = 'y=' +str(round(slope,2))+'x + ' +str(round(intercept,2))\n",
    "print(f\"Linear Equation: {line_eq}\")\n",
    "plt.scatter(x_values, y_values)\n",
    "plt.plot(x_values,regress_values,'r-')\n",
    "\n",
    "#pearsonr for strict mandates v percent infected\n",
    "correlation = st.pearsonr(strict_df['Average Mandate'], strict_max['Percent Infected'])\n",
    "print(f\"Correlation: {correlation}\")\n",
    "\n",
    "#plt.annotate(line_eq,(15,10),fontsize = 25, color='red')\n",
    "plt.title('Average Mandate: Strict Countries vs Confirmed Cases per Capita')\n",
    "plt.xlabel('Average Mandate: Strict Countries')\n",
    "plt.ylabel('Percent Infected')\n",
    "plt.show()"
   ]
  },
  {
   "cell_type": "code",
   "execution_count": 18,
   "metadata": {},
   "outputs": [
    {
     "name": "stdout",
     "output_type": "stream",
     "text": [
      "The r-squared is: -0.026037645578270895\n",
      "Linear Equation: y = -0.0x +0.0\n",
      "Correlation: (-0.02603764557827082, 0.9739623544217292)\n"
     ]
    },
    {
     "data": {
      "image/png": "[encoded data removed]",
      "text/plain": [
       "<Figure size 432x288 with 1 Axes>"
      ]
     },
     "metadata": {
      "needs_background": "light"
     },
     "output_type": "display_data"
    }
   ],
   "source": [
    "#linear regression strict mandates v strict deaths\n",
    "x_values = strict_df['Average Mandate']\n",
    "y_values = strict_max['Percent Deceased']\n",
    "(slope, intercept, rvalue, pvalue, stdeer) = linregress(x_values,y_values)\n",
    "print(f\"The r-squared is: {rvalue}\")\n",
    "regress_values = x_values*slope+intercept\n",
    "line_eq = \"y = \" + str(round(slope,2))+ \"x +\" +str(round(intercept,2))\n",
    "print(f\"Linear Equation: {line_eq}\")\n",
    "plt.scatter(x_values, y_values)\n",
    "plt.plot(x_values,regress_values,'r-')\n",
    "\n",
    "#pearsonr for strict mandates v percent deceased\n",
    "correlation = st.pearsonr(strict_df['Average Mandate'], strict_max['Percent Deceased'])\n",
    "print(f\"Correlation: {correlation}\")\n",
    "\n",
    "#plt.annotate(line_eq,(15,10),fontsize = 25, color='red')\n",
    "plt.title('Average Mandate: Strict Countries vs Confirmed Deaths per Capita')\n",
    "plt.xlabel('Average Mandate: Strict Countries')\n",
    "plt.ylabel('Percent Deceased')\n",
    "plt.show()"
   ]
  },
  {
   "cell_type": "markdown",
   "metadata": {},
   "source": [
    "### Linear Regression for Countries with Relaxed Mandates "
   ]
  },
  {
   "cell_type": "code",
   "execution_count": 19,
   "metadata": {},
   "outputs": [
    {
     "name": "stdout",
     "output_type": "stream",
     "text": [
      "The r-squared is: 0.46988513503137\n",
      "Linear Equation: y=0.01x + -0.0\n",
      "Correlation: (0.4698851350313702, 0.5301148649686298)\n"
     ]
    },
    {
     "data": {
      "image/png": "[encoded data removed]",
      "text/plain": [
       "<Figure size 432x288 with 1 Axes>"
      ]
     },
     "metadata": {
      "needs_background": "light"
     },
     "output_type": "display_data"
    }
   ],
   "source": [
    "#linear regression relaxed mandates v relaxed cases\n",
    "x_values = lax_df['Average Mandate']\n",
    "y_values = lax_max['Percent Infected']\n",
    "(slope, intercept, rvalue, pvalue, stdeer) = linregress(x_values,y_values)\n",
    "print(f\"The r-squared is: {rvalue}\")\n",
    "regress_values = x_values*slope+intercept\n",
    "line_eq = 'y=' +str(round(slope,2))+'x + ' +str(round(intercept,2))\n",
    "print(f\"Linear Equation: {line_eq}\")\n",
    "plt.scatter(x_values, y_values)\n",
    "plt.plot(x_values,regress_values,'r-')\n",
    "\n",
    "#pearsonr for relaxed mandates v relaxed cases\n",
    "correlation = st.pearsonr(lax_df['Average Mandate'], lax_max['Percent Infected'])\n",
    "print(f\"Correlation: {correlation}\")\n",
    "\n",
    "#plt.annotate(line_eq,(15,10),fontsize = 25, color='red')\n",
    "plt.title('Average Mandate: Lax Countries vs Confirmed Cases per Capita')\n",
    "plt.xlabel('Average Mandate: Lax Countries')\n",
    "plt.ylabel('Percent Infected')\n",
    "plt.show()"
   ]
  },
  {
   "cell_type": "code",
   "execution_count": 20,
   "metadata": {},
   "outputs": [
    {
     "name": "stdout",
     "output_type": "stream",
     "text": [
      "The r-squared is: 0.8912695337456252\n",
      "Linear Equation: y=0.0x + -0.0\n",
      "Correlation: (0.8912695337456252, 0.10873046625437477)\n"
     ]
    },
    {
     "data": {
      "image/png": "[encoded data removed]",
      "text/plain": [
       "<Figure size 432x288 with 1 Axes>"
      ]
     },
     "metadata": {
      "needs_background": "light"
     },
     "output_type": "display_data"
    }
   ],
   "source": [
    "#linear regression relaxed mandates v relaxed deaths\n",
    "x_values = lax_df['Average Mandate']\n",
    "y_values = lax_max['Percent Deceased']\n",
    "(slope, intercept, rvalue, pvalue, stdeer) = linregress(x_values,y_values)\n",
    "print(f\"The r-squared is: {rvalue}\")\n",
    "regress_values = x_values*slope+intercept\n",
    "line_eq = 'y=' +str(round(slope,2))+'x + ' +str(round(intercept,2))\n",
    "print(f\"Linear Equation: {line_eq}\")\n",
    "plt.scatter(x_values, y_values)\n",
    "plt.plot(x_values,regress_values,'r-')\n",
    "\n",
    "#pearsonr for relaxed mandates v relaxed deaths\n",
    "correlation = st.pearsonr(lax_df['Average Mandate'], lax_max['Percent Deceased'])\n",
    "print(f\"Correlation: {correlation}\")\n",
    "\n",
    "#plt.annotate(line_eq,(15,10),fontsize = 25, color='red')\n",
    "plt.title('Average Mandate: Lax Countries vs Confirmed Deaths per Capita')\n",
    "plt.xlabel('Average Mandate: Lax Countries')\n",
    "plt.ylabel('Percent Deceased')\n",
    "plt.show()"
   ]
  },
  {
   "cell_type": "markdown",
   "metadata": {},
   "source": [
    "### Countries' Total Cases over Time"
   ]
  },
  {
   "cell_type": "code",
   "execution_count": 21,
   "metadata": {},
   "outputs": [
    {
     "data": {
      "image/png": "[encoded data removed]",
      "text/plain": [
       "<Figure size 432x288 with 1 Axes>"
      ]
     },
     "metadata": {
      "needs_background": "light"
     },
     "output_type": "display_data"
    },
    {
     "data": {
      "image/png": "[encoded data removed]",
      "text/plain": [
       "<Figure size 432x288 with 1 Axes>"
      ]
     },
     "metadata": {
      "needs_background": "light"
     },
     "output_type": "display_data"
    }
   ],
   "source": [
    "# Locate the Confirmed Cases data for Countries w/ Strict Mandates\n",
    "fig, ax = plt.subplots()\n",
    "brazil = data.loc[data['Country_name']=='Brazil']\n",
    "ax.plot(brazil['Date'],brazil['Confirmed_cases'], label = 'Brazil')\n",
    "china = data.loc[data['Country_name']=='China']\n",
    "ax.plot(china['Date'],china['Confirmed_cases'],label='China')\n",
    "italy = data.loc[data['Country_name']=='Italy']\n",
    "ax.plot(italy['Date'],italy['Confirmed_cases'],label='Italy')\n",
    "us = data.loc[data['Country_name']=='United States']\n",
    "ax.plot(us['Date'],us['Confirmed_cases'],label='US')\n",
    "\n",
    "# Plot the Confirmed Cases for \"Strict\" Countries \n",
    "plt.xticks(rotation='vertical')\n",
    "plt.title('Confirmed Cases Over Time for Strict Countries')\n",
    "plt.xlabel('Date')\n",
    "plt.ylabel('Total Cases')\n",
    "plt.legend()\n",
    "plt.savefig('Figures/cases_time_strict.png')\n",
    "plt.show()\n",
    "\n",
    "# Run the same functions for \"Relaxed\" Mandates\n",
    "fig, ax = plt.subplots()\n",
    "uk = data.loc[data['Country_name']=='United Kingdom']\n",
    "ax.plot(uk['Date'],uk['Confirmed_cases'],label='United Kingdom')\n",
    "japan = data.loc[data['Country_name']=='Japan']\n",
    "ax.plot(japan['Date'],japan['Confirmed_cases'],label='Japan')\n",
    "nz = data.loc[data['Country_name']=='New Zealand']\n",
    "ax.plot(nz['Date'],nz['Confirmed_cases'],label='New Zealand')\n",
    "sweden = data.loc[data['Country_name']=='Sweden']\n",
    "ax.plot(sweden['Date'],sweden['Confirmed_cases'],label='Sweden')\n",
    "plt.xticks(rotation='vertical')\n",
    "plt.title('Total Cases Over Time for Relaxed Countries')\n",
    "plt.xlabel('Date')\n",
    "plt.ylabel('Total Cases')\n",
    "plt.legend()\n",
    "plt.savefig('Figures/cases_time_relax.png')\n",
    "plt.show()"
   ]
  },
  {
   "cell_type": "markdown",
   "metadata": {},
   "source": [
    "### Countries' Total Deaths over Time¶"
   ]
  },
  {
   "cell_type": "code",
   "execution_count": 22,
   "metadata": {},
   "outputs": [
    {
     "data": {
      "image/png": "[encoded data removed]",
      "text/plain": [
       "<Figure size 432x288 with 1 Axes>"
      ]
     },
     "metadata": {
      "needs_background": "light"
     },
     "output_type": "display_data"
    },
    {
     "data": {
      "image/png": "[encoded data removed]",
      "text/plain": [
       "<Figure size 432x288 with 1 Axes>"
      ]
     },
     "metadata": {
      "needs_background": "light"
     },
     "output_type": "display_data"
    }
   ],
   "source": [
    "# Locate the Confirmed Deaths for the \"Strict Countries\"\n",
    "fig, ax = plt.subplots()\n",
    "brazil = data.loc[data['Country_name']=='Brazil']\n",
    "ax.plot(brazil['Date'],brazil['Confirmed_deaths'], label = 'Brazil')\n",
    "china = data.loc[data['Country_name']=='China']\n",
    "ax.plot(china['Date'],china['Confirmed_deaths'],label='China')\n",
    "italy = data.loc[data['Country_name']=='Italy']\n",
    "ax.plot(italy['Date'],italy['Confirmed_deaths'],label='Italy')\n",
    "us = data.loc[data['Country_name']=='United States']\n",
    "ax.plot(us['Date'],us['Confirmed_deaths'],label='US')\n",
    "\n",
    "# Plot the Confirmed Deaths for \"Strict\" Countries\n",
    "plt.xticks(rotation='vertical')\n",
    "plt.title('Total Deaths Over Time for Strict Countries')\n",
    "plt.xlabel('Date')\n",
    "plt.ylabel('Total Cases')\n",
    "plt.legend()\n",
    "plt.savefig('Figures/deaths_time_strict.png')\n",
    "plt.show()\n",
    "\n",
    "# Run the same functions for \"Relaxed\" Countries\n",
    "fig, ax = plt.subplots()\n",
    "uk = data.loc[data['Country_name']=='United Kingdom']\n",
    "ax.plot(uk['Date'],uk['Confirmed_deaths'],label='United Kingdom')\n",
    "japan = data.loc[data['Country_name']=='Japan']\n",
    "ax.plot(japan['Date'],japan['Confirmed_deaths'],label='Japan')\n",
    "nz = data.loc[data['Country_name']=='New Zealand']\n",
    "ax.plot(nz['Date'],nz['Confirmed_deaths'],label='New Zealand')\n",
    "sweden = data.loc[data['Country_name']=='Sweden']\n",
    "ax.plot(sweden['Date'],sweden['Confirmed_deaths'],label='Sweden')\n",
    "plt.xticks(rotation='vertical')\n",
    "plt.title('Total Deaths Over Time for Relaxed Countries')\n",
    "plt.xlabel('Date')\n",
    "plt.ylabel('Total Cases')\n",
    "plt.legend()\n",
    "plt.savefig('Figures/deaths_time_relax.png')\n",
    "plt.show()"
   ]
  },
  {
   "cell_type": "markdown",
   "metadata": {},
   "source": [
    "### Determining Countries' Cases and Deaths by Per Capita"
   ]
  },
  {
   "cell_type": "code",
   "execution_count": 23,
   "metadata": {},
   "outputs": [
    {
     "data": {
      "text/html": [
       "<div>\n",
       "<style scoped>\n",
       "    .dataframe tbody tr th:only-of-type {\n",
       "        vertical-align: middle;\n",
       "    }\n",
       "\n",
       "    .dataframe tbody tr th {\n",
       "        vertical-align: top;\n",
       "    }\n",
       "\n",
       "    .dataframe thead th {\n",
       "        text-align: right;\n",
       "    }\n",
       "</style>\n",
       "<table border=\"1\" class=\"dataframe\">\n",
       "  <thead>\n",
       "    <tr style=\"text-align: right;\">\n",
       "      <th></th>\n",
       "      <th>Date</th>\n",
       "      <th>Confirmed_cases</th>\n",
       "      <th>Confirmed_deaths</th>\n",
       "      <th>Total Population</th>\n",
       "      <th>Percent Infected</th>\n",
       "      <th>Percent Deceased</th>\n",
       "    </tr>\n",
       "    <tr>\n",
       "      <th>Country_name</th>\n",
       "      <th></th>\n",
       "      <th></th>\n",
       "      <th></th>\n",
       "      <th></th>\n",
       "      <th></th>\n",
       "      <th></th>\n",
       "    </tr>\n",
       "  </thead>\n",
       "  <tbody>\n",
       "    <tr>\n",
       "      <th>Brazil</th>\n",
       "      <td>2020-10-22</td>\n",
       "      <td>5298772</td>\n",
       "      <td>155403</td>\n",
       "      <td>212559417</td>\n",
       "      <td>0.024928</td>\n",
       "      <td>0.000731</td>\n",
       "    </tr>\n",
       "    <tr>\n",
       "      <th>China</th>\n",
       "      <td>2020-10-22</td>\n",
       "      <td>91044</td>\n",
       "      <td>4739</td>\n",
       "      <td>1408526449</td>\n",
       "      <td>0.000065</td>\n",
       "      <td>0.000003</td>\n",
       "    </tr>\n",
       "    <tr>\n",
       "      <th>United Kingdom</th>\n",
       "      <td>2020-10-22</td>\n",
       "      <td>789229</td>\n",
       "      <td>44158</td>\n",
       "      <td>60005743</td>\n",
       "      <td>0.013153</td>\n",
       "      <td>0.000736</td>\n",
       "    </tr>\n",
       "    <tr>\n",
       "      <th>Italy</th>\n",
       "      <td>2020-10-22</td>\n",
       "      <td>449648</td>\n",
       "      <td>36832</td>\n",
       "      <td>125938348</td>\n",
       "      <td>0.003570</td>\n",
       "      <td>0.000292</td>\n",
       "    </tr>\n",
       "    <tr>\n",
       "      <th>Japan</th>\n",
       "      <td>2020-10-22</td>\n",
       "      <td>94524</td>\n",
       "      <td>1685</td>\n",
       "      <td>4822233</td>\n",
       "      <td>0.019602</td>\n",
       "      <td>0.000349</td>\n",
       "    </tr>\n",
       "    <tr>\n",
       "      <th>New Zealand</th>\n",
       "      <td>2020-10-22</td>\n",
       "      <td>1558</td>\n",
       "      <td>25</td>\n",
       "      <td>10151866</td>\n",
       "      <td>0.000153</td>\n",
       "      <td>0.000002</td>\n",
       "    </tr>\n",
       "    <tr>\n",
       "      <th>Sweden</th>\n",
       "      <td>2020-10-22</td>\n",
       "      <td>109326</td>\n",
       "      <td>5917</td>\n",
       "      <td>66575226</td>\n",
       "      <td>0.001642</td>\n",
       "      <td>0.000089</td>\n",
       "    </tr>\n",
       "    <tr>\n",
       "      <th>United States</th>\n",
       "      <td>2020-10-22</td>\n",
       "      <td>8336282</td>\n",
       "      <td>222201</td>\n",
       "      <td>330380000</td>\n",
       "      <td>0.025232</td>\n",
       "      <td>0.000673</td>\n",
       "    </tr>\n",
       "  </tbody>\n",
       "</table>\n",
       "</div>"
      ],
      "text/plain": [
       "                     Date  Confirmed_cases  Confirmed_deaths  \\\n",
       "Country_name                                                   \n",
       "Brazil         2020-10-22          5298772            155403   \n",
       "China          2020-10-22            91044              4739   \n",
       "United Kingdom 2020-10-22           789229             44158   \n",
       "Italy          2020-10-22           449648             36832   \n",
       "Japan          2020-10-22            94524              1685   \n",
       "New Zealand    2020-10-22             1558                25   \n",
       "Sweden         2020-10-22           109326              5917   \n",
       "United States  2020-10-22          8336282            222201   \n",
       "\n",
       "                Total Population  Percent Infected  Percent Deceased  \n",
       "Country_name                                                          \n",
       "Brazil                 212559417          0.024928          0.000731  \n",
       "China                 1408526449          0.000065          0.000003  \n",
       "United Kingdom          60005743          0.013153          0.000736  \n",
       "Italy                  125938348          0.003570          0.000292  \n",
       "Japan                    4822233          0.019602          0.000349  \n",
       "New Zealand             10151866          0.000153          0.000002  \n",
       "Sweden                  66575226          0.001642          0.000089  \n",
       "United States          330380000          0.025232          0.000673  "
      ]
     },
     "execution_count": 23,
     "metadata": {},
     "output_type": "execute_result"
    }
   ],
   "source": [
    "rates = pd.DataFrame(recent_data, columns= [\"Country_name\", \"Date\", \"Confirmed_cases\", \"Confirmed_deaths\", \\\n",
    "                                    \"Total Population\", \"Percent Infected\",\"Percent Deceased\"])\n",
    "\n",
    "rates = rates.set_index('Country_name')\n",
    "rates"
   ]
  },
  {
   "cell_type": "code",
   "execution_count": 24,
   "metadata": {},
   "outputs": [
    {
     "data": {
      "image/png": "[encoded data removed]",
      "text/plain": [
       "<Figure size 432x288 with 1 Axes>"
      ]
     },
     "metadata": {
      "needs_background": "light"
     },
     "output_type": "display_data"
    }
   ],
   "source": [
    "# Rate of Infection across All Countries\n",
    "plt.bar(rates['Percent Infected'].index, rates['Percent Infected']*100, \\\n",
    "        color=['black', 'red', 'green', 'blue', 'cyan','peru','purple','orange'])\n",
    "plt.xticks(rotation='vertical')\n",
    "plt.title('Rate of Infection across All Countries as of 10/22/20')\n",
    "plt.xlabel('Countries')\n",
    "plt.ylabel('% of Population Infected')\n",
    "plt.savefig('Figures/Cases_per_Capita.png')"
   ]
  },
  {
   "cell_type": "code",
   "execution_count": 25,
   "metadata": {},
   "outputs": [
    {
     "data": {
      "image/png": "[encoded data removed]",
      "text/plain": [
       "<Figure size 432x288 with 1 Axes>"
      ]
     },
     "metadata": {
      "needs_background": "light"
     },
     "output_type": "display_data"
    }
   ],
   "source": [
    "# Rate of Mortality across All Countries\n",
    "plt.bar(rates['Percent Infected'].index, rates['Percent Deceased']*100, \\\n",
    "        color=['black', 'red', 'green', 'blue', 'cyan','peru','purple','orange'])\n",
    "plt.xticks(rotation='vertical')\n",
    "plt.title('Rate of Mortality across All Countries as of 10/22/20')\n",
    "plt.xlabel('Countries')\n",
    "plt.ylabel('% of Population Deceased')\n",
    "plt.savefig('Figures/Deaths_per_Capita.png')"
   ]
  },
  {
   "cell_type": "markdown",
   "metadata": {},
   "source": [
    "### Statistical Analysis\n",
    "\n",
    "###### Testing our Hypothesis for Infection Rate (2-Sample T-Test)"
   ]
  },
  {
   "cell_type": "code",
   "execution_count": 26,
   "metadata": {},
   "outputs": [
    {
     "name": "stdout",
     "output_type": "stream",
     "text": [
      "Strict Percent Infected    1.344896\n",
      "dtype: float64\n",
      "Relaxed Percent Infected    0.863747\n",
      "dtype: float64\n",
      "The resulting p-value was 0.58177003\n"
     ]
    }
   ],
   "source": [
    "t_test = pd.DataFrame(rates, columns= [\"Percent Infected\", \"Percent Deceased\"])\n",
    "\n",
    "# Determine the mean infection rate for strict countries\n",
    "strict_inf = t_test.iloc[[0,1,3,7], 0:1]\n",
    "strict_mean = strict_inf.mean()\n",
    "print(f'Strict {strict_mean*100}')\n",
    "\n",
    "# Determine the mean infection rate for relaxed countries\n",
    "relax_inf = t_test.iloc[[2,4,5,6],0:1]\n",
    "relax_mean = relax_inf.mean()\n",
    "print(f'Relaxed {relax_mean*100}')\n",
    "\n",
    "#Calculate Independent T-test (p-value = 0.05)\n",
    "# Code for T-test runs but is not printed for formatting purposes.\n",
    "st.ttest_ind(strict_inf, relax_inf, equal_var=False)\n",
    "print('The resulting p-value was 0.58177003')"
   ]
  },
  {
   "cell_type": "markdown",
   "metadata": {},
   "source": [
    "##### Testing our Hypothesis for Mortality Rate (2-Sample T-Test)"
   ]
  },
  {
   "cell_type": "code",
   "execution_count": 27,
   "metadata": {},
   "outputs": [
    {
     "name": "stdout",
     "output_type": "stream",
     "text": [
      "Strict Percent Deceased    0.042487\n",
      "dtype: float64\n",
      "Relaxed Percent Deceased    0.029416\n",
      "dtype: float64\n",
      "The resulting p-value was 0.60168065\n"
     ]
    }
   ],
   "source": [
    "# Determine the mean mortality rate for strict countries\n",
    "strict_dth = t_test.iloc[[0,1,3,7],-1:]\n",
    "strict_mean = strict_dth.mean()\n",
    "print(f'Strict {strict_mean*100}')\n",
    "\n",
    "# Determine the mean infection rate for relaxed countries\n",
    "relax_dth = t_test.iloc[[2,4,5,6],-1:]\n",
    "relax_mean = relax_dth.mean()\n",
    "print(f'Relaxed {relax_mean*100}')\n",
    "\n",
    "# Calculate Independent T-test (p-value = 0.05)\n",
    "# Code for T-test runs but is not printed for formatting purposes.\n",
    "st.ttest_ind(strict_dth, relax_dth, equal_var=False)\n",
    "print('The resulting p-value was 0.60168065')"
   ]
  },
  {
   "cell_type": "code",
   "execution_count": null,
   "metadata": {},
   "outputs": [],
   "source": []
  }
 ],
 "metadata": {
  "kernelspec": {
   "display_name": "Python 3",
   "language": "python",
   "name": "python3"
  },
  "language_info": {
   "codemirror_mode": {
    "name": "ipython",
    "version": 3
   },
   "file_extension": ".py",
   "mimetype": "text/x-python",
   "name": "python",
   "nbconvert_exporter": "python",
   "pygments_lexer": "ipython3",
   "version": "3.8.5"
  }
 },
 "nbformat": 4,
 "nbformat_minor": 4
}
