{
 "cells": [
  {
   "cell_type": "code",
   "execution_count": 1,
   "metadata": {},
   "outputs": [],
   "source": [
    "#import dependancies\n",
    "import pandas as pd\n",
    "import matplotlib.pyplot as plt\n",
    "from scipy.stats import linregress\n",
    "import scipy.stats as st"
   ]
  },
  {
   "cell_type": "code",
   "execution_count": 2,
   "metadata": {},
   "outputs": [
    {
     "data": {
      "text/html": [
       "<div>\n",
       "<style scoped>\n",
       "    .dataframe tbody tr th:only-of-type {\n",
       "        vertical-align: middle;\n",
       "    }\n",
       "\n",
       "    .dataframe tbody tr th {\n",
       "        vertical-align: top;\n",
       "    }\n",
       "\n",
       "    .dataframe thead th {\n",
       "        text-align: right;\n",
       "    }\n",
       "</style>\n",
       "<table border=\"1\" class=\"dataframe\">\n",
       "  <thead>\n",
       "    <tr style=\"text-align: right;\">\n",
       "      <th></th>\n",
       "      <th>CountryName</th>\n",
       "      <th>Date</th>\n",
       "      <th>C1_School_closing</th>\n",
       "      <th>C2_Workplace_closing</th>\n",
       "      <th>C6_Stay_home_requirements</th>\n",
       "      <th>E1_Income_support</th>\n",
       "      <th>E3_Fiscal_measures</th>\n",
       "      <th>H6_Facial_coverings</th>\n",
       "      <th>ConfirmedCases</th>\n",
       "      <th>ConfirmedDeaths</th>\n",
       "    </tr>\n",
       "  </thead>\n",
       "  <tbody>\n",
       "    <tr>\n",
       "      <th>0</th>\n",
       "      <td>Brazil</td>\n",
       "      <td>20200101</td>\n",
       "      <td>0.0</td>\n",
       "      <td>0.0</td>\n",
       "      <td>0.0</td>\n",
       "      <td>0.0</td>\n",
       "      <td>0.0</td>\n",
       "      <td>0.0</td>\n",
       "      <td>0.0</td>\n",
       "      <td>0.0</td>\n",
       "    </tr>\n",
       "    <tr>\n",
       "      <th>1</th>\n",
       "      <td>Brazil</td>\n",
       "      <td>20200102</td>\n",
       "      <td>0.0</td>\n",
       "      <td>0.0</td>\n",
       "      <td>0.0</td>\n",
       "      <td>0.0</td>\n",
       "      <td>0.0</td>\n",
       "      <td>0.0</td>\n",
       "      <td>0.0</td>\n",
       "      <td>0.0</td>\n",
       "    </tr>\n",
       "    <tr>\n",
       "      <th>2</th>\n",
       "      <td>Brazil</td>\n",
       "      <td>20200103</td>\n",
       "      <td>0.0</td>\n",
       "      <td>0.0</td>\n",
       "      <td>0.0</td>\n",
       "      <td>0.0</td>\n",
       "      <td>0.0</td>\n",
       "      <td>0.0</td>\n",
       "      <td>0.0</td>\n",
       "      <td>0.0</td>\n",
       "    </tr>\n",
       "    <tr>\n",
       "      <th>3</th>\n",
       "      <td>Brazil</td>\n",
       "      <td>20200104</td>\n",
       "      <td>0.0</td>\n",
       "      <td>0.0</td>\n",
       "      <td>0.0</td>\n",
       "      <td>0.0</td>\n",
       "      <td>0.0</td>\n",
       "      <td>0.0</td>\n",
       "      <td>0.0</td>\n",
       "      <td>0.0</td>\n",
       "    </tr>\n",
       "    <tr>\n",
       "      <th>4</th>\n",
       "      <td>Brazil</td>\n",
       "      <td>20200105</td>\n",
       "      <td>0.0</td>\n",
       "      <td>0.0</td>\n",
       "      <td>0.0</td>\n",
       "      <td>0.0</td>\n",
       "      <td>0.0</td>\n",
       "      <td>0.0</td>\n",
       "      <td>0.0</td>\n",
       "      <td>0.0</td>\n",
       "    </tr>\n",
       "  </tbody>\n",
       "</table>\n",
       "</div>"
      ],
      "text/plain": [
       "  CountryName      Date  C1_School_closing  C2_Workplace_closing  \\\n",
       "0      Brazil  20200101                0.0                   0.0   \n",
       "1      Brazil  20200102                0.0                   0.0   \n",
       "2      Brazil  20200103                0.0                   0.0   \n",
       "3      Brazil  20200104                0.0                   0.0   \n",
       "4      Brazil  20200105                0.0                   0.0   \n",
       "\n",
       "   C6_Stay_home_requirements  E1_Income_support  E3_Fiscal_measures  \\\n",
       "0                        0.0                0.0                 0.0   \n",
       "1                        0.0                0.0                 0.0   \n",
       "2                        0.0                0.0                 0.0   \n",
       "3                        0.0                0.0                 0.0   \n",
       "4                        0.0                0.0                 0.0   \n",
       "\n",
       "   H6_Facial_coverings  ConfirmedCases  ConfirmedDeaths  \n",
       "0                  0.0             0.0              0.0  \n",
       "1                  0.0             0.0              0.0  \n",
       "2                  0.0             0.0              0.0  \n",
       "3                  0.0             0.0              0.0  \n",
       "4                  0.0             0.0              0.0  "
      ]
     },
     "execution_count": 2,
     "metadata": {},
     "output_type": "execute_result"
    }
   ],
   "source": [
    "#read in data\n",
    "data = pd.read_csv('/Users/kscomputer/Desktop/Project_1/Project_1/output_data/oxford_clean3.csv')\n",
    "data.head()"
   ]
  },
  {
   "cell_type": "code",
   "execution_count": 3,
   "metadata": {},
   "outputs": [],
   "source": [
    "#narrow down data to just mandataes\n",
    "info = pd.DataFrame(data, columns= [\"CountryName\", \"Date\", \"C1_School_closing\", \"C2_Workplace_closing\",\n",
    "                                         \"C6_Stay_home_requirements\", \"E1_Income_support\",\n",
    "                                    \"H6_Facial_coverings\"])"
   ]
  },
  {
   "cell_type": "code",
   "execution_count": 4,
   "metadata": {},
   "outputs": [
    {
     "data": {
      "text/html": [
       "<div>\n",
       "<style scoped>\n",
       "    .dataframe tbody tr th:only-of-type {\n",
       "        vertical-align: middle;\n",
       "    }\n",
       "\n",
       "    .dataframe tbody tr th {\n",
       "        vertical-align: top;\n",
       "    }\n",
       "\n",
       "    .dataframe thead th {\n",
       "        text-align: right;\n",
       "    }\n",
       "</style>\n",
       "<table border=\"1\" class=\"dataframe\">\n",
       "  <thead>\n",
       "    <tr style=\"text-align: right;\">\n",
       "      <th></th>\n",
       "      <th>CountryName</th>\n",
       "      <th>Date</th>\n",
       "      <th>C1_School_closing</th>\n",
       "      <th>C2_Workplace_closing</th>\n",
       "      <th>C6_Stay_home_requirements</th>\n",
       "      <th>E1_Income_support</th>\n",
       "      <th>H6_Facial_coverings</th>\n",
       "    </tr>\n",
       "  </thead>\n",
       "  <tbody>\n",
       "    <tr>\n",
       "      <th>0</th>\n",
       "      <td>Brazil</td>\n",
       "      <td>20200101</td>\n",
       "      <td>0.0</td>\n",
       "      <td>0.0</td>\n",
       "      <td>0.0</td>\n",
       "      <td>0.0</td>\n",
       "      <td>0.0</td>\n",
       "    </tr>\n",
       "    <tr>\n",
       "      <th>1</th>\n",
       "      <td>Brazil</td>\n",
       "      <td>20200102</td>\n",
       "      <td>0.0</td>\n",
       "      <td>0.0</td>\n",
       "      <td>0.0</td>\n",
       "      <td>0.0</td>\n",
       "      <td>0.0</td>\n",
       "    </tr>\n",
       "    <tr>\n",
       "      <th>2</th>\n",
       "      <td>Brazil</td>\n",
       "      <td>20200103</td>\n",
       "      <td>0.0</td>\n",
       "      <td>0.0</td>\n",
       "      <td>0.0</td>\n",
       "      <td>0.0</td>\n",
       "      <td>0.0</td>\n",
       "    </tr>\n",
       "    <tr>\n",
       "      <th>3</th>\n",
       "      <td>Brazil</td>\n",
       "      <td>20200104</td>\n",
       "      <td>0.0</td>\n",
       "      <td>0.0</td>\n",
       "      <td>0.0</td>\n",
       "      <td>0.0</td>\n",
       "      <td>0.0</td>\n",
       "    </tr>\n",
       "    <tr>\n",
       "      <th>4</th>\n",
       "      <td>Brazil</td>\n",
       "      <td>20200105</td>\n",
       "      <td>0.0</td>\n",
       "      <td>0.0</td>\n",
       "      <td>0.0</td>\n",
       "      <td>0.0</td>\n",
       "      <td>0.0</td>\n",
       "    </tr>\n",
       "  </tbody>\n",
       "</table>\n",
       "</div>"
      ],
      "text/plain": [
       "  CountryName      Date  C1_School_closing  C2_Workplace_closing  \\\n",
       "0      Brazil  20200101                0.0                   0.0   \n",
       "1      Brazil  20200102                0.0                   0.0   \n",
       "2      Brazil  20200103                0.0                   0.0   \n",
       "3      Brazil  20200104                0.0                   0.0   \n",
       "4      Brazil  20200105                0.0                   0.0   \n",
       "\n",
       "   C6_Stay_home_requirements  E1_Income_support  H6_Facial_coverings  \n",
       "0                        0.0                0.0                  0.0  \n",
       "1                        0.0                0.0                  0.0  \n",
       "2                        0.0                0.0                  0.0  \n",
       "3                        0.0                0.0                  0.0  \n",
       "4                        0.0                0.0                  0.0  "
      ]
     },
     "execution_count": 4,
     "metadata": {},
     "output_type": "execute_result"
    }
   ],
   "source": [
    "info.head()"
   ]
  },
  {
   "cell_type": "code",
   "execution_count": 5,
   "metadata": {},
   "outputs": [],
   "source": [
    "info = info.astype({'C1_School_closing': 'int', 'C2_Workplace_closing': 'int', \n",
    "                    'C6_Stay_home_requirements': 'int', 'E1_Income_support':'int',\n",
    "                            'H6_Facial_coverings': 'int'}) "
   ]
  },
  {
   "cell_type": "code",
   "execution_count": 6,
   "metadata": {},
   "outputs": [
    {
     "data": {
      "text/html": [
       "<div>\n",
       "<style scoped>\n",
       "    .dataframe tbody tr th:only-of-type {\n",
       "        vertical-align: middle;\n",
       "    }\n",
       "\n",
       "    .dataframe tbody tr th {\n",
       "        vertical-align: top;\n",
       "    }\n",
       "\n",
       "    .dataframe thead th {\n",
       "        text-align: right;\n",
       "    }\n",
       "</style>\n",
       "<table border=\"1\" class=\"dataframe\">\n",
       "  <thead>\n",
       "    <tr style=\"text-align: right;\">\n",
       "      <th></th>\n",
       "      <th>CountryName</th>\n",
       "      <th>Date</th>\n",
       "      <th>C1_School_closing</th>\n",
       "      <th>C2_Workplace_closing</th>\n",
       "      <th>C6_Stay_home_requirements</th>\n",
       "      <th>E1_Income_support</th>\n",
       "      <th>H6_Facial_coverings</th>\n",
       "    </tr>\n",
       "  </thead>\n",
       "  <tbody>\n",
       "    <tr>\n",
       "      <th>0</th>\n",
       "      <td>Brazil</td>\n",
       "      <td>2020-01-01</td>\n",
       "      <td>0</td>\n",
       "      <td>0</td>\n",
       "      <td>0</td>\n",
       "      <td>0</td>\n",
       "      <td>0</td>\n",
       "    </tr>\n",
       "    <tr>\n",
       "      <th>1</th>\n",
       "      <td>Brazil</td>\n",
       "      <td>2020-01-02</td>\n",
       "      <td>0</td>\n",
       "      <td>0</td>\n",
       "      <td>0</td>\n",
       "      <td>0</td>\n",
       "      <td>0</td>\n",
       "    </tr>\n",
       "    <tr>\n",
       "      <th>2</th>\n",
       "      <td>Brazil</td>\n",
       "      <td>2020-01-03</td>\n",
       "      <td>0</td>\n",
       "      <td>0</td>\n",
       "      <td>0</td>\n",
       "      <td>0</td>\n",
       "      <td>0</td>\n",
       "    </tr>\n",
       "    <tr>\n",
       "      <th>3</th>\n",
       "      <td>Brazil</td>\n",
       "      <td>2020-01-04</td>\n",
       "      <td>0</td>\n",
       "      <td>0</td>\n",
       "      <td>0</td>\n",
       "      <td>0</td>\n",
       "      <td>0</td>\n",
       "    </tr>\n",
       "    <tr>\n",
       "      <th>4</th>\n",
       "      <td>Brazil</td>\n",
       "      <td>2020-01-05</td>\n",
       "      <td>0</td>\n",
       "      <td>0</td>\n",
       "      <td>0</td>\n",
       "      <td>0</td>\n",
       "      <td>0</td>\n",
       "    </tr>\n",
       "    <tr>\n",
       "      <th>...</th>\n",
       "      <td>...</td>\n",
       "      <td>...</td>\n",
       "      <td>...</td>\n",
       "      <td>...</td>\n",
       "      <td>...</td>\n",
       "      <td>...</td>\n",
       "      <td>...</td>\n",
       "    </tr>\n",
       "    <tr>\n",
       "      <th>2405</th>\n",
       "      <td>United States</td>\n",
       "      <td>2020-10-21</td>\n",
       "      <td>3</td>\n",
       "      <td>2</td>\n",
       "      <td>2</td>\n",
       "      <td>2</td>\n",
       "      <td>4</td>\n",
       "    </tr>\n",
       "    <tr>\n",
       "      <th>2406</th>\n",
       "      <td>United States</td>\n",
       "      <td>2020-10-22</td>\n",
       "      <td>3</td>\n",
       "      <td>2</td>\n",
       "      <td>2</td>\n",
       "      <td>2</td>\n",
       "      <td>4</td>\n",
       "    </tr>\n",
       "    <tr>\n",
       "      <th>2407</th>\n",
       "      <td>United States</td>\n",
       "      <td>2020-10-23</td>\n",
       "      <td>3</td>\n",
       "      <td>2</td>\n",
       "      <td>2</td>\n",
       "      <td>2</td>\n",
       "      <td>4</td>\n",
       "    </tr>\n",
       "    <tr>\n",
       "      <th>2408</th>\n",
       "      <td>United States</td>\n",
       "      <td>2020-10-24</td>\n",
       "      <td>3</td>\n",
       "      <td>2</td>\n",
       "      <td>2</td>\n",
       "      <td>2</td>\n",
       "      <td>4</td>\n",
       "    </tr>\n",
       "    <tr>\n",
       "      <th>2409</th>\n",
       "      <td>United States</td>\n",
       "      <td>2020-10-25</td>\n",
       "      <td>3</td>\n",
       "      <td>2</td>\n",
       "      <td>2</td>\n",
       "      <td>2</td>\n",
       "      <td>4</td>\n",
       "    </tr>\n",
       "  </tbody>\n",
       "</table>\n",
       "<p>2410 rows × 7 columns</p>\n",
       "</div>"
      ],
      "text/plain": [
       "        CountryName       Date  C1_School_closing  C2_Workplace_closing  \\\n",
       "0            Brazil 2020-01-01                  0                     0   \n",
       "1            Brazil 2020-01-02                  0                     0   \n",
       "2            Brazil 2020-01-03                  0                     0   \n",
       "3            Brazil 2020-01-04                  0                     0   \n",
       "4            Brazil 2020-01-05                  0                     0   \n",
       "...             ...        ...                ...                   ...   \n",
       "2405  United States 2020-10-21                  3                     2   \n",
       "2406  United States 2020-10-22                  3                     2   \n",
       "2407  United States 2020-10-23                  3                     2   \n",
       "2408  United States 2020-10-24                  3                     2   \n",
       "2409  United States 2020-10-25                  3                     2   \n",
       "\n",
       "      C6_Stay_home_requirements  E1_Income_support  H6_Facial_coverings  \n",
       "0                             0                  0                    0  \n",
       "1                             0                  0                    0  \n",
       "2                             0                  0                    0  \n",
       "3                             0                  0                    0  \n",
       "4                             0                  0                    0  \n",
       "...                         ...                ...                  ...  \n",
       "2405                          2                  2                    4  \n",
       "2406                          2                  2                    4  \n",
       "2407                          2                  2                    4  \n",
       "2408                          2                  2                    4  \n",
       "2409                          2                  2                    4  \n",
       "\n",
       "[2410 rows x 7 columns]"
      ]
     },
     "execution_count": 6,
     "metadata": {},
     "output_type": "execute_result"
    }
   ],
   "source": [
    "info['Date'] = pd.to_datetime(info['Date'], format='%Y%m%d')\n",
    "info.dropna()"
   ]
  },
  {
   "cell_type": "code",
   "execution_count": 7,
   "metadata": {},
   "outputs": [
    {
     "data": {
      "text/html": [
       "<div>\n",
       "<style scoped>\n",
       "    .dataframe tbody tr th:only-of-type {\n",
       "        vertical-align: middle;\n",
       "    }\n",
       "\n",
       "    .dataframe tbody tr th {\n",
       "        vertical-align: top;\n",
       "    }\n",
       "\n",
       "    .dataframe thead th {\n",
       "        text-align: right;\n",
       "    }\n",
       "</style>\n",
       "<table border=\"1\" class=\"dataframe\">\n",
       "  <thead>\n",
       "    <tr style=\"text-align: right;\">\n",
       "      <th></th>\n",
       "      <th>count</th>\n",
       "      <th>mean</th>\n",
       "      <th>std</th>\n",
       "      <th>min</th>\n",
       "      <th>25%</th>\n",
       "      <th>50%</th>\n",
       "      <th>75%</th>\n",
       "      <th>max</th>\n",
       "    </tr>\n",
       "  </thead>\n",
       "  <tbody>\n",
       "    <tr>\n",
       "      <th>C1_School_closing</th>\n",
       "      <td>2410.0</td>\n",
       "      <td>1.697095</td>\n",
       "      <td>1.305365</td>\n",
       "      <td>0.0</td>\n",
       "      <td>0.0</td>\n",
       "      <td>2.0</td>\n",
       "      <td>3.0</td>\n",
       "      <td>3.0</td>\n",
       "    </tr>\n",
       "    <tr>\n",
       "      <th>C2_Workplace_closing</th>\n",
       "      <td>2410.0</td>\n",
       "      <td>1.480083</td>\n",
       "      <td>1.184784</td>\n",
       "      <td>0.0</td>\n",
       "      <td>0.0</td>\n",
       "      <td>2.0</td>\n",
       "      <td>3.0</td>\n",
       "      <td>3.0</td>\n",
       "    </tr>\n",
       "    <tr>\n",
       "      <th>C6_Stay_home_requirements</th>\n",
       "      <td>2410.0</td>\n",
       "      <td>0.966805</td>\n",
       "      <td>1.034351</td>\n",
       "      <td>0.0</td>\n",
       "      <td>0.0</td>\n",
       "      <td>1.0</td>\n",
       "      <td>2.0</td>\n",
       "      <td>3.0</td>\n",
       "    </tr>\n",
       "    <tr>\n",
       "      <th>E1_Income_support</th>\n",
       "      <td>2410.0</td>\n",
       "      <td>1.091701</td>\n",
       "      <td>0.803876</td>\n",
       "      <td>0.0</td>\n",
       "      <td>0.0</td>\n",
       "      <td>1.0</td>\n",
       "      <td>2.0</td>\n",
       "      <td>2.0</td>\n",
       "    </tr>\n",
       "    <tr>\n",
       "      <th>H6_Facial_coverings</th>\n",
       "      <td>2410.0</td>\n",
       "      <td>1.462241</td>\n",
       "      <td>1.609832</td>\n",
       "      <td>0.0</td>\n",
       "      <td>0.0</td>\n",
       "      <td>1.0</td>\n",
       "      <td>3.0</td>\n",
       "      <td>4.0</td>\n",
       "    </tr>\n",
       "  </tbody>\n",
       "</table>\n",
       "</div>"
      ],
      "text/plain": [
       "                            count      mean       std  min  25%  50%  75%  max\n",
       "C1_School_closing          2410.0  1.697095  1.305365  0.0  0.0  2.0  3.0  3.0\n",
       "C2_Workplace_closing       2410.0  1.480083  1.184784  0.0  0.0  2.0  3.0  3.0\n",
       "C6_Stay_home_requirements  2410.0  0.966805  1.034351  0.0  0.0  1.0  2.0  3.0\n",
       "E1_Income_support          2410.0  1.091701  0.803876  0.0  0.0  1.0  2.0  2.0\n",
       "H6_Facial_coverings        2410.0  1.462241  1.609832  0.0  0.0  1.0  3.0  4.0"
      ]
     },
     "execution_count": 7,
     "metadata": {},
     "output_type": "execute_result"
    }
   ],
   "source": [
    "#transpose the .describe  so I can run mean on 50% column to find what countries issued relaxed mandates and which had strict mandates\n",
    "info.describe().T"
   ]
  },
  {
   "cell_type": "code",
   "execution_count": 8,
   "metadata": {
    "scrolled": false
   },
   "outputs": [
    {
     "data": {
      "text/plain": [
       "1.4"
      ]
     },
     "execution_count": 8,
     "metadata": {},
     "output_type": "execute_result"
    }
   ],
   "source": [
    "#everything below 1.4 is relaxed mandate country. everything above is strict country\n",
    "info_mean = info.describe().T['50%'].mean()\n",
    "info_mean"
   ]
  },
  {
   "cell_type": "code",
   "execution_count": 9,
   "metadata": {},
   "outputs": [
    {
     "data": {
      "text/html": [
       "<div>\n",
       "<style scoped>\n",
       "    .dataframe tbody tr th:only-of-type {\n",
       "        vertical-align: middle;\n",
       "    }\n",
       "\n",
       "    .dataframe tbody tr th {\n",
       "        vertical-align: top;\n",
       "    }\n",
       "\n",
       "    .dataframe thead th {\n",
       "        text-align: right;\n",
       "    }\n",
       "</style>\n",
       "<table border=\"1\" class=\"dataframe\">\n",
       "  <thead>\n",
       "    <tr style=\"text-align: right;\">\n",
       "      <th></th>\n",
       "      <th>Brazil School</th>\n",
       "      <th>Brazil Work</th>\n",
       "      <th>Brazil Home</th>\n",
       "      <th>Brazil Support</th>\n",
       "      <th>Brazil Face Cover</th>\n",
       "    </tr>\n",
       "  </thead>\n",
       "  <tbody>\n",
       "    <tr>\n",
       "      <th>Country</th>\n",
       "      <td>2.294702</td>\n",
       "      <td>2.082781</td>\n",
       "      <td>1.370861</td>\n",
       "      <td>0.695364</td>\n",
       "      <td>2.860927</td>\n",
       "    </tr>\n",
       "  </tbody>\n",
       "</table>\n",
       "</div>"
      ],
      "text/plain": [
       "         Brazil School  Brazil Work  Brazil Home  Brazil Support  \\\n",
       "Country       2.294702     2.082781     1.370861        0.695364   \n",
       "\n",
       "         Brazil Face Cover  \n",
       "Country           2.860927  "
      ]
     },
     "execution_count": 9,
     "metadata": {},
     "output_type": "execute_result"
    }
   ],
   "source": [
    "#brazil country by itself with total mean labeled as brazil total and insight summary df for looking to see if there is any further insights to explore\n",
    "brazil = info.loc[info['CountryName']=='Brazil']\n",
    "brazil_mean = brazil.mean()\n",
    "brazil_mean\n",
    "brazil_sum = brazil_mean.sum()\n",
    "brazil_sum\n",
    "brazil_total = (brazil_sum/5)\n",
    "\n",
    "brazil_total\n",
    "\n",
    "brazil_school=brazil['C1_School_closing'].mean()\n",
    "brazil_work=brazil['C2_Workplace_closing'].mean()\n",
    "brazil_home=brazil['C6_Stay_home_requirements'].mean()\n",
    "brazil_sup = brazil['E1_Income_support'].mean()\n",
    "brazil_cover = brazil['H6_Facial_coverings'].mean()\n",
    "\n",
    "brazil_sum = {'Brazil School':[brazil_school],'Brazil Work':[brazil_work],\n",
    "          'Brazil Home':[brazil_home],'Brazil Support':[brazil_sup],\n",
    "           'Brazil Face Cover':[brazil_cover]}\n",
    "\n",
    "brazil_df = pd.DataFrame(index=['Country'],data=brazil_sum)\n",
    "brazil_df"
   ]
  },
  {
   "cell_type": "code",
   "execution_count": 10,
   "metadata": {},
   "outputs": [
    {
     "data": {
      "text/html": [
       "<div>\n",
       "<style scoped>\n",
       "    .dataframe tbody tr th:only-of-type {\n",
       "        vertical-align: middle;\n",
       "    }\n",
       "\n",
       "    .dataframe tbody tr th {\n",
       "        vertical-align: top;\n",
       "    }\n",
       "\n",
       "    .dataframe thead th {\n",
       "        text-align: right;\n",
       "    }\n",
       "</style>\n",
       "<table border=\"1\" class=\"dataframe\">\n",
       "  <thead>\n",
       "    <tr style=\"text-align: right;\">\n",
       "      <th></th>\n",
       "      <th>China School</th>\n",
       "      <th>China Work</th>\n",
       "      <th>China Home</th>\n",
       "      <th>China Support</th>\n",
       "      <th>China Face Cover</th>\n",
       "    </tr>\n",
       "  </thead>\n",
       "  <tbody>\n",
       "    <tr>\n",
       "      <th>Country</th>\n",
       "      <td>2.257426</td>\n",
       "      <td>2.521452</td>\n",
       "      <td>2.353135</td>\n",
       "      <td>0.666667</td>\n",
       "      <td>2.178218</td>\n",
       "    </tr>\n",
       "  </tbody>\n",
       "</table>\n",
       "</div>"
      ],
      "text/plain": [
       "         China School  China Work  China Home  China Support  China Face Cover\n",
       "Country      2.257426    2.521452    2.353135       0.666667          2.178218"
      ]
     },
     "execution_count": 10,
     "metadata": {},
     "output_type": "execute_result"
    }
   ],
   "source": [
    "#china country by itself with total mean labeled as china total and insight summary df for looking to see if there is any further insights to explore\n",
    "china = info.loc[info['CountryName']=='China']\n",
    "china_mean = china.mean()\n",
    "china_mean\n",
    "china_sum = china_mean.sum()\n",
    "china_sum\n",
    "china_total = (china_sum/5)\n",
    "\n",
    "china_total\n",
    "\n",
    "china_school=china['C1_School_closing'].mean()\n",
    "china_work=china['C2_Workplace_closing'].mean()\n",
    "china_home=china['C6_Stay_home_requirements'].mean()\n",
    "china_sup = china['E1_Income_support'].mean()\n",
    "china_cover = china['H6_Facial_coverings'].mean()\n",
    "\n",
    "china_sum = {'China School':[china_school],'China Work':[china_work],\n",
    "          'China Home':[china_home],'China Support':[china_sup],\n",
    "           'China Face Cover':[china_cover]}\n",
    "\n",
    "china_df = pd.DataFrame(index=['Country'],data=china_sum)\n",
    "china_df"
   ]
  },
  {
   "cell_type": "code",
   "execution_count": 11,
   "metadata": {},
   "outputs": [
    {
     "data": {
      "text/html": [
       "<div>\n",
       "<style scoped>\n",
       "    .dataframe tbody tr th:only-of-type {\n",
       "        vertical-align: middle;\n",
       "    }\n",
       "\n",
       "    .dataframe tbody tr th {\n",
       "        vertical-align: top;\n",
       "    }\n",
       "\n",
       "    .dataframe thead th {\n",
       "        text-align: right;\n",
       "    }\n",
       "</style>\n",
       "<table border=\"1\" class=\"dataframe\">\n",
       "  <thead>\n",
       "    <tr style=\"text-align: right;\">\n",
       "      <th></th>\n",
       "      <th>Uk School</th>\n",
       "      <th>Uk Work</th>\n",
       "      <th>Uk Home</th>\n",
       "      <th>UK Support</th>\n",
       "      <th>Uk Face Cover</th>\n",
       "    </tr>\n",
       "  </thead>\n",
       "  <tbody>\n",
       "    <tr>\n",
       "      <th>Country</th>\n",
       "      <td>1.875817</td>\n",
       "      <td>1.683007</td>\n",
       "      <td>0.970588</td>\n",
       "      <td>1.48366</td>\n",
       "      <td>0.480392</td>\n",
       "    </tr>\n",
       "  </tbody>\n",
       "</table>\n",
       "</div>"
      ],
      "text/plain": [
       "         Uk School   Uk Work   Uk Home  UK Support  Uk Face Cover\n",
       "Country   1.875817  1.683007  0.970588     1.48366       0.480392"
      ]
     },
     "execution_count": 11,
     "metadata": {},
     "output_type": "execute_result"
    }
   ],
   "source": [
    "#uk country by itself with total mean labeled as uk total and insight summary df for looking to see if there is any further insights to explore\n",
    "uk = info.loc[info['CountryName']=='United Kingdom']\n",
    "uk_mean = uk.mean()\n",
    "uk_mean\n",
    "uk_sum = uk_mean.sum()\n",
    "uk_sum\n",
    "uk_total = (uk_sum/5)\n",
    "\n",
    "uk_total\n",
    "\n",
    "uk_school=uk['C1_School_closing'].mean()\n",
    "uk_work=uk['C2_Workplace_closing'].mean()\n",
    "uk_home=uk['C6_Stay_home_requirements'].mean()\n",
    "uk_sup = uk['E1_Income_support'].mean()\n",
    "uk_cover = uk['H6_Facial_coverings'].mean()\n",
    "\n",
    "uk_sum = {'Uk School':[uk_school],'Uk Work':[uk_work],\n",
    "          'Uk Home':[uk_home],'UK Support':[uk_sup],\n",
    "           'Uk Face Cover':[uk_cover]}\n",
    "\n",
    "uk_df = pd.DataFrame(index=['Country'],data=uk_sum)\n",
    "uk_df"
   ]
  },
  {
   "cell_type": "code",
   "execution_count": 12,
   "metadata": {},
   "outputs": [
    {
     "data": {
      "text/html": [
       "<div>\n",
       "<style scoped>\n",
       "    .dataframe tbody tr th:only-of-type {\n",
       "        vertical-align: middle;\n",
       "    }\n",
       "\n",
       "    .dataframe tbody tr th {\n",
       "        vertical-align: top;\n",
       "    }\n",
       "\n",
       "    .dataframe thead th {\n",
       "        text-align: right;\n",
       "    }\n",
       "</style>\n",
       "<table border=\"1\" class=\"dataframe\">\n",
       "  <thead>\n",
       "    <tr style=\"text-align: right;\">\n",
       "      <th></th>\n",
       "      <th>Italy School</th>\n",
       "      <th>Italy Work</th>\n",
       "      <th>Italy Home</th>\n",
       "      <th>Italy Support</th>\n",
       "      <th>Italy Face Cover</th>\n",
       "    </tr>\n",
       "  </thead>\n",
       "  <tbody>\n",
       "    <tr>\n",
       "      <th>Country</th>\n",
       "      <td>2.199324</td>\n",
       "      <td>1.780405</td>\n",
       "      <td>0.834459</td>\n",
       "      <td>0.743243</td>\n",
       "      <td>2.672297</td>\n",
       "    </tr>\n",
       "  </tbody>\n",
       "</table>\n",
       "</div>"
      ],
      "text/plain": [
       "         Italy School  Italy Work  Italy Home  Italy Support  Italy Face Cover\n",
       "Country      2.199324    1.780405    0.834459       0.743243          2.672297"
      ]
     },
     "execution_count": 12,
     "metadata": {},
     "output_type": "execute_result"
    }
   ],
   "source": [
    "#itlay country by itself with total mean labeled as italy total and insight summary df for looking to see if there is any further insights to explore\n",
    "italy = info.loc[info['CountryName']=='Italy']\n",
    "italy_mean = italy.mean()\n",
    "italy_mean\n",
    "italy_sum = italy_mean.sum()\n",
    "italy_sum\n",
    "italy_total = (italy_sum/5)\n",
    "\n",
    "italy_total\n",
    "\n",
    "italy_school=italy['C1_School_closing'].mean()\n",
    "italy_work=italy['C2_Workplace_closing'].mean()\n",
    "italy_home=italy['C6_Stay_home_requirements'].mean()\n",
    "italy_sup = italy['E1_Income_support'].mean()\n",
    "italy_cover = italy['H6_Facial_coverings'].mean()\n",
    "\n",
    "italy_sum = {'Italy School':[italy_school],'Italy Work':[italy_work],\n",
    "           'Italy Home':[italy_home],'Italy Support':[italy_sup],\n",
    "           'Italy Face Cover':[italy_cover]}\n",
    "\n",
    "italy_df = pd.DataFrame(index=['Country'],data=italy_sum)\n",
    "italy_df"
   ]
  },
  {
   "cell_type": "code",
   "execution_count": 13,
   "metadata": {},
   "outputs": [
    {
     "data": {
      "text/html": [
       "<div>\n",
       "<style scoped>\n",
       "    .dataframe tbody tr th:only-of-type {\n",
       "        vertical-align: middle;\n",
       "    }\n",
       "\n",
       "    .dataframe tbody tr th {\n",
       "        vertical-align: top;\n",
       "    }\n",
       "\n",
       "    .dataframe thead th {\n",
       "        text-align: right;\n",
       "    }\n",
       "</style>\n",
       "<table border=\"1\" class=\"dataframe\">\n",
       "  <thead>\n",
       "    <tr style=\"text-align: right;\">\n",
       "      <th></th>\n",
       "      <th>Japan School</th>\n",
       "      <th>Japan Work</th>\n",
       "      <th>Japan Home</th>\n",
       "      <th>Japan Support</th>\n",
       "      <th>Japan Face Cover</th>\n",
       "    </tr>\n",
       "  </thead>\n",
       "  <tbody>\n",
       "    <tr>\n",
       "      <th>Country</th>\n",
       "      <td>1.394137</td>\n",
       "      <td>0.618893</td>\n",
       "      <td>0.491857</td>\n",
       "      <td>0.654723</td>\n",
       "      <td>0.80456</td>\n",
       "    </tr>\n",
       "  </tbody>\n",
       "</table>\n",
       "</div>"
      ],
      "text/plain": [
       "         Japan School  Japan Work  Japan Home  Japan Support  Japan Face Cover\n",
       "Country      1.394137    0.618893    0.491857       0.654723           0.80456"
      ]
     },
     "execution_count": 13,
     "metadata": {},
     "output_type": "execute_result"
    }
   ],
   "source": [
    "#japan country by itself with total mean labeled as japan total and insight summary df for looking to see if there is any further insights to explore\n",
    "japan = info.loc[info['CountryName']=='Japan']\n",
    "japan_mean = japan.mean()\n",
    "japan_mean\n",
    "japan_sum = japan_mean.sum()\n",
    "japan_sum\n",
    "japan_total = (japan_sum/5)\n",
    "\n",
    "japan_total\n",
    "\n",
    "japan_school=japan['C1_School_closing'].mean()\n",
    "japan_work=japan['C2_Workplace_closing'].mean()\n",
    "japan_home=japan['C6_Stay_home_requirements'].mean()\n",
    "japan_sup = japan['E1_Income_support'].mean()\n",
    "japan_cover = japan['H6_Facial_coverings'].mean()\n",
    "\n",
    "japan_sum = {'Japan School':[japan_school],'Japan Work':[japan_work],\n",
    "           'Japan Home':[japan_home],'Japan Support':[japan_sup],\n",
    "           'Japan Face Cover':[japan_cover]}\n",
    "\n",
    "japan_df = pd.DataFrame(index=['Country'],data=japan_sum)\n",
    "japan_df"
   ]
  },
  {
   "cell_type": "code",
   "execution_count": 14,
   "metadata": {},
   "outputs": [
    {
     "data": {
      "text/html": [
       "<div>\n",
       "<style scoped>\n",
       "    .dataframe tbody tr th:only-of-type {\n",
       "        vertical-align: middle;\n",
       "    }\n",
       "\n",
       "    .dataframe tbody tr th {\n",
       "        vertical-align: top;\n",
       "    }\n",
       "\n",
       "    .dataframe thead th {\n",
       "        text-align: right;\n",
       "    }\n",
       "</style>\n",
       "<table border=\"1\" class=\"dataframe\">\n",
       "  <thead>\n",
       "    <tr style=\"text-align: right;\">\n",
       "      <th></th>\n",
       "      <th>NZ School</th>\n",
       "      <th>NZ Work</th>\n",
       "      <th>NZ Home</th>\n",
       "      <th>NZ Support</th>\n",
       "      <th>NZ Face Cover</th>\n",
       "    </tr>\n",
       "  </thead>\n",
       "  <tbody>\n",
       "    <tr>\n",
       "      <th>Country</th>\n",
       "      <td>0.750842</td>\n",
       "      <td>0.6633</td>\n",
       "      <td>0.484848</td>\n",
       "      <td>1.542088</td>\n",
       "      <td>0.40404</td>\n",
       "    </tr>\n",
       "  </tbody>\n",
       "</table>\n",
       "</div>"
      ],
      "text/plain": [
       "         NZ School  NZ Work   NZ Home  NZ Support  NZ Face Cover\n",
       "Country   0.750842   0.6633  0.484848    1.542088        0.40404"
      ]
     },
     "execution_count": 14,
     "metadata": {},
     "output_type": "execute_result"
    }
   ],
   "source": [
    "#New Zealand country by itself with total mean labeled as New Zealand total and insight summary df for looking to see if there is any further insights to explore\n",
    "nz = info.loc[info['CountryName']=='New Zealand']\n",
    "nz_mean = nz.mean()\n",
    "nz_mean\n",
    "nz_sum = nz_mean.sum()\n",
    "nz_sum\n",
    "nz_total = (nz_sum/5)\n",
    "\n",
    "nz_total\n",
    "\n",
    "nz_school=nz['C1_School_closing'].mean()\n",
    "nz_work=nz['C2_Workplace_closing'].mean()\n",
    "nz_home=nz['C6_Stay_home_requirements'].mean()\n",
    "nz_sup = nz['E1_Income_support'].mean()\n",
    "nz_cover = nz['H6_Facial_coverings'].mean()\n",
    "\n",
    "nz_sum = {'NZ School':[nz_school],'NZ Work':[nz_work],\n",
    "           'NZ Home':[nz_home],'NZ Support':[nz_sup],\n",
    "           'NZ Face Cover':[nz_cover]}\n",
    "\n",
    "nz_df = pd.DataFrame(index=['Country'],data=nz_sum)\n",
    "nz_df"
   ]
  },
  {
   "cell_type": "code",
   "execution_count": 15,
   "metadata": {},
   "outputs": [
    {
     "data": {
      "text/html": [
       "<div>\n",
       "<style scoped>\n",
       "    .dataframe tbody tr th:only-of-type {\n",
       "        vertical-align: middle;\n",
       "    }\n",
       "\n",
       "    .dataframe tbody tr th {\n",
       "        vertical-align: top;\n",
       "    }\n",
       "\n",
       "    .dataframe thead th {\n",
       "        text-align: right;\n",
       "    }\n",
       "</style>\n",
       "<table border=\"1\" class=\"dataframe\">\n",
       "  <thead>\n",
       "    <tr style=\"text-align: right;\">\n",
       "      <th></th>\n",
       "      <th>Sweden School</th>\n",
       "      <th>Sweden Work</th>\n",
       "      <th>Sweden Home</th>\n",
       "      <th>Sweden Support</th>\n",
       "      <th>Sweden Face Cover</th>\n",
       "    </tr>\n",
       "  </thead>\n",
       "  <tbody>\n",
       "    <tr>\n",
       "      <th>Country</th>\n",
       "      <td>0.448505</td>\n",
       "      <td>0.72093</td>\n",
       "      <td>0.0</td>\n",
       "      <td>1.534884</td>\n",
       "      <td>0.0</td>\n",
       "    </tr>\n",
       "  </tbody>\n",
       "</table>\n",
       "</div>"
      ],
      "text/plain": [
       "         Sweden School  Sweden Work  Sweden Home  Sweden Support  \\\n",
       "Country       0.448505      0.72093          0.0        1.534884   \n",
       "\n",
       "         Sweden Face Cover  \n",
       "Country                0.0  "
      ]
     },
     "execution_count": 15,
     "metadata": {},
     "output_type": "execute_result"
    }
   ],
   "source": [
    "#sweden country by itself with total mean labeled as sweden total and insight summary df for looking to see if there is any further insights to explore\n",
    "meatball = info.loc[info['CountryName']=='Sweden']\n",
    "\n",
    "meatball_mean = meatball.mean()\n",
    "meatball_mean\n",
    "meatball_sum = meatball_mean.sum()\n",
    "meatball_sum\n",
    "meatball_total = (meatball_sum/5)\n",
    "\n",
    "meatball_total\n",
    "\n",
    "meatball_school=meatball['C1_School_closing'].mean()\n",
    "meatball_work=meatball['C2_Workplace_closing'].mean()\n",
    "meatball_home=meatball['C6_Stay_home_requirements'].mean()\n",
    "meatball_sup = meatball['E1_Income_support'].mean()\n",
    "meatball_cover = meatball['H6_Facial_coverings'].mean()\n",
    "\n",
    "meat_sum = {'Sweden School':[meatball_school],'Sweden Work':[meatball_work],\n",
    "           'Sweden Home':[meatball_home],'Sweden Support':[meatball_sup],\n",
    "           'Sweden Face Cover':[meatball_cover]}\n",
    "\n",
    "meatball_df = pd.DataFrame(index=['Country'],data=meat_sum)\n",
    "meatball_df"
   ]
  },
  {
   "cell_type": "code",
   "execution_count": 16,
   "metadata": {},
   "outputs": [
    {
     "data": {
      "text/html": [
       "<div>\n",
       "<style scoped>\n",
       "    .dataframe tbody tr th:only-of-type {\n",
       "        vertical-align: middle;\n",
       "    }\n",
       "\n",
       "    .dataframe tbody tr th {\n",
       "        vertical-align: top;\n",
       "    }\n",
       "\n",
       "    .dataframe thead th {\n",
       "        text-align: right;\n",
       "    }\n",
       "</style>\n",
       "<table border=\"1\" class=\"dataframe\">\n",
       "  <thead>\n",
       "    <tr style=\"text-align: right;\">\n",
       "      <th></th>\n",
       "      <th>US School</th>\n",
       "      <th>US Work</th>\n",
       "      <th>US Home</th>\n",
       "      <th>US Support</th>\n",
       "      <th>US Face Cover</th>\n",
       "    </tr>\n",
       "  </thead>\n",
       "  <tbody>\n",
       "    <tr>\n",
       "      <th>Country</th>\n",
       "      <td>2.355705</td>\n",
       "      <td>1.771812</td>\n",
       "      <td>1.221477</td>\n",
       "      <td>1.422819</td>\n",
       "      <td>2.332215</td>\n",
       "    </tr>\n",
       "  </tbody>\n",
       "</table>\n",
       "</div>"
      ],
      "text/plain": [
       "         US School   US Work   US Home  US Support  US Face Cover\n",
       "Country   2.355705  1.771812  1.221477    1.422819       2.332215"
      ]
     },
     "execution_count": 16,
     "metadata": {},
     "output_type": "execute_result"
    }
   ],
   "source": [
    "#united states country by itself with total mean labeled as united states total and insight summary df for looking to see if there is any further insights to explore\n",
    "us = info.loc[info['CountryName']=='United States']\n",
    "us\n",
    "\n",
    "us_mean = us.mean()\n",
    "us_mean\n",
    "us_sum = us_mean.sum()\n",
    "us_sum\n",
    "us_total = (us_sum/5)\n",
    "\n",
    "us_total\n",
    "#another way to see the five numbers before the total of us total is found\n",
    "us_school=us['C1_School_closing'].mean()\n",
    "us_work=us['C2_Workplace_closing'].mean()\n",
    "us_home=us['C6_Stay_home_requirements'].mean()\n",
    "us_sup = us['E1_Income_support'].mean()\n",
    "us_cover = us['H6_Facial_coverings'].mean()\n",
    "\n",
    "us_sum = {'US School':[us_school],'US Work':[us_work],\n",
    "           'US Home':[us_home],'US Support':[us_sup],\n",
    "           'US Face Cover':[us_cover]}\n",
    "\n",
    "us_df = pd.DataFrame(index=['Country'],data=us_sum)\n",
    "us_df"
   ]
  },
  {
   "cell_type": "code",
   "execution_count": 17,
   "metadata": {},
   "outputs": [
    {
     "data": {
      "text/html": [
       "<div>\n",
       "<style scoped>\n",
       "    .dataframe tbody tr th:only-of-type {\n",
       "        vertical-align: middle;\n",
       "    }\n",
       "\n",
       "    .dataframe tbody tr th {\n",
       "        vertical-align: top;\n",
       "    }\n",
       "\n",
       "    .dataframe thead th {\n",
       "        text-align: right;\n",
       "    }\n",
       "</style>\n",
       "<table border=\"1\" class=\"dataframe\">\n",
       "  <thead>\n",
       "    <tr style=\"text-align: right;\">\n",
       "      <th></th>\n",
       "      <th>Country</th>\n",
       "      <th>Average Mandate</th>\n",
       "    </tr>\n",
       "  </thead>\n",
       "  <tbody>\n",
       "    <tr>\n",
       "      <th>0</th>\n",
       "      <td>China</td>\n",
       "      <td>1.995380</td>\n",
       "    </tr>\n",
       "    <tr>\n",
       "      <th>1</th>\n",
       "      <td>Brazil</td>\n",
       "      <td>1.860927</td>\n",
       "    </tr>\n",
       "    <tr>\n",
       "      <th>2</th>\n",
       "      <td>United States</td>\n",
       "      <td>1.820805</td>\n",
       "    </tr>\n",
       "    <tr>\n",
       "      <th>3</th>\n",
       "      <td>Italy</td>\n",
       "      <td>1.645946</td>\n",
       "    </tr>\n",
       "    <tr>\n",
       "      <th>4</th>\n",
       "      <td>United Kingdom</td>\n",
       "      <td>1.298693</td>\n",
       "    </tr>\n",
       "    <tr>\n",
       "      <th>5</th>\n",
       "      <td>Japan</td>\n",
       "      <td>0.792834</td>\n",
       "    </tr>\n",
       "    <tr>\n",
       "      <th>6</th>\n",
       "      <td>New Zealand</td>\n",
       "      <td>0.769024</td>\n",
       "    </tr>\n",
       "    <tr>\n",
       "      <th>7</th>\n",
       "      <td>Sweden</td>\n",
       "      <td>0.540864</td>\n",
       "    </tr>\n",
       "  </tbody>\n",
       "</table>\n",
       "</div>"
      ],
      "text/plain": [
       "          Country  Average Mandate\n",
       "0           China         1.995380\n",
       "1          Brazil         1.860927\n",
       "2   United States         1.820805\n",
       "3           Italy         1.645946\n",
       "4  United Kingdom         1.298693\n",
       "5           Japan         0.792834\n",
       "6     New Zealand         0.769024\n",
       "7          Sweden         0.540864"
      ]
     },
     "execution_count": 17,
     "metadata": {},
     "output_type": "execute_result"
    }
   ],
   "source": [
    "#summary df with country and average mandate\n",
    "total = {'Country':['China','Brazil','United States','Italy','United Kingdom'\n",
    "                   ,'Japan','New Zealand','Sweden'],\n",
    "         'Average Mandate':[china_total, brazil_total, us_total, italy_total,\n",
    "                           uk_total,japan_total, nz_total, meatball_total]}\n",
    "\n",
    "\n",
    "sum_df = pd.DataFrame(total)\n",
    "\n",
    "sum_df"
   ]
  },
  {
   "cell_type": "code",
   "execution_count": 18,
   "metadata": {},
   "outputs": [
    {
     "data": {
      "text/html": [
       "<div>\n",
       "<style scoped>\n",
       "    .dataframe tbody tr th:only-of-type {\n",
       "        vertical-align: middle;\n",
       "    }\n",
       "\n",
       "    .dataframe tbody tr th {\n",
       "        vertical-align: top;\n",
       "    }\n",
       "\n",
       "    .dataframe thead th {\n",
       "        text-align: right;\n",
       "    }\n",
       "</style>\n",
       "<table border=\"1\" class=\"dataframe\">\n",
       "  <thead>\n",
       "    <tr style=\"text-align: right;\">\n",
       "      <th></th>\n",
       "      <th>Country</th>\n",
       "      <th>Average Mandate</th>\n",
       "    </tr>\n",
       "  </thead>\n",
       "  <tbody>\n",
       "    <tr>\n",
       "      <th>0</th>\n",
       "      <td>China</td>\n",
       "      <td>1.995380</td>\n",
       "    </tr>\n",
       "    <tr>\n",
       "      <th>1</th>\n",
       "      <td>Brazil</td>\n",
       "      <td>1.860927</td>\n",
       "    </tr>\n",
       "    <tr>\n",
       "      <th>2</th>\n",
       "      <td>United States</td>\n",
       "      <td>1.820805</td>\n",
       "    </tr>\n",
       "    <tr>\n",
       "      <th>3</th>\n",
       "      <td>Italy</td>\n",
       "      <td>1.645946</td>\n",
       "    </tr>\n",
       "  </tbody>\n",
       "</table>\n",
       "</div>"
      ],
      "text/plain": [
       "         Country  Average Mandate\n",
       "0          China         1.995380\n",
       "1         Brazil         1.860927\n",
       "2  United States         1.820805\n",
       "3          Italy         1.645946"
      ]
     },
     "execution_count": 18,
     "metadata": {},
     "output_type": "execute_result"
    }
   ],
   "source": [
    "#1.4 was the mean of the 50% column above on .describe(), making the df below the Strict countries\n",
    "strict_df = sum_df.loc[sum_df['Average Mandate']>=1.4]\n",
    "strict_df"
   ]
  },
  {
   "cell_type": "code",
   "execution_count": 19,
   "metadata": {},
   "outputs": [
    {
     "data": {
      "text/html": [
       "<div>\n",
       "<style scoped>\n",
       "    .dataframe tbody tr th:only-of-type {\n",
       "        vertical-align: middle;\n",
       "    }\n",
       "\n",
       "    .dataframe tbody tr th {\n",
       "        vertical-align: top;\n",
       "    }\n",
       "\n",
       "    .dataframe thead th {\n",
       "        text-align: right;\n",
       "    }\n",
       "</style>\n",
       "<table border=\"1\" class=\"dataframe\">\n",
       "  <thead>\n",
       "    <tr style=\"text-align: right;\">\n",
       "      <th></th>\n",
       "      <th>Country</th>\n",
       "      <th>Average Mandate</th>\n",
       "    </tr>\n",
       "  </thead>\n",
       "  <tbody>\n",
       "    <tr>\n",
       "      <th>4</th>\n",
       "      <td>United Kingdom</td>\n",
       "      <td>1.298693</td>\n",
       "    </tr>\n",
       "    <tr>\n",
       "      <th>5</th>\n",
       "      <td>Japan</td>\n",
       "      <td>0.792834</td>\n",
       "    </tr>\n",
       "    <tr>\n",
       "      <th>6</th>\n",
       "      <td>New Zealand</td>\n",
       "      <td>0.769024</td>\n",
       "    </tr>\n",
       "    <tr>\n",
       "      <th>7</th>\n",
       "      <td>Sweden</td>\n",
       "      <td>0.540864</td>\n",
       "    </tr>\n",
       "  </tbody>\n",
       "</table>\n",
       "</div>"
      ],
      "text/plain": [
       "          Country  Average Mandate\n",
       "4  United Kingdom         1.298693\n",
       "5           Japan         0.792834\n",
       "6     New Zealand         0.769024\n",
       "7          Sweden         0.540864"
      ]
     },
     "execution_count": 19,
     "metadata": {},
     "output_type": "execute_result"
    }
   ],
   "source": [
    "##1.4 was the mean of the 50% column above on .describe(), making the df below the relax countries\n",
    "lax_df = sum_df.loc[sum_df['Average Mandate']<=1.4]\n",
    "lax_df"
   ]
  },
  {
   "cell_type": "code",
   "execution_count": 20,
   "metadata": {},
   "outputs": [
    {
     "data": {
      "text/plain": [
       "5439641.0"
      ]
     },
     "execution_count": 20,
     "metadata": {},
     "output_type": "execute_result"
    }
   ],
   "source": [
    "#brazil max number of cases\n",
    "brazil= data.loc[data['CountryName']=='Brazil']\n",
    "brazil_max = brazil['ConfirmedCases'].max()\n",
    "brazil_max"
   ]
  },
  {
   "cell_type": "code",
   "execution_count": 21,
   "metadata": {},
   "outputs": [
    {
     "data": {
      "text/plain": [
       "91241.0"
      ]
     },
     "execution_count": 21,
     "metadata": {},
     "output_type": "execute_result"
    }
   ],
   "source": [
    "#china max number of cases\n",
    "china= data.loc[data['CountryName']=='China']\n",
    "china_max = china['ConfirmedCases'].max()\n",
    "china_max"
   ]
  },
  {
   "cell_type": "code",
   "execution_count": 22,
   "metadata": {},
   "outputs": [
    {
     "data": {
      "text/plain": [
       "8576725.0"
      ]
     },
     "execution_count": 22,
     "metadata": {},
     "output_type": "execute_result"
    }
   ],
   "source": [
    "#us max number of cases\n",
    "us= data.loc[data['CountryName']=='United States']\n",
    "us_max = us['ConfirmedCases'].max()\n",
    "us_max"
   ]
  },
  {
   "cell_type": "code",
   "execution_count": 23,
   "metadata": {},
   "outputs": [
    {
     "data": {
      "text/plain": [
       "449648.0"
      ]
     },
     "execution_count": 23,
     "metadata": {},
     "output_type": "execute_result"
    }
   ],
   "source": [
    "#italy max number of cases\n",
    "italy= data.loc[data['CountryName']=='Italy']\n",
    "italy_max = italy['ConfirmedCases'].max()\n",
    "italy_max"
   ]
  },
  {
   "cell_type": "code",
   "execution_count": 24,
   "metadata": {},
   "outputs": [
    {
     "data": {
      "text/plain": [
       "1034914.0"
      ]
     },
     "execution_count": 24,
     "metadata": {},
     "output_type": "execute_result"
    }
   ],
   "source": [
    "#uk max number of cases\n",
    "uk= data.loc[data['CountryName']=='United Kingdom']\n",
    "uk_max = uk['ConfirmedCases'].max()\n",
    "uk_max"
   ]
  },
  {
   "cell_type": "code",
   "execution_count": 25,
   "metadata": {},
   "outputs": [
    {
     "data": {
      "text/plain": [
       "101813.0"
      ]
     },
     "execution_count": 25,
     "metadata": {},
     "output_type": "execute_result"
    }
   ],
   "source": [
    "#japan max number of cases\n",
    "japan= data.loc[data['CountryName']=='Japan']\n",
    "japan_max = japan['ConfirmedCases'].max()\n",
    "japan_max"
   ]
  },
  {
   "cell_type": "code",
   "execution_count": 26,
   "metadata": {},
   "outputs": [
    {
     "data": {
      "text/plain": [
       "1603.0"
      ]
     },
     "execution_count": 26,
     "metadata": {},
     "output_type": "execute_result"
    }
   ],
   "source": [
    "#new zealand max number of cases\n",
    "nz= data.loc[data['CountryName']=='New Zealand']\n",
    "nz_max = nz['ConfirmedCases'].max()\n",
    "nz_max"
   ]
  },
  {
   "cell_type": "code",
   "execution_count": 27,
   "metadata": {},
   "outputs": [
    {
     "data": {
      "text/plain": [
       "115927.0"
      ]
     },
     "execution_count": 27,
     "metadata": {},
     "output_type": "execute_result"
    }
   ],
   "source": [
    "#sweden max number of cases\n",
    "meatball= data.loc[data['CountryName']=='Sweden']\n",
    "meatball_max = meatball['ConfirmedCases'].max()\n",
    "meatball_max"
   ]
  },
  {
   "cell_type": "code",
   "execution_count": 28,
   "metadata": {},
   "outputs": [
    {
     "data": {
      "text/html": [
       "<div>\n",
       "<style scoped>\n",
       "    .dataframe tbody tr th:only-of-type {\n",
       "        vertical-align: middle;\n",
       "    }\n",
       "\n",
       "    .dataframe tbody tr th {\n",
       "        vertical-align: top;\n",
       "    }\n",
       "\n",
       "    .dataframe thead th {\n",
       "        text-align: right;\n",
       "    }\n",
       "</style>\n",
       "<table border=\"1\" class=\"dataframe\">\n",
       "  <thead>\n",
       "    <tr style=\"text-align: right;\">\n",
       "      <th></th>\n",
       "      <th>Country</th>\n",
       "      <th>Confirmed Cases</th>\n",
       "    </tr>\n",
       "  </thead>\n",
       "  <tbody>\n",
       "    <tr>\n",
       "      <th>0</th>\n",
       "      <td>China</td>\n",
       "      <td>91241.0</td>\n",
       "    </tr>\n",
       "    <tr>\n",
       "      <th>1</th>\n",
       "      <td>Brazil</td>\n",
       "      <td>5439641.0</td>\n",
       "    </tr>\n",
       "    <tr>\n",
       "      <th>2</th>\n",
       "      <td>United States</td>\n",
       "      <td>8576725.0</td>\n",
       "    </tr>\n",
       "    <tr>\n",
       "      <th>3</th>\n",
       "      <td>Italy</td>\n",
       "      <td>449648.0</td>\n",
       "    </tr>\n",
       "    <tr>\n",
       "      <th>4</th>\n",
       "      <td>United Kingdom</td>\n",
       "      <td>1034914.0</td>\n",
       "    </tr>\n",
       "    <tr>\n",
       "      <th>5</th>\n",
       "      <td>Japan</td>\n",
       "      <td>101813.0</td>\n",
       "    </tr>\n",
       "    <tr>\n",
       "      <th>6</th>\n",
       "      <td>New Zealand</td>\n",
       "      <td>1603.0</td>\n",
       "    </tr>\n",
       "    <tr>\n",
       "      <th>7</th>\n",
       "      <td>Sweden</td>\n",
       "      <td>115927.0</td>\n",
       "    </tr>\n",
       "  </tbody>\n",
       "</table>\n",
       "</div>"
      ],
      "text/plain": [
       "          Country  Confirmed Cases\n",
       "0           China          91241.0\n",
       "1          Brazil        5439641.0\n",
       "2   United States        8576725.0\n",
       "3           Italy         449648.0\n",
       "4  United Kingdom        1034914.0\n",
       "5           Japan         101813.0\n",
       "6     New Zealand           1603.0\n",
       "7          Sweden         115927.0"
      ]
     },
     "execution_count": 28,
     "metadata": {},
     "output_type": "execute_result"
    }
   ],
   "source": [
    "#summary df of country and total cases\n",
    "totals = {'Country':['China','Brazil','United States','Italy','United Kingdom'\n",
    "                   ,'Japan','New Zealand','Sweden'],\n",
    "         'Confirmed Cases':[china_max, brazil_max, us_max, italy_max,\n",
    "                           uk_max,japan_max, nz_max, meatball_max]}\n",
    "\n",
    "\n",
    "totals_df = pd.DataFrame(totals)\n",
    "\n",
    "totals_df"
   ]
  },
  {
   "cell_type": "code",
   "execution_count": 29,
   "metadata": {},
   "outputs": [
    {
     "data": {
      "text/html": [
       "<div>\n",
       "<style scoped>\n",
       "    .dataframe tbody tr th:only-of-type {\n",
       "        vertical-align: middle;\n",
       "    }\n",
       "\n",
       "    .dataframe tbody tr th {\n",
       "        vertical-align: top;\n",
       "    }\n",
       "\n",
       "    .dataframe thead th {\n",
       "        text-align: right;\n",
       "    }\n",
       "</style>\n",
       "<table border=\"1\" class=\"dataframe\">\n",
       "  <thead>\n",
       "    <tr style=\"text-align: right;\">\n",
       "      <th></th>\n",
       "      <th>Country</th>\n",
       "      <th>Confirmed Cases</th>\n",
       "    </tr>\n",
       "  </thead>\n",
       "  <tbody>\n",
       "    <tr>\n",
       "      <th>0</th>\n",
       "      <td>China</td>\n",
       "      <td>91241.0</td>\n",
       "    </tr>\n",
       "    <tr>\n",
       "      <th>1</th>\n",
       "      <td>Brazil</td>\n",
       "      <td>5439641.0</td>\n",
       "    </tr>\n",
       "    <tr>\n",
       "      <th>2</th>\n",
       "      <td>United States</td>\n",
       "      <td>8576725.0</td>\n",
       "    </tr>\n",
       "    <tr>\n",
       "      <th>3</th>\n",
       "      <td>Italy</td>\n",
       "      <td>449648.0</td>\n",
       "    </tr>\n",
       "  </tbody>\n",
       "</table>\n",
       "</div>"
      ],
      "text/plain": [
       "         Country  Confirmed Cases\n",
       "0          China          91241.0\n",
       "1         Brazil        5439641.0\n",
       "2  United States        8576725.0\n",
       "3          Italy         449648.0"
      ]
     },
     "execution_count": 29,
     "metadata": {},
     "output_type": "execute_result"
    }
   ],
   "source": [
    "#summary df with strict mandate country total confirmed cases\n",
    "strict_max = totals_df.loc[totals_df['Country'].isin(['China','Brazil','United States','Italy'])]\n",
    "strict_max"
   ]
  },
  {
   "cell_type": "code",
   "execution_count": 30,
   "metadata": {},
   "outputs": [
    {
     "data": {
      "text/html": [
       "<div>\n",
       "<style scoped>\n",
       "    .dataframe tbody tr th:only-of-type {\n",
       "        vertical-align: middle;\n",
       "    }\n",
       "\n",
       "    .dataframe tbody tr th {\n",
       "        vertical-align: top;\n",
       "    }\n",
       "\n",
       "    .dataframe thead th {\n",
       "        text-align: right;\n",
       "    }\n",
       "</style>\n",
       "<table border=\"1\" class=\"dataframe\">\n",
       "  <thead>\n",
       "    <tr style=\"text-align: right;\">\n",
       "      <th></th>\n",
       "      <th>Country</th>\n",
       "      <th>Confirmed Cases</th>\n",
       "    </tr>\n",
       "  </thead>\n",
       "  <tbody>\n",
       "    <tr>\n",
       "      <th>4</th>\n",
       "      <td>United Kingdom</td>\n",
       "      <td>1034914.0</td>\n",
       "    </tr>\n",
       "    <tr>\n",
       "      <th>5</th>\n",
       "      <td>Japan</td>\n",
       "      <td>101813.0</td>\n",
       "    </tr>\n",
       "    <tr>\n",
       "      <th>6</th>\n",
       "      <td>New Zealand</td>\n",
       "      <td>1603.0</td>\n",
       "    </tr>\n",
       "    <tr>\n",
       "      <th>7</th>\n",
       "      <td>Sweden</td>\n",
       "      <td>115927.0</td>\n",
       "    </tr>\n",
       "  </tbody>\n",
       "</table>\n",
       "</div>"
      ],
      "text/plain": [
       "          Country  Confirmed Cases\n",
       "4  United Kingdom        1034914.0\n",
       "5           Japan         101813.0\n",
       "6     New Zealand           1603.0\n",
       "7          Sweden         115927.0"
      ]
     },
     "execution_count": 30,
     "metadata": {},
     "output_type": "execute_result"
    }
   ],
   "source": [
    "#summary df with relaxed mandate country total confirmed cases\n",
    "lax_max = totals_df.loc[totals_df['Country'].isin(['United Kingdom','Japan','New Zealand','Sweden'])]\n",
    "lax_max"
   ]
  },
  {
   "cell_type": "code",
   "execution_count": 31,
   "metadata": {},
   "outputs": [
    {
     "data": {
      "text/plain": [
       "157946.0"
      ]
     },
     "execution_count": 31,
     "metadata": {},
     "output_type": "execute_result"
    }
   ],
   "source": [
    "#brazil max number of deaths\n",
    "brazil= data.loc[data['CountryName']=='Brazil']\n",
    "brazil_d = brazil['ConfirmedDeaths'].max()\n",
    "brazil_d"
   ]
  },
  {
   "cell_type": "code",
   "execution_count": 32,
   "metadata": {},
   "outputs": [
    {
     "data": {
      "text/plain": [
       "4739.0"
      ]
     },
     "execution_count": 32,
     "metadata": {},
     "output_type": "execute_result"
    }
   ],
   "source": [
    "#china max number of deaths\n",
    "china= data.loc[data['CountryName']=='China']\n",
    "china_d = china['ConfirmedDeaths'].max()\n",
    "china_d"
   ]
  },
  {
   "cell_type": "code",
   "execution_count": 33,
   "metadata": {},
   "outputs": [
    {
     "data": {
      "text/plain": [
       "224899.0"
      ]
     },
     "execution_count": 33,
     "metadata": {},
     "output_type": "execute_result"
    }
   ],
   "source": [
    "#US max number of deaths\n",
    "us= data.loc[data['CountryName']=='United States']\n",
    "us_d = us['ConfirmedDeaths'].max()\n",
    "us_d"
   ]
  },
  {
   "cell_type": "code",
   "execution_count": 34,
   "metadata": {},
   "outputs": [
    {
     "data": {
      "text/plain": [
       "36832.0"
      ]
     },
     "execution_count": 34,
     "metadata": {},
     "output_type": "execute_result"
    }
   ],
   "source": [
    "#italy max number of deaths\n",
    "italy= data.loc[data['CountryName']=='Italy']\n",
    "italy_d = italy['ConfirmedDeaths'].max()\n",
    "italy_d"
   ]
  },
  {
   "cell_type": "code",
   "execution_count": 35,
   "metadata": {},
   "outputs": [
    {
     "data": {
      "text/plain": [
       "46717.0"
      ]
     },
     "execution_count": 35,
     "metadata": {},
     "output_type": "execute_result"
    }
   ],
   "source": [
    "#uk max number of deaths\n",
    "uk= data.loc[data['CountryName']=='United Kingdom']\n",
    "uk_d = uk['ConfirmedDeaths'].max()\n",
    "uk_d"
   ]
  },
  {
   "cell_type": "code",
   "execution_count": 36,
   "metadata": {},
   "outputs": [
    {
     "data": {
      "text/plain": [
       "1774.0"
      ]
     },
     "execution_count": 36,
     "metadata": {},
     "output_type": "execute_result"
    }
   ],
   "source": [
    "#japan max number of deaths\n",
    "japan= data.loc[data['CountryName']=='Japan']\n",
    "japan_d = japan['ConfirmedDeaths'].max()\n",
    "japan_d"
   ]
  },
  {
   "cell_type": "code",
   "execution_count": 37,
   "metadata": {},
   "outputs": [
    {
     "data": {
      "text/plain": [
       "25.0"
      ]
     },
     "execution_count": 37,
     "metadata": {},
     "output_type": "execute_result"
    }
   ],
   "source": [
    "#new zealnd max number of deaths\n",
    "nz= data.loc[data['CountryName']=='New Zealand']\n",
    "nz_d = nz['ConfirmedDeaths'].max()\n",
    "nz_d"
   ]
  },
  {
   "cell_type": "code",
   "execution_count": 38,
   "metadata": {},
   "outputs": [
    {
     "data": {
      "text/plain": [
       "5936.0"
      ]
     },
     "execution_count": 38,
     "metadata": {},
     "output_type": "execute_result"
    }
   ],
   "source": [
    "#sweden max number of deaths\n",
    "meatball= data.loc[data['CountryName']=='Sweden']\n",
    "meatball_d = meatball['ConfirmedDeaths'].max()\n",
    "meatball_d"
   ]
  },
  {
   "cell_type": "code",
   "execution_count": 39,
   "metadata": {},
   "outputs": [
    {
     "data": {
      "text/html": [
       "<div>\n",
       "<style scoped>\n",
       "    .dataframe tbody tr th:only-of-type {\n",
       "        vertical-align: middle;\n",
       "    }\n",
       "\n",
       "    .dataframe tbody tr th {\n",
       "        vertical-align: top;\n",
       "    }\n",
       "\n",
       "    .dataframe thead th {\n",
       "        text-align: right;\n",
       "    }\n",
       "</style>\n",
       "<table border=\"1\" class=\"dataframe\">\n",
       "  <thead>\n",
       "    <tr style=\"text-align: right;\">\n",
       "      <th></th>\n",
       "      <th>Country</th>\n",
       "      <th>Confirmed Deaths</th>\n",
       "    </tr>\n",
       "  </thead>\n",
       "  <tbody>\n",
       "    <tr>\n",
       "      <th>0</th>\n",
       "      <td>China</td>\n",
       "      <td>4739.0</td>\n",
       "    </tr>\n",
       "    <tr>\n",
       "      <th>1</th>\n",
       "      <td>Brazil</td>\n",
       "      <td>157946.0</td>\n",
       "    </tr>\n",
       "    <tr>\n",
       "      <th>2</th>\n",
       "      <td>United States</td>\n",
       "      <td>224899.0</td>\n",
       "    </tr>\n",
       "    <tr>\n",
       "      <th>3</th>\n",
       "      <td>Italy</td>\n",
       "      <td>36832.0</td>\n",
       "    </tr>\n",
       "    <tr>\n",
       "      <th>4</th>\n",
       "      <td>United Kingdom</td>\n",
       "      <td>46717.0</td>\n",
       "    </tr>\n",
       "    <tr>\n",
       "      <th>5</th>\n",
       "      <td>Japan</td>\n",
       "      <td>1774.0</td>\n",
       "    </tr>\n",
       "    <tr>\n",
       "      <th>6</th>\n",
       "      <td>New Zealand</td>\n",
       "      <td>25.0</td>\n",
       "    </tr>\n",
       "    <tr>\n",
       "      <th>7</th>\n",
       "      <td>Sweden</td>\n",
       "      <td>5936.0</td>\n",
       "    </tr>\n",
       "  </tbody>\n",
       "</table>\n",
       "</div>"
      ],
      "text/plain": [
       "          Country  Confirmed Deaths\n",
       "0           China            4739.0\n",
       "1          Brazil          157946.0\n",
       "2   United States          224899.0\n",
       "3           Italy           36832.0\n",
       "4  United Kingdom           46717.0\n",
       "5           Japan            1774.0\n",
       "6     New Zealand              25.0\n",
       "7          Sweden            5936.0"
      ]
     },
     "execution_count": 39,
     "metadata": {},
     "output_type": "execute_result"
    }
   ],
   "source": [
    "#summary df of country and total deaths\n",
    "total_d = {'Country':['China','Brazil','United States','Italy','United Kingdom'\n",
    "                   ,'Japan','New Zealand','Sweden'],\n",
    "         'Confirmed Deaths':[china_d, brazil_d, us_d, italy_d,\n",
    "                           uk_d,japan_d, nz_d, meatball_d]}\n",
    "\n",
    "\n",
    "death_df = pd.DataFrame(total_d)\n",
    "death_df"
   ]
  },
  {
   "cell_type": "code",
   "execution_count": 40,
   "metadata": {},
   "outputs": [
    {
     "data": {
      "text/html": [
       "<div>\n",
       "<style scoped>\n",
       "    .dataframe tbody tr th:only-of-type {\n",
       "        vertical-align: middle;\n",
       "    }\n",
       "\n",
       "    .dataframe tbody tr th {\n",
       "        vertical-align: top;\n",
       "    }\n",
       "\n",
       "    .dataframe thead th {\n",
       "        text-align: right;\n",
       "    }\n",
       "</style>\n",
       "<table border=\"1\" class=\"dataframe\">\n",
       "  <thead>\n",
       "    <tr style=\"text-align: right;\">\n",
       "      <th></th>\n",
       "      <th>Country</th>\n",
       "      <th>Confirmed Deaths</th>\n",
       "    </tr>\n",
       "  </thead>\n",
       "  <tbody>\n",
       "    <tr>\n",
       "      <th>0</th>\n",
       "      <td>China</td>\n",
       "      <td>4739.0</td>\n",
       "    </tr>\n",
       "    <tr>\n",
       "      <th>1</th>\n",
       "      <td>Brazil</td>\n",
       "      <td>157946.0</td>\n",
       "    </tr>\n",
       "    <tr>\n",
       "      <th>2</th>\n",
       "      <td>United States</td>\n",
       "      <td>224899.0</td>\n",
       "    </tr>\n",
       "    <tr>\n",
       "      <th>3</th>\n",
       "      <td>Italy</td>\n",
       "      <td>36832.0</td>\n",
       "    </tr>\n",
       "  </tbody>\n",
       "</table>\n",
       "</div>"
      ],
      "text/plain": [
       "         Country  Confirmed Deaths\n",
       "0          China            4739.0\n",
       "1         Brazil          157946.0\n",
       "2  United States          224899.0\n",
       "3          Italy           36832.0"
      ]
     },
     "execution_count": 40,
     "metadata": {},
     "output_type": "execute_result"
    }
   ],
   "source": [
    "#summary df with strict mandate country total confirmed deaths\n",
    "strict_d = death_df.loc[death_df['Country'].isin(['China','Brazil','United States','Italy'])]\n",
    "strict_d"
   ]
  },
  {
   "cell_type": "code",
   "execution_count": 41,
   "metadata": {},
   "outputs": [
    {
     "data": {
      "text/html": [
       "<div>\n",
       "<style scoped>\n",
       "    .dataframe tbody tr th:only-of-type {\n",
       "        vertical-align: middle;\n",
       "    }\n",
       "\n",
       "    .dataframe tbody tr th {\n",
       "        vertical-align: top;\n",
       "    }\n",
       "\n",
       "    .dataframe thead th {\n",
       "        text-align: right;\n",
       "    }\n",
       "</style>\n",
       "<table border=\"1\" class=\"dataframe\">\n",
       "  <thead>\n",
       "    <tr style=\"text-align: right;\">\n",
       "      <th></th>\n",
       "      <th>Country</th>\n",
       "      <th>Confirmed Deaths</th>\n",
       "    </tr>\n",
       "  </thead>\n",
       "  <tbody>\n",
       "    <tr>\n",
       "      <th>4</th>\n",
       "      <td>United Kingdom</td>\n",
       "      <td>46717.0</td>\n",
       "    </tr>\n",
       "    <tr>\n",
       "      <th>5</th>\n",
       "      <td>Japan</td>\n",
       "      <td>1774.0</td>\n",
       "    </tr>\n",
       "    <tr>\n",
       "      <th>6</th>\n",
       "      <td>New Zealand</td>\n",
       "      <td>25.0</td>\n",
       "    </tr>\n",
       "    <tr>\n",
       "      <th>7</th>\n",
       "      <td>Sweden</td>\n",
       "      <td>5936.0</td>\n",
       "    </tr>\n",
       "  </tbody>\n",
       "</table>\n",
       "</div>"
      ],
      "text/plain": [
       "          Country  Confirmed Deaths\n",
       "4  United Kingdom           46717.0\n",
       "5           Japan            1774.0\n",
       "6     New Zealand              25.0\n",
       "7          Sweden            5936.0"
      ]
     },
     "execution_count": 41,
     "metadata": {},
     "output_type": "execute_result"
    }
   ],
   "source": [
    "#summary df with relaxed mandate country total confirmed deaths\n",
    "lax_d = death_df.loc[death_df['Country'].isin(['United Kingdom','Japan','New Zealand','Sweden'])]\n",
    "lax_d"
   ]
  },
  {
   "cell_type": "code",
   "execution_count": 42,
   "metadata": {
    "scrolled": true
   },
   "outputs": [
    {
     "data": {
      "image/png": "[encoded data removed]",
      "text/plain": [
       "<Figure size 432x288 with 1 Axes>"
      ]
     },
     "metadata": {
      "needs_background": "light"
     },
     "output_type": "display_data"
    }
   ],
   "source": [
    "#linear regression strict mandates v strict cases\n",
    "x_values = strict_df['Average Mandate']\n",
    "y_values = strict_max['Confirmed Cases']\n",
    "(slope, intercept, rvalue, pvalue, stdeer) = linregress(x_values,y_values)\n",
    "regress_values = x_values*slope+intercept\n",
    "line_eq = 'y=' +str(round(slope,2))+'x + ' +str(round(intercept,2))\n",
    "plt.scatter(x_values, y_values)\n",
    "plt.plot(x_values,regress_values,'r-')\n",
    "plt.annotate(line_eq,(15,10),fontsize = 25, color='red')\n",
    "plt.title('Average Mandate: Strict Countries v Confirmed Cases')\n",
    "plt.xlabel('Average Mandate: Strict Countries')\n",
    "plt.ylabel('Confirmed Cases')\n",
    "plt.show()"
   ]
  },
  {
   "cell_type": "code",
   "execution_count": 43,
   "metadata": {},
   "outputs": [
    {
     "data": {
      "text/plain": [
       "(0.005969848828868585, 0.9940301511711314)"
      ]
     },
     "execution_count": 43,
     "metadata": {},
     "output_type": "execute_result"
    }
   ],
   "source": [
    "#pearsonr for strict mandates v strict cases\n",
    "correlation = st.pearsonr(strict_df['Average Mandate'], strict_max['Confirmed Cases'])\n",
    "correlation"
   ]
  },
  {
   "cell_type": "code",
   "execution_count": 44,
   "metadata": {},
   "outputs": [
    {
     "data": {
      "image/png": "[encoded data removed]",
      "text/plain": [
       "<Figure size 432x288 with 1 Axes>"
      ]
     },
     "metadata": {
      "needs_background": "light"
     },
     "output_type": "display_data"
    }
   ],
   "source": [
    "#linear regression strict mandates v strict deaths\n",
    "x_values = strict_df['Average Mandate']\n",
    "y_values = strict_d['Confirmed Deaths']\n",
    "(slope, intercept, rvalue, pvalue, stdeer) = linregress(x_values,y_values)\n",
    "regress_values = x_values*slope+intercept\n",
    "line_eq = 'y=' +str(round(slope,2))+'x + ' +str(round(intercept,2))\n",
    "plt.scatter(x_values, y_values)\n",
    "plt.plot(x_values,regress_values,'r-')\n",
    "plt.annotate(line_eq,(15,10),fontsize = 25, color='red')\n",
    "plt.title('Average Mandate: Strict Countries v Confirmed Deaths')\n",
    "plt.xlabel('Average Mandate: Strict Countries')\n",
    "plt.ylabel('Confirmed Deaths')\n",
    "plt.show()"
   ]
  },
  {
   "cell_type": "code",
   "execution_count": 45,
   "metadata": {},
   "outputs": [
    {
     "data": {
      "text/plain": [
       "(-0.07862970050620083, 0.9213702994937991)"
      ]
     },
     "execution_count": 45,
     "metadata": {},
     "output_type": "execute_result"
    }
   ],
   "source": [
    "#pearsonr for strict mandates v strict deaths\n",
    "correlation = st.pearsonr(strict_df['Average Mandate'], strict_d['Confirmed Deaths'])\n",
    "correlation"
   ]
  },
  {
   "cell_type": "code",
   "execution_count": 46,
   "metadata": {},
   "outputs": [
    {
     "data": {
      "image/png": "[encoded data removed]",
      "text/plain": [
       "<Figure size 432x288 with 1 Axes>"
      ]
     },
     "metadata": {
      "needs_background": "light"
     },
     "output_type": "display_data"
    }
   ],
   "source": [
    "#linear regression relaxed mandates v relaxed cases\n",
    "x_values = lax_df['Average Mandate']\n",
    "y_values = lax_max['Confirmed Cases']\n",
    "(slope, intercept, rvalue, pvalue, stdeer) = linregress(x_values,y_values)\n",
    "regress_values = x_values*slope+intercept\n",
    "line_eq = 'y=' +str(round(slope,2))+'x + ' +str(round(intercept,2))\n",
    "plt.scatter(x_values, y_values)\n",
    "plt.plot(x_values,regress_values,'r-')\n",
    "plt.annotate(line_eq,(15,10),fontsize = 25, color='red')\n",
    "plt.title('Average Mandate: Lax Countries v Confirmed Cases')\n",
    "plt.xlabel('Average Mandate: Lax Countries')\n",
    "plt.ylabel('Confirmed Cases')\n",
    "plt.show()"
   ]
  },
  {
   "cell_type": "code",
   "execution_count": 47,
   "metadata": {},
   "outputs": [
    {
     "data": {
      "text/plain": [
       "(0.9100025559884284, 0.08999744401157161)"
      ]
     },
     "execution_count": 47,
     "metadata": {},
     "output_type": "execute_result"
    }
   ],
   "source": [
    "#pearsonr for relaxed mandates v relaxed cases\n",
    "correlation = st.pearsonr(lax_df['Average Mandate'], lax_max['Confirmed Cases'])\n",
    "correlation"
   ]
  },
  {
   "cell_type": "code",
   "execution_count": 48,
   "metadata": {},
   "outputs": [
    {
     "data": {
      "image/png": "[encoded data removed]",
      "text/plain": [
       "<Figure size 432x288 with 1 Axes>"
      ]
     },
     "metadata": {
      "needs_background": "light"
     },
     "output_type": "display_data"
    }
   ],
   "source": [
    "#linear regression relaxed mandates v relaxed deaths\n",
    "x_values = lax_df['Average Mandate']\n",
    "y_values = lax_d['Confirmed Deaths']\n",
    "(slope, intercept, rvalue, pvalue, stdeer) = linregress(x_values,y_values)\n",
    "regress_values = x_values*slope+intercept\n",
    "line_eq = 'y=' +str(round(slope,2))+'x + ' +str(round(intercept,2))\n",
    "plt.scatter(x_values, y_values)\n",
    "plt.plot(x_values,regress_values,'r-')\n",
    "plt.annotate(line_eq,(15,10),fontsize = 25, color='red')\n",
    "plt.title('Average Mandate: Lax Countries v Confirmed Deaths')\n",
    "plt.xlabel('Average Mandate: Lax Countries')\n",
    "plt.ylabel('Confirmed Deaths')\n",
    "plt.show()"
   ]
  },
  {
   "cell_type": "code",
   "execution_count": 49,
   "metadata": {},
   "outputs": [
    {
     "data": {
      "text/plain": [
       "(0.8920745759776135, 0.10792542402238647)"
      ]
     },
     "execution_count": 49,
     "metadata": {},
     "output_type": "execute_result"
    }
   ],
   "source": [
    "#pearsonr for relaxed mandates v relaxed deaths\n",
    "correlation = st.pearsonr(lax_df['Average Mandate'], lax_d['Confirmed Deaths'])\n",
    "correlation"
   ]
  },
  {
   "cell_type": "markdown",
   "metadata": {},
   "source": [
    "ECONOMIC SPENDING. "
   ]
  },
  {
   "cell_type": "code",
   "execution_count": 50,
   "metadata": {},
   "outputs": [
    {
     "data": {
      "text/html": [
       "<div>\n",
       "<style scoped>\n",
       "    .dataframe tbody tr th:only-of-type {\n",
       "        vertical-align: middle;\n",
       "    }\n",
       "\n",
       "    .dataframe tbody tr th {\n",
       "        vertical-align: top;\n",
       "    }\n",
       "\n",
       "    .dataframe thead th {\n",
       "        text-align: right;\n",
       "    }\n",
       "</style>\n",
       "<table border=\"1\" class=\"dataframe\">\n",
       "  <thead>\n",
       "    <tr style=\"text-align: right;\">\n",
       "      <th></th>\n",
       "      <th>CountryName</th>\n",
       "      <th>Date</th>\n",
       "      <th>C1_School_closing</th>\n",
       "      <th>C2_Workplace_closing</th>\n",
       "      <th>C6_Stay_home_requirements</th>\n",
       "      <th>E1_Income_support</th>\n",
       "      <th>E3_Fiscal_measures</th>\n",
       "      <th>H6_Facial_coverings</th>\n",
       "      <th>ConfirmedCases</th>\n",
       "      <th>ConfirmedDeaths</th>\n",
       "    </tr>\n",
       "  </thead>\n",
       "  <tbody>\n",
       "    <tr>\n",
       "      <th>0</th>\n",
       "      <td>Brazil</td>\n",
       "      <td>20200101</td>\n",
       "      <td>0.0</td>\n",
       "      <td>0.0</td>\n",
       "      <td>0.0</td>\n",
       "      <td>0.0</td>\n",
       "      <td>0.0</td>\n",
       "      <td>0.0</td>\n",
       "      <td>0.0</td>\n",
       "      <td>0.0</td>\n",
       "    </tr>\n",
       "    <tr>\n",
       "      <th>1</th>\n",
       "      <td>Brazil</td>\n",
       "      <td>20200102</td>\n",
       "      <td>0.0</td>\n",
       "      <td>0.0</td>\n",
       "      <td>0.0</td>\n",
       "      <td>0.0</td>\n",
       "      <td>0.0</td>\n",
       "      <td>0.0</td>\n",
       "      <td>0.0</td>\n",
       "      <td>0.0</td>\n",
       "    </tr>\n",
       "    <tr>\n",
       "      <th>2</th>\n",
       "      <td>Brazil</td>\n",
       "      <td>20200103</td>\n",
       "      <td>0.0</td>\n",
       "      <td>0.0</td>\n",
       "      <td>0.0</td>\n",
       "      <td>0.0</td>\n",
       "      <td>0.0</td>\n",
       "      <td>0.0</td>\n",
       "      <td>0.0</td>\n",
       "      <td>0.0</td>\n",
       "    </tr>\n",
       "    <tr>\n",
       "      <th>3</th>\n",
       "      <td>Brazil</td>\n",
       "      <td>20200104</td>\n",
       "      <td>0.0</td>\n",
       "      <td>0.0</td>\n",
       "      <td>0.0</td>\n",
       "      <td>0.0</td>\n",
       "      <td>0.0</td>\n",
       "      <td>0.0</td>\n",
       "      <td>0.0</td>\n",
       "      <td>0.0</td>\n",
       "    </tr>\n",
       "    <tr>\n",
       "      <th>4</th>\n",
       "      <td>Brazil</td>\n",
       "      <td>20200105</td>\n",
       "      <td>0.0</td>\n",
       "      <td>0.0</td>\n",
       "      <td>0.0</td>\n",
       "      <td>0.0</td>\n",
       "      <td>0.0</td>\n",
       "      <td>0.0</td>\n",
       "      <td>0.0</td>\n",
       "      <td>0.0</td>\n",
       "    </tr>\n",
       "  </tbody>\n",
       "</table>\n",
       "</div>"
      ],
      "text/plain": [
       "  CountryName      Date  C1_School_closing  C2_Workplace_closing  \\\n",
       "0      Brazil  20200101                0.0                   0.0   \n",
       "1      Brazil  20200102                0.0                   0.0   \n",
       "2      Brazil  20200103                0.0                   0.0   \n",
       "3      Brazil  20200104                0.0                   0.0   \n",
       "4      Brazil  20200105                0.0                   0.0   \n",
       "\n",
       "   C6_Stay_home_requirements  E1_Income_support  E3_Fiscal_measures  \\\n",
       "0                        0.0                0.0                 0.0   \n",
       "1                        0.0                0.0                 0.0   \n",
       "2                        0.0                0.0                 0.0   \n",
       "3                        0.0                0.0                 0.0   \n",
       "4                        0.0                0.0                 0.0   \n",
       "\n",
       "   H6_Facial_coverings  ConfirmedCases  ConfirmedDeaths  \n",
       "0                  0.0             0.0              0.0  \n",
       "1                  0.0             0.0              0.0  \n",
       "2                  0.0             0.0              0.0  \n",
       "3                  0.0             0.0              0.0  \n",
       "4                  0.0             0.0              0.0  "
      ]
     },
     "execution_count": 50,
     "metadata": {},
     "output_type": "execute_result"
    }
   ],
   "source": [
    "data.head()"
   ]
  },
  {
   "cell_type": "code",
   "execution_count": 51,
   "metadata": {},
   "outputs": [
    {
     "data": {
      "text/html": [
       "<div>\n",
       "<style scoped>\n",
       "    .dataframe tbody tr th:only-of-type {\n",
       "        vertical-align: middle;\n",
       "    }\n",
       "\n",
       "    .dataframe tbody tr th {\n",
       "        vertical-align: top;\n",
       "    }\n",
       "\n",
       "    .dataframe thead th {\n",
       "        text-align: right;\n",
       "    }\n",
       "</style>\n",
       "<table border=\"1\" class=\"dataframe\">\n",
       "  <thead>\n",
       "    <tr style=\"text-align: right;\">\n",
       "      <th></th>\n",
       "      <th>Date</th>\n",
       "      <th>C1_School_closing</th>\n",
       "      <th>C2_Workplace_closing</th>\n",
       "      <th>C6_Stay_home_requirements</th>\n",
       "      <th>E1_Income_support</th>\n",
       "      <th>E3_Fiscal_measures</th>\n",
       "      <th>H6_Facial_coverings</th>\n",
       "      <th>ConfirmedCases</th>\n",
       "      <th>ConfirmedDeaths</th>\n",
       "    </tr>\n",
       "    <tr>\n",
       "      <th>CountryName</th>\n",
       "      <th></th>\n",
       "      <th></th>\n",
       "      <th></th>\n",
       "      <th></th>\n",
       "      <th></th>\n",
       "      <th></th>\n",
       "      <th></th>\n",
       "      <th></th>\n",
       "      <th></th>\n",
       "    </tr>\n",
       "  </thead>\n",
       "  <tbody>\n",
       "    <tr>\n",
       "      <th>Brazil</th>\n",
       "      <td>2020-01-01</td>\n",
       "      <td>0.0</td>\n",
       "      <td>0.0</td>\n",
       "      <td>0.0</td>\n",
       "      <td>0.0</td>\n",
       "      <td>0.0</td>\n",
       "      <td>0.0</td>\n",
       "      <td>0.0</td>\n",
       "      <td>0.0</td>\n",
       "    </tr>\n",
       "    <tr>\n",
       "      <th>Brazil</th>\n",
       "      <td>2020-01-02</td>\n",
       "      <td>0.0</td>\n",
       "      <td>0.0</td>\n",
       "      <td>0.0</td>\n",
       "      <td>0.0</td>\n",
       "      <td>0.0</td>\n",
       "      <td>0.0</td>\n",
       "      <td>0.0</td>\n",
       "      <td>0.0</td>\n",
       "    </tr>\n",
       "    <tr>\n",
       "      <th>Brazil</th>\n",
       "      <td>2020-01-03</td>\n",
       "      <td>0.0</td>\n",
       "      <td>0.0</td>\n",
       "      <td>0.0</td>\n",
       "      <td>0.0</td>\n",
       "      <td>0.0</td>\n",
       "      <td>0.0</td>\n",
       "      <td>0.0</td>\n",
       "      <td>0.0</td>\n",
       "    </tr>\n",
       "    <tr>\n",
       "      <th>Brazil</th>\n",
       "      <td>2020-01-04</td>\n",
       "      <td>0.0</td>\n",
       "      <td>0.0</td>\n",
       "      <td>0.0</td>\n",
       "      <td>0.0</td>\n",
       "      <td>0.0</td>\n",
       "      <td>0.0</td>\n",
       "      <td>0.0</td>\n",
       "      <td>0.0</td>\n",
       "    </tr>\n",
       "    <tr>\n",
       "      <th>Brazil</th>\n",
       "      <td>2020-01-05</td>\n",
       "      <td>0.0</td>\n",
       "      <td>0.0</td>\n",
       "      <td>0.0</td>\n",
       "      <td>0.0</td>\n",
       "      <td>0.0</td>\n",
       "      <td>0.0</td>\n",
       "      <td>0.0</td>\n",
       "      <td>0.0</td>\n",
       "    </tr>\n",
       "    <tr>\n",
       "      <th>...</th>\n",
       "      <td>...</td>\n",
       "      <td>...</td>\n",
       "      <td>...</td>\n",
       "      <td>...</td>\n",
       "      <td>...</td>\n",
       "      <td>...</td>\n",
       "      <td>...</td>\n",
       "      <td>...</td>\n",
       "      <td>...</td>\n",
       "    </tr>\n",
       "    <tr>\n",
       "      <th>United States</th>\n",
       "      <td>2020-10-21</td>\n",
       "      <td>3.0</td>\n",
       "      <td>2.0</td>\n",
       "      <td>2.0</td>\n",
       "      <td>2.0</td>\n",
       "      <td>0.0</td>\n",
       "      <td>4.0</td>\n",
       "      <td>8273304.0</td>\n",
       "      <td>221066.0</td>\n",
       "    </tr>\n",
       "    <tr>\n",
       "      <th>United States</th>\n",
       "      <td>2020-10-22</td>\n",
       "      <td>3.0</td>\n",
       "      <td>2.0</td>\n",
       "      <td>2.0</td>\n",
       "      <td>2.0</td>\n",
       "      <td>0.0</td>\n",
       "      <td>4.0</td>\n",
       "      <td>8336282.0</td>\n",
       "      <td>222201.0</td>\n",
       "    </tr>\n",
       "    <tr>\n",
       "      <th>United States</th>\n",
       "      <td>2020-10-23</td>\n",
       "      <td>3.0</td>\n",
       "      <td>2.0</td>\n",
       "      <td>2.0</td>\n",
       "      <td>2.0</td>\n",
       "      <td>0.0</td>\n",
       "      <td>4.0</td>\n",
       "      <td>8408340.0</td>\n",
       "      <td>223042.0</td>\n",
       "    </tr>\n",
       "    <tr>\n",
       "      <th>United States</th>\n",
       "      <td>2020-10-24</td>\n",
       "      <td>3.0</td>\n",
       "      <td>2.0</td>\n",
       "      <td>2.0</td>\n",
       "      <td>2.0</td>\n",
       "      <td>0.0</td>\n",
       "      <td>4.0</td>\n",
       "      <td>8493669.0</td>\n",
       "      <td>223995.0</td>\n",
       "    </tr>\n",
       "    <tr>\n",
       "      <th>United States</th>\n",
       "      <td>2020-10-25</td>\n",
       "      <td>3.0</td>\n",
       "      <td>2.0</td>\n",
       "      <td>2.0</td>\n",
       "      <td>2.0</td>\n",
       "      <td>0.0</td>\n",
       "      <td>4.0</td>\n",
       "      <td>8576725.0</td>\n",
       "      <td>224899.0</td>\n",
       "    </tr>\n",
       "  </tbody>\n",
       "</table>\n",
       "<p>2410 rows × 9 columns</p>\n",
       "</div>"
      ],
      "text/plain": [
       "                    Date  C1_School_closing  C2_Workplace_closing  \\\n",
       "CountryName                                                         \n",
       "Brazil        2020-01-01                0.0                   0.0   \n",
       "Brazil        2020-01-02                0.0                   0.0   \n",
       "Brazil        2020-01-03                0.0                   0.0   \n",
       "Brazil        2020-01-04                0.0                   0.0   \n",
       "Brazil        2020-01-05                0.0                   0.0   \n",
       "...                  ...                ...                   ...   \n",
       "United States 2020-10-21                3.0                   2.0   \n",
       "United States 2020-10-22                3.0                   2.0   \n",
       "United States 2020-10-23                3.0                   2.0   \n",
       "United States 2020-10-24                3.0                   2.0   \n",
       "United States 2020-10-25                3.0                   2.0   \n",
       "\n",
       "               C6_Stay_home_requirements  E1_Income_support  \\\n",
       "CountryName                                                   \n",
       "Brazil                               0.0                0.0   \n",
       "Brazil                               0.0                0.0   \n",
       "Brazil                               0.0                0.0   \n",
       "Brazil                               0.0                0.0   \n",
       "Brazil                               0.0                0.0   \n",
       "...                                  ...                ...   \n",
       "United States                        2.0                2.0   \n",
       "United States                        2.0                2.0   \n",
       "United States                        2.0                2.0   \n",
       "United States                        2.0                2.0   \n",
       "United States                        2.0                2.0   \n",
       "\n",
       "               E3_Fiscal_measures  H6_Facial_coverings  ConfirmedCases  \\\n",
       "CountryName                                                              \n",
       "Brazil                        0.0                  0.0             0.0   \n",
       "Brazil                        0.0                  0.0             0.0   \n",
       "Brazil                        0.0                  0.0             0.0   \n",
       "Brazil                        0.0                  0.0             0.0   \n",
       "Brazil                        0.0                  0.0             0.0   \n",
       "...                           ...                  ...             ...   \n",
       "United States                 0.0                  4.0       8273304.0   \n",
       "United States                 0.0                  4.0       8336282.0   \n",
       "United States                 0.0                  4.0       8408340.0   \n",
       "United States                 0.0                  4.0       8493669.0   \n",
       "United States                 0.0                  4.0       8576725.0   \n",
       "\n",
       "               ConfirmedDeaths  \n",
       "CountryName                     \n",
       "Brazil                     0.0  \n",
       "Brazil                     0.0  \n",
       "Brazil                     0.0  \n",
       "Brazil                     0.0  \n",
       "Brazil                     0.0  \n",
       "...                        ...  \n",
       "United States         221066.0  \n",
       "United States         222201.0  \n",
       "United States         223042.0  \n",
       "United States         223995.0  \n",
       "United States         224899.0  \n",
       "\n",
       "[2410 rows x 9 columns]"
      ]
     },
     "execution_count": 51,
     "metadata": {},
     "output_type": "execute_result"
    }
   ],
   "source": [
    "data['Date'] = pd.to_datetime(data['Date'], format='%Y%m%d')\n",
    "data.set_index('CountryName')"
   ]
  },
  {
   "cell_type": "markdown",
   "metadata": {},
   "source": [
    "c1: 0 - no measures 1 - recommend closing 2 - require closing (only some levels or categories, eg just high school, or just public schools) 3 - require closing all levels Blank - no data c2: 0 - no measures 1 - recommend closing (or recommend work from home) 2 - require closing (or work from home) for some sectors or categories of workers 3 - require closing (or work from home) for all-but-essential workplaces (eg grocery stores, doctors) Blank - no data c6: 0 - no measures 1 - recommend not leaving house 2 - require not leaving house with exceptions for daily exercise, grocery shopping, and 'essential' trips 3 - require not leaving house with minimal exceptions (eg allowed to leave once a week, or only one person can leave at a time, etc) Blank - no data h6: 0 - No policy 1 - Recommended 2 - Required in some specified shared/public spaces outside the home with other people present, or some situations when social distancing not possible 3 - Required in all shared/public spaces outside the home with other people present or all situations when social distancing not possible 4 - Required outside the home at all times regardless of location or presence of other people"
   ]
  },
  {
   "cell_type": "code",
   "execution_count": 53,
   "metadata": {},
   "outputs": [
    {
     "data": {
      "text/html": [
       "<div>\n",
       "<style scoped>\n",
       "    .dataframe tbody tr th:only-of-type {\n",
       "        vertical-align: middle;\n",
       "    }\n",
       "\n",
       "    .dataframe tbody tr th {\n",
       "        vertical-align: top;\n",
       "    }\n",
       "\n",
       "    .dataframe thead th {\n",
       "        text-align: right;\n",
       "    }\n",
       "</style>\n",
       "<table border=\"1\" class=\"dataframe\">\n",
       "  <thead>\n",
       "    <tr style=\"text-align: right;\">\n",
       "      <th></th>\n",
       "      <th>CountryName</th>\n",
       "      <th>Date</th>\n",
       "      <th>C1_School_closing</th>\n",
       "      <th>C2_Workplace_closing</th>\n",
       "      <th>C6_Stay_home_requirements</th>\n",
       "      <th>E1_Income_support</th>\n",
       "      <th>E3_Fiscal_measures</th>\n",
       "      <th>H6_Facial_coverings</th>\n",
       "      <th>ConfirmedCases</th>\n",
       "      <th>ConfirmedDeaths</th>\n",
       "    </tr>\n",
       "  </thead>\n",
       "  <tbody>\n",
       "    <tr>\n",
       "      <th>295</th>\n",
       "      <td>Brazil</td>\n",
       "      <td>2020-10-22</td>\n",
       "      <td>3.0</td>\n",
       "      <td>2.0</td>\n",
       "      <td>2.0</td>\n",
       "      <td>1.0</td>\n",
       "      <td>0.000000e+00</td>\n",
       "      <td>4.0</td>\n",
       "      <td>5298772.0</td>\n",
       "      <td>155403.0</td>\n",
       "    </tr>\n",
       "    <tr>\n",
       "      <th>597</th>\n",
       "      <td>China</td>\n",
       "      <td>2020-10-22</td>\n",
       "      <td>1.0</td>\n",
       "      <td>2.0</td>\n",
       "      <td>3.0</td>\n",
       "      <td>1.0</td>\n",
       "      <td>0.000000e+00</td>\n",
       "      <td>2.0</td>\n",
       "      <td>91044.0</td>\n",
       "      <td>4739.0</td>\n",
       "    </tr>\n",
       "    <tr>\n",
       "      <th>899</th>\n",
       "      <td>United Kingdom</td>\n",
       "      <td>2020-10-22</td>\n",
       "      <td>3.0</td>\n",
       "      <td>2.0</td>\n",
       "      <td>1.0</td>\n",
       "      <td>2.0</td>\n",
       "      <td>5.305826e+09</td>\n",
       "      <td>3.0</td>\n",
       "      <td>789229.0</td>\n",
       "      <td>44158.0</td>\n",
       "    </tr>\n",
       "    <tr>\n",
       "      <th>1206</th>\n",
       "      <td>Italy</td>\n",
       "      <td>2020-10-22</td>\n",
       "      <td>1.0</td>\n",
       "      <td>2.0</td>\n",
       "      <td>0.0</td>\n",
       "      <td>1.0</td>\n",
       "      <td>0.000000e+00</td>\n",
       "      <td>3.0</td>\n",
       "      <td>449648.0</td>\n",
       "      <td>36832.0</td>\n",
       "    </tr>\n",
       "    <tr>\n",
       "      <th>1502</th>\n",
       "      <td>Japan</td>\n",
       "      <td>2020-10-22</td>\n",
       "      <td>1.0</td>\n",
       "      <td>1.0</td>\n",
       "      <td>1.0</td>\n",
       "      <td>1.0</td>\n",
       "      <td>0.000000e+00</td>\n",
       "      <td>1.0</td>\n",
       "      <td>94524.0</td>\n",
       "      <td>1685.0</td>\n",
       "    </tr>\n",
       "    <tr>\n",
       "      <th>1800</th>\n",
       "      <td>New Zealand</td>\n",
       "      <td>2020-10-22</td>\n",
       "      <td>0.0</td>\n",
       "      <td>0.0</td>\n",
       "      <td>0.0</td>\n",
       "      <td>2.0</td>\n",
       "      <td>0.000000e+00</td>\n",
       "      <td>1.0</td>\n",
       "      <td>1558.0</td>\n",
       "      <td>25.0</td>\n",
       "    </tr>\n",
       "    <tr>\n",
       "      <th>2106</th>\n",
       "      <td>Sweden</td>\n",
       "      <td>2020-10-22</td>\n",
       "      <td>0.0</td>\n",
       "      <td>1.0</td>\n",
       "      <td>0.0</td>\n",
       "      <td>2.0</td>\n",
       "      <td>0.000000e+00</td>\n",
       "      <td>0.0</td>\n",
       "      <td>109326.0</td>\n",
       "      <td>5917.0</td>\n",
       "    </tr>\n",
       "    <tr>\n",
       "      <th>2406</th>\n",
       "      <td>United States</td>\n",
       "      <td>2020-10-22</td>\n",
       "      <td>3.0</td>\n",
       "      <td>2.0</td>\n",
       "      <td>2.0</td>\n",
       "      <td>2.0</td>\n",
       "      <td>0.000000e+00</td>\n",
       "      <td>4.0</td>\n",
       "      <td>8336282.0</td>\n",
       "      <td>222201.0</td>\n",
       "    </tr>\n",
       "  </tbody>\n",
       "</table>\n",
       "</div>"
      ],
      "text/plain": [
       "         CountryName       Date  C1_School_closing  C2_Workplace_closing  \\\n",
       "295           Brazil 2020-10-22                3.0                   2.0   \n",
       "597            China 2020-10-22                1.0                   2.0   \n",
       "899   United Kingdom 2020-10-22                3.0                   2.0   \n",
       "1206           Italy 2020-10-22                1.0                   2.0   \n",
       "1502           Japan 2020-10-22                1.0                   1.0   \n",
       "1800     New Zealand 2020-10-22                0.0                   0.0   \n",
       "2106          Sweden 2020-10-22                0.0                   1.0   \n",
       "2406   United States 2020-10-22                3.0                   2.0   \n",
       "\n",
       "      C6_Stay_home_requirements  E1_Income_support  E3_Fiscal_measures  \\\n",
       "295                         2.0                1.0        0.000000e+00   \n",
       "597                         3.0                1.0        0.000000e+00   \n",
       "899                         1.0                2.0        5.305826e+09   \n",
       "1206                        0.0                1.0        0.000000e+00   \n",
       "1502                        1.0                1.0        0.000000e+00   \n",
       "1800                        0.0                2.0        0.000000e+00   \n",
       "2106                        0.0                2.0        0.000000e+00   \n",
       "2406                        2.0                2.0        0.000000e+00   \n",
       "\n",
       "      H6_Facial_coverings  ConfirmedCases  ConfirmedDeaths  \n",
       "295                   4.0       5298772.0         155403.0  \n",
       "597                   2.0         91044.0           4739.0  \n",
       "899                   3.0        789229.0          44158.0  \n",
       "1206                  3.0        449648.0          36832.0  \n",
       "1502                  1.0         94524.0           1685.0  \n",
       "1800                  1.0          1558.0             25.0  \n",
       "2106                  0.0        109326.0           5917.0  \n",
       "2406                  4.0       8336282.0         222201.0  "
      ]
     },
     "execution_count": 53,
     "metadata": {},
     "output_type": "execute_result"
    }
   ],
   "source": [
    "#last day everyone reported.  All 8 countries. \n",
    "last_report = data.loc[data['Date']=='2020-10-22']\n",
    "last_report"
   ]
  },
  {
   "cell_type": "code",
   "execution_count": 54,
   "metadata": {},
   "outputs": [
    {
     "data": {
      "text/html": [
       "<div>\n",
       "<style scoped>\n",
       "    .dataframe tbody tr th:only-of-type {\n",
       "        vertical-align: middle;\n",
       "    }\n",
       "\n",
       "    .dataframe tbody tr th {\n",
       "        vertical-align: top;\n",
       "    }\n",
       "\n",
       "    .dataframe thead th {\n",
       "        text-align: right;\n",
       "    }\n",
       "</style>\n",
       "<table border=\"1\" class=\"dataframe\">\n",
       "  <thead>\n",
       "    <tr style=\"text-align: right;\">\n",
       "      <th></th>\n",
       "      <th>C1_School_closing</th>\n",
       "      <th>C2_Workplace_closing</th>\n",
       "      <th>C6_Stay_home_requirements</th>\n",
       "      <th>E1_Income_support</th>\n",
       "      <th>E3_Fiscal_measures</th>\n",
       "      <th>H6_Facial_coverings</th>\n",
       "      <th>ConfirmedCases</th>\n",
       "      <th>ConfirmedDeaths</th>\n",
       "    </tr>\n",
       "  </thead>\n",
       "  <tbody>\n",
       "    <tr>\n",
       "      <th>count</th>\n",
       "      <td>8.000000</td>\n",
       "      <td>8.000000</td>\n",
       "      <td>8.000000</td>\n",
       "      <td>8.000000</td>\n",
       "      <td>8.000000e+00</td>\n",
       "      <td>8.000000</td>\n",
       "      <td>8.000000e+00</td>\n",
       "      <td>8.000000</td>\n",
       "    </tr>\n",
       "    <tr>\n",
       "      <th>mean</th>\n",
       "      <td>1.500000</td>\n",
       "      <td>1.500000</td>\n",
       "      <td>1.125000</td>\n",
       "      <td>1.500000</td>\n",
       "      <td>6.632283e+08</td>\n",
       "      <td>2.250000</td>\n",
       "      <td>1.896298e+06</td>\n",
       "      <td>58870.000000</td>\n",
       "    </tr>\n",
       "    <tr>\n",
       "      <th>std</th>\n",
       "      <td>1.309307</td>\n",
       "      <td>0.755929</td>\n",
       "      <td>1.125992</td>\n",
       "      <td>0.534522</td>\n",
       "      <td>1.875893e+09</td>\n",
       "      <td>1.488048</td>\n",
       "      <td>3.154526e+06</td>\n",
       "      <td>83806.576334</td>\n",
       "    </tr>\n",
       "    <tr>\n",
       "      <th>min</th>\n",
       "      <td>0.000000</td>\n",
       "      <td>0.000000</td>\n",
       "      <td>0.000000</td>\n",
       "      <td>1.000000</td>\n",
       "      <td>0.000000e+00</td>\n",
       "      <td>0.000000</td>\n",
       "      <td>1.558000e+03</td>\n",
       "      <td>25.000000</td>\n",
       "    </tr>\n",
       "    <tr>\n",
       "      <th>25%</th>\n",
       "      <td>0.750000</td>\n",
       "      <td>1.000000</td>\n",
       "      <td>0.000000</td>\n",
       "      <td>1.000000</td>\n",
       "      <td>0.000000e+00</td>\n",
       "      <td>1.000000</td>\n",
       "      <td>9.365400e+04</td>\n",
       "      <td>3975.500000</td>\n",
       "    </tr>\n",
       "    <tr>\n",
       "      <th>50%</th>\n",
       "      <td>1.000000</td>\n",
       "      <td>2.000000</td>\n",
       "      <td>1.000000</td>\n",
       "      <td>1.500000</td>\n",
       "      <td>0.000000e+00</td>\n",
       "      <td>2.500000</td>\n",
       "      <td>2.794870e+05</td>\n",
       "      <td>21374.500000</td>\n",
       "    </tr>\n",
       "    <tr>\n",
       "      <th>75%</th>\n",
       "      <td>3.000000</td>\n",
       "      <td>2.000000</td>\n",
       "      <td>2.000000</td>\n",
       "      <td>2.000000</td>\n",
       "      <td>0.000000e+00</td>\n",
       "      <td>3.250000</td>\n",
       "      <td>1.916615e+06</td>\n",
       "      <td>71969.250000</td>\n",
       "    </tr>\n",
       "    <tr>\n",
       "      <th>max</th>\n",
       "      <td>3.000000</td>\n",
       "      <td>2.000000</td>\n",
       "      <td>3.000000</td>\n",
       "      <td>2.000000</td>\n",
       "      <td>5.305826e+09</td>\n",
       "      <td>4.000000</td>\n",
       "      <td>8.336282e+06</td>\n",
       "      <td>222201.000000</td>\n",
       "    </tr>\n",
       "  </tbody>\n",
       "</table>\n",
       "</div>"
      ],
      "text/plain": [
       "       C1_School_closing  C2_Workplace_closing  C6_Stay_home_requirements  \\\n",
       "count           8.000000              8.000000                   8.000000   \n",
       "mean            1.500000              1.500000                   1.125000   \n",
       "std             1.309307              0.755929                   1.125992   \n",
       "min             0.000000              0.000000                   0.000000   \n",
       "25%             0.750000              1.000000                   0.000000   \n",
       "50%             1.000000              2.000000                   1.000000   \n",
       "75%             3.000000              2.000000                   2.000000   \n",
       "max             3.000000              2.000000                   3.000000   \n",
       "\n",
       "       E1_Income_support  E3_Fiscal_measures  H6_Facial_coverings  \\\n",
       "count           8.000000        8.000000e+00             8.000000   \n",
       "mean            1.500000        6.632283e+08             2.250000   \n",
       "std             0.534522        1.875893e+09             1.488048   \n",
       "min             1.000000        0.000000e+00             0.000000   \n",
       "25%             1.000000        0.000000e+00             1.000000   \n",
       "50%             1.500000        0.000000e+00             2.500000   \n",
       "75%             2.000000        0.000000e+00             3.250000   \n",
       "max             2.000000        5.305826e+09             4.000000   \n",
       "\n",
       "       ConfirmedCases  ConfirmedDeaths  \n",
       "count    8.000000e+00         8.000000  \n",
       "mean     1.896298e+06     58870.000000  \n",
       "std      3.154526e+06     83806.576334  \n",
       "min      1.558000e+03        25.000000  \n",
       "25%      9.365400e+04      3975.500000  \n",
       "50%      2.794870e+05     21374.500000  \n",
       "75%      1.916615e+06     71969.250000  \n",
       "max      8.336282e+06    222201.000000  "
      ]
     },
     "execution_count": 54,
     "metadata": {},
     "output_type": "execute_result"
    }
   ],
   "source": [
    "#look at descriptive statistics of all mandates on last day. \n",
    "last_report.describe()"
   ]
  },
  {
   "cell_type": "code",
   "execution_count": 55,
   "metadata": {},
   "outputs": [
    {
     "data": {
      "text/html": [
       "<div>\n",
       "<style scoped>\n",
       "    .dataframe tbody tr th:only-of-type {\n",
       "        vertical-align: middle;\n",
       "    }\n",
       "\n",
       "    .dataframe tbody tr th {\n",
       "        vertical-align: top;\n",
       "    }\n",
       "\n",
       "    .dataframe thead th {\n",
       "        text-align: right;\n",
       "    }\n",
       "</style>\n",
       "<table border=\"1\" class=\"dataframe\">\n",
       "  <thead>\n",
       "    <tr style=\"text-align: right;\">\n",
       "      <th></th>\n",
       "      <th>CountryName</th>\n",
       "      <th>Date</th>\n",
       "      <th>E1_Income_support</th>\n",
       "      <th>E3_Fiscal_measures</th>\n",
       "      <th>ConfirmedCases</th>\n",
       "      <th>ConfirmedDeaths</th>\n",
       "    </tr>\n",
       "  </thead>\n",
       "  <tbody>\n",
       "    <tr>\n",
       "      <th>0</th>\n",
       "      <td>Brazil</td>\n",
       "      <td>2020-01-01</td>\n",
       "      <td>0.0</td>\n",
       "      <td>0.0</td>\n",
       "      <td>0.0</td>\n",
       "      <td>0.0</td>\n",
       "    </tr>\n",
       "    <tr>\n",
       "      <th>1</th>\n",
       "      <td>Brazil</td>\n",
       "      <td>2020-01-02</td>\n",
       "      <td>0.0</td>\n",
       "      <td>0.0</td>\n",
       "      <td>0.0</td>\n",
       "      <td>0.0</td>\n",
       "    </tr>\n",
       "    <tr>\n",
       "      <th>2</th>\n",
       "      <td>Brazil</td>\n",
       "      <td>2020-01-03</td>\n",
       "      <td>0.0</td>\n",
       "      <td>0.0</td>\n",
       "      <td>0.0</td>\n",
       "      <td>0.0</td>\n",
       "    </tr>\n",
       "    <tr>\n",
       "      <th>3</th>\n",
       "      <td>Brazil</td>\n",
       "      <td>2020-01-04</td>\n",
       "      <td>0.0</td>\n",
       "      <td>0.0</td>\n",
       "      <td>0.0</td>\n",
       "      <td>0.0</td>\n",
       "    </tr>\n",
       "    <tr>\n",
       "      <th>4</th>\n",
       "      <td>Brazil</td>\n",
       "      <td>2020-01-05</td>\n",
       "      <td>0.0</td>\n",
       "      <td>0.0</td>\n",
       "      <td>0.0</td>\n",
       "      <td>0.0</td>\n",
       "    </tr>\n",
       "  </tbody>\n",
       "</table>\n",
       "</div>"
      ],
      "text/plain": [
       "  CountryName       Date  E1_Income_support  E3_Fiscal_measures  \\\n",
       "0      Brazil 2020-01-01                0.0                 0.0   \n",
       "1      Brazil 2020-01-02                0.0                 0.0   \n",
       "2      Brazil 2020-01-03                0.0                 0.0   \n",
       "3      Brazil 2020-01-04                0.0                 0.0   \n",
       "4      Brazil 2020-01-05                0.0                 0.0   \n",
       "\n",
       "   ConfirmedCases  ConfirmedDeaths  \n",
       "0             0.0              0.0  \n",
       "1             0.0              0.0  \n",
       "2             0.0              0.0  \n",
       "3             0.0              0.0  \n",
       "4             0.0              0.0  "
      ]
     },
     "execution_count": 55,
     "metadata": {},
     "output_type": "execute_result"
    }
   ],
   "source": [
    "#narrow down to just economic mandates and additional spending e3\n",
    "df = data[['CountryName','Date','E1_Income_support','E3_Fiscal_measures','ConfirmedCases','ConfirmedDeaths']]\n",
    "df.head()"
   ]
  },
  {
   "cell_type": "code",
   "execution_count": 56,
   "metadata": {},
   "outputs": [
    {
     "data": {
      "text/html": [
       "<div>\n",
       "<style scoped>\n",
       "    .dataframe tbody tr th:only-of-type {\n",
       "        vertical-align: middle;\n",
       "    }\n",
       "\n",
       "    .dataframe tbody tr th {\n",
       "        vertical-align: top;\n",
       "    }\n",
       "\n",
       "    .dataframe thead th {\n",
       "        text-align: right;\n",
       "    }\n",
       "</style>\n",
       "<table border=\"1\" class=\"dataframe\">\n",
       "  <thead>\n",
       "    <tr style=\"text-align: right;\">\n",
       "      <th></th>\n",
       "      <th>Date</th>\n",
       "      <th>E1_Income_support</th>\n",
       "      <th>E3_Fiscal_measures</th>\n",
       "      <th>ConfirmedCases</th>\n",
       "      <th>ConfirmedDeaths</th>\n",
       "    </tr>\n",
       "    <tr>\n",
       "      <th>CountryName</th>\n",
       "      <th></th>\n",
       "      <th></th>\n",
       "      <th></th>\n",
       "      <th></th>\n",
       "      <th></th>\n",
       "    </tr>\n",
       "  </thead>\n",
       "  <tbody>\n",
       "    <tr>\n",
       "      <th>Brazil</th>\n",
       "      <td>2020-01-01</td>\n",
       "      <td>0.0</td>\n",
       "      <td>0.0</td>\n",
       "      <td>0.0</td>\n",
       "      <td>0.0</td>\n",
       "    </tr>\n",
       "    <tr>\n",
       "      <th>Brazil</th>\n",
       "      <td>2020-01-02</td>\n",
       "      <td>0.0</td>\n",
       "      <td>0.0</td>\n",
       "      <td>0.0</td>\n",
       "      <td>0.0</td>\n",
       "    </tr>\n",
       "    <tr>\n",
       "      <th>Brazil</th>\n",
       "      <td>2020-01-03</td>\n",
       "      <td>0.0</td>\n",
       "      <td>0.0</td>\n",
       "      <td>0.0</td>\n",
       "      <td>0.0</td>\n",
       "    </tr>\n",
       "    <tr>\n",
       "      <th>Brazil</th>\n",
       "      <td>2020-01-04</td>\n",
       "      <td>0.0</td>\n",
       "      <td>0.0</td>\n",
       "      <td>0.0</td>\n",
       "      <td>0.0</td>\n",
       "    </tr>\n",
       "    <tr>\n",
       "      <th>Brazil</th>\n",
       "      <td>2020-01-05</td>\n",
       "      <td>0.0</td>\n",
       "      <td>0.0</td>\n",
       "      <td>0.0</td>\n",
       "      <td>0.0</td>\n",
       "    </tr>\n",
       "    <tr>\n",
       "      <th>...</th>\n",
       "      <td>...</td>\n",
       "      <td>...</td>\n",
       "      <td>...</td>\n",
       "      <td>...</td>\n",
       "      <td>...</td>\n",
       "    </tr>\n",
       "    <tr>\n",
       "      <th>United States</th>\n",
       "      <td>2020-10-21</td>\n",
       "      <td>2.0</td>\n",
       "      <td>0.0</td>\n",
       "      <td>8273304.0</td>\n",
       "      <td>221066.0</td>\n",
       "    </tr>\n",
       "    <tr>\n",
       "      <th>United States</th>\n",
       "      <td>2020-10-22</td>\n",
       "      <td>2.0</td>\n",
       "      <td>0.0</td>\n",
       "      <td>8336282.0</td>\n",
       "      <td>222201.0</td>\n",
       "    </tr>\n",
       "    <tr>\n",
       "      <th>United States</th>\n",
       "      <td>2020-10-23</td>\n",
       "      <td>2.0</td>\n",
       "      <td>0.0</td>\n",
       "      <td>8408340.0</td>\n",
       "      <td>223042.0</td>\n",
       "    </tr>\n",
       "    <tr>\n",
       "      <th>United States</th>\n",
       "      <td>2020-10-24</td>\n",
       "      <td>2.0</td>\n",
       "      <td>0.0</td>\n",
       "      <td>8493669.0</td>\n",
       "      <td>223995.0</td>\n",
       "    </tr>\n",
       "    <tr>\n",
       "      <th>United States</th>\n",
       "      <td>2020-10-25</td>\n",
       "      <td>2.0</td>\n",
       "      <td>0.0</td>\n",
       "      <td>8576725.0</td>\n",
       "      <td>224899.0</td>\n",
       "    </tr>\n",
       "  </tbody>\n",
       "</table>\n",
       "<p>2410 rows × 5 columns</p>\n",
       "</div>"
      ],
      "text/plain": [
       "                    Date  E1_Income_support  E3_Fiscal_measures  \\\n",
       "CountryName                                                       \n",
       "Brazil        2020-01-01                0.0                 0.0   \n",
       "Brazil        2020-01-02                0.0                 0.0   \n",
       "Brazil        2020-01-03                0.0                 0.0   \n",
       "Brazil        2020-01-04                0.0                 0.0   \n",
       "Brazil        2020-01-05                0.0                 0.0   \n",
       "...                  ...                ...                 ...   \n",
       "United States 2020-10-21                2.0                 0.0   \n",
       "United States 2020-10-22                2.0                 0.0   \n",
       "United States 2020-10-23                2.0                 0.0   \n",
       "United States 2020-10-24                2.0                 0.0   \n",
       "United States 2020-10-25                2.0                 0.0   \n",
       "\n",
       "               ConfirmedCases  ConfirmedDeaths  \n",
       "CountryName                                     \n",
       "Brazil                    0.0              0.0  \n",
       "Brazil                    0.0              0.0  \n",
       "Brazil                    0.0              0.0  \n",
       "Brazil                    0.0              0.0  \n",
       "Brazil                    0.0              0.0  \n",
       "...                       ...              ...  \n",
       "United States       8273304.0         221066.0  \n",
       "United States       8336282.0         222201.0  \n",
       "United States       8408340.0         223042.0  \n",
       "United States       8493669.0         223995.0  \n",
       "United States       8576725.0         224899.0  \n",
       "\n",
       "[2410 rows x 5 columns]"
      ]
     },
     "execution_count": 56,
     "metadata": {},
     "output_type": "execute_result"
    }
   ],
   "source": [
    "df.set_index('CountryName')"
   ]
  },
  {
   "cell_type": "code",
   "execution_count": 57,
   "metadata": {},
   "outputs": [
    {
     "data": {
      "image/png": "[encoded data removed]",
      "text/plain": [
       "<Figure size 432x288 with 1 Axes>"
      ]
     },
     "metadata": {
      "needs_background": "light"
     },
     "output_type": "display_data"
    }
   ],
   "source": [
    "plt.bar(df['CountryName'],df['E3_Fiscal_measures'])\n",
    "plt.xticks(rotation='vertical')\n",
    "plt.title('Country and Spending COVID-19')\n",
    "plt.xlabel('Countries')\n",
    "plt.ylabel('Spending in Trillions ($)')\n",
    "plt.show()"
   ]
  },
  {
   "cell_type": "code",
   "execution_count": 58,
   "metadata": {},
   "outputs": [
    {
     "data": {
      "text/plain": [
       "(array([737425., 737456., 737485., 737516., 737546., 737577., 737607.,\n",
       "        737638., 737669., 737699., 737730.]),\n",
       " <a list of 11 Text xticklabel objects>)"
      ]
     },
     "execution_count": 58,
     "metadata": {},
     "output_type": "execute_result"
    },
    {
     "data": {
      "image/png": "[encoded data removed]",
      "text/plain": [
       "<Figure size 432x288 with 1 Axes>"
      ]
     },
     "metadata": {
      "needs_background": "light"
     },
     "output_type": "display_data"
    }
   ],
   "source": [
    "#graph of all countries over time and spending\n",
    "plt.plot(df['Date'],df['E3_Fiscal_measures'])\n",
    "plt.xticks(rotation='vertical')"
   ]
  },
  {
   "cell_type": "code",
   "execution_count": 59,
   "metadata": {},
   "outputs": [
    {
     "data": {
      "image/png": "[encoded data removed]",
      "text/plain": [
       "<Figure size 432x288 with 1 Axes>"
      ]
     },
     "metadata": {
      "needs_background": "light"
     },
     "output_type": "display_data"
    }
   ],
   "source": [
    "#figure looking at all 8 countries and amount of money spent during COVID\n",
    "fig, ax = plt.subplots()\n",
    "\n",
    "brazil = df.loc[df['CountryName']=='Brazil']\n",
    "ax.plot(brazil['Date'],brazil['E3_Fiscal_measures'], label = 'Brazil')\n",
    "\n",
    "china=df.loc[df['CountryName']=='China']\n",
    "ax.plot(china['Date'],china['E3_Fiscal_measures'],label='China')\n",
    "\n",
    "uk = df.loc[df['CountryName']=='United Kingdom']\n",
    "ax.plot(uk['Date'],uk['E3_Fiscal_measures'],label='United Kingdom')\n",
    "\n",
    "italy = df.loc[df['CountryName']=='Italy']\n",
    "ax.plot(italy['Date'],italy['E3_Fiscal_measures'],label='Italy')\n",
    "\n",
    "japan=df.loc[df['CountryName']=='Japan']\n",
    "ax.plot(japan['Date'],japan['E3_Fiscal_measures'],label='Japan')\n",
    "\n",
    "sk=df.loc[df['CountryName']=='South Korea']\n",
    "ax.plot(sk['Date'],sk['E3_Fiscal_measures'],label='South Korea')\n",
    "\n",
    "nz= df.loc[df['CountryName']=='New Zealand']\n",
    "ax.plot(nz['Date'],nz['E3_Fiscal_measures'],label='New Zealand')\n",
    "\n",
    "meatball= df.loc[df['CountryName']=='Sweden']\n",
    "ax.plot(meatball['Date'],meatball['E3_Fiscal_measures'],label='Sweden')\n",
    "\n",
    "us = df.loc[df['CountryName']=='United States']\n",
    "ax.plot(us['Date'],us['E3_Fiscal_measures'],label='US')\n",
    "\n",
    "plt.xticks(rotation='vertical')\n",
    "plt.title('Spending Over Time')\n",
    "plt.xlabel('Date')\n",
    "plt.ylabel('Spending in Trillion(s)($)')\n",
    "plt.legend()\n",
    "plt.show()"
   ]
  },
  {
   "cell_type": "code",
   "execution_count": 60,
   "metadata": {},
   "outputs": [
    {
     "data": {
      "text/html": [
       "<style  type=\"text/css\" >\n",
       "</style><table id=\"T_50fed8ba_2090_11eb_b9e1_acde48001122\" ><thead>    <tr>        <th class=\"blank level0\" ></th>        <th class=\"col_heading level0 col0\" >United States</th>        <th class=\"col_heading level0 col1\" >China</th>        <th class=\"col_heading level0 col2\" >Japan</th>        <th class=\"col_heading level0 col3\" >Italy</th>        <th class=\"col_heading level0 col4\" >Brazil</th>        <th class=\"col_heading level0 col5\" >United Kingdom</th>        <th class=\"col_heading level0 col6\" >Sweden</th>        <th class=\"col_heading level0 col7\" >New Zealand</th>    </tr></thead><tbody>\n",
       "                <tr>\n",
       "                        <th id=\"T_50fed8ba_2090_11eb_b9e1_acde48001122level0_row0\" class=\"row_heading level0 row0\" >Spent</th>\n",
       "                        <td id=\"T_50fed8ba_2090_11eb_b9e1_acde48001122row0_col0\" class=\"data row0 col0\" >$2,535,200,000,000.00</td>\n",
       "                        <td id=\"T_50fed8ba_2090_11eb_b9e1_acde48001122row0_col1\" class=\"data row0 col1\" >$2,136,809,000,000.00</td>\n",
       "                        <td id=\"T_50fed8ba_2090_11eb_b9e1_acde48001122row0_col2\" class=\"data row0 col2\" >$1,005,521,520,851.00</td>\n",
       "                        <td id=\"T_50fed8ba_2090_11eb_b9e1_acde48001122row0_col3\" class=\"data row0 col3\" >$542,022,172,143.20</td>\n",
       "                        <td id=\"T_50fed8ba_2090_11eb_b9e1_acde48001122row0_col4\" class=\"data row0 col4\" >$185,820,699,472.27</td>\n",
       "                        <td id=\"T_50fed8ba_2090_11eb_b9e1_acde48001122row0_col5\" class=\"data row0 col5\" >$181,278,349,255.19</td>\n",
       "                        <td id=\"T_50fed8ba_2090_11eb_b9e1_acde48001122row0_col6\" class=\"data row0 col6\" >$8,162,169,045.70</td>\n",
       "                        <td id=\"T_50fed8ba_2090_11eb_b9e1_acde48001122row0_col7\" class=\"data row0 col7\" >$0.00</td>\n",
       "            </tr>\n",
       "    </tbody></table>"
      ],
      "text/plain": [
       "<pandas.io.formats.style.Styler at 0x7f9c322a1be0>"
      ]
     },
     "execution_count": 60,
     "metadata": {},
     "output_type": "execute_result"
    }
   ],
   "source": [
    "us_spend = us['E3_Fiscal_measures'].sum()\n",
    "china_spend = china['E3_Fiscal_measures'].sum()\n",
    "uk_sum = uk['E3_Fiscal_measures'].sum()\n",
    "italy_sum = italy['E3_Fiscal_measures'].sum()\n",
    "sweden_sum = meatball['E3_Fiscal_measures'].sum()\n",
    "japan_sum = japan['E3_Fiscal_measures'].sum()\n",
    "nz_sum = nz['E3_Fiscal_measures'].sum()\n",
    "brazil_sum = brazil['E3_Fiscal_measures'].sum()\n",
    "\n",
    "total = {'United States':[us_spend],'China':[china_spend],'Japan':[japan_sum],'Italy':[italy_sum],'Brazil':[brazil_sum],\n",
    "         'United Kingdom':[uk_sum],'Sweden':[sweden_sum],'New Zealand':[nz_sum]}\n",
    "\n",
    "\n",
    "sum_df = pd.DataFrame(index=['Spent'],data = total)\n",
    "sum_df.style.format('${:,.2f}')"
   ]
  },
  {
   "cell_type": "code",
   "execution_count": 71,
   "metadata": {},
   "outputs": [
    {
     "data": {
      "image/png": "[encoded data removed]",
      "text/plain": [
       "<Figure size 432x288 with 1 Axes>"
      ]
     },
     "metadata": {
      "needs_background": "light"
     },
     "output_type": "display_data"
    },
    {
     "name": "stdout",
     "output_type": "stream",
     "text": [
      "Hard to tell because of scale, but US spending is $2 trillion and cases is over 8 million\n"
     ]
    }
   ],
   "source": [
    "#US spending and cases.  Cannot tell anything because US spending is 2Trillion and cases is over 8million\n",
    "plt.plot(us['Date'],us['E3_Fiscal_measures'], label='US Spending')\n",
    "plt.plot(us['Date'],us['ConfirmedCases'], label='US cases')\n",
    "plt.xticks(rotation='vertical')\n",
    "plt.title('US Spending and Cases over time')\n",
    "plt.xlabel('Date')\n",
    "plt.ylabel('Spending in Trillion(s)($)')\n",
    "plt.legend()\n",
    "plt.show()\n",
    "\n",
    "print('Hard to tell because of scale, but US spending is $2 trillion and cases is over 8 million')"
   ]
  },
  {
   "cell_type": "code",
   "execution_count": 72,
   "metadata": {},
   "outputs": [
    {
     "data": {
      "image/png": "[encoded data removed]",
      "text/plain": [
       "<Figure size 432x288 with 1 Axes>"
      ]
     },
     "metadata": {
      "needs_background": "light"
     },
     "output_type": "display_data"
    },
    {
     "name": "stdout",
     "output_type": "stream",
     "text": [
      "Hard to tell because of scale, but China spending is over $1 trillion and cases is over 91k\n"
     ]
    }
   ],
   "source": [
    "#China spending and cases.  Cannot tell anything because China spending is over 1Trillion and cases is over 91k\n",
    "plt.plot(china['Date'],china['E3_Fiscal_measures'],label='China Spending')\n",
    "plt.plot(china['Date'],china['ConfirmedCases'],label='China cases')\n",
    "plt.xticks(rotation='vertical')\n",
    "plt.title('China Spending and Cases over time')\n",
    "plt.xlabel('Date')\n",
    "plt.ylabel('Spending in Trillion(s)($)')\n",
    "plt.legend()\n",
    "plt.show()\n",
    "\n",
    "\n",
    "print('Hard to tell because of scale, but China spending is over $1 trillion and cases is over 91k')"
   ]
  },
  {
   "cell_type": "code",
   "execution_count": 76,
   "metadata": {},
   "outputs": [
    {
     "data": {
      "image/png": "[encoded data removed]",
      "text/plain": [
       "<Figure size 432x288 with 1 Axes>"
      ]
     },
     "metadata": {
      "needs_background": "light"
     },
     "output_type": "display_data"
    },
    {
     "name": "stdout",
     "output_type": "stream",
     "text": [
      "Hard to tell because of scale, but Italy spending is $4 billion and cases is over 500k\n"
     ]
    }
   ],
   "source": [
    "#italy spending and cases.  Cannot tell anything because italy spending is 4billion and cases is over 500k\n",
    "plt.plot(italy['Date'],italy['E3_Fiscal_measures'],label='Italy Spending')\n",
    "plt.plot(italy['Date'],italy['ConfirmedCases'],label='Italy cases')\n",
    "plt.xticks(rotation='vertical')\n",
    "plt.title('Italy Spending and Cases over time')\n",
    "plt.xlabel('Date')\n",
    "plt.ylabel('Spending in Billion(s)($)')\n",
    "plt.legend()\n",
    "plt.show()\n",
    "\n",
    "\n",
    "print('Hard to tell because of scale, but Italy spending is $4 billion and cases is over 500k')"
   ]
  },
  {
   "cell_type": "code",
   "execution_count": 81,
   "metadata": {},
   "outputs": [
    {
     "data": {
      "image/png": "[encoded data removed]",
      "text/plain": [
       "<Figure size 432x288 with 1 Axes>"
      ]
     },
     "metadata": {
      "needs_background": "light"
     },
     "output_type": "display_data"
    },
    {
     "name": "stdout",
     "output_type": "stream",
     "text": [
      "Hard to tell because of scale, but Sweden spending is $7 billion and cases is over 109k\n"
     ]
    }
   ],
   "source": [
    "#Sweden spending and cases.  Cannot tell anything because sweden spending is 7billion and cases is over 109k\n",
    "plt.plot(meatball['Date'],meatball['E3_Fiscal_measures'], label='Sweden Spending')\n",
    "plt.plot(meatball['Date'],meatball['ConfirmedCases'],label='Sweden cases')\n",
    "plt.xticks(rotation='vertical')\n",
    "plt.title('Sweden Spending and Cases over time')\n",
    "plt.xlabel('Date')\n",
    "plt.ylabel('Spending in Billion(s)($)')\n",
    "plt.legend()\n",
    "plt.show()\n",
    "\n",
    "print('Hard to tell because of scale, but Sweden spending is $7 billion and cases is over 109k')"
   ]
  },
  {
   "cell_type": "code",
   "execution_count": 82,
   "metadata": {},
   "outputs": [
    {
     "data": {
      "image/png": "[encoded data removed]",
      "text/plain": [
       "<Figure size 432x288 with 1 Axes>"
      ]
     },
     "metadata": {
      "needs_background": "light"
     },
     "output_type": "display_data"
    },
    {
     "name": "stdout",
     "output_type": "stream",
     "text": [
      "New Zealand spent $0 and cases just over 1.6k\n"
     ]
    }
   ],
   "source": [
    "#newzealand spending and cases.  NewZealand spending is 0 and cases is over 1.6k.  The country is just beginning to talk about economic impact now that COVID is none existent in the country\n",
    "plt.plot(nz['Date'],nz['E3_Fiscal_measures'], label='New Zealand Spending')\n",
    "plt.plot(nz['Date'],nz['ConfirmedCases'], label='New Zealand cases')\n",
    "plt.xticks(rotation='vertical')\n",
    "plt.title('Sweden Spending and Cases over time')\n",
    "plt.xlabel('Date')\n",
    "plt.ylabel('Cases of COVID')\n",
    "plt.legend()\n",
    "plt.show()\n",
    "\n",
    "print('New Zealand spent $0 and cases just over 1.6k')"
   ]
  },
  {
   "cell_type": "code",
   "execution_count": 88,
   "metadata": {},
   "outputs": [
    {
     "data": {
      "image/png": "[encoded data removed]",
      "text/plain": [
       "<Figure size 432x288 with 1 Axes>"
      ]
     },
     "metadata": {
      "needs_background": "light"
     },
     "output_type": "display_data"
    },
    {
     "name": "stdout",
     "output_type": "stream",
     "text": [
      "Graph is interesting because it shows China spending a little and adding more in the long run. The US in contrast spent a lot up front and not as much later.\n"
     ]
    }
   ],
   "source": [
    "#China v US economic spending\n",
    "plt.plot(china['Date'],china['E3_Fiscal_measures'], label ='China spending')\n",
    "plt.plot(us['Date'],us['E3_Fiscal_measures'], label = 'US spending')\n",
    "plt.xticks(rotation='vertical')\n",
    "plt.title('China Spending vs US Spending over time')\n",
    "plt.xlabel('Date')\n",
    "plt.ylabel('Spending in Trillion(s)($)')\n",
    "plt.legend()\n",
    "plt.show()\n",
    "\n",
    "print('Graph is interesting because it shows China spending a little and adding more in the long run. The US in contrast spent a lot up front and not as much later.')"
   ]
  },
  {
   "cell_type": "code",
   "execution_count": 90,
   "metadata": {},
   "outputs": [
    {
     "data": {
      "image/png": "[encoded data removed]",
      "text/plain": [
       "<Figure size 432x288 with 1 Axes>"
      ]
     },
     "metadata": {
      "needs_background": "light"
     },
     "output_type": "display_data"
    },
    {
     "name": "stdout",
     "output_type": "stream",
     "text": [
      "Japan is interesting because it spend a little over 20% additional of its annual GDP on fighting COVID.  While the US spent rougly 12% over its annual of GDP on COVID.\n"
     ]
    }
   ],
   "source": [
    "#japan v us economic spending\n",
    "plt.plot(japan['Date'],japan['E3_Fiscal_measures'], label='Japan spending')\n",
    "plt.plot(us['Date'],us['E3_Fiscal_measures'], label='US spending')\n",
    "plt.xticks(rotation='vertical')\n",
    "plt.title('Japan Spending vs US Spending over time')\n",
    "plt.xlabel('Date')\n",
    "plt.ylabel('Spending in Trillion(s)($)')\n",
    "plt.legend()\n",
    "plt.show()\n",
    "\n",
    "print('Japan is interesting because it spend a little over 20% additional of its annual GDP on fighting COVID.  While the US spent rougly 12% over its annual of GDP on COVID.')"
   ]
  },
  {
   "cell_type": "code",
   "execution_count": 93,
   "metadata": {},
   "outputs": [
    {
     "data": {
      "image/png": "[encoded data removed]",
      "text/plain": [
       "<Figure size 432x288 with 1 Axes>"
      ]
     },
     "metadata": {
      "needs_background": "light"
     },
     "output_type": "display_data"
    },
    {
     "name": "stdout",
     "output_type": "stream",
     "text": [
      "UK spending is interesting because it is very little compared to counterpart in the US. UK spent $181billion while the US spent $2.53 trillion.\n"
     ]
    }
   ],
   "source": [
    "#uk v us economic spending\n",
    "plt.plot(uk['Date'],uk['E3_Fiscal_measures'],label='UK spending')\n",
    "plt.plot(us['Date'],us['E3_Fiscal_measures'], label='US spending')\n",
    "plt.xticks(rotation='vertical')\n",
    "plt.title('UK Spending vs US Spending over time')\n",
    "plt.xlabel('Date')\n",
    "plt.ylabel('Spending in Trillion(s)($)')\n",
    "plt.legend()\n",
    "plt.show()\n",
    "\n",
    "print('UK spending is interesting because it is very little compared to counterpart in the US. UK spent $181billion while the US spent $2.53 trillion.')"
   ]
  },
  {
   "cell_type": "code",
   "execution_count": 95,
   "metadata": {},
   "outputs": [
    {
     "data": {
      "image/png": "[encoded data removed]",
      "text/plain": [
       "<Figure size 432x288 with 1 Axes>"
      ]
     },
     "metadata": {
      "needs_background": "light"
     },
     "output_type": "display_data"
    },
    {
     "name": "stdout",
     "output_type": "stream",
     "text": [
      "The relationship on spending between the US and Brazil is interesting because they have similar population size.  Brazil around 220 million people. The US around 330 million people. Both of these countries also had some of the most cases in the world.  The US had 8 million cases and Brazil had little over 5.5million cases.\n"
     ]
    }
   ],
   "source": [
    "#brazil v us economic spending\n",
    "plt.plot(brazil['Date'],brazil['E3_Fiscal_measures'], label='Brazil spending')\n",
    "plt.plot(us['Date'],us['E3_Fiscal_measures'], label='US spending')\n",
    "plt.xticks(rotation='vertical')\n",
    "plt.title('Brazil Spending vs US Spending over time')\n",
    "plt.xlabel('Date')\n",
    "plt.ylabel('Spending in Trillion(s)($)')\n",
    "plt.legend()\n",
    "plt.show()\n",
    "\n",
    "print('The relationship on spending between the US and Brazil is interesting because they have similar population size.  Brazil around 220 million people. The US around 330 million people. Both of these countries also had some of the most cases in the world.  The US had 8 million cases and Brazil had little over 5.5million cases.')"
   ]
  },
  {
   "cell_type": "code",
   "execution_count": null,
   "metadata": {},
   "outputs": [],
   "source": []
  }
 ],
 "metadata": {
  "kernelspec": {
   "display_name": "PythonDataUPenn",
   "language": "python",
   "name": "pythondataupenn"
  },
  "language_info": {
   "codemirror_mode": {
    "name": "ipython",
    "version": 3
   },
   "file_extension": ".py",
   "mimetype": "text/x-python",
   "name": "python",
   "nbconvert_exporter": "python",
   "pygments_lexer": "ipython3",
   "version": "3.6.10"
  }
 },
 "nbformat": 4,
 "nbformat_minor": 4
}
