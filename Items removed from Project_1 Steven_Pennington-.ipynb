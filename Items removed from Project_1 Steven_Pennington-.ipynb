{
 "cells": [
  {
   "cell_type": "markdown",
   "metadata": {},
   "source": [
    "#last day everyone reported.  All 8 countries. \n",
    "last_report = data.loc[data['Date']=='2020-10-22']\n",
    "last_report"
   ]
  },
  {
   "cell_type": "markdown",
   "metadata": {},
   "source": [
    "#look at descriptive statistics of all mandates on last day. \n",
    "last_report.describe()"
   ]
  },
  {
   "cell_type": "code",
   "execution_count": null,
   "metadata": {},
   "outputs": [],
   "source": []
  },
  {
   "cell_type": "markdown",
   "metadata": {},
   "source": [
    "c1: 0 - no measures 1 - recommend closing 2 - require closing (only some levels or categories, eg just high school, or just public schools) 3 - require closing all levels Blank - no data c2: 0 - no measures 1 - recommend closing (or recommend work from home) 2 - require closing (or work from home) for some sectors or categories of workers 3 - require closing (or work from home) for all-but-essential workplaces (eg grocery stores, doctors) Blank - no data c6: 0 - no measures 1 - recommend not leaving house 2 - require not leaving house with exceptions for daily exercise, grocery shopping, and 'essential' trips 3 - require not leaving house with minimal exceptions (eg allowed to leave once a week, or only one person can leave at a time, etc) Blank - no data h6: 0 - No policy 1 - Recommended 2 - Required in some specified shared/public spaces outside the home with other people present, or some situations when social distancing not possible 3 - Required in all shared/public spaces outside the home with other people present or all situations when social distancing not possible 4 - Required outside the home at all times regardless of location or presence of other people"
   ]
  },
  {
   "cell_type": "markdown",
   "metadata": {},
   "source": [
    "#graph of all countries over time and spending\n",
    "plt.plot(df['Date'],df['E3_Fiscal_measures'])\n",
    "plt.xticks(rotation='vertical')"
   ]
  },
  {
   "cell_type": "code",
   "execution_count": null,
   "metadata": {},
   "outputs": [],
   "source": [
    "#figure looking at all 8 countries and amount of money spent during COVID\n",
    "fig, ax = plt.subplots()\n",
    "\n",
    "brazil = df.loc[df['CountryName']=='Brazil']\n",
    "ax.plot(brazil['Date'],brazil['E3_Fiscal_measures'], label = 'Brazil')\n",
    "\n",
    "china=df.loc[df['CountryName']=='China']\n",
    "ax.plot(china['Date'],china['E3_Fiscal_measures'],label='China')\n",
    "\n",
    "uk = df.loc[df['CountryName']=='United Kingdom']\n",
    "ax.plot(uk['Date'],uk['E3_Fiscal_measures'],label='United Kingdom')\n",
    "\n",
    "italy = df.loc[df['CountryName']=='Italy']\n",
    "ax.plot(italy['Date'],italy['E3_Fiscal_measures'],label='Italy')\n",
    "\n",
    "japan=df.loc[df['CountryName']=='Japan']\n",
    "ax.plot(japan['Date'],japan['E3_Fiscal_measures'],label='Japan')\n",
    "\n",
    "sk=df.loc[df['CountryName']=='South Korea']\n",
    "ax.plot(sk['Date'],sk['E3_Fiscal_measures'],label='South Korea')\n",
    "\n",
    "nz= df.loc[df['CountryName']=='New Zealand']\n",
    "ax.plot(nz['Date'],nz['E3_Fiscal_measures'],label='New Zealand')\n",
    "\n",
    "meatball= df.loc[df['CountryName']=='Sweden']\n",
    "ax.plot(meatball['Date'],meatball['E3_Fiscal_measures'],label='Sweden')\n",
    "\n",
    "us = df.loc[df['CountryName']=='United States']\n",
    "ax.plot(us['Date'],us['E3_Fiscal_measures'],label='US')\n",
    "\n",
    "plt.xticks(rotation='vertical')\n",
    "plt.title('Spending Over Time')\n",
    "plt.xlabel('Date')\n",
    "plt.ylabel('Spending in Trillion(s)($)')\n",
    "plt.legend()\n",
    "plt.show()"
   ]
  },
  {
   "cell_type": "code",
   "execution_count": null,
   "metadata": {},
   "outputs": [],
   "source": [
    "#US spending and cases.  Cannot tell anything because US spending is 2Trillion and cases is over 8million\n",
    "plt.plot(us['Date'],us['E3_Fiscal_measures'], label='US Spending')\n",
    "plt.plot(us['Date'],us['ConfirmedCases'], label='US cases')\n",
    "plt.xticks(rotation='vertical')\n",
    "plt.title('US Spending and Cases over time')\n",
    "plt.xlabel('Date')\n",
    "plt.ylabel('Spending in Trillion(s)($)')\n",
    "plt.legend()\n",
    "plt.show()\n",
    "\n",
    "print('Hard to tell because of scale, but US spending is $2 trillion and cases is over 8 million')"
   ]
  },
  {
   "cell_type": "code",
   "execution_count": null,
   "metadata": {},
   "outputs": [],
   "source": [
    "#China spending and cases.  Cannot tell anything because China spending is over 1Trillion and cases is over 91k\n",
    "plt.plot(china['Date'],china['E3_Fiscal_measures'],label='China Spending')\n",
    "plt.plot(china['Date'],china['ConfirmedCases'],label='China cases')\n",
    "plt.xticks(rotation='vertical')\n",
    "plt.title('China Spending and Cases over time')\n",
    "plt.xlabel('Date')\n",
    "plt.ylabel('Spending in Trillion(s)($)')\n",
    "plt.legend()\n",
    "plt.show()\n",
    "\n",
    "\n",
    "print('Hard to tell because of scale, but China spending is over $1 trillion and cases is over 91k')"
   ]
  },
  {
   "cell_type": "code",
   "execution_count": null,
   "metadata": {},
   "outputs": [],
   "source": [
    "#italy spending and cases.  Cannot tell anything because italy spending is 4billion and cases is over 500k\n",
    "plt.plot(italy['Date'],italy['E3_Fiscal_measures'],label='Italy Spending')\n",
    "plt.plot(italy['Date'],italy['ConfirmedCases'],label='Italy cases')\n",
    "plt.xticks(rotation='vertical')\n",
    "plt.title('Italy Spending and Cases over time')\n",
    "plt.xlabel('Date')\n",
    "plt.ylabel('Spending in Billion(s)($)')\n",
    "plt.legend()\n",
    "plt.show()\n",
    "\n",
    "\n",
    "print('Hard to tell because of scale, but Italy spending is $4 billion and cases is over 500k')"
   ]
  },
  {
   "cell_type": "code",
   "execution_count": null,
   "metadata": {},
   "outputs": [],
   "source": [
    "#Sweden spending and cases.  Cannot tell anything because sweden spending is 7billion and cases is over 109k\n",
    "plt.plot(meatball['Date'],meatball['E3_Fiscal_measures'], label='Sweden Spending')\n",
    "plt.plot(meatball['Date'],meatball['ConfirmedCases'],label='Sweden cases')\n",
    "plt.xticks(rotation='vertical')\n",
    "plt.title('Sweden Spending and Cases over time')\n",
    "plt.xlabel('Date')\n",
    "plt.ylabel('Spending in Billion(s)($)')\n",
    "plt.legend()\n",
    "plt.show()\n",
    "\n",
    "print('Hard to tell because of scale, but Sweden spending is $7 billion and cases is over 109k')"
   ]
  },
  {
   "cell_type": "code",
   "execution_count": null,
   "metadata": {},
   "outputs": [],
   "source": [
    "#newzealand spending and cases.  NewZealand spending is 0 and cases is over 1.6k.  The country is just beginning to talk about economic impact now that COVID is none existent in the country\n",
    "plt.plot(nz['Date'],nz['E3_Fiscal_measures'], label='New Zealand Spending')\n",
    "plt.plot(nz['Date'],nz['ConfirmedCases'], label='New Zealand cases')\n",
    "plt.xticks(rotation='vertical')\n",
    "plt.title('Sweden Spending and Cases over time')\n",
    "plt.xlabel('Date')\n",
    "plt.ylabel('Cases of COVID')\n",
    "plt.legend()\n",
    "plt.show()\n",
    "\n",
    "print('New Zealand spent $0 and cases just over 1.6k')"
   ]
  },
  {
   "cell_type": "code",
   "execution_count": null,
   "metadata": {},
   "outputs": [],
   "source": [
    "#China v US economic spending\n",
    "plt.plot(china['Date'],china['E3_Fiscal_measures'], label ='China spending')\n",
    "plt.plot(us['Date'],us['E3_Fiscal_measures'], label = 'US spending')\n",
    "plt.xticks(rotation='vertical')\n",
    "plt.title('China Spending vs US Spending over time')\n",
    "plt.xlabel('Date')\n",
    "plt.ylabel('Spending in Trillion(s)($)')\n",
    "plt.legend()\n",
    "plt.show()\n",
    "\n",
    "print('Graph is interesting because it shows China spending a little and adding more in the long run. The US in contrast spent a lot up front and not as much later.')"
   ]
  },
  {
   "cell_type": "code",
   "execution_count": null,
   "metadata": {},
   "outputs": [],
   "source": [
    "#japan v us economic spending\n",
    "plt.plot(japan['Date'],japan['E3_Fiscal_measures'], label='Japan spending')\n",
    "plt.plot(us['Date'],us['E3_Fiscal_measures'], label='US spending')\n",
    "plt.xticks(rotation='vertical')\n",
    "plt.title('Japan Spending vs US Spending over time')\n",
    "plt.xlabel('Date')\n",
    "plt.ylabel('Spending in Trillion(s)($)')\n",
    "plt.legend()\n",
    "plt.show()\n",
    "\n",
    "print('Japan is interesting because it spend a little over 20% additional of its annual GDP on fighting COVID.  While the US spent rougly 12% over its annual of GDP on COVID.')"
   ]
  },
  {
   "cell_type": "code",
   "execution_count": null,
   "metadata": {},
   "outputs": [],
   "source": [
    "#uk v us economic spending\n",
    "plt.plot(uk['Date'],uk['E3_Fiscal_measures'],label='UK spending')\n",
    "plt.plot(us['Date'],us['E3_Fiscal_measures'], label='US spending')\n",
    "plt.xticks(rotation='vertical')\n",
    "plt.title('UK Spending vs US Spending over time')\n",
    "plt.xlabel('Date')\n",
    "plt.ylabel('Spending in Trillion(s)($)')\n",
    "plt.legend()\n",
    "plt.show()\n",
    "\n",
    "print('UK spending is interesting because it is very little compared to counterpart in the US. UK spent $181billion while the US spent $2.53 trillion.'"
   ]
  },
  {
   "cell_type": "code",
   "execution_count": null,
   "metadata": {},
   "outputs": [],
   "source": [
    "#brazil v us economic spending\n",
    "plt.plot(brazil['Date'],brazil['E3_Fiscal_measures'], label='Brazil spending')\n",
    "plt.plot(us['Date'],us['E3_Fiscal_measures'], label='US spending')\n",
    "plt.xticks(rotation='vertical')\n",
    "plt.title('Brazil Spending vs US Spending over time')\n",
    "plt.xlabel('Date')\n",
    "plt.ylabel('Spending in Trillion(s)($)')\n",
    "plt.legend()\n",
    "plt.show()\n",
    "\n",
    "print('The relationship on spending between the US and Brazil is interesting because they have similar population size.  Brazil around 220 million people. The US around 330 million people. Both of these countries also had some of the most cases in the world.  The US had 8 million cases and Brazil had little over 5.5million cases.')"
   ]
  },
  {
   "cell_type": "code",
   "execution_count": null,
   "metadata": {},
   "outputs": [],
   "source": []
  }
 ],
 "metadata": {
  "kernelspec": {
   "display_name": "PythonDataUPenn",
   "language": "python",
   "name": "pythondataupenn"
  },
  "language_info": {
   "codemirror_mode": {
    "name": "ipython",
    "version": 3
   },
   "file_extension": ".py",
   "mimetype": "text/x-python",
   "name": "python",
   "nbconvert_exporter": "python",
   "pygments_lexer": "ipython3",
   "version": "3.6.10"
  }
 },
 "nbformat": 4,
 "nbformat_minor": 4
}
