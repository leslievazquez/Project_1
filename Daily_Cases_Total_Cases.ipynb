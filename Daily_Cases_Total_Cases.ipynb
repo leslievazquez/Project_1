{
 "cells": [
  {
   "cell_type": "code",
   "execution_count": 68,
   "metadata": {},
   "outputs": [
    {
     "data": {
      "text/html": [
       "<div>\n",
       "<style scoped>\n",
       "    .dataframe tbody tr th:only-of-type {\n",
       "        vertical-align: middle;\n",
       "    }\n",
       "\n",
       "    .dataframe tbody tr th {\n",
       "        vertical-align: top;\n",
       "    }\n",
       "\n",
       "    .dataframe thead th {\n",
       "        text-align: right;\n",
       "    }\n",
       "</style>\n",
       "<table border=\"1\" class=\"dataframe\">\n",
       "  <thead>\n",
       "    <tr style=\"text-align: right;\">\n",
       "      <th></th>\n",
       "      <th>Date</th>\n",
       "      <th>C1_School_closing</th>\n",
       "      <th>C2_Workplace_closing</th>\n",
       "      <th>C6_Stay_home_requirements</th>\n",
       "      <th>E1_Income_support</th>\n",
       "      <th>E3_Fiscal_measures</th>\n",
       "      <th>H6_Facial_coverings</th>\n",
       "      <th>ConfirmedCases</th>\n",
       "      <th>ConfirmedDeaths</th>\n",
       "    </tr>\n",
       "    <tr>\n",
       "      <th>CountryName</th>\n",
       "      <th></th>\n",
       "      <th></th>\n",
       "      <th></th>\n",
       "      <th></th>\n",
       "      <th></th>\n",
       "      <th></th>\n",
       "      <th></th>\n",
       "      <th></th>\n",
       "      <th></th>\n",
       "    </tr>\n",
       "  </thead>\n",
       "  <tbody>\n",
       "    <tr>\n",
       "      <th>Brazil</th>\n",
       "      <td>20200101</td>\n",
       "      <td>0.0</td>\n",
       "      <td>0.0</td>\n",
       "      <td>0.0</td>\n",
       "      <td>0.0</td>\n",
       "      <td>0.0</td>\n",
       "      <td>0.0</td>\n",
       "      <td>0.0</td>\n",
       "      <td>0.0</td>\n",
       "    </tr>\n",
       "    <tr>\n",
       "      <th>Brazil</th>\n",
       "      <td>20200102</td>\n",
       "      <td>0.0</td>\n",
       "      <td>0.0</td>\n",
       "      <td>0.0</td>\n",
       "      <td>0.0</td>\n",
       "      <td>0.0</td>\n",
       "      <td>0.0</td>\n",
       "      <td>0.0</td>\n",
       "      <td>0.0</td>\n",
       "    </tr>\n",
       "    <tr>\n",
       "      <th>Brazil</th>\n",
       "      <td>20200103</td>\n",
       "      <td>0.0</td>\n",
       "      <td>0.0</td>\n",
       "      <td>0.0</td>\n",
       "      <td>0.0</td>\n",
       "      <td>0.0</td>\n",
       "      <td>0.0</td>\n",
       "      <td>0.0</td>\n",
       "      <td>0.0</td>\n",
       "    </tr>\n",
       "    <tr>\n",
       "      <th>Brazil</th>\n",
       "      <td>20200104</td>\n",
       "      <td>0.0</td>\n",
       "      <td>0.0</td>\n",
       "      <td>0.0</td>\n",
       "      <td>0.0</td>\n",
       "      <td>0.0</td>\n",
       "      <td>0.0</td>\n",
       "      <td>0.0</td>\n",
       "      <td>0.0</td>\n",
       "    </tr>\n",
       "    <tr>\n",
       "      <th>Brazil</th>\n",
       "      <td>20200105</td>\n",
       "      <td>0.0</td>\n",
       "      <td>0.0</td>\n",
       "      <td>0.0</td>\n",
       "      <td>0.0</td>\n",
       "      <td>0.0</td>\n",
       "      <td>0.0</td>\n",
       "      <td>0.0</td>\n",
       "      <td>0.0</td>\n",
       "    </tr>\n",
       "    <tr>\n",
       "      <th>...</th>\n",
       "      <td>...</td>\n",
       "      <td>...</td>\n",
       "      <td>...</td>\n",
       "      <td>...</td>\n",
       "      <td>...</td>\n",
       "      <td>...</td>\n",
       "      <td>...</td>\n",
       "      <td>...</td>\n",
       "      <td>...</td>\n",
       "    </tr>\n",
       "    <tr>\n",
       "      <th>United States</th>\n",
       "      <td>20201021</td>\n",
       "      <td>3.0</td>\n",
       "      <td>2.0</td>\n",
       "      <td>2.0</td>\n",
       "      <td>2.0</td>\n",
       "      <td>0.0</td>\n",
       "      <td>4.0</td>\n",
       "      <td>8273304.0</td>\n",
       "      <td>221066.0</td>\n",
       "    </tr>\n",
       "    <tr>\n",
       "      <th>United States</th>\n",
       "      <td>20201022</td>\n",
       "      <td>3.0</td>\n",
       "      <td>2.0</td>\n",
       "      <td>2.0</td>\n",
       "      <td>2.0</td>\n",
       "      <td>0.0</td>\n",
       "      <td>4.0</td>\n",
       "      <td>8336282.0</td>\n",
       "      <td>222201.0</td>\n",
       "    </tr>\n",
       "    <tr>\n",
       "      <th>United States</th>\n",
       "      <td>20201023</td>\n",
       "      <td>3.0</td>\n",
       "      <td>2.0</td>\n",
       "      <td>2.0</td>\n",
       "      <td>2.0</td>\n",
       "      <td>0.0</td>\n",
       "      <td>4.0</td>\n",
       "      <td>8408340.0</td>\n",
       "      <td>223042.0</td>\n",
       "    </tr>\n",
       "    <tr>\n",
       "      <th>United States</th>\n",
       "      <td>20201024</td>\n",
       "      <td>3.0</td>\n",
       "      <td>2.0</td>\n",
       "      <td>2.0</td>\n",
       "      <td>2.0</td>\n",
       "      <td>0.0</td>\n",
       "      <td>4.0</td>\n",
       "      <td>8493669.0</td>\n",
       "      <td>223995.0</td>\n",
       "    </tr>\n",
       "    <tr>\n",
       "      <th>United States</th>\n",
       "      <td>20201025</td>\n",
       "      <td>3.0</td>\n",
       "      <td>2.0</td>\n",
       "      <td>2.0</td>\n",
       "      <td>2.0</td>\n",
       "      <td>0.0</td>\n",
       "      <td>4.0</td>\n",
       "      <td>8576725.0</td>\n",
       "      <td>224899.0</td>\n",
       "    </tr>\n",
       "  </tbody>\n",
       "</table>\n",
       "<p>2410 rows × 9 columns</p>\n",
       "</div>"
      ],
      "text/plain": [
       "                   Date  C1_School_closing  C2_Workplace_closing  \\\n",
       "CountryName                                                        \n",
       "Brazil         20200101                0.0                   0.0   \n",
       "Brazil         20200102                0.0                   0.0   \n",
       "Brazil         20200103                0.0                   0.0   \n",
       "Brazil         20200104                0.0                   0.0   \n",
       "Brazil         20200105                0.0                   0.0   \n",
       "...                 ...                ...                   ...   \n",
       "United States  20201021                3.0                   2.0   \n",
       "United States  20201022                3.0                   2.0   \n",
       "United States  20201023                3.0                   2.0   \n",
       "United States  20201024                3.0                   2.0   \n",
       "United States  20201025                3.0                   2.0   \n",
       "\n",
       "               C6_Stay_home_requirements  E1_Income_support  \\\n",
       "CountryName                                                   \n",
       "Brazil                               0.0                0.0   \n",
       "Brazil                               0.0                0.0   \n",
       "Brazil                               0.0                0.0   \n",
       "Brazil                               0.0                0.0   \n",
       "Brazil                               0.0                0.0   \n",
       "...                                  ...                ...   \n",
       "United States                        2.0                2.0   \n",
       "United States                        2.0                2.0   \n",
       "United States                        2.0                2.0   \n",
       "United States                        2.0                2.0   \n",
       "United States                        2.0                2.0   \n",
       "\n",
       "               E3_Fiscal_measures  H6_Facial_coverings  ConfirmedCases  \\\n",
       "CountryName                                                              \n",
       "Brazil                        0.0                  0.0             0.0   \n",
       "Brazil                        0.0                  0.0             0.0   \n",
       "Brazil                        0.0                  0.0             0.0   \n",
       "Brazil                        0.0                  0.0             0.0   \n",
       "Brazil                        0.0                  0.0             0.0   \n",
       "...                           ...                  ...             ...   \n",
       "United States                 0.0                  4.0       8273304.0   \n",
       "United States                 0.0                  4.0       8336282.0   \n",
       "United States                 0.0                  4.0       8408340.0   \n",
       "United States                 0.0                  4.0       8493669.0   \n",
       "United States                 0.0                  4.0       8576725.0   \n",
       "\n",
       "               ConfirmedDeaths  \n",
       "CountryName                     \n",
       "Brazil                     0.0  \n",
       "Brazil                     0.0  \n",
       "Brazil                     0.0  \n",
       "Brazil                     0.0  \n",
       "Brazil                     0.0  \n",
       "...                        ...  \n",
       "United States         221066.0  \n",
       "United States         222201.0  \n",
       "United States         223042.0  \n",
       "United States         223995.0  \n",
       "United States         224899.0  \n",
       "\n",
       "[2410 rows x 9 columns]"
      ]
     },
     "execution_count": 68,
     "metadata": {},
     "output_type": "execute_result"
    }
   ],
   "source": [
    "# Import Dependencies\n",
    "import os\n",
    "import pandas as pd\n",
    "import numpy as np\n",
    "import matplotlib.pyplot as plt\n",
    "import matplotlib.dates as mdates\n",
    "from matplotlib.dates import DateFormatter\n",
    "%matplotlib inline \n",
    "from numpy.polynomial.polynomial import polyfit\n",
    "import scipy.stats as st\n",
    "import random \n",
    "\n",
    "\n",
    "# Read in CSV File\n",
    "cases_df = pd.read_csv(\"output_data/oxford_clean3.csv\")\n",
    "\n",
    "# Set DataFrame IndexPreview CSV file\n",
    "cases_df.set_index(\"CountryName\")"
   ]
  },
  {
   "cell_type": "code",
   "execution_count": 69,
   "metadata": {},
   "outputs": [
    {
     "data": {
      "text/plain": [
       "CountryName                          object\n",
       "Date                         datetime64[ns]\n",
       "C1_School_closing                   float64\n",
       "C2_Workplace_closing                float64\n",
       "C6_Stay_home_requirements           float64\n",
       "E1_Income_support                   float64\n",
       "E3_Fiscal_measures                  float64\n",
       "H6_Facial_coverings                 float64\n",
       "ConfirmedCases                      float64\n",
       "ConfirmedDeaths                     float64\n",
       "dtype: object"
      ]
     },
     "execution_count": 69,
     "metadata": {},
     "output_type": "execute_result"
    }
   ],
   "source": [
    "# convert object to datetime\n",
    "cases_df['Date'] = pd.to_datetime(cases_df['Date'], format='%Y%m%d')\n",
    "cases_df.dropna()\n",
    "cases_df.dtypes"
   ]
  },
  {
   "cell_type": "markdown",
   "metadata": {},
   "source": [
    "# Countries' Total Cases "
   ]
  },
  {
   "cell_type": "code",
   "execution_count": 70,
   "metadata": {},
   "outputs": [
    {
     "data": {
      "image/png": "[encoded data removed]",
      "text/plain": [
       "<Figure size 432x288 with 1 Axes>"
      ]
     },
     "metadata": {
      "needs_background": "light"
     },
     "output_type": "display_data"
    }
   ],
   "source": [
    "cases_df.set_index('CountryName')\n",
    "\n",
    "fig, ax = plt.subplots()\n",
    "\n",
    "brazil = cases_df.loc[cases_df['CountryName']=='Brazil']\n",
    "ax.plot(brazil['Date'],brazil['ConfirmedCases'], label = 'Brazil')\n",
    "\n",
    "china = cases_df.loc[cases_df['CountryName']=='China']\n",
    "ax.plot(china['Date'],china['ConfirmedCases'],label='China')\n",
    "\n",
    "us = cases_df.loc[cases_df['CountryName']=='United States']\n",
    "ax.plot(us['Date'],us['ConfirmedCases'],label='US')\n",
    "\n",
    "italy = cases_df.loc[cases_df['CountryName']=='Italy']\n",
    "ax.plot(italy['Date'],italy['ConfirmedCases'],label='Italy')\n",
    "\n",
    "plt.xticks(rotation='vertical')\n",
    "plt.title('Confirmed Cases Over Time')\n",
    "plt.xlabel('Date')\n",
    "plt.ylabel('Total Cases')\n",
    "plt.legend()\n",
    "plt.show()"
   ]
  },
  {
   "cell_type": "code",
   "execution_count": 71,
   "metadata": {},
   "outputs": [
    {
     "data": {
      "image/png": "[encoded data removed]",
      "text/plain": [
       "<Figure size 432x288 with 1 Axes>"
      ]
     },
     "metadata": {
      "needs_background": "light"
     },
     "output_type": "display_data"
    }
   ],
   "source": [
    "fig, ax = plt.subplots()\n",
    "\n",
    "uk = cases_df.loc[cases_df['CountryName']=='United Kingdom']\n",
    "ax.plot(uk['Date'],uk['ConfirmedCases'],label='United Kingdom')\n",
    "\n",
    "japan = cases_df.loc[cases_df['CountryName']=='Japan']\n",
    "ax.plot(japan['Date'],japan['ConfirmedCases'],label='Japan')\n",
    "\n",
    "nz = cases_df.loc[cases_df['CountryName']=='New Zealand']\n",
    "ax.plot(nz['Date'],nz['ConfirmedCases'],label='New Zealand')\n",
    "\n",
    "sweden = cases_df.loc[cases_df['CountryName']=='Sweden']\n",
    "ax.plot(sweden['Date'],sweden['ConfirmedCases'],label='Sweden')\n",
    "\n",
    "plt.xticks(rotation='vertical')\n",
    "plt.title('Total Cases Over Time')\n",
    "plt.xlabel('Date')\n",
    "plt.ylabel('Total Cases')\n",
    "plt.legend()\n",
    "plt.show()"
   ]
  },
  {
   "cell_type": "markdown",
   "metadata": {},
   "source": [
    "# Countries' Total Deaths"
   ]
  },
  {
   "cell_type": "code",
   "execution_count": 72,
   "metadata": {},
   "outputs": [
    {
     "data": {
      "image/png": "[encoded data removed]",
      "text/plain": [
       "<Figure size 432x288 with 1 Axes>"
      ]
     },
     "metadata": {
      "needs_background": "light"
     },
     "output_type": "display_data"
    }
   ],
   "source": [
    "fig, ax = plt.subplots()\n",
    "\n",
    "brazil = cases_df.loc[cases_df['CountryName']=='Brazil']\n",
    "ax.plot(brazil['Date'],brazil['ConfirmedDeaths'], label = 'Brazil')\n",
    "\n",
    "china = cases_df.loc[cases_df['CountryName']=='China']\n",
    "ax.plot(china['Date'],china['ConfirmedDeaths'],label='China')\n",
    "\n",
    "italy = cases_df.loc[cases_df['CountryName']=='Italy']\n",
    "ax.plot(italy['Date'],italy['ConfirmedDeaths'],label='Italy')\n",
    "\n",
    "us = cases_df.loc[cases_df['CountryName']=='United States']\n",
    "ax.plot(us['Date'],us['ConfirmedDeaths'],label='US')\n",
    "\n",
    "plt.xticks(rotation='vertical')\n",
    "plt.title('Total Deaths Over Time for Strict Countries')\n",
    "plt.xlabel('Date')\n",
    "plt.ylabel('Total Cases')\n",
    "plt.legend()\n",
    "plt.show()"
   ]
  },
  {
   "cell_type": "code",
   "execution_count": 73,
   "metadata": {},
   "outputs": [
    {
     "data": {
      "image/png": "[encoded data removed]",
      "text/plain": [
       "<Figure size 432x288 with 1 Axes>"
      ]
     },
     "metadata": {
      "needs_background": "light"
     },
     "output_type": "display_data"
    }
   ],
   "source": [
    "fig, ax = plt.subplots()\n",
    "\n",
    "japan = cases_df.loc[cases_df['CountryName']=='Japan']\n",
    "ax.plot(japan['Date'],japan['ConfirmedDeaths'],label='Japan')\n",
    "\n",
    "nz = cases_df.loc[cases_df['CountryName']=='New Zealand']\n",
    "ax.plot(nz['Date'],nz['ConfirmedDeaths'],label='New Zealand')\n",
    "\n",
    "sweden = cases_df.loc[cases_df['CountryName']=='Sweden']\n",
    "ax.plot(sweden['Date'],sweden['ConfirmedDeaths'],label='Sweden')\n",
    "\n",
    "uk = cases_df.loc[cases_df['CountryName']=='United Kingdom']\n",
    "ax.plot(uk['Date'],uk['ConfirmedDeaths'],label='United Kingdom')\n",
    "\n",
    "plt.xticks(rotation='vertical')\n",
    "plt.title('Total Deaths Over Time for Relaxed Countries')\n",
    "plt.xlabel('Date')\n",
    "plt.ylabel('Total Cases')\n",
    "plt.legend()\n",
    "plt.show()"
   ]
  },
  {
   "cell_type": "code",
   "execution_count": null,
   "metadata": {},
   "outputs": [],
   "source": [
    "# countrymeters.info --> total populations as of Jan 1, 2020.\n",
    "braz_pop = 212559417\n",
    "china_pop = 1408526449\n",
    "ital_pop = 60005743\n",
    "jp_pop = 125938348\n",
    "nz_pop = 4822233\n",
    "swe_pop = 10151866\n",
    "uk_pop = 66575226\n",
    "us_pop = 330380000"
   ]
  },
  {
   "cell_type": "code",
   "execution_count": 95,
   "metadata": {},
   "outputs": [
    {
     "name": "stderr",
     "output_type": "stream",
     "text": [
      "/opt/anaconda3/envs/PythonData1/lib/python3.6/site-packages/ipykernel_launcher.py:6: SettingWithCopyWarning: \n",
      "A value is trying to be set on a copy of a slice from a DataFrame.\n",
      "Try using .loc[row_indexer,col_indexer] = value instead\n",
      "\n",
      "See the caveats in the documentation: https://pandas.pydata.org/pandas-docs/stable/user_guide/indexing.html#returning-a-view-versus-a-copy\n",
      "  \n"
     ]
    },
    {
     "data": {
      "text/html": [
       "<div>\n",
       "<style scoped>\n",
       "    .dataframe tbody tr th:only-of-type {\n",
       "        vertical-align: middle;\n",
       "    }\n",
       "\n",
       "    .dataframe tbody tr th {\n",
       "        vertical-align: top;\n",
       "    }\n",
       "\n",
       "    .dataframe thead th {\n",
       "        text-align: right;\n",
       "    }\n",
       "</style>\n",
       "<table border=\"1\" class=\"dataframe\">\n",
       "  <thead>\n",
       "    <tr style=\"text-align: right;\">\n",
       "      <th></th>\n",
       "      <th>Date</th>\n",
       "      <th>C1_School_closing</th>\n",
       "      <th>C2_Workplace_closing</th>\n",
       "      <th>C6_Stay_home_requirements</th>\n",
       "      <th>E1_Income_support</th>\n",
       "      <th>E3_Fiscal_measures</th>\n",
       "      <th>H6_Facial_coverings</th>\n",
       "      <th>ConfirmedCases</th>\n",
       "      <th>ConfirmedDeaths</th>\n",
       "      <th>total_pop</th>\n",
       "    </tr>\n",
       "    <tr>\n",
       "      <th>CountryName</th>\n",
       "      <th></th>\n",
       "      <th></th>\n",
       "      <th></th>\n",
       "      <th></th>\n",
       "      <th></th>\n",
       "      <th></th>\n",
       "      <th></th>\n",
       "      <th></th>\n",
       "      <th></th>\n",
       "      <th></th>\n",
       "    </tr>\n",
       "  </thead>\n",
       "  <tbody>\n",
       "    <tr>\n",
       "      <th>Brazil</th>\n",
       "      <td>2020-10-22</td>\n",
       "      <td>3.0</td>\n",
       "      <td>2.0</td>\n",
       "      <td>2.0</td>\n",
       "      <td>1.0</td>\n",
       "      <td>0.000000e+00</td>\n",
       "      <td>4.0</td>\n",
       "      <td>5298772.0</td>\n",
       "      <td>155403.0</td>\n",
       "      <td>212559417</td>\n",
       "    </tr>\n",
       "    <tr>\n",
       "      <th>China</th>\n",
       "      <td>2020-10-22</td>\n",
       "      <td>1.0</td>\n",
       "      <td>2.0</td>\n",
       "      <td>3.0</td>\n",
       "      <td>1.0</td>\n",
       "      <td>0.000000e+00</td>\n",
       "      <td>2.0</td>\n",
       "      <td>91044.0</td>\n",
       "      <td>4739.0</td>\n",
       "      <td>1408526449</td>\n",
       "    </tr>\n",
       "    <tr>\n",
       "      <th>United Kingdom</th>\n",
       "      <td>2020-10-22</td>\n",
       "      <td>3.0</td>\n",
       "      <td>2.0</td>\n",
       "      <td>1.0</td>\n",
       "      <td>2.0</td>\n",
       "      <td>5.305826e+09</td>\n",
       "      <td>3.0</td>\n",
       "      <td>789229.0</td>\n",
       "      <td>44158.0</td>\n",
       "      <td>60005743</td>\n",
       "    </tr>\n",
       "    <tr>\n",
       "      <th>Italy</th>\n",
       "      <td>2020-10-22</td>\n",
       "      <td>1.0</td>\n",
       "      <td>2.0</td>\n",
       "      <td>0.0</td>\n",
       "      <td>1.0</td>\n",
       "      <td>0.000000e+00</td>\n",
       "      <td>3.0</td>\n",
       "      <td>449648.0</td>\n",
       "      <td>36832.0</td>\n",
       "      <td>125938348</td>\n",
       "    </tr>\n",
       "    <tr>\n",
       "      <th>Japan</th>\n",
       "      <td>2020-10-22</td>\n",
       "      <td>1.0</td>\n",
       "      <td>1.0</td>\n",
       "      <td>1.0</td>\n",
       "      <td>1.0</td>\n",
       "      <td>0.000000e+00</td>\n",
       "      <td>1.0</td>\n",
       "      <td>94524.0</td>\n",
       "      <td>1685.0</td>\n",
       "      <td>4822233</td>\n",
       "    </tr>\n",
       "    <tr>\n",
       "      <th>New Zealand</th>\n",
       "      <td>2020-10-22</td>\n",
       "      <td>0.0</td>\n",
       "      <td>0.0</td>\n",
       "      <td>0.0</td>\n",
       "      <td>2.0</td>\n",
       "      <td>0.000000e+00</td>\n",
       "      <td>1.0</td>\n",
       "      <td>1558.0</td>\n",
       "      <td>25.0</td>\n",
       "      <td>10151866</td>\n",
       "    </tr>\n",
       "    <tr>\n",
       "      <th>Sweden</th>\n",
       "      <td>2020-10-22</td>\n",
       "      <td>0.0</td>\n",
       "      <td>1.0</td>\n",
       "      <td>0.0</td>\n",
       "      <td>2.0</td>\n",
       "      <td>0.000000e+00</td>\n",
       "      <td>0.0</td>\n",
       "      <td>109326.0</td>\n",
       "      <td>5917.0</td>\n",
       "      <td>66575226</td>\n",
       "    </tr>\n",
       "    <tr>\n",
       "      <th>United States</th>\n",
       "      <td>2020-10-22</td>\n",
       "      <td>3.0</td>\n",
       "      <td>2.0</td>\n",
       "      <td>2.0</td>\n",
       "      <td>2.0</td>\n",
       "      <td>0.000000e+00</td>\n",
       "      <td>4.0</td>\n",
       "      <td>8336282.0</td>\n",
       "      <td>222201.0</td>\n",
       "      <td>330380000</td>\n",
       "    </tr>\n",
       "  </tbody>\n",
       "</table>\n",
       "</div>"
      ],
      "text/plain": [
       "                     Date  C1_School_closing  C2_Workplace_closing  \\\n",
       "CountryName                                                          \n",
       "Brazil         2020-10-22                3.0                   2.0   \n",
       "China          2020-10-22                1.0                   2.0   \n",
       "United Kingdom 2020-10-22                3.0                   2.0   \n",
       "Italy          2020-10-22                1.0                   2.0   \n",
       "Japan          2020-10-22                1.0                   1.0   \n",
       "New Zealand    2020-10-22                0.0                   0.0   \n",
       "Sweden         2020-10-22                0.0                   1.0   \n",
       "United States  2020-10-22                3.0                   2.0   \n",
       "\n",
       "                C6_Stay_home_requirements  E1_Income_support  \\\n",
       "CountryName                                                    \n",
       "Brazil                                2.0                1.0   \n",
       "China                                 3.0                1.0   \n",
       "United Kingdom                        1.0                2.0   \n",
       "Italy                                 0.0                1.0   \n",
       "Japan                                 1.0                1.0   \n",
       "New Zealand                           0.0                2.0   \n",
       "Sweden                                0.0                2.0   \n",
       "United States                         2.0                2.0   \n",
       "\n",
       "                E3_Fiscal_measures  H6_Facial_coverings  ConfirmedCases  \\\n",
       "CountryName                                                               \n",
       "Brazil                0.000000e+00                  4.0       5298772.0   \n",
       "China                 0.000000e+00                  2.0         91044.0   \n",
       "United Kingdom        5.305826e+09                  3.0        789229.0   \n",
       "Italy                 0.000000e+00                  3.0        449648.0   \n",
       "Japan                 0.000000e+00                  1.0         94524.0   \n",
       "New Zealand           0.000000e+00                  1.0          1558.0   \n",
       "Sweden                0.000000e+00                  0.0        109326.0   \n",
       "United States         0.000000e+00                  4.0       8336282.0   \n",
       "\n",
       "                ConfirmedDeaths   total_pop  \n",
       "CountryName                                  \n",
       "Brazil                 155403.0   212559417  \n",
       "China                    4739.0  1408526449  \n",
       "United Kingdom          44158.0    60005743  \n",
       "Italy                   36832.0   125938348  \n",
       "Japan                    1685.0     4822233  \n",
       "New Zealand                25.0    10151866  \n",
       "Sweden                   5917.0    66575226  \n",
       "United States          222201.0   330380000  "
      ]
     },
     "execution_count": 95,
     "metadata": {},
     "output_type": "execute_result"
    }
   ],
   "source": [
    "### CASES BY PERCENTAGE OF COUNTRIES POPULATION ###\n",
    "pops = (212559417, 1408526449, 60005743, 125938348, 4822233, 10151866, 66575226, 330380000)\n",
    "\n",
    "last_df = cases_df.loc[cases_df['Date']=='2020-10-22']\n",
    "\n",
    "last_df[\"total_pop\"] = pops\n",
    "last_df = last_df.set_index('CountryName')\n",
    "last_df"
   ]
  },
  {
   "cell_type": "code",
   "execution_count": 96,
   "metadata": {},
   "outputs": [
    {
     "data": {
      "text/html": [
       "<style  type=\"text/css\" >\n",
       "</style><table id=\"T_deabd07a_206d_11eb_acd5_acde48001122\" ><thead>    <tr>        <th class=\"blank level0\" ></th>        <th class=\"col_heading level0 col0\" >Percent_Infected</th>        <th class=\"col_heading level0 col1\" >Percent_Deceased</th>    </tr>    <tr>        <th class=\"index_name level0\" >CountryName</th>        <th class=\"blank\" ></th>        <th class=\"blank\" ></th>    </tr></thead><tbody>\n",
       "                <tr>\n",
       "                        <th id=\"T_deabd07a_206d_11eb_acd5_acde48001122level0_row0\" class=\"row_heading level0 row0\" >Brazil</th>\n",
       "                        <td id=\"T_deabd07a_206d_11eb_acd5_acde48001122row0_col0\" class=\"data row0 col0\" >2.492843%</td>\n",
       "                        <td id=\"T_deabd07a_206d_11eb_acd5_acde48001122row0_col1\" class=\"data row0 col1\" >0.073110%</td>\n",
       "            </tr>\n",
       "            <tr>\n",
       "                        <th id=\"T_deabd07a_206d_11eb_acd5_acde48001122level0_row1\" class=\"row_heading level0 row1\" >China</th>\n",
       "                        <td id=\"T_deabd07a_206d_11eb_acd5_acde48001122row1_col0\" class=\"data row1 col0\" >0.006464%</td>\n",
       "                        <td id=\"T_deabd07a_206d_11eb_acd5_acde48001122row1_col1\" class=\"data row1 col1\" >0.000336%</td>\n",
       "            </tr>\n",
       "            <tr>\n",
       "                        <th id=\"T_deabd07a_206d_11eb_acd5_acde48001122level0_row2\" class=\"row_heading level0 row2\" >United Kingdom</th>\n",
       "                        <td id=\"T_deabd07a_206d_11eb_acd5_acde48001122row2_col0\" class=\"data row2 col0\" >1.315256%</td>\n",
       "                        <td id=\"T_deabd07a_206d_11eb_acd5_acde48001122row2_col1\" class=\"data row2 col1\" >0.073590%</td>\n",
       "            </tr>\n",
       "            <tr>\n",
       "                        <th id=\"T_deabd07a_206d_11eb_acd5_acde48001122level0_row3\" class=\"row_heading level0 row3\" >Italy</th>\n",
       "                        <td id=\"T_deabd07a_206d_11eb_acd5_acde48001122row3_col0\" class=\"data row3 col0\" >0.357038%</td>\n",
       "                        <td id=\"T_deabd07a_206d_11eb_acd5_acde48001122row3_col1\" class=\"data row3 col1\" >0.029246%</td>\n",
       "            </tr>\n",
       "            <tr>\n",
       "                        <th id=\"T_deabd07a_206d_11eb_acd5_acde48001122level0_row4\" class=\"row_heading level0 row4\" >Japan</th>\n",
       "                        <td id=\"T_deabd07a_206d_11eb_acd5_acde48001122row4_col0\" class=\"data row4 col0\" >1.960171%</td>\n",
       "                        <td id=\"T_deabd07a_206d_11eb_acd5_acde48001122row4_col1\" class=\"data row4 col1\" >0.034942%</td>\n",
       "            </tr>\n",
       "            <tr>\n",
       "                        <th id=\"T_deabd07a_206d_11eb_acd5_acde48001122level0_row5\" class=\"row_heading level0 row5\" >New Zealand</th>\n",
       "                        <td id=\"T_deabd07a_206d_11eb_acd5_acde48001122row5_col0\" class=\"data row5 col0\" >0.015347%</td>\n",
       "                        <td id=\"T_deabd07a_206d_11eb_acd5_acde48001122row5_col1\" class=\"data row5 col1\" >0.000246%</td>\n",
       "            </tr>\n",
       "            <tr>\n",
       "                        <th id=\"T_deabd07a_206d_11eb_acd5_acde48001122level0_row6\" class=\"row_heading level0 row6\" >Sweden</th>\n",
       "                        <td id=\"T_deabd07a_206d_11eb_acd5_acde48001122row6_col0\" class=\"data row6 col0\" >0.164214%</td>\n",
       "                        <td id=\"T_deabd07a_206d_11eb_acd5_acde48001122row6_col1\" class=\"data row6 col1\" >0.008888%</td>\n",
       "            </tr>\n",
       "            <tr>\n",
       "                        <th id=\"T_deabd07a_206d_11eb_acd5_acde48001122level0_row7\" class=\"row_heading level0 row7\" >United States</th>\n",
       "                        <td id=\"T_deabd07a_206d_11eb_acd5_acde48001122row7_col0\" class=\"data row7 col0\" >2.523241%</td>\n",
       "                        <td id=\"T_deabd07a_206d_11eb_acd5_acde48001122row7_col1\" class=\"data row7 col1\" >0.067256%</td>\n",
       "            </tr>\n",
       "    </tbody></table>"
      ],
      "text/plain": [
       "<pandas.io.formats.style.Styler at 0x7fa02ad7d160>"
      ]
     },
     "execution_count": 96,
     "metadata": {},
     "output_type": "execute_result"
    }
   ],
   "source": [
    "\n",
    "perc_cases = (last_df[\"ConfirmedCases\"]/last_df[\"total_pop\"])\n",
    "perc_cases\n",
    "\n",
    "perc_deaths = (last_df[\"ConfirmedDeaths\"]/last_df[\"total_pop\"])\n",
    "perc_deaths\n",
    "\n",
    "\n",
    "perc_summ = pd.DataFrame({'Percent_Infected':perc_cases, 'Percent_Deceased':perc_deaths})\n",
    "perc_summ.style.format({\"Percent_Infected\":\"{:.6%}\", \"Percent_Deceased\":\"{:.6%}\"})"
   ]
  },
  {
   "cell_type": "markdown",
   "metadata": {},
   "source": [
    "# Statistical Analysis"
   ]
  },
  {
   "cell_type": "markdown",
   "metadata": {},
   "source": [
    "Testing our Hypothesis for Infection Rate (2-Sample T-Test)"
   ]
  },
  {
   "cell_type": "code",
   "execution_count": 105,
   "metadata": {},
   "outputs": [],
   "source": [
    "# Determine the mean infection rate for strict countries\n",
    "strict_inf = perc_summ.iloc[[0,1,3,7],0:1]\n",
    "strict_mean = strict_inf.mean()\n"
   ]
  },
  {
   "cell_type": "code",
   "execution_count": 106,
   "metadata": {},
   "outputs": [],
   "source": [
    "# Determine the mean infection rate for relaxed countries\n",
    "relax_inf = perc_summ.iloc[[2,4,5,6],0:1]\n",
    "relax_mean = relax_inf.mean()\n"
   ]
  },
  {
   "cell_type": "code",
   "execution_count": 108,
   "metadata": {},
   "outputs": [
    {
     "data": {
      "text/plain": [
       "Ttest_indResult(statistic=array([0.5860462]), pvalue=array([0.58177003]))"
      ]
     },
     "execution_count": 108,
     "metadata": {},
     "output_type": "execute_result"
    }
   ],
   "source": [
    "#Calculate Independent T-test (p-value = 0.05)\n",
    "st.ttest_ind(strict_inf, relax_inf, equal_var=False)\n"
   ]
  },
  {
   "cell_type": "markdown",
   "metadata": {},
   "source": [
    "Testing our Hypothesis for Mortality Rate (2-Sample T-Test)"
   ]
  },
  {
   "cell_type": "code",
   "execution_count": 124,
   "metadata": {},
   "outputs": [],
   "source": [
    "# Determine the mean mortality rate for strict countries\n",
    "strict_dth = perc_summ.iloc[[0,1,3,7],-1:]\n",
    "strict_mean = strict_dth.mean()"
   ]
  },
  {
   "cell_type": "code",
   "execution_count": 125,
   "metadata": {},
   "outputs": [],
   "source": [
    "# Determine the mean infection rate for relaxed countries\n",
    "relax_dth = perc_summ.iloc[[2,4,5,6],-1:]\n",
    "relax_mean = relax_dth.mean()"
   ]
  },
  {
   "cell_type": "code",
   "execution_count": 126,
   "metadata": {},
   "outputs": [
    {
     "data": {
      "text/plain": [
       "Ttest_indResult(statistic=array([0.55081011]), pvalue=array([0.60168065]))"
      ]
     },
     "execution_count": 126,
     "metadata": {},
     "output_type": "execute_result"
    }
   ],
   "source": [
    "# Calculate Independent T-test (p-value = 0.05)\n",
    "st.ttest_ind(strict_dth, relax_dth, equal_var=False)"
   ]
  },
  {
   "cell_type": "code",
   "execution_count": 132,
   "metadata": {},
   "outputs": [
    {
     "data": {
      "text/plain": [
       "Text(0, 0.5, '% of Population Infected')"
      ]
     },
     "execution_count": 132,
     "metadata": {},
     "output_type": "execute_result"
    },
    {
     "data": {
      "image/png": "[encoded data removed]",
      "text/plain": [
       "<Figure size 432x288 with 1 Axes>"
      ]
     },
     "metadata": {
      "needs_background": "light"
     },
     "output_type": "display_data"
    }
   ],
   "source": [
    "# Rate of Infection across All Countries\n",
    "plt.bar(perc_summ['Percent_Infected'].index,perc_summ['Percent_Infected']*100,\\\n",
    "        color=['black', 'red', 'green', 'blue', 'cyan','peru','purple','orange'])\n",
    "plt.xticks(rotation='vertical')\n",
    "plt.title('Rate of Infection across All Countries')\n",
    "plt.xlabel('Countries')\n",
    "plt.ylabel('% of Population Infected')"
   ]
  },
  {
   "cell_type": "code",
   "execution_count": 133,
   "metadata": {},
   "outputs": [
    {
     "data": {
      "text/plain": [
       "Text(0, 0.5, '% of Population Deceased')"
      ]
     },
     "execution_count": 133,
     "metadata": {},
     "output_type": "execute_result"
    },
    {
     "data": {
      "image/png": "[encoded data removed]",
      "text/plain": [
       "<Figure size 432x288 with 1 Axes>"
      ]
     },
     "metadata": {
      "needs_background": "light"
     },
     "output_type": "display_data"
    }
   ],
   "source": [
    "plt.bar(perc_summ['Percent_Infected'].index,perc_summ['Percent_Deceased']*100,\\\n",
    "        color=['black', 'red', 'green', 'blue', 'cyan','peru','purple','orange'])\n",
    "plt.xticks(rotation='vertical')\n",
    "plt.title('Rate of Mortality across All Countries')\n",
    "plt.xlabel('Countries')\n",
    "plt.ylabel('% of Population Deceased')"
   ]
  },
  {
   "cell_type": "code",
   "execution_count": null,
   "metadata": {},
   "outputs": [],
   "source": []
  },
  {
   "cell_type": "code",
   "execution_count": null,
   "metadata": {},
   "outputs": [],
   "source": []
  },
  {
   "cell_type": "code",
   "execution_count": null,
   "metadata": {},
   "outputs": [],
   "source": []
  }
 ],
 "metadata": {
  "kernelspec": {
   "display_name": "Python 3",
   "language": "python",
   "name": "python3"
  },
  "language_info": {
   "codemirror_mode": {
    "name": "ipython",
    "version": 3
   },
   "file_extension": ".py",
   "mimetype": "text/x-python",
   "name": "python",
   "nbconvert_exporter": "python",
   "pygments_lexer": "ipython3",
   "version": "3.6.10"
  }
 },
 "nbformat": 4,
 "nbformat_minor": 4
}
