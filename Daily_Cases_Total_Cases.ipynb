{
 "cells": [
  {
   "cell_type": "code",
   "execution_count": 85,
   "metadata": {},
   "outputs": [
    {
     "data": {
      "text/html": [
       "<div>\n",
       "<style scoped>\n",
       "    .dataframe tbody tr th:only-of-type {\n",
       "        vertical-align: middle;\n",
       "    }\n",
       "\n",
       "    .dataframe tbody tr th {\n",
       "        vertical-align: top;\n",
       "    }\n",
       "\n",
       "    .dataframe thead th {\n",
       "        text-align: right;\n",
       "    }\n",
       "</style>\n",
       "<table border=\"1\" class=\"dataframe\">\n",
       "  <thead>\n",
       "    <tr style=\"text-align: right;\">\n",
       "      <th></th>\n",
       "      <th>date</th>\n",
       "      <th>new_cases</th>\n",
       "      <th>new_deaths</th>\n",
       "      <th>total_cases</th>\n",
       "      <th>total_deaths</th>\n",
       "    </tr>\n",
       "    <tr>\n",
       "      <th>location</th>\n",
       "      <th></th>\n",
       "      <th></th>\n",
       "      <th></th>\n",
       "      <th></th>\n",
       "      <th></th>\n",
       "    </tr>\n",
       "  </thead>\n",
       "  <tbody>\n",
       "    <tr>\n",
       "      <th>Brazil</th>\n",
       "      <td>2019-12-31</td>\n",
       "      <td>0.0</td>\n",
       "      <td>0.0</td>\n",
       "      <td>NaN</td>\n",
       "      <td>NaN</td>\n",
       "    </tr>\n",
       "    <tr>\n",
       "      <th>Brazil</th>\n",
       "      <td>2020-01-01</td>\n",
       "      <td>0.0</td>\n",
       "      <td>0.0</td>\n",
       "      <td>NaN</td>\n",
       "      <td>NaN</td>\n",
       "    </tr>\n",
       "    <tr>\n",
       "      <th>Brazil</th>\n",
       "      <td>2020-01-02</td>\n",
       "      <td>0.0</td>\n",
       "      <td>0.0</td>\n",
       "      <td>NaN</td>\n",
       "      <td>NaN</td>\n",
       "    </tr>\n",
       "    <tr>\n",
       "      <th>Brazil</th>\n",
       "      <td>2020-01-03</td>\n",
       "      <td>0.0</td>\n",
       "      <td>0.0</td>\n",
       "      <td>NaN</td>\n",
       "      <td>NaN</td>\n",
       "    </tr>\n",
       "    <tr>\n",
       "      <th>Brazil</th>\n",
       "      <td>2020-01-04</td>\n",
       "      <td>0.0</td>\n",
       "      <td>0.0</td>\n",
       "      <td>NaN</td>\n",
       "      <td>NaN</td>\n",
       "    </tr>\n",
       "    <tr>\n",
       "      <th>...</th>\n",
       "      <td>...</td>\n",
       "      <td>...</td>\n",
       "      <td>...</td>\n",
       "      <td>...</td>\n",
       "      <td>...</td>\n",
       "    </tr>\n",
       "    <tr>\n",
       "      <th>United States</th>\n",
       "      <td>2020-10-24</td>\n",
       "      <td>85329.0</td>\n",
       "      <td>953.0</td>\n",
       "      <td>8493669.0</td>\n",
       "      <td>223995.0</td>\n",
       "    </tr>\n",
       "    <tr>\n",
       "      <th>United States</th>\n",
       "      <td>2020-10-25</td>\n",
       "      <td>83056.0</td>\n",
       "      <td>904.0</td>\n",
       "      <td>8576725.0</td>\n",
       "      <td>224899.0</td>\n",
       "    </tr>\n",
       "    <tr>\n",
       "      <th>United States</th>\n",
       "      <td>2020-10-26</td>\n",
       "      <td>59440.0</td>\n",
       "      <td>331.0</td>\n",
       "      <td>8636165.0</td>\n",
       "      <td>225230.0</td>\n",
       "    </tr>\n",
       "    <tr>\n",
       "      <th>United States</th>\n",
       "      <td>2020-10-27</td>\n",
       "      <td>68359.0</td>\n",
       "      <td>505.0</td>\n",
       "      <td>8704524.0</td>\n",
       "      <td>225735.0</td>\n",
       "    </tr>\n",
       "    <tr>\n",
       "      <th>United States</th>\n",
       "      <td>2020-10-28</td>\n",
       "      <td>75129.0</td>\n",
       "      <td>988.0</td>\n",
       "      <td>8779653.0</td>\n",
       "      <td>226723.0</td>\n",
       "    </tr>\n",
       "  </tbody>\n",
       "</table>\n",
       "<p>2423 rows × 5 columns</p>\n",
       "</div>"
      ],
      "text/plain": [
       "                     date  new_cases  new_deaths  total_cases  total_deaths\n",
       "location                                                                   \n",
       "Brazil         2019-12-31        0.0         0.0          NaN           NaN\n",
       "Brazil         2020-01-01        0.0         0.0          NaN           NaN\n",
       "Brazil         2020-01-02        0.0         0.0          NaN           NaN\n",
       "Brazil         2020-01-03        0.0         0.0          NaN           NaN\n",
       "Brazil         2020-01-04        0.0         0.0          NaN           NaN\n",
       "...                   ...        ...         ...          ...           ...\n",
       "United States  2020-10-24    85329.0       953.0    8493669.0      223995.0\n",
       "United States  2020-10-25    83056.0       904.0    8576725.0      224899.0\n",
       "United States  2020-10-26    59440.0       331.0    8636165.0      225230.0\n",
       "United States  2020-10-27    68359.0       505.0    8704524.0      225735.0\n",
       "United States  2020-10-28    75129.0       988.0    8779653.0      226723.0\n",
       "\n",
       "[2423 rows x 5 columns]"
      ]
     },
     "execution_count": 85,
     "metadata": {},
     "output_type": "execute_result"
    }
   ],
   "source": [
    "# Import Dependencies\n",
    "import os\n",
    "import pandas as pd\n",
    "import numpy as np\n",
    "import matplotlib.pyplot as plt\n",
    "import matplotlib.dates as mdates\n",
    "from matplotlib.dates import DateFormatter\n",
    "%matplotlib inline \n",
    "from numpy.polynomial.polynomial import polyfit\n",
    "import scipy.stats as st\n",
    "import random \n",
    "\n",
    "\n",
    "# Read in CSV File\n",
    "cases_df = pd.read_csv(\"output_data/owid_clean.csv\")\n",
    "\n",
    "# Set DataFrame IndexPreview CSV file\n",
    "cases_df.set_index(\"location\")"
   ]
  },
  {
   "cell_type": "code",
   "execution_count": 86,
   "metadata": {},
   "outputs": [
    {
     "data": {
      "text/plain": [
       "date            datetime64[ns]\n",
       "location                object\n",
       "new_cases              float64\n",
       "new_deaths             float64\n",
       "total_cases            float64\n",
       "total_deaths           float64\n",
       "dtype: object"
      ]
     },
     "execution_count": 86,
     "metadata": {},
     "output_type": "execute_result"
    }
   ],
   "source": [
    "# convert object to datetime\n",
    "cases_df['date'] = pd.to_datetime(cases_df['date'], format='%Y-%m-%d')\n",
    "cases_df.dtypes"
   ]
  },
  {
   "cell_type": "markdown",
   "metadata": {},
   "source": [
    "# Countries' Total Cases "
   ]
  },
  {
   "cell_type": "code",
   "execution_count": 87,
   "metadata": {},
   "outputs": [
    {
     "data": {
      "image/png": "[encoded data removed]",
      "text/plain": [
       "<Figure size 432x288 with 1 Axes>"
      ]
     },
     "metadata": {
      "needs_background": "light"
     },
     "output_type": "display_data"
    }
   ],
   "source": [
    "cases_df.set_index('location')\n",
    "\n",
    "fig, ax = plt.subplots()\n",
    "\n",
    "brazil = cases_df.loc[cases_df['location']=='Brazil']\n",
    "ax.plot(brazil['date'],brazil['total_cases'], label = 'Brazil')\n",
    "\n",
    "us = cases_df.loc[cases_df['location']=='United States']\n",
    "ax.plot(us['date'],us['total_cases'],label='US')\n",
    "\n",
    "uk = cases_df.loc[cases_df['location']=='United Kingdom']\n",
    "ax.plot(uk['date'],uk['total_cases'],label='United Kingdom')\n",
    "\n",
    "italy = cases_df.loc[cases_df['location']=='Italy']\n",
    "ax.plot(italy['date'],italy['total_cases'],label='Italy')\n",
    "\n",
    "plt.xticks(rotation='vertical')\n",
    "plt.title('Total Cases Over Time')\n",
    "plt.xlabel('Date')\n",
    "plt.ylabel('Total Cases')\n",
    "plt.legend()\n",
    "plt.show()"
   ]
  },
  {
   "cell_type": "code",
   "execution_count": 88,
   "metadata": {},
   "outputs": [
    {
     "data": {
      "image/png": "[encoded data removed]",
      "text/plain": [
       "<Figure size 432x288 with 1 Axes>"
      ]
     },
     "metadata": {
      "needs_background": "light"
     },
     "output_type": "display_data"
    }
   ],
   "source": [
    "fig, ax = plt.subplots()\n",
    "\n",
    "china = cases_df.loc[cases_df['location']=='China']\n",
    "ax.plot(china['date'],china['total_cases'],label='China')\n",
    "\n",
    "japan = cases_df.loc[cases_df['location']=='Japan']\n",
    "ax.plot(japan['date'],japan['total_cases'],label='Japan')\n",
    "\n",
    "nz = cases_df.loc[cases_df['location']=='New Zealand']\n",
    "ax.plot(nz['date'],nz['total_cases'],label='New Zealand')\n",
    "\n",
    "sweden = cases_df.loc[cases_df['location']=='Sweden']\n",
    "ax.plot(sweden['date'],sweden['total_cases'],label='Sweden')\n",
    "\n",
    "plt.xticks(rotation='vertical')\n",
    "plt.title('Total Cases Over Time')\n",
    "plt.xlabel('Date')\n",
    "plt.ylabel('Total Cases')\n",
    "plt.legend()\n",
    "plt.show()"
   ]
  },
  {
   "cell_type": "code",
   "execution_count": 89,
   "metadata": {},
   "outputs": [
    {
     "data": {
      "image/png": "[encoded data removed]",
      "text/plain": [
       "<Figure size 432x288 with 1 Axes>"
      ]
     },
     "metadata": {
      "needs_background": "light"
     },
     "output_type": "display_data"
    }
   ],
   "source": [
    "fig, ax = plt.subplots()\n",
    "\n",
    "brazil = cases_df.loc[cases_df['location']=='Brazil']\n",
    "ax.plot(brazil['date'],brazil['total_cases'], label = 'Brazil')\n",
    "\n",
    "china = cases_df.loc[cases_df['location']=='China']\n",
    "ax.plot(china['date'],china['total_cases'],label='China')\n",
    "\n",
    "uk = cases_df.loc[cases_df['location']=='United Kingdom']\n",
    "ax.plot(uk['date'],uk['total_cases'],label='United Kingdom')\n",
    "\n",
    "italy = cases_df.loc[cases_df['location']=='Italy']\n",
    "ax.plot(italy['date'],italy['total_cases'],label='Italy')\n",
    "\n",
    "japan = cases_df.loc[cases_df['location']=='Japan']\n",
    "ax.plot(japan['date'],japan['total_cases'],label='Japan')\n",
    "\n",
    "nz = cases_df.loc[cases_df['location']=='New Zealand']\n",
    "ax.plot(nz['date'],nz['total_cases'],label='New Zealand')\n",
    "\n",
    "sweden = cases_df.loc[cases_df['location']=='Sweden']\n",
    "ax.plot(sweden['date'],sweden['total_cases'],label='Sweden')\n",
    "\n",
    "us = cases_df.loc[cases_df['location']=='United States']\n",
    "ax.plot(us['date'],us['total_cases'],label='US')\n",
    "\n",
    "plt.xticks(rotation='vertical')\n",
    "plt.title('Total Cases Over Time')\n",
    "plt.xlabel('Date')\n",
    "plt.ylabel('Total Cases')\n",
    "plt.legend()\n",
    "plt.show()"
   ]
  },
  {
   "cell_type": "markdown",
   "metadata": {},
   "source": [
    "# Countries' Total Deaths"
   ]
  },
  {
   "cell_type": "code",
   "execution_count": 90,
   "metadata": {},
   "outputs": [
    {
     "data": {
      "image/png": "[encoded data removed]",
      "text/plain": [
       "<Figure size 432x288 with 1 Axes>"
      ]
     },
     "metadata": {
      "needs_background": "light"
     },
     "output_type": "display_data"
    }
   ],
   "source": [
    "fig, ax = plt.subplots()\n",
    "\n",
    "brazil = cases_df.loc[cases_df['location']=='Brazil']\n",
    "ax.plot(brazil['date'],brazil['total_deaths'], label = 'Brazil')\n",
    "\n",
    "china = cases_df.loc[cases_df['location']=='China']\n",
    "ax.plot(china['date'],china['total_deaths'],label='China')\n",
    "\n",
    "uk = cases_df.loc[cases_df['location']=='United Kingdom']\n",
    "ax.plot(uk['date'],uk['total_deaths'],label='United Kingdom')\n",
    "\n",
    "italy = cases_df.loc[cases_df['location']=='Italy']\n",
    "ax.plot(italy['date'],italy['total_deaths'],label='Italy')\n",
    "\n",
    "japan = cases_df.loc[cases_df['location']=='Japan']\n",
    "ax.plot(japan['date'],japan['total_deaths'],label='Japan')\n",
    "\n",
    "nz = cases_df.loc[cases_df['location']=='New Zealand']\n",
    "ax.plot(nz['date'],nz['total_deaths'],label='New Zealand')\n",
    "\n",
    "sweden = cases_df.loc[cases_df['location']=='Sweden']\n",
    "ax.plot(sweden['date'],sweden['total_deaths'],label='Sweden')\n",
    "\n",
    "us = cases_df.loc[cases_df['location']=='United States']\n",
    "ax.plot(us['date'],us['total_deaths'],label='US')\n",
    "\n",
    "plt.xticks(rotation='vertical')\n",
    "plt.title('Total Deaths Over Time')\n",
    "plt.xlabel('Date')\n",
    "plt.ylabel('Total Cases')\n",
    "plt.legend()\n",
    "plt.show()"
   ]
  },
  {
   "cell_type": "code",
   "execution_count": 91,
   "metadata": {},
   "outputs": [],
   "source": [
    "# countrymeters.info --> total populations as of Jan 1, 2020.\n",
    "braz_pop = 212559417\n",
    "china_pop = 1408526449\n",
    "ital_pop = 60005743\n",
    "jp_pop = 125938348\n",
    "nz_pop = 4822233\n",
    "swe_pop = 10151866\n",
    "uk_pop = 66575226\n",
    "us_pop = 330380000"
   ]
  },
  {
   "cell_type": "code",
   "execution_count": 92,
   "metadata": {},
   "outputs": [
    {
     "name": "stderr",
     "output_type": "stream",
     "text": [
      "/opt/anaconda3/envs/PythonData1/lib/python3.6/site-packages/ipykernel_launcher.py:6: SettingWithCopyWarning: \n",
      "A value is trying to be set on a copy of a slice from a DataFrame.\n",
      "Try using .loc[row_indexer,col_indexer] = value instead\n",
      "\n",
      "See the caveats in the documentation: https://pandas.pydata.org/pandas-docs/stable/user_guide/indexing.html#returning-a-view-versus-a-copy\n",
      "  \n"
     ]
    },
    {
     "data": {
      "text/html": [
       "<div>\n",
       "<style scoped>\n",
       "    .dataframe tbody tr th:only-of-type {\n",
       "        vertical-align: middle;\n",
       "    }\n",
       "\n",
       "    .dataframe tbody tr th {\n",
       "        vertical-align: top;\n",
       "    }\n",
       "\n",
       "    .dataframe thead th {\n",
       "        text-align: right;\n",
       "    }\n",
       "</style>\n",
       "<table border=\"1\" class=\"dataframe\">\n",
       "  <thead>\n",
       "    <tr style=\"text-align: right;\">\n",
       "      <th></th>\n",
       "      <th>date</th>\n",
       "      <th>new_cases</th>\n",
       "      <th>new_deaths</th>\n",
       "      <th>total_cases</th>\n",
       "      <th>total_deaths</th>\n",
       "      <th>total_pop</th>\n",
       "    </tr>\n",
       "    <tr>\n",
       "      <th>location</th>\n",
       "      <th></th>\n",
       "      <th></th>\n",
       "      <th></th>\n",
       "      <th></th>\n",
       "      <th></th>\n",
       "      <th></th>\n",
       "    </tr>\n",
       "  </thead>\n",
       "  <tbody>\n",
       "    <tr>\n",
       "      <th>Brazil</th>\n",
       "      <td>2020-10-27</td>\n",
       "      <td>15726.0</td>\n",
       "      <td>263.0</td>\n",
       "      <td>5409854.0</td>\n",
       "      <td>157397.0</td>\n",
       "      <td>212559417</td>\n",
       "    </tr>\n",
       "    <tr>\n",
       "      <th>China</th>\n",
       "      <td>2020-10-27</td>\n",
       "      <td>24.0</td>\n",
       "      <td>0.0</td>\n",
       "      <td>91175.0</td>\n",
       "      <td>4739.0</td>\n",
       "      <td>1408526449</td>\n",
       "    </tr>\n",
       "    <tr>\n",
       "      <th>Italy</th>\n",
       "      <td>2020-10-27</td>\n",
       "      <td>17007.0</td>\n",
       "      <td>141.0</td>\n",
       "      <td>542789.0</td>\n",
       "      <td>37479.0</td>\n",
       "      <td>60005743</td>\n",
       "    </tr>\n",
       "    <tr>\n",
       "      <th>Japan</th>\n",
       "      <td>2020-10-27</td>\n",
       "      <td>424.0</td>\n",
       "      <td>7.0</td>\n",
       "      <td>97498.0</td>\n",
       "      <td>1725.0</td>\n",
       "      <td>125938348</td>\n",
       "    </tr>\n",
       "    <tr>\n",
       "      <th>New Zealand</th>\n",
       "      <td>2020-10-27</td>\n",
       "      <td>1.0</td>\n",
       "      <td>0.0</td>\n",
       "      <td>1585.0</td>\n",
       "      <td>25.0</td>\n",
       "      <td>4822233</td>\n",
       "    </tr>\n",
       "    <tr>\n",
       "      <th>Sweden</th>\n",
       "      <td>2020-10-27</td>\n",
       "      <td>922.0</td>\n",
       "      <td>1.0</td>\n",
       "      <td>115785.0</td>\n",
       "      <td>5918.0</td>\n",
       "      <td>10151866</td>\n",
       "    </tr>\n",
       "    <tr>\n",
       "      <th>United Kingdom</th>\n",
       "      <td>2020-10-27</td>\n",
       "      <td>20890.0</td>\n",
       "      <td>102.0</td>\n",
       "      <td>894690.0</td>\n",
       "      <td>44998.0</td>\n",
       "      <td>66575226</td>\n",
       "    </tr>\n",
       "    <tr>\n",
       "      <th>United States</th>\n",
       "      <td>2020-10-27</td>\n",
       "      <td>68359.0</td>\n",
       "      <td>505.0</td>\n",
       "      <td>8704524.0</td>\n",
       "      <td>225735.0</td>\n",
       "      <td>330380000</td>\n",
       "    </tr>\n",
       "  </tbody>\n",
       "</table>\n",
       "</div>"
      ],
      "text/plain": [
       "                     date  new_cases  new_deaths  total_cases  total_deaths  \\\n",
       "location                                                                      \n",
       "Brazil         2020-10-27    15726.0       263.0    5409854.0      157397.0   \n",
       "China          2020-10-27       24.0         0.0      91175.0        4739.0   \n",
       "Italy          2020-10-27    17007.0       141.0     542789.0       37479.0   \n",
       "Japan          2020-10-27      424.0         7.0      97498.0        1725.0   \n",
       "New Zealand    2020-10-27        1.0         0.0       1585.0          25.0   \n",
       "Sweden         2020-10-27      922.0         1.0     115785.0        5918.0   \n",
       "United Kingdom 2020-10-27    20890.0       102.0     894690.0       44998.0   \n",
       "United States  2020-10-27    68359.0       505.0    8704524.0      225735.0   \n",
       "\n",
       "                 total_pop  \n",
       "location                    \n",
       "Brazil           212559417  \n",
       "China           1408526449  \n",
       "Italy             60005743  \n",
       "Japan            125938348  \n",
       "New Zealand        4822233  \n",
       "Sweden            10151866  \n",
       "United Kingdom    66575226  \n",
       "United States    330380000  "
      ]
     },
     "execution_count": 92,
     "metadata": {},
     "output_type": "execute_result"
    }
   ],
   "source": [
    "### CASES BY PERCENTAGE OF COUNTRIES POPULATION ###\n",
    "pops = (212559417, 1408526449, 60005743, 125938348, 4822233, 10151866, 66575226, 330380000)\n",
    "\n",
    "last_df = cases_df.loc[cases_df['date']=='2020-10-27']\n",
    "\n",
    "last_df[\"total_pop\"] = pops\n",
    "last_df = last_df.set_index('location')\n",
    "last_df"
   ]
  },
  {
   "cell_type": "code",
   "execution_count": 93,
   "metadata": {},
   "outputs": [
    {
     "data": {
      "text/html": [
       "<style  type=\"text/css\" >\n",
       "</style><table id=\"T_8c9a63cc_1f01_11eb_8f9a_acde48001122\" ><thead>    <tr>        <th class=\"blank level0\" ></th>        <th class=\"col_heading level0 col0\" >Percent Infected</th>        <th class=\"col_heading level0 col1\" >Percent Deceased</th>    </tr>    <tr>        <th class=\"index_name level0\" >location</th>        <th class=\"blank\" ></th>        <th class=\"blank\" ></th>    </tr></thead><tbody>\n",
       "                <tr>\n",
       "                        <th id=\"T_8c9a63cc_1f01_11eb_8f9a_acde48001122level0_row0\" class=\"row_heading level0 row0\" >Brazil</th>\n",
       "                        <td id=\"T_8c9a63cc_1f01_11eb_8f9a_acde48001122row0_col0\" class=\"data row0 col0\" >2.545102%</td>\n",
       "                        <td id=\"T_8c9a63cc_1f01_11eb_8f9a_acde48001122row0_col1\" class=\"data row0 col1\" >0.074048%</td>\n",
       "            </tr>\n",
       "            <tr>\n",
       "                        <th id=\"T_8c9a63cc_1f01_11eb_8f9a_acde48001122level0_row1\" class=\"row_heading level0 row1\" >China</th>\n",
       "                        <td id=\"T_8c9a63cc_1f01_11eb_8f9a_acde48001122row1_col0\" class=\"data row1 col0\" >0.006473%</td>\n",
       "                        <td id=\"T_8c9a63cc_1f01_11eb_8f9a_acde48001122row1_col1\" class=\"data row1 col1\" >0.000336%</td>\n",
       "            </tr>\n",
       "            <tr>\n",
       "                        <th id=\"T_8c9a63cc_1f01_11eb_8f9a_acde48001122level0_row2\" class=\"row_heading level0 row2\" >Italy</th>\n",
       "                        <td id=\"T_8c9a63cc_1f01_11eb_8f9a_acde48001122row2_col0\" class=\"data row2 col0\" >0.904562%</td>\n",
       "                        <td id=\"T_8c9a63cc_1f01_11eb_8f9a_acde48001122row2_col1\" class=\"data row2 col1\" >0.062459%</td>\n",
       "            </tr>\n",
       "            <tr>\n",
       "                        <th id=\"T_8c9a63cc_1f01_11eb_8f9a_acde48001122level0_row3\" class=\"row_heading level0 row3\" >Japan</th>\n",
       "                        <td id=\"T_8c9a63cc_1f01_11eb_8f9a_acde48001122row3_col0\" class=\"data row3 col0\" >0.077417%</td>\n",
       "                        <td id=\"T_8c9a63cc_1f01_11eb_8f9a_acde48001122row3_col1\" class=\"data row3 col1\" >0.001370%</td>\n",
       "            </tr>\n",
       "            <tr>\n",
       "                        <th id=\"T_8c9a63cc_1f01_11eb_8f9a_acde48001122level0_row4\" class=\"row_heading level0 row4\" >New Zealand</th>\n",
       "                        <td id=\"T_8c9a63cc_1f01_11eb_8f9a_acde48001122row4_col0\" class=\"data row4 col0\" >0.032869%</td>\n",
       "                        <td id=\"T_8c9a63cc_1f01_11eb_8f9a_acde48001122row4_col1\" class=\"data row4 col1\" >0.000518%</td>\n",
       "            </tr>\n",
       "            <tr>\n",
       "                        <th id=\"T_8c9a63cc_1f01_11eb_8f9a_acde48001122level0_row5\" class=\"row_heading level0 row5\" >Sweden</th>\n",
       "                        <td id=\"T_8c9a63cc_1f01_11eb_8f9a_acde48001122row5_col0\" class=\"data row5 col0\" >1.140529%</td>\n",
       "                        <td id=\"T_8c9a63cc_1f01_11eb_8f9a_acde48001122row5_col1\" class=\"data row5 col1\" >0.058295%</td>\n",
       "            </tr>\n",
       "            <tr>\n",
       "                        <th id=\"T_8c9a63cc_1f01_11eb_8f9a_acde48001122level0_row6\" class=\"row_heading level0 row6\" >United Kingdom</th>\n",
       "                        <td id=\"T_8c9a63cc_1f01_11eb_8f9a_acde48001122row6_col0\" class=\"data row6 col0\" >1.343878%</td>\n",
       "                        <td id=\"T_8c9a63cc_1f01_11eb_8f9a_acde48001122row6_col1\" class=\"data row6 col1\" >0.067590%</td>\n",
       "            </tr>\n",
       "            <tr>\n",
       "                        <th id=\"T_8c9a63cc_1f01_11eb_8f9a_acde48001122level0_row7\" class=\"row_heading level0 row7\" >United States</th>\n",
       "                        <td id=\"T_8c9a63cc_1f01_11eb_8f9a_acde48001122row7_col0\" class=\"data row7 col0\" >2.634701%</td>\n",
       "                        <td id=\"T_8c9a63cc_1f01_11eb_8f9a_acde48001122row7_col1\" class=\"data row7 col1\" >0.068326%</td>\n",
       "            </tr>\n",
       "    </tbody></table>"
      ],
      "text/plain": [
       "<pandas.io.formats.style.Styler at 0x7ffdc492b908>"
      ]
     },
     "execution_count": 93,
     "metadata": {},
     "output_type": "execute_result"
    }
   ],
   "source": [
    "last_df\n",
    "\n",
    "perc_cases = (last_df[\"total_cases\"]/last_df[\"total_pop\"])\n",
    "perc_cases\n",
    "\n",
    "perc_deaths = (last_df[\"total_deaths\"]/last_df[\"total_pop\"])\n",
    "perc_deaths\n",
    "\n",
    "\n",
    "perc_summary = pd.DataFrame({'Percent Infected':perc_cases, 'Percent Deceased':perc_deaths})\n",
    "perc_summary.style.format({\"Percent Infected\":\"{:.6%}\", \"Percent Deceased\":\"{:.6%}\"})"
   ]
  },
  {
   "cell_type": "code",
   "execution_count": 94,
   "metadata": {},
   "outputs": [],
   "source": [
    "### DEATH BY PERCENTAGE OF COUNTRIES POPULATION ###\n"
   ]
  },
  {
   "cell_type": "code",
   "execution_count": null,
   "metadata": {},
   "outputs": [],
   "source": []
  },
  {
   "cell_type": "code",
   "execution_count": null,
   "metadata": {},
   "outputs": [],
   "source": []
  },
  {
   "cell_type": "code",
   "execution_count": null,
   "metadata": {},
   "outputs": [],
   "source": []
  },
  {
   "cell_type": "code",
   "execution_count": null,
   "metadata": {},
   "outputs": [],
   "source": []
  },
  {
   "cell_type": "code",
   "execution_count": null,
   "metadata": {},
   "outputs": [],
   "source": []
  }
 ],
 "metadata": {
  "kernelspec": {
   "display_name": "Python 3",
   "language": "python",
   "name": "python3"
  },
  "language_info": {
   "codemirror_mode": {
    "name": "ipython",
    "version": 3
   },
   "file_extension": ".py",
   "mimetype": "text/x-python",
   "name": "python",
   "nbconvert_exporter": "python",
   "pygments_lexer": "ipython3",
   "version": "3.6.10"
  }
 },
 "nbformat": 4,
 "nbformat_minor": 4
}
