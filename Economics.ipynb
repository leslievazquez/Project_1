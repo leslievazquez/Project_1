{
 "cells": [
  {
   "cell_type": "code",
   "execution_count": 1,
   "metadata": {},
   "outputs": [],
   "source": [
    "import pandas as pd\n",
    "import matplotlib.pyplot as plt\n",
    "\n"
   ]
  },
  {
   "cell_type": "code",
   "execution_count": 2,
   "metadata": {},
   "outputs": [
    {
     "data": {
      "text/html": [
       "<div>\n",
       "<style scoped>\n",
       "    .dataframe tbody tr th:only-of-type {\n",
       "        vertical-align: middle;\n",
       "    }\n",
       "\n",
       "    .dataframe tbody tr th {\n",
       "        vertical-align: top;\n",
       "    }\n",
       "\n",
       "    .dataframe thead th {\n",
       "        text-align: right;\n",
       "    }\n",
       "</style>\n",
       "<table border=\"1\" class=\"dataframe\">\n",
       "  <thead>\n",
       "    <tr style=\"text-align: right;\">\n",
       "      <th></th>\n",
       "      <th>CountryName</th>\n",
       "      <th>Date</th>\n",
       "      <th>C1_School_closing</th>\n",
       "      <th>C2_Workplace_closing</th>\n",
       "      <th>C6_Stay_home_requirements</th>\n",
       "      <th>E1_Income_support</th>\n",
       "      <th>E3_Fiscal_measures</th>\n",
       "      <th>H6_Facial_coverings</th>\n",
       "      <th>ConfirmedCases</th>\n",
       "      <th>ConfirmedDeaths</th>\n",
       "    </tr>\n",
       "  </thead>\n",
       "  <tbody>\n",
       "    <tr>\n",
       "      <th>0</th>\n",
       "      <td>Brazil</td>\n",
       "      <td>20200101</td>\n",
       "      <td>0.0</td>\n",
       "      <td>0.0</td>\n",
       "      <td>0.0</td>\n",
       "      <td>0.0</td>\n",
       "      <td>0.0</td>\n",
       "      <td>0.0</td>\n",
       "      <td>0.0</td>\n",
       "      <td>0.0</td>\n",
       "    </tr>\n",
       "    <tr>\n",
       "      <th>1</th>\n",
       "      <td>Brazil</td>\n",
       "      <td>20200102</td>\n",
       "      <td>0.0</td>\n",
       "      <td>0.0</td>\n",
       "      <td>0.0</td>\n",
       "      <td>0.0</td>\n",
       "      <td>0.0</td>\n",
       "      <td>0.0</td>\n",
       "      <td>0.0</td>\n",
       "      <td>0.0</td>\n",
       "    </tr>\n",
       "    <tr>\n",
       "      <th>2</th>\n",
       "      <td>Brazil</td>\n",
       "      <td>20200103</td>\n",
       "      <td>0.0</td>\n",
       "      <td>0.0</td>\n",
       "      <td>0.0</td>\n",
       "      <td>0.0</td>\n",
       "      <td>0.0</td>\n",
       "      <td>0.0</td>\n",
       "      <td>0.0</td>\n",
       "      <td>0.0</td>\n",
       "    </tr>\n",
       "    <tr>\n",
       "      <th>3</th>\n",
       "      <td>Brazil</td>\n",
       "      <td>20200104</td>\n",
       "      <td>0.0</td>\n",
       "      <td>0.0</td>\n",
       "      <td>0.0</td>\n",
       "      <td>0.0</td>\n",
       "      <td>0.0</td>\n",
       "      <td>0.0</td>\n",
       "      <td>0.0</td>\n",
       "      <td>0.0</td>\n",
       "    </tr>\n",
       "    <tr>\n",
       "      <th>4</th>\n",
       "      <td>Brazil</td>\n",
       "      <td>20200105</td>\n",
       "      <td>0.0</td>\n",
       "      <td>0.0</td>\n",
       "      <td>0.0</td>\n",
       "      <td>0.0</td>\n",
       "      <td>0.0</td>\n",
       "      <td>0.0</td>\n",
       "      <td>0.0</td>\n",
       "      <td>0.0</td>\n",
       "    </tr>\n",
       "  </tbody>\n",
       "</table>\n",
       "</div>"
      ],
      "text/plain": [
       "  CountryName      Date  C1_School_closing  C2_Workplace_closing  \\\n",
       "0      Brazil  20200101                0.0                   0.0   \n",
       "1      Brazil  20200102                0.0                   0.0   \n",
       "2      Brazil  20200103                0.0                   0.0   \n",
       "3      Brazil  20200104                0.0                   0.0   \n",
       "4      Brazil  20200105                0.0                   0.0   \n",
       "\n",
       "   C6_Stay_home_requirements  E1_Income_support  E3_Fiscal_measures  \\\n",
       "0                        0.0                0.0                 0.0   \n",
       "1                        0.0                0.0                 0.0   \n",
       "2                        0.0                0.0                 0.0   \n",
       "3                        0.0                0.0                 0.0   \n",
       "4                        0.0                0.0                 0.0   \n",
       "\n",
       "   H6_Facial_coverings  ConfirmedCases  ConfirmedDeaths  \n",
       "0                  0.0             0.0              0.0  \n",
       "1                  0.0             0.0              0.0  \n",
       "2                  0.0             0.0              0.0  \n",
       "3                  0.0             0.0              0.0  \n",
       "4                  0.0             0.0              0.0  "
      ]
     },
     "execution_count": 2,
     "metadata": {},
     "output_type": "execute_result"
    }
   ],
   "source": [
    "#read in raw data.  File from online did not have country index like github jupyter notebook showed\n",
    "data = pd.read_csv('/Users/kscomputer/Desktop/Project_1/Project_1/output_data/oxford_clean3.csv')\n",
    "data.head()"
   ]
  },
  {
   "cell_type": "code",
   "execution_count": 3,
   "metadata": {},
   "outputs": [
    {
     "data": {
      "text/html": [
       "<div>\n",
       "<style scoped>\n",
       "    .dataframe tbody tr th:only-of-type {\n",
       "        vertical-align: middle;\n",
       "    }\n",
       "\n",
       "    .dataframe tbody tr th {\n",
       "        vertical-align: top;\n",
       "    }\n",
       "\n",
       "    .dataframe thead th {\n",
       "        text-align: right;\n",
       "    }\n",
       "</style>\n",
       "<table border=\"1\" class=\"dataframe\">\n",
       "  <thead>\n",
       "    <tr style=\"text-align: right;\">\n",
       "      <th></th>\n",
       "      <th>Date</th>\n",
       "      <th>C1_School_closing</th>\n",
       "      <th>C2_Workplace_closing</th>\n",
       "      <th>C6_Stay_home_requirements</th>\n",
       "      <th>E1_Income_support</th>\n",
       "      <th>E3_Fiscal_measures</th>\n",
       "      <th>H6_Facial_coverings</th>\n",
       "      <th>ConfirmedCases</th>\n",
       "      <th>ConfirmedDeaths</th>\n",
       "    </tr>\n",
       "    <tr>\n",
       "      <th>CountryName</th>\n",
       "      <th></th>\n",
       "      <th></th>\n",
       "      <th></th>\n",
       "      <th></th>\n",
       "      <th></th>\n",
       "      <th></th>\n",
       "      <th></th>\n",
       "      <th></th>\n",
       "      <th></th>\n",
       "    </tr>\n",
       "  </thead>\n",
       "  <tbody>\n",
       "    <tr>\n",
       "      <th>Brazil</th>\n",
       "      <td>2020-01-01</td>\n",
       "      <td>0.0</td>\n",
       "      <td>0.0</td>\n",
       "      <td>0.0</td>\n",
       "      <td>0.0</td>\n",
       "      <td>0.0</td>\n",
       "      <td>0.0</td>\n",
       "      <td>0.0</td>\n",
       "      <td>0.0</td>\n",
       "    </tr>\n",
       "    <tr>\n",
       "      <th>Brazil</th>\n",
       "      <td>2020-01-02</td>\n",
       "      <td>0.0</td>\n",
       "      <td>0.0</td>\n",
       "      <td>0.0</td>\n",
       "      <td>0.0</td>\n",
       "      <td>0.0</td>\n",
       "      <td>0.0</td>\n",
       "      <td>0.0</td>\n",
       "      <td>0.0</td>\n",
       "    </tr>\n",
       "    <tr>\n",
       "      <th>Brazil</th>\n",
       "      <td>2020-01-03</td>\n",
       "      <td>0.0</td>\n",
       "      <td>0.0</td>\n",
       "      <td>0.0</td>\n",
       "      <td>0.0</td>\n",
       "      <td>0.0</td>\n",
       "      <td>0.0</td>\n",
       "      <td>0.0</td>\n",
       "      <td>0.0</td>\n",
       "    </tr>\n",
       "    <tr>\n",
       "      <th>Brazil</th>\n",
       "      <td>2020-01-04</td>\n",
       "      <td>0.0</td>\n",
       "      <td>0.0</td>\n",
       "      <td>0.0</td>\n",
       "      <td>0.0</td>\n",
       "      <td>0.0</td>\n",
       "      <td>0.0</td>\n",
       "      <td>0.0</td>\n",
       "      <td>0.0</td>\n",
       "    </tr>\n",
       "    <tr>\n",
       "      <th>Brazil</th>\n",
       "      <td>2020-01-05</td>\n",
       "      <td>0.0</td>\n",
       "      <td>0.0</td>\n",
       "      <td>0.0</td>\n",
       "      <td>0.0</td>\n",
       "      <td>0.0</td>\n",
       "      <td>0.0</td>\n",
       "      <td>0.0</td>\n",
       "      <td>0.0</td>\n",
       "    </tr>\n",
       "    <tr>\n",
       "      <th>...</th>\n",
       "      <td>...</td>\n",
       "      <td>...</td>\n",
       "      <td>...</td>\n",
       "      <td>...</td>\n",
       "      <td>...</td>\n",
       "      <td>...</td>\n",
       "      <td>...</td>\n",
       "      <td>...</td>\n",
       "      <td>...</td>\n",
       "    </tr>\n",
       "    <tr>\n",
       "      <th>United States</th>\n",
       "      <td>2020-10-21</td>\n",
       "      <td>3.0</td>\n",
       "      <td>2.0</td>\n",
       "      <td>2.0</td>\n",
       "      <td>2.0</td>\n",
       "      <td>0.0</td>\n",
       "      <td>4.0</td>\n",
       "      <td>8273304.0</td>\n",
       "      <td>221066.0</td>\n",
       "    </tr>\n",
       "    <tr>\n",
       "      <th>United States</th>\n",
       "      <td>2020-10-22</td>\n",
       "      <td>3.0</td>\n",
       "      <td>2.0</td>\n",
       "      <td>2.0</td>\n",
       "      <td>2.0</td>\n",
       "      <td>0.0</td>\n",
       "      <td>4.0</td>\n",
       "      <td>8336282.0</td>\n",
       "      <td>222201.0</td>\n",
       "    </tr>\n",
       "    <tr>\n",
       "      <th>United States</th>\n",
       "      <td>2020-10-23</td>\n",
       "      <td>3.0</td>\n",
       "      <td>2.0</td>\n",
       "      <td>2.0</td>\n",
       "      <td>2.0</td>\n",
       "      <td>0.0</td>\n",
       "      <td>4.0</td>\n",
       "      <td>8408340.0</td>\n",
       "      <td>223042.0</td>\n",
       "    </tr>\n",
       "    <tr>\n",
       "      <th>United States</th>\n",
       "      <td>2020-10-24</td>\n",
       "      <td>3.0</td>\n",
       "      <td>2.0</td>\n",
       "      <td>2.0</td>\n",
       "      <td>2.0</td>\n",
       "      <td>0.0</td>\n",
       "      <td>4.0</td>\n",
       "      <td>8493669.0</td>\n",
       "      <td>223995.0</td>\n",
       "    </tr>\n",
       "    <tr>\n",
       "      <th>United States</th>\n",
       "      <td>2020-10-25</td>\n",
       "      <td>3.0</td>\n",
       "      <td>2.0</td>\n",
       "      <td>2.0</td>\n",
       "      <td>2.0</td>\n",
       "      <td>0.0</td>\n",
       "      <td>4.0</td>\n",
       "      <td>8576725.0</td>\n",
       "      <td>224899.0</td>\n",
       "    </tr>\n",
       "  </tbody>\n",
       "</table>\n",
       "<p>2410 rows × 9 columns</p>\n",
       "</div>"
      ],
      "text/plain": [
       "                    Date  C1_School_closing  C2_Workplace_closing  \\\n",
       "CountryName                                                         \n",
       "Brazil        2020-01-01                0.0                   0.0   \n",
       "Brazil        2020-01-02                0.0                   0.0   \n",
       "Brazil        2020-01-03                0.0                   0.0   \n",
       "Brazil        2020-01-04                0.0                   0.0   \n",
       "Brazil        2020-01-05                0.0                   0.0   \n",
       "...                  ...                ...                   ...   \n",
       "United States 2020-10-21                3.0                   2.0   \n",
       "United States 2020-10-22                3.0                   2.0   \n",
       "United States 2020-10-23                3.0                   2.0   \n",
       "United States 2020-10-24                3.0                   2.0   \n",
       "United States 2020-10-25                3.0                   2.0   \n",
       "\n",
       "               C6_Stay_home_requirements  E1_Income_support  \\\n",
       "CountryName                                                   \n",
       "Brazil                               0.0                0.0   \n",
       "Brazil                               0.0                0.0   \n",
       "Brazil                               0.0                0.0   \n",
       "Brazil                               0.0                0.0   \n",
       "Brazil                               0.0                0.0   \n",
       "...                                  ...                ...   \n",
       "United States                        2.0                2.0   \n",
       "United States                        2.0                2.0   \n",
       "United States                        2.0                2.0   \n",
       "United States                        2.0                2.0   \n",
       "United States                        2.0                2.0   \n",
       "\n",
       "               E3_Fiscal_measures  H6_Facial_coverings  ConfirmedCases  \\\n",
       "CountryName                                                              \n",
       "Brazil                        0.0                  0.0             0.0   \n",
       "Brazil                        0.0                  0.0             0.0   \n",
       "Brazil                        0.0                  0.0             0.0   \n",
       "Brazil                        0.0                  0.0             0.0   \n",
       "Brazil                        0.0                  0.0             0.0   \n",
       "...                           ...                  ...             ...   \n",
       "United States                 0.0                  4.0       8273304.0   \n",
       "United States                 0.0                  4.0       8336282.0   \n",
       "United States                 0.0                  4.0       8408340.0   \n",
       "United States                 0.0                  4.0       8493669.0   \n",
       "United States                 0.0                  4.0       8576725.0   \n",
       "\n",
       "               ConfirmedDeaths  \n",
       "CountryName                     \n",
       "Brazil                     0.0  \n",
       "Brazil                     0.0  \n",
       "Brazil                     0.0  \n",
       "Brazil                     0.0  \n",
       "Brazil                     0.0  \n",
       "...                        ...  \n",
       "United States         221066.0  \n",
       "United States         222201.0  \n",
       "United States         223042.0  \n",
       "United States         223995.0  \n",
       "United States         224899.0  \n",
       "\n",
       "[2410 rows x 9 columns]"
      ]
     },
     "execution_count": 3,
     "metadata": {},
     "output_type": "execute_result"
    }
   ],
   "source": [
    "data['Date'] = pd.to_datetime(data['Date'], format='%Y%m%d')\n",
    "data.head()\n",
    "data.set_index('CountryName')"
   ]
  },
  {
   "cell_type": "markdown",
   "metadata": {},
   "source": [
    "c1:\n",
    "0 - no measures \n",
    "1 - recommend closing \n",
    "2 - require closing (only some levels or categories, eg just high school, or just public schools) \n",
    "3 - require closing all levels \n",
    "Blank - no data\n",
    "c2:\n",
    "0 - no measures \n",
    "1 - recommend closing (or recommend work from home) \n",
    "2 - require closing (or work from home) for some sectors or categories of workers \n",
    "3 - require closing (or work from home) for all-but-essential workplaces (eg grocery stores, doctors) \n",
    "Blank - no data\n",
    "c6:\n",
    "0 - no measures \n",
    "1 - recommend not leaving house \n",
    "2 - require not leaving house with exceptions for daily exercise, grocery shopping, and 'essential' trips \n",
    "3 - require not leaving house with minimal exceptions (eg allowed to leave once a week, or only one person can leave at a time, etc) \n",
    "Blank - no data\n",
    "h6:\n",
    "0 - No policy \n",
    "1 - Recommended \n",
    "2 - Required in some specified shared/public spaces outside the home with other people present, or some situations when social distancing not possible \n",
    "3 - Required in all shared/public spaces outside the home with other people present or all situations when social distancing not possible \n",
    "4 - Required outside the home at all times regardless of location or presence of other people"
   ]
  },
  {
   "cell_type": "code",
   "execution_count": 4,
   "metadata": {},
   "outputs": [
    {
     "data": {
      "text/html": [
       "<div>\n",
       "<style scoped>\n",
       "    .dataframe tbody tr th:only-of-type {\n",
       "        vertical-align: middle;\n",
       "    }\n",
       "\n",
       "    .dataframe tbody tr th {\n",
       "        vertical-align: top;\n",
       "    }\n",
       "\n",
       "    .dataframe thead th {\n",
       "        text-align: right;\n",
       "    }\n",
       "</style>\n",
       "<table border=\"1\" class=\"dataframe\">\n",
       "  <thead>\n",
       "    <tr style=\"text-align: right;\">\n",
       "      <th></th>\n",
       "      <th>CountryName</th>\n",
       "      <th>Date</th>\n",
       "      <th>C1_School_closing</th>\n",
       "      <th>C2_Workplace_closing</th>\n",
       "      <th>C6_Stay_home_requirements</th>\n",
       "      <th>E1_Income_support</th>\n",
       "      <th>E3_Fiscal_measures</th>\n",
       "      <th>H6_Facial_coverings</th>\n",
       "      <th>ConfirmedCases</th>\n",
       "      <th>ConfirmedDeaths</th>\n",
       "    </tr>\n",
       "  </thead>\n",
       "  <tbody>\n",
       "    <tr>\n",
       "      <th>295</th>\n",
       "      <td>Brazil</td>\n",
       "      <td>2020-10-22</td>\n",
       "      <td>3.0</td>\n",
       "      <td>2.0</td>\n",
       "      <td>2.0</td>\n",
       "      <td>1.0</td>\n",
       "      <td>0.000000e+00</td>\n",
       "      <td>4.0</td>\n",
       "      <td>5298772.0</td>\n",
       "      <td>155403.0</td>\n",
       "    </tr>\n",
       "    <tr>\n",
       "      <th>597</th>\n",
       "      <td>China</td>\n",
       "      <td>2020-10-22</td>\n",
       "      <td>1.0</td>\n",
       "      <td>2.0</td>\n",
       "      <td>3.0</td>\n",
       "      <td>1.0</td>\n",
       "      <td>0.000000e+00</td>\n",
       "      <td>2.0</td>\n",
       "      <td>91044.0</td>\n",
       "      <td>4739.0</td>\n",
       "    </tr>\n",
       "    <tr>\n",
       "      <th>899</th>\n",
       "      <td>United Kingdom</td>\n",
       "      <td>2020-10-22</td>\n",
       "      <td>3.0</td>\n",
       "      <td>2.0</td>\n",
       "      <td>1.0</td>\n",
       "      <td>2.0</td>\n",
       "      <td>5.305826e+09</td>\n",
       "      <td>3.0</td>\n",
       "      <td>789229.0</td>\n",
       "      <td>44158.0</td>\n",
       "    </tr>\n",
       "    <tr>\n",
       "      <th>1206</th>\n",
       "      <td>Italy</td>\n",
       "      <td>2020-10-22</td>\n",
       "      <td>1.0</td>\n",
       "      <td>2.0</td>\n",
       "      <td>0.0</td>\n",
       "      <td>1.0</td>\n",
       "      <td>0.000000e+00</td>\n",
       "      <td>3.0</td>\n",
       "      <td>449648.0</td>\n",
       "      <td>36832.0</td>\n",
       "    </tr>\n",
       "    <tr>\n",
       "      <th>1502</th>\n",
       "      <td>Japan</td>\n",
       "      <td>2020-10-22</td>\n",
       "      <td>1.0</td>\n",
       "      <td>1.0</td>\n",
       "      <td>1.0</td>\n",
       "      <td>1.0</td>\n",
       "      <td>0.000000e+00</td>\n",
       "      <td>1.0</td>\n",
       "      <td>94524.0</td>\n",
       "      <td>1685.0</td>\n",
       "    </tr>\n",
       "    <tr>\n",
       "      <th>1800</th>\n",
       "      <td>New Zealand</td>\n",
       "      <td>2020-10-22</td>\n",
       "      <td>0.0</td>\n",
       "      <td>0.0</td>\n",
       "      <td>0.0</td>\n",
       "      <td>2.0</td>\n",
       "      <td>0.000000e+00</td>\n",
       "      <td>1.0</td>\n",
       "      <td>1558.0</td>\n",
       "      <td>25.0</td>\n",
       "    </tr>\n",
       "    <tr>\n",
       "      <th>2106</th>\n",
       "      <td>Sweden</td>\n",
       "      <td>2020-10-22</td>\n",
       "      <td>0.0</td>\n",
       "      <td>1.0</td>\n",
       "      <td>0.0</td>\n",
       "      <td>2.0</td>\n",
       "      <td>0.000000e+00</td>\n",
       "      <td>0.0</td>\n",
       "      <td>109326.0</td>\n",
       "      <td>5917.0</td>\n",
       "    </tr>\n",
       "    <tr>\n",
       "      <th>2406</th>\n",
       "      <td>United States</td>\n",
       "      <td>2020-10-22</td>\n",
       "      <td>3.0</td>\n",
       "      <td>2.0</td>\n",
       "      <td>2.0</td>\n",
       "      <td>2.0</td>\n",
       "      <td>0.000000e+00</td>\n",
       "      <td>4.0</td>\n",
       "      <td>8336282.0</td>\n",
       "      <td>222201.0</td>\n",
       "    </tr>\n",
       "  </tbody>\n",
       "</table>\n",
       "</div>"
      ],
      "text/plain": [
       "         CountryName       Date  C1_School_closing  C2_Workplace_closing  \\\n",
       "295           Brazil 2020-10-22                3.0                   2.0   \n",
       "597            China 2020-10-22                1.0                   2.0   \n",
       "899   United Kingdom 2020-10-22                3.0                   2.0   \n",
       "1206           Italy 2020-10-22                1.0                   2.0   \n",
       "1502           Japan 2020-10-22                1.0                   1.0   \n",
       "1800     New Zealand 2020-10-22                0.0                   0.0   \n",
       "2106          Sweden 2020-10-22                0.0                   1.0   \n",
       "2406   United States 2020-10-22                3.0                   2.0   \n",
       "\n",
       "      C6_Stay_home_requirements  E1_Income_support  E3_Fiscal_measures  \\\n",
       "295                         2.0                1.0        0.000000e+00   \n",
       "597                         3.0                1.0        0.000000e+00   \n",
       "899                         1.0                2.0        5.305826e+09   \n",
       "1206                        0.0                1.0        0.000000e+00   \n",
       "1502                        1.0                1.0        0.000000e+00   \n",
       "1800                        0.0                2.0        0.000000e+00   \n",
       "2106                        0.0                2.0        0.000000e+00   \n",
       "2406                        2.0                2.0        0.000000e+00   \n",
       "\n",
       "      H6_Facial_coverings  ConfirmedCases  ConfirmedDeaths  \n",
       "295                   4.0       5298772.0         155403.0  \n",
       "597                   2.0         91044.0           4739.0  \n",
       "899                   3.0        789229.0          44158.0  \n",
       "1206                  3.0        449648.0          36832.0  \n",
       "1502                  1.0         94524.0           1685.0  \n",
       "1800                  1.0          1558.0             25.0  \n",
       "2106                  0.0        109326.0           5917.0  \n",
       "2406                  4.0       8336282.0         222201.0  "
      ]
     },
     "execution_count": 4,
     "metadata": {},
     "output_type": "execute_result"
    }
   ],
   "source": [
    "#last day everyone reported.  All 11 countries. \n",
    "last_report = data.loc[data['Date']=='2020-10-22']\n",
    "last_report"
   ]
  },
  {
   "cell_type": "code",
   "execution_count": 5,
   "metadata": {},
   "outputs": [
    {
     "data": {
      "text/html": [
       "<div>\n",
       "<style scoped>\n",
       "    .dataframe tbody tr th:only-of-type {\n",
       "        vertical-align: middle;\n",
       "    }\n",
       "\n",
       "    .dataframe tbody tr th {\n",
       "        vertical-align: top;\n",
       "    }\n",
       "\n",
       "    .dataframe thead th {\n",
       "        text-align: right;\n",
       "    }\n",
       "</style>\n",
       "<table border=\"1\" class=\"dataframe\">\n",
       "  <thead>\n",
       "    <tr style=\"text-align: right;\">\n",
       "      <th></th>\n",
       "      <th>C1_School_closing</th>\n",
       "      <th>C2_Workplace_closing</th>\n",
       "      <th>C6_Stay_home_requirements</th>\n",
       "      <th>E1_Income_support</th>\n",
       "      <th>E3_Fiscal_measures</th>\n",
       "      <th>H6_Facial_coverings</th>\n",
       "      <th>ConfirmedCases</th>\n",
       "      <th>ConfirmedDeaths</th>\n",
       "    </tr>\n",
       "  </thead>\n",
       "  <tbody>\n",
       "    <tr>\n",
       "      <th>count</th>\n",
       "      <td>8.000000</td>\n",
       "      <td>8.000000</td>\n",
       "      <td>8.000000</td>\n",
       "      <td>8.000000</td>\n",
       "      <td>8.000000e+00</td>\n",
       "      <td>8.000000</td>\n",
       "      <td>8.000000e+00</td>\n",
       "      <td>8.000000</td>\n",
       "    </tr>\n",
       "    <tr>\n",
       "      <th>mean</th>\n",
       "      <td>1.500000</td>\n",
       "      <td>1.500000</td>\n",
       "      <td>1.125000</td>\n",
       "      <td>1.500000</td>\n",
       "      <td>6.632283e+08</td>\n",
       "      <td>2.250000</td>\n",
       "      <td>1.896298e+06</td>\n",
       "      <td>58870.000000</td>\n",
       "    </tr>\n",
       "    <tr>\n",
       "      <th>std</th>\n",
       "      <td>1.309307</td>\n",
       "      <td>0.755929</td>\n",
       "      <td>1.125992</td>\n",
       "      <td>0.534522</td>\n",
       "      <td>1.875893e+09</td>\n",
       "      <td>1.488048</td>\n",
       "      <td>3.154526e+06</td>\n",
       "      <td>83806.576334</td>\n",
       "    </tr>\n",
       "    <tr>\n",
       "      <th>min</th>\n",
       "      <td>0.000000</td>\n",
       "      <td>0.000000</td>\n",
       "      <td>0.000000</td>\n",
       "      <td>1.000000</td>\n",
       "      <td>0.000000e+00</td>\n",
       "      <td>0.000000</td>\n",
       "      <td>1.558000e+03</td>\n",
       "      <td>25.000000</td>\n",
       "    </tr>\n",
       "    <tr>\n",
       "      <th>25%</th>\n",
       "      <td>0.750000</td>\n",
       "      <td>1.000000</td>\n",
       "      <td>0.000000</td>\n",
       "      <td>1.000000</td>\n",
       "      <td>0.000000e+00</td>\n",
       "      <td>1.000000</td>\n",
       "      <td>9.365400e+04</td>\n",
       "      <td>3975.500000</td>\n",
       "    </tr>\n",
       "    <tr>\n",
       "      <th>50%</th>\n",
       "      <td>1.000000</td>\n",
       "      <td>2.000000</td>\n",
       "      <td>1.000000</td>\n",
       "      <td>1.500000</td>\n",
       "      <td>0.000000e+00</td>\n",
       "      <td>2.500000</td>\n",
       "      <td>2.794870e+05</td>\n",
       "      <td>21374.500000</td>\n",
       "    </tr>\n",
       "    <tr>\n",
       "      <th>75%</th>\n",
       "      <td>3.000000</td>\n",
       "      <td>2.000000</td>\n",
       "      <td>2.000000</td>\n",
       "      <td>2.000000</td>\n",
       "      <td>0.000000e+00</td>\n",
       "      <td>3.250000</td>\n",
       "      <td>1.916615e+06</td>\n",
       "      <td>71969.250000</td>\n",
       "    </tr>\n",
       "    <tr>\n",
       "      <th>max</th>\n",
       "      <td>3.000000</td>\n",
       "      <td>2.000000</td>\n",
       "      <td>3.000000</td>\n",
       "      <td>2.000000</td>\n",
       "      <td>5.305826e+09</td>\n",
       "      <td>4.000000</td>\n",
       "      <td>8.336282e+06</td>\n",
       "      <td>222201.000000</td>\n",
       "    </tr>\n",
       "  </tbody>\n",
       "</table>\n",
       "</div>"
      ],
      "text/plain": [
       "       C1_School_closing  C2_Workplace_closing  C6_Stay_home_requirements  \\\n",
       "count           8.000000              8.000000                   8.000000   \n",
       "mean            1.500000              1.500000                   1.125000   \n",
       "std             1.309307              0.755929                   1.125992   \n",
       "min             0.000000              0.000000                   0.000000   \n",
       "25%             0.750000              1.000000                   0.000000   \n",
       "50%             1.000000              2.000000                   1.000000   \n",
       "75%             3.000000              2.000000                   2.000000   \n",
       "max             3.000000              2.000000                   3.000000   \n",
       "\n",
       "       E1_Income_support  E3_Fiscal_measures  H6_Facial_coverings  \\\n",
       "count           8.000000        8.000000e+00             8.000000   \n",
       "mean            1.500000        6.632283e+08             2.250000   \n",
       "std             0.534522        1.875893e+09             1.488048   \n",
       "min             1.000000        0.000000e+00             0.000000   \n",
       "25%             1.000000        0.000000e+00             1.000000   \n",
       "50%             1.500000        0.000000e+00             2.500000   \n",
       "75%             2.000000        0.000000e+00             3.250000   \n",
       "max             2.000000        5.305826e+09             4.000000   \n",
       "\n",
       "       ConfirmedCases  ConfirmedDeaths  \n",
       "count    8.000000e+00         8.000000  \n",
       "mean     1.896298e+06     58870.000000  \n",
       "std      3.154526e+06     83806.576334  \n",
       "min      1.558000e+03        25.000000  \n",
       "25%      9.365400e+04      3975.500000  \n",
       "50%      2.794870e+05     21374.500000  \n",
       "75%      1.916615e+06     71969.250000  \n",
       "max      8.336282e+06    222201.000000  "
      ]
     },
     "execution_count": 5,
     "metadata": {},
     "output_type": "execute_result"
    }
   ],
   "source": [
    "last_report.describe()"
   ]
  },
  {
   "cell_type": "code",
   "execution_count": 6,
   "metadata": {},
   "outputs": [
    {
     "data": {
      "text/html": [
       "<div>\n",
       "<style scoped>\n",
       "    .dataframe tbody tr th:only-of-type {\n",
       "        vertical-align: middle;\n",
       "    }\n",
       "\n",
       "    .dataframe tbody tr th {\n",
       "        vertical-align: top;\n",
       "    }\n",
       "\n",
       "    .dataframe thead th {\n",
       "        text-align: right;\n",
       "    }\n",
       "</style>\n",
       "<table border=\"1\" class=\"dataframe\">\n",
       "  <thead>\n",
       "    <tr style=\"text-align: right;\">\n",
       "      <th></th>\n",
       "      <th>CountryName</th>\n",
       "      <th>Date</th>\n",
       "      <th>E1_Income_support</th>\n",
       "      <th>E3_Fiscal_measures</th>\n",
       "      <th>ConfirmedCases</th>\n",
       "      <th>ConfirmedDeaths</th>\n",
       "    </tr>\n",
       "  </thead>\n",
       "  <tbody>\n",
       "    <tr>\n",
       "      <th>0</th>\n",
       "      <td>Brazil</td>\n",
       "      <td>2020-01-01</td>\n",
       "      <td>0.0</td>\n",
       "      <td>0.0</td>\n",
       "      <td>0.0</td>\n",
       "      <td>0.0</td>\n",
       "    </tr>\n",
       "    <tr>\n",
       "      <th>1</th>\n",
       "      <td>Brazil</td>\n",
       "      <td>2020-01-02</td>\n",
       "      <td>0.0</td>\n",
       "      <td>0.0</td>\n",
       "      <td>0.0</td>\n",
       "      <td>0.0</td>\n",
       "    </tr>\n",
       "    <tr>\n",
       "      <th>2</th>\n",
       "      <td>Brazil</td>\n",
       "      <td>2020-01-03</td>\n",
       "      <td>0.0</td>\n",
       "      <td>0.0</td>\n",
       "      <td>0.0</td>\n",
       "      <td>0.0</td>\n",
       "    </tr>\n",
       "    <tr>\n",
       "      <th>3</th>\n",
       "      <td>Brazil</td>\n",
       "      <td>2020-01-04</td>\n",
       "      <td>0.0</td>\n",
       "      <td>0.0</td>\n",
       "      <td>0.0</td>\n",
       "      <td>0.0</td>\n",
       "    </tr>\n",
       "    <tr>\n",
       "      <th>4</th>\n",
       "      <td>Brazil</td>\n",
       "      <td>2020-01-05</td>\n",
       "      <td>0.0</td>\n",
       "      <td>0.0</td>\n",
       "      <td>0.0</td>\n",
       "      <td>0.0</td>\n",
       "    </tr>\n",
       "  </tbody>\n",
       "</table>\n",
       "</div>"
      ],
      "text/plain": [
       "  CountryName       Date  E1_Income_support  E3_Fiscal_measures  \\\n",
       "0      Brazil 2020-01-01                0.0                 0.0   \n",
       "1      Brazil 2020-01-02                0.0                 0.0   \n",
       "2      Brazil 2020-01-03                0.0                 0.0   \n",
       "3      Brazil 2020-01-04                0.0                 0.0   \n",
       "4      Brazil 2020-01-05                0.0                 0.0   \n",
       "\n",
       "   ConfirmedCases  ConfirmedDeaths  \n",
       "0             0.0              0.0  \n",
       "1             0.0              0.0  \n",
       "2             0.0              0.0  \n",
       "3             0.0              0.0  \n",
       "4             0.0              0.0  "
      ]
     },
     "execution_count": 6,
     "metadata": {},
     "output_type": "execute_result"
    }
   ],
   "source": [
    "df = data[['CountryName','Date','E1_Income_support','E3_Fiscal_measures','ConfirmedCases','ConfirmedDeaths']]\n",
    "df.head()"
   ]
  },
  {
   "cell_type": "code",
   "execution_count": 7,
   "metadata": {},
   "outputs": [
    {
     "data": {
      "text/html": [
       "<div>\n",
       "<style scoped>\n",
       "    .dataframe tbody tr th:only-of-type {\n",
       "        vertical-align: middle;\n",
       "    }\n",
       "\n",
       "    .dataframe tbody tr th {\n",
       "        vertical-align: top;\n",
       "    }\n",
       "\n",
       "    .dataframe thead th {\n",
       "        text-align: right;\n",
       "    }\n",
       "</style>\n",
       "<table border=\"1\" class=\"dataframe\">\n",
       "  <thead>\n",
       "    <tr style=\"text-align: right;\">\n",
       "      <th></th>\n",
       "      <th>Date</th>\n",
       "      <th>E1_Income_support</th>\n",
       "      <th>E3_Fiscal_measures</th>\n",
       "      <th>ConfirmedCases</th>\n",
       "      <th>ConfirmedDeaths</th>\n",
       "    </tr>\n",
       "    <tr>\n",
       "      <th>CountryName</th>\n",
       "      <th></th>\n",
       "      <th></th>\n",
       "      <th></th>\n",
       "      <th></th>\n",
       "      <th></th>\n",
       "    </tr>\n",
       "  </thead>\n",
       "  <tbody>\n",
       "    <tr>\n",
       "      <th>Brazil</th>\n",
       "      <td>2020-01-01</td>\n",
       "      <td>0.0</td>\n",
       "      <td>0.0</td>\n",
       "      <td>0.0</td>\n",
       "      <td>0.0</td>\n",
       "    </tr>\n",
       "    <tr>\n",
       "      <th>Brazil</th>\n",
       "      <td>2020-01-02</td>\n",
       "      <td>0.0</td>\n",
       "      <td>0.0</td>\n",
       "      <td>0.0</td>\n",
       "      <td>0.0</td>\n",
       "    </tr>\n",
       "    <tr>\n",
       "      <th>Brazil</th>\n",
       "      <td>2020-01-03</td>\n",
       "      <td>0.0</td>\n",
       "      <td>0.0</td>\n",
       "      <td>0.0</td>\n",
       "      <td>0.0</td>\n",
       "    </tr>\n",
       "    <tr>\n",
       "      <th>Brazil</th>\n",
       "      <td>2020-01-04</td>\n",
       "      <td>0.0</td>\n",
       "      <td>0.0</td>\n",
       "      <td>0.0</td>\n",
       "      <td>0.0</td>\n",
       "    </tr>\n",
       "    <tr>\n",
       "      <th>Brazil</th>\n",
       "      <td>2020-01-05</td>\n",
       "      <td>0.0</td>\n",
       "      <td>0.0</td>\n",
       "      <td>0.0</td>\n",
       "      <td>0.0</td>\n",
       "    </tr>\n",
       "    <tr>\n",
       "      <th>...</th>\n",
       "      <td>...</td>\n",
       "      <td>...</td>\n",
       "      <td>...</td>\n",
       "      <td>...</td>\n",
       "      <td>...</td>\n",
       "    </tr>\n",
       "    <tr>\n",
       "      <th>United States</th>\n",
       "      <td>2020-10-21</td>\n",
       "      <td>2.0</td>\n",
       "      <td>0.0</td>\n",
       "      <td>8273304.0</td>\n",
       "      <td>221066.0</td>\n",
       "    </tr>\n",
       "    <tr>\n",
       "      <th>United States</th>\n",
       "      <td>2020-10-22</td>\n",
       "      <td>2.0</td>\n",
       "      <td>0.0</td>\n",
       "      <td>8336282.0</td>\n",
       "      <td>222201.0</td>\n",
       "    </tr>\n",
       "    <tr>\n",
       "      <th>United States</th>\n",
       "      <td>2020-10-23</td>\n",
       "      <td>2.0</td>\n",
       "      <td>0.0</td>\n",
       "      <td>8408340.0</td>\n",
       "      <td>223042.0</td>\n",
       "    </tr>\n",
       "    <tr>\n",
       "      <th>United States</th>\n",
       "      <td>2020-10-24</td>\n",
       "      <td>2.0</td>\n",
       "      <td>0.0</td>\n",
       "      <td>8493669.0</td>\n",
       "      <td>223995.0</td>\n",
       "    </tr>\n",
       "    <tr>\n",
       "      <th>United States</th>\n",
       "      <td>2020-10-25</td>\n",
       "      <td>2.0</td>\n",
       "      <td>0.0</td>\n",
       "      <td>8576725.0</td>\n",
       "      <td>224899.0</td>\n",
       "    </tr>\n",
       "  </tbody>\n",
       "</table>\n",
       "<p>2410 rows × 5 columns</p>\n",
       "</div>"
      ],
      "text/plain": [
       "                    Date  E1_Income_support  E3_Fiscal_measures  \\\n",
       "CountryName                                                       \n",
       "Brazil        2020-01-01                0.0                 0.0   \n",
       "Brazil        2020-01-02                0.0                 0.0   \n",
       "Brazil        2020-01-03                0.0                 0.0   \n",
       "Brazil        2020-01-04                0.0                 0.0   \n",
       "Brazil        2020-01-05                0.0                 0.0   \n",
       "...                  ...                ...                 ...   \n",
       "United States 2020-10-21                2.0                 0.0   \n",
       "United States 2020-10-22                2.0                 0.0   \n",
       "United States 2020-10-23                2.0                 0.0   \n",
       "United States 2020-10-24                2.0                 0.0   \n",
       "United States 2020-10-25                2.0                 0.0   \n",
       "\n",
       "               ConfirmedCases  ConfirmedDeaths  \n",
       "CountryName                                     \n",
       "Brazil                    0.0              0.0  \n",
       "Brazil                    0.0              0.0  \n",
       "Brazil                    0.0              0.0  \n",
       "Brazil                    0.0              0.0  \n",
       "Brazil                    0.0              0.0  \n",
       "...                       ...              ...  \n",
       "United States       8273304.0         221066.0  \n",
       "United States       8336282.0         222201.0  \n",
       "United States       8408340.0         223042.0  \n",
       "United States       8493669.0         223995.0  \n",
       "United States       8576725.0         224899.0  \n",
       "\n",
       "[2410 rows x 5 columns]"
      ]
     },
     "execution_count": 7,
     "metadata": {},
     "output_type": "execute_result"
    }
   ],
   "source": [
    "# df['Date'] = pd.to_datetime(df['Date'], format='%Y%m%d')\n",
    "# df.head()\n",
    "df.set_index('CountryName')"
   ]
  },
  {
   "cell_type": "code",
   "execution_count": 8,
   "metadata": {},
   "outputs": [
    {
     "data": {
      "image/png": "[encoded data removed]",
      "text/plain": [
       "<Figure size 432x288 with 1 Axes>"
      ]
     },
     "metadata": {
      "needs_background": "light"
     },
     "output_type": "display_data"
    }
   ],
   "source": [
    "plt.bar(df['CountryName'],df['E3_Fiscal_measures'])\n",
    "plt.xticks(rotation='vertical')\n",
    "plt.title('Country and Spending COVID-19')\n",
    "plt.xlabel('Countries')\n",
    "plt.ylabel('Spending in Trillions ($)')\n",
    "plt.show()"
   ]
  },
  {
   "cell_type": "code",
   "execution_count": 9,
   "metadata": {},
   "outputs": [
    {
     "data": {
      "text/plain": [
       "(array([737425., 737456., 737485., 737516., 737546., 737577., 737607.,\n",
       "        737638., 737669., 737699., 737730.]),\n",
       " <a list of 11 Text xticklabel objects>)"
      ]
     },
     "execution_count": 9,
     "metadata": {},
     "output_type": "execute_result"
    },
    {
     "data": {
      "image/png": "[encoded data removed]",
      "text/plain": [
       "<Figure size 432x288 with 1 Axes>"
      ]
     },
     "metadata": {
      "needs_background": "light"
     },
     "output_type": "display_data"
    }
   ],
   "source": [
    "#graph of all countries over time and spending\n",
    "plt.plot(df['Date'],df['E3_Fiscal_measures'])\n",
    "plt.xticks(rotation='vertical')"
   ]
  },
  {
   "cell_type": "code",
   "execution_count": null,
   "metadata": {},
   "outputs": [],
   "source": []
  },
  {
   "cell_type": "code",
   "execution_count": 10,
   "metadata": {},
   "outputs": [],
   "source": [
    "#for country in df['CountryName']:\n",
    "    #fig, ax = plt.subplots()\n",
    "    #c=df.loc[df['CountryName']==country]\n",
    "    #ax.plot(c['Date'],c['E3_Fiscal measures'],label=country)\n",
    "    \n",
    "#plt.xticks(rotation='vertical')\n",
    "#plt.xlabel('Date')\n",
    "#plt.ylabel('Spending in trillion ($)')\n",
    "#plt.legend()\n",
    "#plt.show()"
   ]
  },
  {
   "cell_type": "code",
   "execution_count": 11,
   "metadata": {},
   "outputs": [
    {
     "data": {
      "image/png": "[encoded data removed]",
      "text/plain": [
       "<Figure size 432x288 with 1 Axes>"
      ]
     },
     "metadata": {
      "needs_background": "light"
     },
     "output_type": "display_data"
    }
   ],
   "source": [
    "#figure looking at all 11 countries and amount of money spent during COVID\n",
    "fig, ax = plt.subplots()\n",
    "\n",
    "brazil = df.loc[df['CountryName']=='Brazil']\n",
    "ax.plot(brazil['Date'],brazil['E3_Fiscal_measures'], label = 'Brazil')\n",
    "\n",
    "china=df.loc[df['CountryName']=='China']\n",
    "ax.plot(china['Date'],china['E3_Fiscal_measures'],label='China')\n",
    "\n",
    "uk = df.loc[df['CountryName']=='United Kingdom']\n",
    "ax.plot(uk['Date'],uk['E3_Fiscal_measures'],label='United Kingdom')\n",
    "\n",
    "italy = df.loc[df['CountryName']=='Italy']\n",
    "ax.plot(italy['Date'],italy['E3_Fiscal_measures'],label='Italy')\n",
    "\n",
    "japan=df.loc[df['CountryName']=='Japan']\n",
    "ax.plot(japan['Date'],japan['E3_Fiscal_measures'],label='Japan')\n",
    "\n",
    "sk=df.loc[df['CountryName']=='South Korea']\n",
    "ax.plot(sk['Date'],sk['E3_Fiscal_measures'],label='South Korea')\n",
    "\n",
    "nz= df.loc[df['CountryName']=='New Zealand']\n",
    "ax.plot(nz['Date'],nz['E3_Fiscal_measures'],label='New Zealand')\n",
    "\n",
    "meatball= df.loc[df['CountryName']=='Sweden']\n",
    "ax.plot(meatball['Date'],meatball['E3_Fiscal_measures'],label='Sweden')\n",
    "\n",
    "us = df.loc[df['CountryName']=='United States']\n",
    "ax.plot(us['Date'],us['E3_Fiscal_measures'],label='US')\n",
    "\n",
    "plt.xticks(rotation='vertical')\n",
    "plt.title('Spending Over Time')\n",
    "plt.xlabel('Date')\n",
    "plt.ylabel('Spending in Trillion(s)($)')\n",
    "plt.legend()\n",
    "plt.show()"
   ]
  },
  {
   "cell_type": "code",
   "execution_count": 35,
   "metadata": {},
   "outputs": [
    {
     "data": {
      "text/html": [
       "<style  type=\"text/css\" >\n",
       "</style><table id=\"T_feda5d46_1f03_11eb_9c58_acde48001122\" ><thead>    <tr>        <th class=\"blank level0\" ></th>        <th class=\"col_heading level0 col0\" >United States</th>        <th class=\"col_heading level0 col1\" >China</th>        <th class=\"col_heading level0 col2\" >Japan</th>        <th class=\"col_heading level0 col3\" >Italy</th>        <th class=\"col_heading level0 col4\" >Brazil</th>        <th class=\"col_heading level0 col5\" >United Kingdom</th>        <th class=\"col_heading level0 col6\" >Sweden</th>        <th class=\"col_heading level0 col7\" >New Zealand</th>    </tr></thead><tbody>\n",
       "                <tr>\n",
       "                        <th id=\"T_feda5d46_1f03_11eb_9c58_acde48001122level0_row0\" class=\"row_heading level0 row0\" >Spent</th>\n",
       "                        <td id=\"T_feda5d46_1f03_11eb_9c58_acde48001122row0_col0\" class=\"data row0 col0\" >$2,535,200,000,000.00</td>\n",
       "                        <td id=\"T_feda5d46_1f03_11eb_9c58_acde48001122row0_col1\" class=\"data row0 col1\" >$2,136,809,000,000.00</td>\n",
       "                        <td id=\"T_feda5d46_1f03_11eb_9c58_acde48001122row0_col2\" class=\"data row0 col2\" >$1,005,521,520,851.00</td>\n",
       "                        <td id=\"T_feda5d46_1f03_11eb_9c58_acde48001122row0_col3\" class=\"data row0 col3\" >$542,022,172,143.20</td>\n",
       "                        <td id=\"T_feda5d46_1f03_11eb_9c58_acde48001122row0_col4\" class=\"data row0 col4\" >$185,820,699,472.27</td>\n",
       "                        <td id=\"T_feda5d46_1f03_11eb_9c58_acde48001122row0_col5\" class=\"data row0 col5\" >$181,278,349,255.19</td>\n",
       "                        <td id=\"T_feda5d46_1f03_11eb_9c58_acde48001122row0_col6\" class=\"data row0 col6\" >$8,162,169,045.70</td>\n",
       "                        <td id=\"T_feda5d46_1f03_11eb_9c58_acde48001122row0_col7\" class=\"data row0 col7\" >$0.00</td>\n",
       "            </tr>\n",
       "    </tbody></table>"
      ],
      "text/plain": [
       "<pandas.io.formats.style.Styler at 0x7fde5808e9b0>"
      ]
     },
     "execution_count": 35,
     "metadata": {},
     "output_type": "execute_result"
    }
   ],
   "source": [
    "us_spend = us['E3_Fiscal_measures'].sum()\n",
    "china_spend = china['E3_Fiscal_measures'].sum()\n",
    "uk_sum = uk['E3_Fiscal_measures'].sum()\n",
    "italy_sum = italy['E3_Fiscal_measures'].sum()\n",
    "sweden_sum = meatball['E3_Fiscal_measures'].sum()\n",
    "japan_sum = japan['E3_Fiscal_measures'].sum()\n",
    "nz_sum = nz['E3_Fiscal_measures'].sum()\n",
    "brazil_sum = brazil['E3_Fiscal_measures'].sum()\n",
    "\n",
    "total = {'United States':[us_spend],'China':[china_spend],'Japan':[japan_sum],'Italy':[italy_sum],'Brazil':[brazil_sum],\n",
    "         'United Kingdom':[uk_sum],'Sweden':[sweden_sum],'New Zealand':[nz_sum]}\n",
    "\n",
    "\n",
    "sum_df = pd.DataFrame(index=['Spent'],data = total)\n",
    "sum_df.style.format('${:,.2f}')"
   ]
  },
  {
   "cell_type": "code",
   "execution_count": 13,
   "metadata": {},
   "outputs": [
    {
     "data": {
      "image/png": "[encoded data removed]",
      "text/plain": [
       "<Figure size 432x288 with 1 Axes>"
      ]
     },
     "metadata": {
      "needs_background": "light"
     },
     "output_type": "display_data"
    }
   ],
   "source": [
    "#US spending and cases.  Cannot tell anything because US spending is 2Trillion and cases is over 8million\n",
    "plt.plot(us['Date'],us['E3_Fiscal_measures'])\n",
    "plt.plot(us['Date'],us['ConfirmedCases'])\n",
    "plt.xticks(rotation='vertical')\n",
    "plt.show()"
   ]
  },
  {
   "cell_type": "code",
   "execution_count": 14,
   "metadata": {},
   "outputs": [
    {
     "data": {
      "image/png": "[encoded data removed]",
      "text/plain": [
       "<Figure size 432x288 with 1 Axes>"
      ]
     },
     "metadata": {
      "needs_background": "light"
     },
     "output_type": "display_data"
    }
   ],
   "source": [
    "#China spending and cases.  Cannot tell anything because China spending is over 1Trillion and cases is over 91k\n",
    "plt.plot(china['Date'],china['E3_Fiscal_measures'])\n",
    "plt.plot(china['Date'],china['ConfirmedCases'])\n",
    "plt.xticks(rotation='vertical')\n",
    "plt.show()"
   ]
  },
  {
   "cell_type": "code",
   "execution_count": 15,
   "metadata": {},
   "outputs": [
    {
     "data": {
      "image/png": "[encoded data removed]",
      "text/plain": [
       "<Figure size 432x288 with 1 Axes>"
      ]
     },
     "metadata": {
      "needs_background": "light"
     },
     "output_type": "display_data"
    }
   ],
   "source": [
    "#italy spending and cases.  Cannot tell anything because italy spending is 4billion and cases is over 500k\n",
    "plt.plot(italy['Date'],italy['E3_Fiscal_measures'])\n",
    "plt.plot(italy['Date'],italy['ConfirmedCases'])\n",
    "plt.xticks(rotation='vertical')\n",
    "plt.show()"
   ]
  },
  {
   "cell_type": "code",
   "execution_count": 16,
   "metadata": {},
   "outputs": [
    {
     "data": {
      "image/png": "[encoded data removed]",
      "text/plain": [
       "<Figure size 432x288 with 1 Axes>"
      ]
     },
     "metadata": {
      "needs_background": "light"
     },
     "output_type": "display_data"
    }
   ],
   "source": [
    "#Sweden spending and cases.  Cannot tell anything because sweden spending is 7billion and cases is over 109k\n",
    "plt.plot(meatball['Date'],meatball['E3_Fiscal_measures'])\n",
    "plt.plot(meatball['Date'],meatball['ConfirmedCases'])\n",
    "plt.xticks(rotation='vertical')\n",
    "plt.show()"
   ]
  },
  {
   "cell_type": "code",
   "execution_count": 17,
   "metadata": {},
   "outputs": [
    {
     "data": {
      "image/png": "[encoded data removed]",
      "text/plain": [
       "<Figure size 432x288 with 1 Axes>"
      ]
     },
     "metadata": {
      "needs_background": "light"
     },
     "output_type": "display_data"
    }
   ],
   "source": [
    "#newzealand spending and cases.  NewZealand spending is 0 and cases is over 1.6k.  The country is just beginning to talk about economic impact now that COVID is none existent in the country\n",
    "plt.plot(nz['Date'],nz['E3_Fiscal_measures'], label='Spending')\n",
    "plt.plot(nz['Date'],nz['ConfirmedCases'], label='Total COVID Cases')\n",
    "plt.xticks(rotation='vertical')\n",
    "plt.legend()\n",
    "plt.show()"
   ]
  },
  {
   "cell_type": "code",
   "execution_count": 36,
   "metadata": {},
   "outputs": [
    {
     "data": {
      "image/png": "[encoded data removed]",
      "text/plain": [
       "<Figure size 432x288 with 1 Axes>"
      ]
     },
     "metadata": {
      "needs_background": "light"
     },
     "output_type": "display_data"
    }
   ],
   "source": [
    "#China v. US confirmed cases\n",
    "plt.plot(us['Date'],us['ConfirmedCases'])\n",
    "plt.plot(china['Date'],china['ConfirmedCases'])\n",
    "plt.xticks(rotation='vertical')\n",
    "plt.show()"
   ]
  },
  {
   "cell_type": "code",
   "execution_count": 19,
   "metadata": {},
   "outputs": [
    {
     "data": {
      "image/png": "[encoded data removed]",
      "text/plain": [
       "<Figure size 432x288 with 1 Axes>"
      ]
     },
     "metadata": {
      "needs_background": "light"
     },
     "output_type": "display_data"
    }
   ],
   "source": [
    "#China v US economic spending\n",
    "plt.plot(china['Date'],china['E3_Fiscal_measures'])\n",
    "plt.plot(us['Date'],us['E3_Fiscal_measures'])\n",
    "plt.xticks(rotation='vertical')\n",
    "plt.show()"
   ]
  },
  {
   "cell_type": "code",
   "execution_count": 20,
   "metadata": {},
   "outputs": [
    {
     "data": {
      "image/png": "[encoded data removed]",
      "text/plain": [
       "<Figure size 432x288 with 1 Axes>"
      ]
     },
     "metadata": {
      "needs_background": "light"
     },
     "output_type": "display_data"
    }
   ],
   "source": [
    "#japan v us confirmedcases\n",
    "plt.plot(japan['Date'],japan['ConfirmedCases'])\n",
    "plt.plot(us['Date'],us['ConfirmedCases'])\n",
    "plt.xticks(rotation='vertical')\n",
    "plt.show()"
   ]
  },
  {
   "cell_type": "code",
   "execution_count": 21,
   "metadata": {
    "scrolled": true
   },
   "outputs": [
    {
     "data": {
      "image/png": "[encoded data removed]",
      "text/plain": [
       "<Figure size 432x288 with 1 Axes>"
      ]
     },
     "metadata": {
      "needs_background": "light"
     },
     "output_type": "display_data"
    }
   ],
   "source": [
    "#japan v us economic spending\n",
    "plt.plot(japan['Date'],japan['E3_Fiscal_measures'])\n",
    "plt.plot(us['Date'],us['E3_Fiscal_measures'])\n",
    "plt.xticks(rotation='vertical')\n",
    "plt.show()"
   ]
  },
  {
   "cell_type": "code",
   "execution_count": 22,
   "metadata": {},
   "outputs": [
    {
     "data": {
      "image/png": "[encoded data removed]",
      "text/plain": [
       "<Figure size 432x288 with 1 Axes>"
      ]
     },
     "metadata": {
      "needs_background": "light"
     },
     "output_type": "display_data"
    }
   ],
   "source": [
    "#uk v us confirmed cases\n",
    "plt.plot(uk['Date'],uk['ConfirmedCases'])\n",
    "plt.plot(us['Date'],us['ConfirmedCases'])\n",
    "plt.xticks(rotation='vertical')\n",
    "plt.show()"
   ]
  },
  {
   "cell_type": "code",
   "execution_count": 23,
   "metadata": {},
   "outputs": [
    {
     "data": {
      "image/png": "[encoded data removed]",
      "text/plain": [
       "<Figure size 432x288 with 1 Axes>"
      ]
     },
     "metadata": {
      "needs_background": "light"
     },
     "output_type": "display_data"
    }
   ],
   "source": [
    "#uk v us confirmed deaths\n",
    "plt.plot(uk['Date'],uk['ConfirmedDeaths'])\n",
    "plt.plot(us['Date'],us['ConfirmedDeaths'])\n",
    "plt.xticks(rotation='vertical')\n",
    "plt.show()"
   ]
  },
  {
   "cell_type": "code",
   "execution_count": 24,
   "metadata": {},
   "outputs": [
    {
     "data": {
      "image/png": "[encoded data removed]",
      "text/plain": [
       "<Figure size 432x288 with 1 Axes>"
      ]
     },
     "metadata": {
      "needs_background": "light"
     },
     "output_type": "display_data"
    }
   ],
   "source": [
    "#uk v us economic spending\n",
    "plt.plot(uk['Date'],uk['E3_Fiscal_measures'])\n",
    "plt.plot(us['Date'],us['E3_Fiscal_measures'])\n",
    "plt.xticks(rotation='vertical')\n",
    "plt.show()"
   ]
  },
  {
   "cell_type": "code",
   "execution_count": 25,
   "metadata": {},
   "outputs": [
    {
     "data": {
      "image/png": "[encoded data removed]",
      "text/plain": [
       "<Figure size 432x288 with 1 Axes>"
      ]
     },
     "metadata": {
      "needs_background": "light"
     },
     "output_type": "display_data"
    }
   ],
   "source": [
    "#brazil v us confirmed cases\n",
    "plt.plot(brazil['Date'],brazil['ConfirmedCases'])\n",
    "plt.plot(us['Date'],us['ConfirmedCases'])\n",
    "plt.xticks(rotation='vertical')\n",
    "plt.show()"
   ]
  },
  {
   "cell_type": "code",
   "execution_count": 26,
   "metadata": {},
   "outputs": [
    {
     "data": {
      "image/png": "[encoded data removed]",
      "text/plain": [
       "<Figure size 432x288 with 1 Axes>"
      ]
     },
     "metadata": {
      "needs_background": "light"
     },
     "output_type": "display_data"
    }
   ],
   "source": [
    "#brazil v us economic spending\n",
    "plt.plot(brazil['Date'],brazil['E3_Fiscal_measures'])\n",
    "plt.plot(us['Date'],us['E3_Fiscal_measures'])\n",
    "plt.xticks(rotation='vertical')\n",
    "plt.show()"
   ]
  },
  {
   "cell_type": "code",
   "execution_count": 27,
   "metadata": {},
   "outputs": [
    {
     "data": {
      "image/png": "[encoded data removed]",
      "text/plain": [
       "<Figure size 432x288 with 1 Axes>"
      ]
     },
     "metadata": {
      "needs_background": "light"
     },
     "output_type": "display_data"
    }
   ],
   "source": [
    "#brazil v us facial coverings\n",
    "brazil_face = data.loc[data['CountryName']=='Brazil']\n",
    "us_face = data.loc[data['CountryName']=='United States']\n",
    "plt.plot(brazil_face['Date'],brazil_face['H6_Facial_coverings'], label = 'Brazil')\n",
    "plt.plot(us_face['Date'],us_face['H6_Facial_coverings'], label='US')\n",
    "plt.xticks(rotation='vertical')\n",
    "plt.legend()\n",
    "plt.show()\n",
    "#us_face.head()"
   ]
  },
  {
   "cell_type": "code",
   "execution_count": 28,
   "metadata": {},
   "outputs": [
    {
     "data": {
      "image/png": "[encoded data removed]",
      "text/plain": [
       "<Figure size 432x288 with 1 Axes>"
      ]
     },
     "metadata": {
      "needs_background": "light"
     },
     "output_type": "display_data"
    }
   ],
   "source": [
    "#brazil v us date (x) and stay at home (y) 0 - no measures \n",
    "# 1 - recommend not leaving house \n",
    "# 2 - require not leaving house with exceptions for daily exercise, grocery shopping, and 'essential' trips \n",
    "# 3 - require not leaving house with minimal exceptions (eg allowed to leave once a week, or only one person can leave at a time, etc) \n",
    "plt.plot(brazil_face['Date'],brazil_face['C6_Stay_home_requirements'], label='Brazil')\n",
    "plt.plot(us_face['Date'],us_face['C6_Stay_home_requirements'],label='US')\n",
    "plt.xticks(rotation='vertical')\n",
    "plt.legend()\n",
    "plt.show()"
   ]
  },
  {
   "cell_type": "code",
   "execution_count": 29,
   "metadata": {},
   "outputs": [
    {
     "data": {
      "image/png": "[encoded data removed]",
      "text/plain": [
       "<Figure size 432x288 with 1 Axes>"
      ]
     },
     "metadata": {
      "needs_background": "light"
     },
     "output_type": "display_data"
    }
   ],
   "source": [
    "plt.plot(brazil['Date'],brazil['ConfirmedCases'])\n",
    "plt.plot(us['Date'],us['ConfirmedCases'])\n",
    "plt.xticks(rotation='vertical')\n",
    "plt.show()"
   ]
  },
  {
   "cell_type": "code",
   "execution_count": 30,
   "metadata": {},
   "outputs": [
    {
     "data": {
      "image/png": "[encoded data removed]",
      "text/plain": [
       "<Figure size 432x288 with 1 Axes>"
      ]
     },
     "metadata": {
      "needs_background": "light"
     },
     "output_type": "display_data"
    }
   ],
   "source": [
    "#Brazil v US confirmed Deaths \n",
    "plt.plot(brazil['Date'],brazil['ConfirmedDeaths'])\n",
    "plt.plot(us['Date'],us['ConfirmedDeaths'])\n",
    "plt.xticks(rotation='vertical')\n",
    "plt.show()"
   ]
  },
  {
   "cell_type": "code",
   "execution_count": null,
   "metadata": {},
   "outputs": [],
   "source": []
  },
  {
   "cell_type": "code",
   "execution_count": null,
   "metadata": {},
   "outputs": [],
   "source": []
  }
 ],
 "metadata": {
  "kernelspec": {
   "display_name": "PythonDataUPenn",
   "language": "python",
   "name": "pythondataupenn"
  },
  "language_info": {
   "codemirror_mode": {
    "name": "ipython",
    "version": 3
   },
   "file_extension": ".py",
   "mimetype": "text/x-python",
   "name": "python",
   "nbconvert_exporter": "python",
   "pygments_lexer": "ipython3",
   "version": "3.6.10"
  }
 },
 "nbformat": 4,
 "nbformat_minor": 4
}
